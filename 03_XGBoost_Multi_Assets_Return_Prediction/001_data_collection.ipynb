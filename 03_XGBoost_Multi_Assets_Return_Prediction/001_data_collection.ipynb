{
 "cells": [
  {
   "cell_type": "code",
   "execution_count": 1,
   "metadata": {},
   "outputs": [
    {
     "name": "stdout",
     "output_type": "stream",
     "text": [
      "Fetching data for: MMM\n",
      "YF.download() has changed argument auto_adjust default to True\n"
     ]
    },
    {
     "name": "stderr",
     "output_type": "stream",
     "text": [
      "[*********************100%***********************]  1 of 1 completed\n"
     ]
    },
    {
     "name": "stdout",
     "output_type": "stream",
     "text": [
      "Data for MMM has been saved\n",
      "Fetching data for: AOS\n"
     ]
    },
    {
     "name": "stderr",
     "output_type": "stream",
     "text": [
      "[*********************100%***********************]  1 of 1 completed\n"
     ]
    },
    {
     "name": "stdout",
     "output_type": "stream",
     "text": [
      "Data for AOS has been saved\n",
      "Fetching data for: ABT\n"
     ]
    },
    {
     "name": "stderr",
     "output_type": "stream",
     "text": [
      "[*********************100%***********************]  1 of 1 completed\n"
     ]
    },
    {
     "name": "stdout",
     "output_type": "stream",
     "text": [
      "Data for ABT has been saved\n",
      "Fetching data for: ABBV\n"
     ]
    },
    {
     "name": "stderr",
     "output_type": "stream",
     "text": [
      "[*********************100%***********************]  1 of 1 completed\n"
     ]
    },
    {
     "name": "stdout",
     "output_type": "stream",
     "text": [
      "Data for ABBV has been saved\n",
      "Fetching data for: ACN\n"
     ]
    },
    {
     "name": "stderr",
     "output_type": "stream",
     "text": [
      "[*********************100%***********************]  1 of 1 completed\n"
     ]
    },
    {
     "name": "stdout",
     "output_type": "stream",
     "text": [
      "Data for ACN has been saved\n",
      "Fetching data for: ADBE\n"
     ]
    },
    {
     "name": "stderr",
     "output_type": "stream",
     "text": [
      "[*********************100%***********************]  1 of 1 completed\n"
     ]
    },
    {
     "name": "stdout",
     "output_type": "stream",
     "text": [
      "Data for ADBE has been saved\n",
      "Fetching data for: AMD\n"
     ]
    },
    {
     "name": "stderr",
     "output_type": "stream",
     "text": [
      "[*********************100%***********************]  1 of 1 completed\n"
     ]
    },
    {
     "name": "stdout",
     "output_type": "stream",
     "text": [
      "Data for AMD has been saved\n",
      "Fetching data for: AES\n"
     ]
    },
    {
     "name": "stderr",
     "output_type": "stream",
     "text": [
      "[*********************100%***********************]  1 of 1 completed\n"
     ]
    },
    {
     "name": "stdout",
     "output_type": "stream",
     "text": [
      "Data for AES has been saved\n",
      "Fetching data for: AFL\n"
     ]
    },
    {
     "name": "stderr",
     "output_type": "stream",
     "text": [
      "[*********************100%***********************]  1 of 1 completed\n"
     ]
    },
    {
     "name": "stdout",
     "output_type": "stream",
     "text": [
      "Data for AFL has been saved\n",
      "Fetching data for: A\n"
     ]
    },
    {
     "name": "stderr",
     "output_type": "stream",
     "text": [
      "[*********************100%***********************]  1 of 1 completed\n"
     ]
    },
    {
     "name": "stdout",
     "output_type": "stream",
     "text": [
      "Data for A has been saved\n",
      "Fetching data for: APD\n"
     ]
    },
    {
     "name": "stderr",
     "output_type": "stream",
     "text": [
      "[*********************100%***********************]  1 of 1 completed\n",
      "[*********************100%***********************]  1 of 1 completed\n"
     ]
    },
    {
     "name": "stdout",
     "output_type": "stream",
     "text": [
      "Data for APD has been saved\n",
      "Fetching data for: ABNB\n",
      "Data for ABNB has been saved\n",
      "Fetching data for: AKAM\n"
     ]
    },
    {
     "name": "stderr",
     "output_type": "stream",
     "text": [
      "[*********************100%***********************]  1 of 1 completed\n"
     ]
    },
    {
     "name": "stdout",
     "output_type": "stream",
     "text": [
      "Data for AKAM has been saved\n",
      "Fetching data for: ALB\n"
     ]
    },
    {
     "name": "stderr",
     "output_type": "stream",
     "text": [
      "[*********************100%***********************]  1 of 1 completed\n"
     ]
    },
    {
     "name": "stdout",
     "output_type": "stream",
     "text": [
      "Data for ALB has been saved\n",
      "Fetching data for: ARE\n"
     ]
    },
    {
     "name": "stderr",
     "output_type": "stream",
     "text": [
      "[*********************100%***********************]  1 of 1 completed\n",
      "[*********************100%***********************]  1 of 1 completed\n"
     ]
    },
    {
     "name": "stdout",
     "output_type": "stream",
     "text": [
      "Data for ARE has been saved\n",
      "Fetching data for: ALGN\n",
      "Data for ALGN has been saved\n",
      "Fetching data for: ALLE\n"
     ]
    },
    {
     "name": "stderr",
     "output_type": "stream",
     "text": [
      "[*********************100%***********************]  1 of 1 completed\n"
     ]
    },
    {
     "name": "stdout",
     "output_type": "stream",
     "text": [
      "Data for ALLE has been saved\n",
      "Fetching data for: LNT\n"
     ]
    },
    {
     "name": "stderr",
     "output_type": "stream",
     "text": [
      "[*********************100%***********************]  1 of 1 completed\n"
     ]
    },
    {
     "name": "stdout",
     "output_type": "stream",
     "text": [
      "Data for LNT has been saved\n",
      "Fetching data for: ALL\n"
     ]
    },
    {
     "name": "stderr",
     "output_type": "stream",
     "text": [
      "[*********************100%***********************]  1 of 1 completed\n",
      "[*********************100%***********************]  1 of 1 completed\n"
     ]
    },
    {
     "name": "stdout",
     "output_type": "stream",
     "text": [
      "Data for ALL has been saved\n",
      "Fetching data for: GOOGL\n",
      "Data for GOOGL has been saved\n",
      "Fetching data for: GOOG\n"
     ]
    },
    {
     "name": "stderr",
     "output_type": "stream",
     "text": [
      "[*********************100%***********************]  1 of 1 completed\n"
     ]
    },
    {
     "name": "stdout",
     "output_type": "stream",
     "text": [
      "Data for GOOG has been saved\n",
      "Fetching data for: MO\n"
     ]
    },
    {
     "name": "stderr",
     "output_type": "stream",
     "text": [
      "[*********************100%***********************]  1 of 1 completed\n",
      "[*********************100%***********************]  1 of 1 completed"
     ]
    },
    {
     "name": "stdout",
     "output_type": "stream",
     "text": [
      "Data for MO has been saved\n",
      "Fetching data for: AMZN\n"
     ]
    },
    {
     "name": "stderr",
     "output_type": "stream",
     "text": [
      "\n",
      "[*********************100%***********************]  1 of 1 completed\n"
     ]
    },
    {
     "name": "stdout",
     "output_type": "stream",
     "text": [
      "Data for AMZN has been saved\n",
      "Fetching data for: AMCR\n",
      "Data for AMCR has been saved\n",
      "Fetching data for: AEE\n"
     ]
    },
    {
     "name": "stderr",
     "output_type": "stream",
     "text": [
      "[*********************100%***********************]  1 of 1 completed\n"
     ]
    },
    {
     "name": "stdout",
     "output_type": "stream",
     "text": [
      "Data for AEE has been saved\n",
      "Fetching data for: AEP\n"
     ]
    },
    {
     "name": "stderr",
     "output_type": "stream",
     "text": [
      "[*********************100%***********************]  1 of 1 completed\n"
     ]
    },
    {
     "name": "stdout",
     "output_type": "stream",
     "text": [
      "Data for AEP has been saved\n",
      "Fetching data for: AXP\n"
     ]
    },
    {
     "name": "stderr",
     "output_type": "stream",
     "text": [
      "[*********************100%***********************]  1 of 1 completed\n"
     ]
    },
    {
     "name": "stdout",
     "output_type": "stream",
     "text": [
      "Data for AXP has been saved\n",
      "Fetching data for: AIG\n"
     ]
    },
    {
     "name": "stderr",
     "output_type": "stream",
     "text": [
      "[*********************100%***********************]  1 of 1 completed\n"
     ]
    },
    {
     "name": "stdout",
     "output_type": "stream",
     "text": [
      "Data for AIG has been saved\n",
      "Fetching data for: AMT\n"
     ]
    },
    {
     "name": "stderr",
     "output_type": "stream",
     "text": [
      "[*********************100%***********************]  1 of 1 completed\n",
      "[*********************100%***********************]  1 of 1 completed\n"
     ]
    },
    {
     "name": "stdout",
     "output_type": "stream",
     "text": [
      "Data for AMT has been saved\n",
      "Fetching data for: AWK\n",
      "Data for AWK has been saved\n",
      "Fetching data for: AMP\n"
     ]
    },
    {
     "name": "stderr",
     "output_type": "stream",
     "text": [
      "[*********************100%***********************]  1 of 1 completed\n"
     ]
    },
    {
     "name": "stdout",
     "output_type": "stream",
     "text": [
      "Data for AMP has been saved\n",
      "Fetching data for: AME\n"
     ]
    },
    {
     "name": "stderr",
     "output_type": "stream",
     "text": [
      "[*********************100%***********************]  1 of 1 completed\n"
     ]
    },
    {
     "name": "stdout",
     "output_type": "stream",
     "text": [
      "Data for AME has been saved\n",
      "Fetching data for: AMGN\n"
     ]
    },
    {
     "name": "stderr",
     "output_type": "stream",
     "text": [
      "[*********************100%***********************]  1 of 1 completed\n"
     ]
    },
    {
     "name": "stdout",
     "output_type": "stream",
     "text": [
      "Data for AMGN has been saved\n",
      "Fetching data for: APH\n"
     ]
    },
    {
     "name": "stderr",
     "output_type": "stream",
     "text": [
      "[*********************100%***********************]  1 of 1 completed\n"
     ]
    },
    {
     "name": "stdout",
     "output_type": "stream",
     "text": [
      "Data for APH has been saved\n",
      "Fetching data for: ADI\n"
     ]
    },
    {
     "name": "stderr",
     "output_type": "stream",
     "text": [
      "[*********************100%***********************]  1 of 1 completed\n",
      "[*********************100%***********************]  1 of 1 completed"
     ]
    },
    {
     "name": "stdout",
     "output_type": "stream",
     "text": [
      "Data for ADI has been saved\n",
      "Fetching data for: ANSS\n"
     ]
    },
    {
     "name": "stderr",
     "output_type": "stream",
     "text": [
      "\n"
     ]
    },
    {
     "name": "stdout",
     "output_type": "stream",
     "text": [
      "Data for ANSS has been saved\n",
      "Fetching data for: AON\n"
     ]
    },
    {
     "name": "stderr",
     "output_type": "stream",
     "text": [
      "[*********************100%***********************]  1 of 1 completed\n"
     ]
    },
    {
     "name": "stdout",
     "output_type": "stream",
     "text": [
      "Data for AON has been saved\n",
      "Fetching data for: APA\n"
     ]
    },
    {
     "name": "stderr",
     "output_type": "stream",
     "text": [
      "[*********************100%***********************]  1 of 1 completed\n"
     ]
    },
    {
     "name": "stdout",
     "output_type": "stream",
     "text": [
      "Data for APA has been saved\n",
      "Fetching data for: APO\n"
     ]
    },
    {
     "name": "stderr",
     "output_type": "stream",
     "text": [
      "[*********************100%***********************]  1 of 1 completed\n"
     ]
    },
    {
     "name": "stdout",
     "output_type": "stream",
     "text": [
      "Data for APO has been saved\n",
      "Fetching data for: AAPL\n"
     ]
    },
    {
     "name": "stderr",
     "output_type": "stream",
     "text": [
      "[*********************100%***********************]  1 of 1 completed\n"
     ]
    },
    {
     "name": "stdout",
     "output_type": "stream",
     "text": [
      "Data for AAPL has been saved\n",
      "Fetching data for: AMAT\n"
     ]
    },
    {
     "name": "stderr",
     "output_type": "stream",
     "text": [
      "[*********************100%***********************]  1 of 1 completed\n"
     ]
    },
    {
     "name": "stdout",
     "output_type": "stream",
     "text": [
      "Data for AMAT has been saved\n",
      "Fetching data for: APTV\n"
     ]
    },
    {
     "name": "stderr",
     "output_type": "stream",
     "text": [
      "[*********************100%***********************]  1 of 1 completed\n",
      "[*********************100%***********************]  1 of 1 completed\n"
     ]
    },
    {
     "name": "stdout",
     "output_type": "stream",
     "text": [
      "Data for APTV has been saved\n",
      "Fetching data for: ACGL\n",
      "Data for ACGL has been saved\n",
      "Fetching data for: ADM\n"
     ]
    },
    {
     "name": "stderr",
     "output_type": "stream",
     "text": [
      "[*********************100%***********************]  1 of 1 completed\n",
      "[*********************100%***********************]  1 of 1 completed\n"
     ]
    },
    {
     "name": "stdout",
     "output_type": "stream",
     "text": [
      "Data for ADM has been saved\n",
      "Fetching data for: ANET\n",
      "Data for ANET has been saved\n",
      "Fetching data for: AJG\n"
     ]
    },
    {
     "name": "stderr",
     "output_type": "stream",
     "text": [
      "[*********************100%***********************]  1 of 1 completed\n"
     ]
    },
    {
     "name": "stdout",
     "output_type": "stream",
     "text": [
      "Data for AJG has been saved\n",
      "Fetching data for: AIZ\n"
     ]
    },
    {
     "name": "stderr",
     "output_type": "stream",
     "text": [
      "[*********************100%***********************]  1 of 1 completed\n"
     ]
    },
    {
     "name": "stdout",
     "output_type": "stream",
     "text": [
      "Data for AIZ has been saved\n",
      "Fetching data for: T\n"
     ]
    },
    {
     "name": "stderr",
     "output_type": "stream",
     "text": [
      "[*********************100%***********************]  1 of 1 completed\n"
     ]
    },
    {
     "name": "stdout",
     "output_type": "stream",
     "text": [
      "Data for T has been saved\n",
      "Fetching data for: ATO\n"
     ]
    },
    {
     "name": "stderr",
     "output_type": "stream",
     "text": [
      "[*********************100%***********************]  1 of 1 completed\n"
     ]
    },
    {
     "name": "stdout",
     "output_type": "stream",
     "text": [
      "Data for ATO has been saved\n",
      "Fetching data for: ADSK\n"
     ]
    },
    {
     "name": "stderr",
     "output_type": "stream",
     "text": [
      "[*********************100%***********************]  1 of 1 completed\n"
     ]
    },
    {
     "name": "stdout",
     "output_type": "stream",
     "text": [
      "Data for ADSK has been saved\n",
      "Fetching data for: ADP\n"
     ]
    },
    {
     "name": "stderr",
     "output_type": "stream",
     "text": [
      "[*********************100%***********************]  1 of 1 completed\n"
     ]
    },
    {
     "name": "stdout",
     "output_type": "stream",
     "text": [
      "Data for ADP has been saved\n",
      "Fetching data for: AZO\n"
     ]
    },
    {
     "name": "stderr",
     "output_type": "stream",
     "text": [
      "[*********************100%***********************]  1 of 1 completed\n"
     ]
    },
    {
     "name": "stdout",
     "output_type": "stream",
     "text": [
      "Data for AZO has been saved\n",
      "Fetching data for: AVB\n"
     ]
    },
    {
     "name": "stderr",
     "output_type": "stream",
     "text": [
      "[*********************100%***********************]  1 of 1 completed\n"
     ]
    },
    {
     "name": "stdout",
     "output_type": "stream",
     "text": [
      "Data for AVB has been saved\n",
      "Fetching data for: AVY\n"
     ]
    },
    {
     "name": "stderr",
     "output_type": "stream",
     "text": [
      "[*********************100%***********************]  1 of 1 completed\n",
      "[*********************100%***********************]  1 of 1 completed\n"
     ]
    },
    {
     "name": "stdout",
     "output_type": "stream",
     "text": [
      "Data for AVY has been saved\n",
      "Fetching data for: AXON\n",
      "Data for AXON has been saved\n",
      "Fetching data for: BKR\n"
     ]
    },
    {
     "name": "stderr",
     "output_type": "stream",
     "text": [
      "[*********************100%***********************]  1 of 1 completed\n"
     ]
    },
    {
     "name": "stdout",
     "output_type": "stream",
     "text": [
      "Data for BKR has been saved\n",
      "Fetching data for: BALL\n"
     ]
    },
    {
     "name": "stderr",
     "output_type": "stream",
     "text": [
      "[*********************100%***********************]  1 of 1 completed\n"
     ]
    },
    {
     "name": "stdout",
     "output_type": "stream",
     "text": [
      "Data for BALL has been saved\n",
      "Fetching data for: BAC\n"
     ]
    },
    {
     "name": "stderr",
     "output_type": "stream",
     "text": [
      "[*********************100%***********************]  1 of 1 completed\n"
     ]
    },
    {
     "name": "stdout",
     "output_type": "stream",
     "text": [
      "Data for BAC has been saved\n",
      "Fetching data for: BAX\n"
     ]
    },
    {
     "name": "stderr",
     "output_type": "stream",
     "text": [
      "[*********************100%***********************]  1 of 1 completed\n"
     ]
    },
    {
     "name": "stdout",
     "output_type": "stream",
     "text": [
      "Data for BAX has been saved\n",
      "Fetching data for: BDX\n"
     ]
    },
    {
     "name": "stderr",
     "output_type": "stream",
     "text": [
      "[*********************100%***********************]  1 of 1 completed\n"
     ]
    },
    {
     "name": "stdout",
     "output_type": "stream",
     "text": [
      "Data for BDX has been saved\n",
      "Fetching data for: BRK.B\n"
     ]
    },
    {
     "name": "stderr",
     "output_type": "stream",
     "text": [
      "[*********************100%***********************]  1 of 1 completed\n",
      "\n",
      "1 Failed download:\n",
      "['BRK.B']: YFTzMissingError('possibly delisted; no timezone found')\n"
     ]
    },
    {
     "name": "stdout",
     "output_type": "stream",
     "text": [
      "Skipping BRK.B, insufficient data: 0 days\n",
      "Fetching data for: BBY\n"
     ]
    },
    {
     "name": "stderr",
     "output_type": "stream",
     "text": [
      "[*********************100%***********************]  1 of 1 completed\n"
     ]
    },
    {
     "name": "stdout",
     "output_type": "stream",
     "text": [
      "Data for BBY has been saved\n",
      "Fetching data for: TECH\n"
     ]
    },
    {
     "name": "stderr",
     "output_type": "stream",
     "text": [
      "[*********************100%***********************]  1 of 1 completed\n"
     ]
    },
    {
     "name": "stdout",
     "output_type": "stream",
     "text": [
      "Data for TECH has been saved\n",
      "Fetching data for: BIIB\n"
     ]
    },
    {
     "name": "stderr",
     "output_type": "stream",
     "text": [
      "[*********************100%***********************]  1 of 1 completed\n"
     ]
    },
    {
     "name": "stdout",
     "output_type": "stream",
     "text": [
      "Data for BIIB has been saved\n",
      "Fetching data for: BLK\n"
     ]
    },
    {
     "name": "stderr",
     "output_type": "stream",
     "text": [
      "[*********************100%***********************]  1 of 1 completed\n"
     ]
    },
    {
     "name": "stdout",
     "output_type": "stream",
     "text": [
      "Data for BLK has been saved\n",
      "Fetching data for: BX\n"
     ]
    },
    {
     "name": "stderr",
     "output_type": "stream",
     "text": [
      "[*********************100%***********************]  1 of 1 completed\n"
     ]
    },
    {
     "name": "stdout",
     "output_type": "stream",
     "text": [
      "Data for BX has been saved\n",
      "Fetching data for: BK\n"
     ]
    },
    {
     "name": "stderr",
     "output_type": "stream",
     "text": [
      "[*********************100%***********************]  1 of 1 completed\n"
     ]
    },
    {
     "name": "stdout",
     "output_type": "stream",
     "text": [
      "Data for BK has been saved\n",
      "Fetching data for: BA\n"
     ]
    },
    {
     "name": "stderr",
     "output_type": "stream",
     "text": [
      "[*********************100%***********************]  1 of 1 completed\n"
     ]
    },
    {
     "name": "stdout",
     "output_type": "stream",
     "text": [
      "Data for BA has been saved\n",
      "Fetching data for: BKNG\n"
     ]
    },
    {
     "name": "stderr",
     "output_type": "stream",
     "text": [
      "[*********************100%***********************]  1 of 1 completed\n"
     ]
    },
    {
     "name": "stdout",
     "output_type": "stream",
     "text": [
      "Data for BKNG has been saved\n",
      "Fetching data for: BSX\n"
     ]
    },
    {
     "name": "stderr",
     "output_type": "stream",
     "text": [
      "[*********************100%***********************]  1 of 1 completed\n"
     ]
    },
    {
     "name": "stdout",
     "output_type": "stream",
     "text": [
      "Data for BSX has been saved\n",
      "Fetching data for: BMY\n"
     ]
    },
    {
     "name": "stderr",
     "output_type": "stream",
     "text": [
      "[*********************100%***********************]  1 of 1 completed\n"
     ]
    },
    {
     "name": "stdout",
     "output_type": "stream",
     "text": [
      "Data for BMY has been saved\n",
      "Fetching data for: AVGO\n"
     ]
    },
    {
     "name": "stderr",
     "output_type": "stream",
     "text": [
      "[*********************100%***********************]  1 of 1 completed\n"
     ]
    },
    {
     "name": "stdout",
     "output_type": "stream",
     "text": [
      "Data for AVGO has been saved\n",
      "Fetching data for: BR\n"
     ]
    },
    {
     "name": "stderr",
     "output_type": "stream",
     "text": [
      "[*********************100%***********************]  1 of 1 completed\n"
     ]
    },
    {
     "name": "stdout",
     "output_type": "stream",
     "text": [
      "Data for BR has been saved\n",
      "Fetching data for: BRO\n"
     ]
    },
    {
     "name": "stderr",
     "output_type": "stream",
     "text": [
      "[*********************100%***********************]  1 of 1 completed\n"
     ]
    },
    {
     "name": "stdout",
     "output_type": "stream",
     "text": [
      "Data for BRO has been saved\n",
      "Fetching data for: BF.B\n"
     ]
    },
    {
     "name": "stderr",
     "output_type": "stream",
     "text": [
      "[*********************100%***********************]  1 of 1 completed\n",
      "\n",
      "1 Failed download:\n",
      "['BF.B']: YFPricesMissingError('possibly delisted; no price data found  (1d 2010-01-01 -> 2025-04-01)')\n"
     ]
    },
    {
     "name": "stdout",
     "output_type": "stream",
     "text": [
      "Skipping BF.B, insufficient data: 0 days\n",
      "Fetching data for: BLDR\n"
     ]
    },
    {
     "name": "stderr",
     "output_type": "stream",
     "text": [
      "[*********************100%***********************]  1 of 1 completed\n"
     ]
    },
    {
     "name": "stdout",
     "output_type": "stream",
     "text": [
      "Data for BLDR has been saved\n",
      "Fetching data for: BG\n"
     ]
    },
    {
     "name": "stderr",
     "output_type": "stream",
     "text": [
      "[*********************100%***********************]  1 of 1 completed\n"
     ]
    },
    {
     "name": "stdout",
     "output_type": "stream",
     "text": [
      "Data for BG has been saved\n",
      "Fetching data for: BXP\n"
     ]
    },
    {
     "name": "stderr",
     "output_type": "stream",
     "text": [
      "[*********************100%***********************]  1 of 1 completed\n"
     ]
    },
    {
     "name": "stdout",
     "output_type": "stream",
     "text": [
      "Data for BXP has been saved\n",
      "Fetching data for: CHRW\n"
     ]
    },
    {
     "name": "stderr",
     "output_type": "stream",
     "text": [
      "[*********************100%***********************]  1 of 1 completed\n"
     ]
    },
    {
     "name": "stdout",
     "output_type": "stream",
     "text": [
      "Data for CHRW has been saved\n",
      "Fetching data for: CDNS\n"
     ]
    },
    {
     "name": "stderr",
     "output_type": "stream",
     "text": [
      "[*********************100%***********************]  1 of 1 completed\n"
     ]
    },
    {
     "name": "stdout",
     "output_type": "stream",
     "text": [
      "Data for CDNS has been saved\n",
      "Fetching data for: CZR\n"
     ]
    },
    {
     "name": "stderr",
     "output_type": "stream",
     "text": [
      "[*********************100%***********************]  1 of 1 completed\n"
     ]
    },
    {
     "name": "stdout",
     "output_type": "stream",
     "text": [
      "Data for CZR has been saved\n",
      "Fetching data for: CPT\n"
     ]
    },
    {
     "name": "stderr",
     "output_type": "stream",
     "text": [
      "[*********************100%***********************]  1 of 1 completed\n"
     ]
    },
    {
     "name": "stdout",
     "output_type": "stream",
     "text": [
      "Data for CPT has been saved\n",
      "Fetching data for: CPB\n"
     ]
    },
    {
     "name": "stderr",
     "output_type": "stream",
     "text": [
      "[*********************100%***********************]  1 of 1 completed\n"
     ]
    },
    {
     "name": "stdout",
     "output_type": "stream",
     "text": [
      "Data for CPB has been saved\n",
      "Fetching data for: COF\n"
     ]
    },
    {
     "name": "stderr",
     "output_type": "stream",
     "text": [
      "[*********************100%***********************]  1 of 1 completed\n"
     ]
    },
    {
     "name": "stdout",
     "output_type": "stream",
     "text": [
      "Data for COF has been saved\n",
      "Fetching data for: CAH\n"
     ]
    },
    {
     "name": "stderr",
     "output_type": "stream",
     "text": [
      "[*********************100%***********************]  1 of 1 completed\n"
     ]
    },
    {
     "name": "stdout",
     "output_type": "stream",
     "text": [
      "Data for CAH has been saved\n",
      "Fetching data for: KMX\n"
     ]
    },
    {
     "name": "stderr",
     "output_type": "stream",
     "text": [
      "[*********************100%***********************]  1 of 1 completed\n"
     ]
    },
    {
     "name": "stdout",
     "output_type": "stream",
     "text": [
      "Data for KMX has been saved\n",
      "Fetching data for: CCL\n"
     ]
    },
    {
     "name": "stderr",
     "output_type": "stream",
     "text": [
      "[*********************100%***********************]  1 of 1 completed\n"
     ]
    },
    {
     "name": "stdout",
     "output_type": "stream",
     "text": [
      "Data for CCL has been saved\n",
      "Fetching data for: CARR\n"
     ]
    },
    {
     "name": "stderr",
     "output_type": "stream",
     "text": [
      "[*********************100%***********************]  1 of 1 completed\n"
     ]
    },
    {
     "name": "stdout",
     "output_type": "stream",
     "text": [
      "Data for CARR has been saved\n",
      "Fetching data for: CAT\n"
     ]
    },
    {
     "name": "stderr",
     "output_type": "stream",
     "text": [
      "[*********************100%***********************]  1 of 1 completed\n"
     ]
    },
    {
     "name": "stdout",
     "output_type": "stream",
     "text": [
      "Data for CAT has been saved\n",
      "Fetching data for: CBOE\n"
     ]
    },
    {
     "name": "stderr",
     "output_type": "stream",
     "text": [
      "[*********************100%***********************]  1 of 1 completed\n"
     ]
    },
    {
     "name": "stdout",
     "output_type": "stream",
     "text": [
      "Data for CBOE has been saved\n",
      "Fetching data for: CBRE\n"
     ]
    },
    {
     "name": "stderr",
     "output_type": "stream",
     "text": [
      "[*********************100%***********************]  1 of 1 completed\n",
      "[*********************100%***********************]  1 of 1 completed\n"
     ]
    },
    {
     "name": "stdout",
     "output_type": "stream",
     "text": [
      "Data for CBRE has been saved\n",
      "Fetching data for: CDW\n",
      "Data for CDW has been saved\n",
      "Fetching data for: COR\n"
     ]
    },
    {
     "name": "stderr",
     "output_type": "stream",
     "text": [
      "[*********************100%***********************]  1 of 1 completed\n",
      "[*********************100%***********************]  1 of 1 completed\n"
     ]
    },
    {
     "name": "stdout",
     "output_type": "stream",
     "text": [
      "Data for COR has been saved\n",
      "Fetching data for: CNC\n",
      "Data for CNC has been saved\n",
      "Fetching data for: CNP\n"
     ]
    },
    {
     "name": "stderr",
     "output_type": "stream",
     "text": [
      "[*********************100%***********************]  1 of 1 completed\n"
     ]
    },
    {
     "name": "stdout",
     "output_type": "stream",
     "text": [
      "Data for CNP has been saved\n",
      "Fetching data for: CF\n"
     ]
    },
    {
     "name": "stderr",
     "output_type": "stream",
     "text": [
      "[*********************100%***********************]  1 of 1 completed\n"
     ]
    },
    {
     "name": "stdout",
     "output_type": "stream",
     "text": [
      "Data for CF has been saved\n",
      "Fetching data for: CRL\n"
     ]
    },
    {
     "name": "stderr",
     "output_type": "stream",
     "text": [
      "[*********************100%***********************]  1 of 1 completed\n"
     ]
    },
    {
     "name": "stdout",
     "output_type": "stream",
     "text": [
      "Data for CRL has been saved\n",
      "Fetching data for: SCHW\n"
     ]
    },
    {
     "name": "stderr",
     "output_type": "stream",
     "text": [
      "[*********************100%***********************]  1 of 1 completed\n"
     ]
    },
    {
     "name": "stdout",
     "output_type": "stream",
     "text": [
      "Data for SCHW has been saved\n",
      "Fetching data for: CHTR\n"
     ]
    },
    {
     "name": "stderr",
     "output_type": "stream",
     "text": [
      "[*********************100%***********************]  1 of 1 completed\n"
     ]
    },
    {
     "name": "stdout",
     "output_type": "stream",
     "text": [
      "Data for CHTR has been saved\n",
      "Fetching data for: CVX\n"
     ]
    },
    {
     "name": "stderr",
     "output_type": "stream",
     "text": [
      "[*********************100%***********************]  1 of 1 completed\n"
     ]
    },
    {
     "name": "stdout",
     "output_type": "stream",
     "text": [
      "Data for CVX has been saved\n",
      "Fetching data for: CMG\n"
     ]
    },
    {
     "name": "stderr",
     "output_type": "stream",
     "text": [
      "[*********************100%***********************]  1 of 1 completed\n"
     ]
    },
    {
     "name": "stdout",
     "output_type": "stream",
     "text": [
      "Data for CMG has been saved\n",
      "Fetching data for: CB\n"
     ]
    },
    {
     "name": "stderr",
     "output_type": "stream",
     "text": [
      "[*********************100%***********************]  1 of 1 completed\n"
     ]
    },
    {
     "name": "stdout",
     "output_type": "stream",
     "text": [
      "Data for CB has been saved\n",
      "Fetching data for: CHD\n"
     ]
    },
    {
     "name": "stderr",
     "output_type": "stream",
     "text": [
      "[*********************100%***********************]  1 of 1 completed\n"
     ]
    },
    {
     "name": "stdout",
     "output_type": "stream",
     "text": [
      "Data for CHD has been saved\n",
      "Fetching data for: CI\n"
     ]
    },
    {
     "name": "stderr",
     "output_type": "stream",
     "text": [
      "[*********************100%***********************]  1 of 1 completed\n"
     ]
    },
    {
     "name": "stdout",
     "output_type": "stream",
     "text": [
      "Data for CI has been saved\n",
      "Fetching data for: CINF\n"
     ]
    },
    {
     "name": "stderr",
     "output_type": "stream",
     "text": [
      "[*********************100%***********************]  1 of 1 completed\n"
     ]
    },
    {
     "name": "stdout",
     "output_type": "stream",
     "text": [
      "Data for CINF has been saved\n",
      "Fetching data for: CTAS\n"
     ]
    },
    {
     "name": "stderr",
     "output_type": "stream",
     "text": [
      "[*********************100%***********************]  1 of 1 completed\n"
     ]
    },
    {
     "name": "stdout",
     "output_type": "stream",
     "text": [
      "Data for CTAS has been saved\n",
      "Fetching data for: CSCO\n"
     ]
    },
    {
     "name": "stderr",
     "output_type": "stream",
     "text": [
      "[*********************100%***********************]  1 of 1 completed\n"
     ]
    },
    {
     "name": "stdout",
     "output_type": "stream",
     "text": [
      "Data for CSCO has been saved\n",
      "Fetching data for: C\n"
     ]
    },
    {
     "name": "stderr",
     "output_type": "stream",
     "text": [
      "[*********************100%***********************]  1 of 1 completed\n"
     ]
    },
    {
     "name": "stdout",
     "output_type": "stream",
     "text": [
      "Data for C has been saved\n",
      "Fetching data for: CFG\n"
     ]
    },
    {
     "name": "stderr",
     "output_type": "stream",
     "text": [
      "[*********************100%***********************]  1 of 1 completed\n"
     ]
    },
    {
     "name": "stdout",
     "output_type": "stream",
     "text": [
      "Data for CFG has been saved\n",
      "Fetching data for: CLX\n"
     ]
    },
    {
     "name": "stderr",
     "output_type": "stream",
     "text": [
      "[*********************100%***********************]  1 of 1 completed\n"
     ]
    },
    {
     "name": "stdout",
     "output_type": "stream",
     "text": [
      "Data for CLX has been saved\n",
      "Fetching data for: CME\n"
     ]
    },
    {
     "name": "stderr",
     "output_type": "stream",
     "text": [
      "[*********************100%***********************]  1 of 1 completed\n"
     ]
    },
    {
     "name": "stdout",
     "output_type": "stream",
     "text": [
      "Data for CME has been saved\n",
      "Fetching data for: CMS\n"
     ]
    },
    {
     "name": "stderr",
     "output_type": "stream",
     "text": [
      "[*********************100%***********************]  1 of 1 completed\n"
     ]
    },
    {
     "name": "stdout",
     "output_type": "stream",
     "text": [
      "Data for CMS has been saved\n",
      "Fetching data for: KO\n"
     ]
    },
    {
     "name": "stderr",
     "output_type": "stream",
     "text": [
      "[*********************100%***********************]  1 of 1 completed\n"
     ]
    },
    {
     "name": "stdout",
     "output_type": "stream",
     "text": [
      "Data for KO has been saved\n",
      "Fetching data for: CTSH\n"
     ]
    },
    {
     "name": "stderr",
     "output_type": "stream",
     "text": [
      "[*********************100%***********************]  1 of 1 completed\n"
     ]
    },
    {
     "name": "stdout",
     "output_type": "stream",
     "text": [
      "Data for CTSH has been saved\n",
      "Fetching data for: CL\n"
     ]
    },
    {
     "name": "stderr",
     "output_type": "stream",
     "text": [
      "[*********************100%***********************]  1 of 1 completed\n"
     ]
    },
    {
     "name": "stdout",
     "output_type": "stream",
     "text": [
      "Data for CL has been saved\n",
      "Fetching data for: CMCSA\n"
     ]
    },
    {
     "name": "stderr",
     "output_type": "stream",
     "text": [
      "[*********************100%***********************]  1 of 1 completed\n"
     ]
    },
    {
     "name": "stdout",
     "output_type": "stream",
     "text": [
      "Data for CMCSA has been saved\n",
      "Fetching data for: CAG\n"
     ]
    },
    {
     "name": "stderr",
     "output_type": "stream",
     "text": [
      "[*********************100%***********************]  1 of 1 completed\n"
     ]
    },
    {
     "name": "stdout",
     "output_type": "stream",
     "text": [
      "Data for CAG has been saved\n",
      "Fetching data for: COP\n"
     ]
    },
    {
     "name": "stderr",
     "output_type": "stream",
     "text": [
      "[*********************100%***********************]  1 of 1 completed\n"
     ]
    },
    {
     "name": "stdout",
     "output_type": "stream",
     "text": [
      "Data for COP has been saved\n",
      "Fetching data for: ED\n"
     ]
    },
    {
     "name": "stderr",
     "output_type": "stream",
     "text": [
      "[*********************100%***********************]  1 of 1 completed\n"
     ]
    },
    {
     "name": "stdout",
     "output_type": "stream",
     "text": [
      "Data for ED has been saved\n",
      "Fetching data for: STZ\n"
     ]
    },
    {
     "name": "stderr",
     "output_type": "stream",
     "text": [
      "[*********************100%***********************]  1 of 1 completed\n",
      "[*********************100%***********************]  1 of 1 completed\n"
     ]
    },
    {
     "name": "stdout",
     "output_type": "stream",
     "text": [
      "Data for STZ has been saved\n",
      "Fetching data for: CEG\n",
      "Data for CEG has been saved\n",
      "Fetching data for: COO\n"
     ]
    },
    {
     "name": "stderr",
     "output_type": "stream",
     "text": [
      "[*********************100%***********************]  1 of 1 completed\n"
     ]
    },
    {
     "name": "stdout",
     "output_type": "stream",
     "text": [
      "Data for COO has been saved\n",
      "Fetching data for: CPRT\n"
     ]
    },
    {
     "name": "stderr",
     "output_type": "stream",
     "text": [
      "[*********************100%***********************]  1 of 1 completed\n"
     ]
    },
    {
     "name": "stdout",
     "output_type": "stream",
     "text": [
      "Data for CPRT has been saved\n",
      "Fetching data for: GLW\n"
     ]
    },
    {
     "name": "stderr",
     "output_type": "stream",
     "text": [
      "[*********************100%***********************]  1 of 1 completed\n",
      "[*********************100%***********************]  1 of 1 completed\n"
     ]
    },
    {
     "name": "stdout",
     "output_type": "stream",
     "text": [
      "Data for GLW has been saved\n",
      "Fetching data for: CPAY\n",
      "Data for CPAY has been saved\n",
      "Fetching data for: CTVA\n"
     ]
    },
    {
     "name": "stderr",
     "output_type": "stream",
     "text": [
      "[*********************100%***********************]  1 of 1 completed\n"
     ]
    },
    {
     "name": "stdout",
     "output_type": "stream",
     "text": [
      "Data for CTVA has been saved\n",
      "Fetching data for: CSGP\n"
     ]
    },
    {
     "name": "stderr",
     "output_type": "stream",
     "text": [
      "[*********************100%***********************]  1 of 1 completed\n"
     ]
    },
    {
     "name": "stdout",
     "output_type": "stream",
     "text": [
      "Data for CSGP has been saved\n",
      "Fetching data for: COST\n"
     ]
    },
    {
     "name": "stderr",
     "output_type": "stream",
     "text": [
      "[*********************100%***********************]  1 of 1 completed\n"
     ]
    },
    {
     "name": "stdout",
     "output_type": "stream",
     "text": [
      "Data for COST has been saved\n",
      "Fetching data for: CTRA\n"
     ]
    },
    {
     "name": "stderr",
     "output_type": "stream",
     "text": [
      "[*********************100%***********************]  1 of 1 completed\n",
      "[*********************100%***********************]  1 of 1 completed\n"
     ]
    },
    {
     "name": "stdout",
     "output_type": "stream",
     "text": [
      "Data for CTRA has been saved\n",
      "Fetching data for: CRWD\n",
      "Data for CRWD has been saved\n",
      "Fetching data for: CCI\n"
     ]
    },
    {
     "name": "stderr",
     "output_type": "stream",
     "text": [
      "[*********************100%***********************]  1 of 1 completed\n"
     ]
    },
    {
     "name": "stdout",
     "output_type": "stream",
     "text": [
      "Data for CCI has been saved\n",
      "Fetching data for: CSX\n"
     ]
    },
    {
     "name": "stderr",
     "output_type": "stream",
     "text": [
      "[*********************100%***********************]  1 of 1 completed\n"
     ]
    },
    {
     "name": "stdout",
     "output_type": "stream",
     "text": [
      "Data for CSX has been saved\n",
      "Fetching data for: CMI\n"
     ]
    },
    {
     "name": "stderr",
     "output_type": "stream",
     "text": [
      "[*********************100%***********************]  1 of 1 completed\n"
     ]
    },
    {
     "name": "stdout",
     "output_type": "stream",
     "text": [
      "Data for CMI has been saved\n",
      "Fetching data for: CVS\n"
     ]
    },
    {
     "name": "stderr",
     "output_type": "stream",
     "text": [
      "[*********************100%***********************]  1 of 1 completed\n"
     ]
    },
    {
     "name": "stdout",
     "output_type": "stream",
     "text": [
      "Data for CVS has been saved\n",
      "Fetching data for: DHR\n"
     ]
    },
    {
     "name": "stderr",
     "output_type": "stream",
     "text": [
      "[*********************100%***********************]  1 of 1 completed\n"
     ]
    },
    {
     "name": "stdout",
     "output_type": "stream",
     "text": [
      "Data for DHR has been saved\n",
      "Fetching data for: DRI\n"
     ]
    },
    {
     "name": "stderr",
     "output_type": "stream",
     "text": [
      "[*********************100%***********************]  1 of 1 completed\n"
     ]
    },
    {
     "name": "stdout",
     "output_type": "stream",
     "text": [
      "Data for DRI has been saved\n",
      "Fetching data for: DVA\n"
     ]
    },
    {
     "name": "stderr",
     "output_type": "stream",
     "text": [
      "[*********************100%***********************]  1 of 1 completed\n",
      "[*********************100%***********************]  1 of 1 completed\n"
     ]
    },
    {
     "name": "stdout",
     "output_type": "stream",
     "text": [
      "Data for DVA has been saved\n",
      "Fetching data for: DAY\n",
      "Data for DAY has been saved\n",
      "Fetching data for: DECK\n"
     ]
    },
    {
     "name": "stderr",
     "output_type": "stream",
     "text": [
      "[*********************100%***********************]  1 of 1 completed\n"
     ]
    },
    {
     "name": "stdout",
     "output_type": "stream",
     "text": [
      "Data for DECK has been saved\n",
      "Fetching data for: DE\n"
     ]
    },
    {
     "name": "stderr",
     "output_type": "stream",
     "text": [
      "[*********************100%***********************]  1 of 1 completed\n"
     ]
    },
    {
     "name": "stdout",
     "output_type": "stream",
     "text": [
      "Data for DE has been saved\n",
      "Fetching data for: DELL\n"
     ]
    },
    {
     "name": "stderr",
     "output_type": "stream",
     "text": [
      "[*********************100%***********************]  1 of 1 completed\n"
     ]
    },
    {
     "name": "stdout",
     "output_type": "stream",
     "text": [
      "Data for DELL has been saved\n",
      "Fetching data for: DAL\n"
     ]
    },
    {
     "name": "stderr",
     "output_type": "stream",
     "text": [
      "[*********************100%***********************]  1 of 1 completed\n"
     ]
    },
    {
     "name": "stdout",
     "output_type": "stream",
     "text": [
      "Data for DAL has been saved\n",
      "Fetching data for: DVN\n"
     ]
    },
    {
     "name": "stderr",
     "output_type": "stream",
     "text": [
      "[*********************100%***********************]  1 of 1 completed\n"
     ]
    },
    {
     "name": "stdout",
     "output_type": "stream",
     "text": [
      "Data for DVN has been saved\n",
      "Fetching data for: DXCM\n"
     ]
    },
    {
     "name": "stderr",
     "output_type": "stream",
     "text": [
      "[*********************100%***********************]  1 of 1 completed\n"
     ]
    },
    {
     "name": "stdout",
     "output_type": "stream",
     "text": [
      "Data for DXCM has been saved\n",
      "Fetching data for: FANG\n"
     ]
    },
    {
     "name": "stderr",
     "output_type": "stream",
     "text": [
      "[*********************100%***********************]  1 of 1 completed\n"
     ]
    },
    {
     "name": "stdout",
     "output_type": "stream",
     "text": [
      "Data for FANG has been saved\n",
      "Fetching data for: DLR\n"
     ]
    },
    {
     "name": "stderr",
     "output_type": "stream",
     "text": [
      "[*********************100%***********************]  1 of 1 completed\n",
      "[*********************100%***********************]  1 of 1 completed\n"
     ]
    },
    {
     "name": "stdout",
     "output_type": "stream",
     "text": [
      "Data for DLR has been saved\n",
      "Fetching data for: DFS\n",
      "Data for DFS has been saved\n",
      "Fetching data for: DG\n"
     ]
    },
    {
     "name": "stderr",
     "output_type": "stream",
     "text": [
      "[*********************100%***********************]  1 of 1 completed\n"
     ]
    },
    {
     "name": "stdout",
     "output_type": "stream",
     "text": [
      "Data for DG has been saved\n",
      "Fetching data for: DLTR\n"
     ]
    },
    {
     "name": "stderr",
     "output_type": "stream",
     "text": [
      "[*********************100%***********************]  1 of 1 completed\n"
     ]
    },
    {
     "name": "stdout",
     "output_type": "stream",
     "text": [
      "Data for DLTR has been saved\n",
      "Fetching data for: D\n"
     ]
    },
    {
     "name": "stderr",
     "output_type": "stream",
     "text": [
      "[*********************100%***********************]  1 of 1 completed\n"
     ]
    },
    {
     "name": "stdout",
     "output_type": "stream",
     "text": [
      "Data for D has been saved\n",
      "Fetching data for: DPZ\n"
     ]
    },
    {
     "name": "stderr",
     "output_type": "stream",
     "text": [
      "[*********************100%***********************]  1 of 1 completed\n",
      "[*********************100%***********************]  1 of 1 completed\n"
     ]
    },
    {
     "name": "stdout",
     "output_type": "stream",
     "text": [
      "Data for DPZ has been saved\n",
      "Fetching data for: DASH\n",
      "Data for DASH has been saved\n",
      "Fetching data for: DOV\n"
     ]
    },
    {
     "name": "stderr",
     "output_type": "stream",
     "text": [
      "[*********************100%***********************]  1 of 1 completed\n"
     ]
    },
    {
     "name": "stdout",
     "output_type": "stream",
     "text": [
      "Data for DOV has been saved\n",
      "Fetching data for: DOW\n"
     ]
    },
    {
     "name": "stderr",
     "output_type": "stream",
     "text": [
      "[*********************100%***********************]  1 of 1 completed\n"
     ]
    },
    {
     "name": "stdout",
     "output_type": "stream",
     "text": [
      "Data for DOW has been saved\n",
      "Fetching data for: DHI\n"
     ]
    },
    {
     "name": "stderr",
     "output_type": "stream",
     "text": [
      "[*********************100%***********************]  1 of 1 completed\n"
     ]
    },
    {
     "name": "stdout",
     "output_type": "stream",
     "text": [
      "Data for DHI has been saved\n",
      "Fetching data for: DTE\n"
     ]
    },
    {
     "name": "stderr",
     "output_type": "stream",
     "text": [
      "[*********************100%***********************]  1 of 1 completed\n"
     ]
    },
    {
     "name": "stdout",
     "output_type": "stream",
     "text": [
      "Data for DTE has been saved\n",
      "Fetching data for: DUK\n"
     ]
    },
    {
     "name": "stderr",
     "output_type": "stream",
     "text": [
      "[*********************100%***********************]  1 of 1 completed\n"
     ]
    },
    {
     "name": "stdout",
     "output_type": "stream",
     "text": [
      "Data for DUK has been saved\n",
      "Fetching data for: DD\n"
     ]
    },
    {
     "name": "stderr",
     "output_type": "stream",
     "text": [
      "[*********************100%***********************]  1 of 1 completed\n"
     ]
    },
    {
     "name": "stdout",
     "output_type": "stream",
     "text": [
      "Data for DD has been saved\n",
      "Fetching data for: EMN\n"
     ]
    },
    {
     "name": "stderr",
     "output_type": "stream",
     "text": [
      "[*********************100%***********************]  1 of 1 completed\n"
     ]
    },
    {
     "name": "stdout",
     "output_type": "stream",
     "text": [
      "Data for EMN has been saved\n",
      "Fetching data for: ETN\n"
     ]
    },
    {
     "name": "stderr",
     "output_type": "stream",
     "text": [
      "[*********************100%***********************]  1 of 1 completed\n"
     ]
    },
    {
     "name": "stdout",
     "output_type": "stream",
     "text": [
      "Data for ETN has been saved\n",
      "Fetching data for: EBAY\n"
     ]
    },
    {
     "name": "stderr",
     "output_type": "stream",
     "text": [
      "[*********************100%***********************]  1 of 1 completed\n"
     ]
    },
    {
     "name": "stdout",
     "output_type": "stream",
     "text": [
      "Data for EBAY has been saved\n",
      "Fetching data for: ECL\n"
     ]
    },
    {
     "name": "stderr",
     "output_type": "stream",
     "text": [
      "[*********************100%***********************]  1 of 1 completed\n"
     ]
    },
    {
     "name": "stdout",
     "output_type": "stream",
     "text": [
      "Data for ECL has been saved\n",
      "Fetching data for: EIX\n"
     ]
    },
    {
     "name": "stderr",
     "output_type": "stream",
     "text": [
      "[*********************100%***********************]  1 of 1 completed\n"
     ]
    },
    {
     "name": "stdout",
     "output_type": "stream",
     "text": [
      "Data for EIX has been saved\n",
      "Fetching data for: EW\n"
     ]
    },
    {
     "name": "stderr",
     "output_type": "stream",
     "text": [
      "[*********************100%***********************]  1 of 1 completed\n"
     ]
    },
    {
     "name": "stdout",
     "output_type": "stream",
     "text": [
      "Data for EW has been saved\n",
      "Fetching data for: EA\n"
     ]
    },
    {
     "name": "stderr",
     "output_type": "stream",
     "text": [
      "[*********************100%***********************]  1 of 1 completed\n"
     ]
    },
    {
     "name": "stdout",
     "output_type": "stream",
     "text": [
      "Data for EA has been saved\n",
      "Fetching data for: ELV\n"
     ]
    },
    {
     "name": "stderr",
     "output_type": "stream",
     "text": [
      "[*********************100%***********************]  1 of 1 completed\n"
     ]
    },
    {
     "name": "stdout",
     "output_type": "stream",
     "text": [
      "Data for ELV has been saved\n",
      "Fetching data for: EMR\n"
     ]
    },
    {
     "name": "stderr",
     "output_type": "stream",
     "text": [
      "[*********************100%***********************]  1 of 1 completed\n"
     ]
    },
    {
     "name": "stdout",
     "output_type": "stream",
     "text": [
      "Data for EMR has been saved\n",
      "Fetching data for: ENPH\n"
     ]
    },
    {
     "name": "stderr",
     "output_type": "stream",
     "text": [
      "[*********************100%***********************]  1 of 1 completed\n"
     ]
    },
    {
     "name": "stdout",
     "output_type": "stream",
     "text": [
      "Data for ENPH has been saved\n",
      "Fetching data for: ETR\n"
     ]
    },
    {
     "name": "stderr",
     "output_type": "stream",
     "text": [
      "[*********************100%***********************]  1 of 1 completed\n"
     ]
    },
    {
     "name": "stdout",
     "output_type": "stream",
     "text": [
      "Data for ETR has been saved\n",
      "Fetching data for: EOG\n"
     ]
    },
    {
     "name": "stderr",
     "output_type": "stream",
     "text": [
      "[*********************100%***********************]  1 of 1 completed\n"
     ]
    },
    {
     "name": "stdout",
     "output_type": "stream",
     "text": [
      "Data for EOG has been saved\n",
      "Fetching data for: EPAM\n"
     ]
    },
    {
     "name": "stderr",
     "output_type": "stream",
     "text": [
      "[*********************100%***********************]  1 of 1 completed\n"
     ]
    },
    {
     "name": "stdout",
     "output_type": "stream",
     "text": [
      "Data for EPAM has been saved\n",
      "Fetching data for: EQT\n"
     ]
    },
    {
     "name": "stderr",
     "output_type": "stream",
     "text": [
      "[*********************100%***********************]  1 of 1 completed\n"
     ]
    },
    {
     "name": "stdout",
     "output_type": "stream",
     "text": [
      "Data for EQT has been saved\n",
      "Fetching data for: EFX\n"
     ]
    },
    {
     "name": "stderr",
     "output_type": "stream",
     "text": [
      "[*********************100%***********************]  1 of 1 completed\n"
     ]
    },
    {
     "name": "stdout",
     "output_type": "stream",
     "text": [
      "Data for EFX has been saved\n",
      "Fetching data for: EQIX\n"
     ]
    },
    {
     "name": "stderr",
     "output_type": "stream",
     "text": [
      "[*********************100%***********************]  1 of 1 completed\n"
     ]
    },
    {
     "name": "stdout",
     "output_type": "stream",
     "text": [
      "Data for EQIX has been saved\n",
      "Fetching data for: EQR\n"
     ]
    },
    {
     "name": "stderr",
     "output_type": "stream",
     "text": [
      "[*********************100%***********************]  1 of 1 completed\n"
     ]
    },
    {
     "name": "stdout",
     "output_type": "stream",
     "text": [
      "Data for EQR has been saved\n",
      "Fetching data for: ERIE\n"
     ]
    },
    {
     "name": "stderr",
     "output_type": "stream",
     "text": [
      "[*********************100%***********************]  1 of 1 completed\n"
     ]
    },
    {
     "name": "stdout",
     "output_type": "stream",
     "text": [
      "Data for ERIE has been saved\n",
      "Fetching data for: ESS\n"
     ]
    },
    {
     "name": "stderr",
     "output_type": "stream",
     "text": [
      "[*********************100%***********************]  1 of 1 completed\n"
     ]
    },
    {
     "name": "stdout",
     "output_type": "stream",
     "text": [
      "Data for ESS has been saved\n",
      "Fetching data for: EL\n"
     ]
    },
    {
     "name": "stderr",
     "output_type": "stream",
     "text": [
      "[*********************100%***********************]  1 of 1 completed\n"
     ]
    },
    {
     "name": "stdout",
     "output_type": "stream",
     "text": [
      "Data for EL has been saved\n",
      "Fetching data for: EG\n"
     ]
    },
    {
     "name": "stderr",
     "output_type": "stream",
     "text": [
      "[*********************100%***********************]  1 of 1 completed\n"
     ]
    },
    {
     "name": "stdout",
     "output_type": "stream",
     "text": [
      "Data for EG has been saved\n",
      "Fetching data for: EVRG\n"
     ]
    },
    {
     "name": "stderr",
     "output_type": "stream",
     "text": [
      "[*********************100%***********************]  1 of 1 completed\n"
     ]
    },
    {
     "name": "stdout",
     "output_type": "stream",
     "text": [
      "Data for EVRG has been saved\n",
      "Fetching data for: ES\n"
     ]
    },
    {
     "name": "stderr",
     "output_type": "stream",
     "text": [
      "[*********************100%***********************]  1 of 1 completed\n"
     ]
    },
    {
     "name": "stdout",
     "output_type": "stream",
     "text": [
      "Data for ES has been saved\n",
      "Fetching data for: EXC\n"
     ]
    },
    {
     "name": "stderr",
     "output_type": "stream",
     "text": [
      "[*********************100%***********************]  1 of 1 completed\n",
      "[*********************100%***********************]  1 of 1 completed\n"
     ]
    },
    {
     "name": "stdout",
     "output_type": "stream",
     "text": [
      "Data for EXC has been saved\n",
      "Fetching data for: EXE\n",
      "Data for EXE has been saved\n",
      "Fetching data for: EXPE\n"
     ]
    },
    {
     "name": "stderr",
     "output_type": "stream",
     "text": [
      "[*********************100%***********************]  1 of 1 completed\n"
     ]
    },
    {
     "name": "stdout",
     "output_type": "stream",
     "text": [
      "Data for EXPE has been saved\n",
      "Fetching data for: EXPD\n"
     ]
    },
    {
     "name": "stderr",
     "output_type": "stream",
     "text": [
      "[*********************100%***********************]  1 of 1 completed\n"
     ]
    },
    {
     "name": "stdout",
     "output_type": "stream",
     "text": [
      "Data for EXPD has been saved\n",
      "Fetching data for: EXR\n"
     ]
    },
    {
     "name": "stderr",
     "output_type": "stream",
     "text": [
      "[*********************100%***********************]  1 of 1 completed\n"
     ]
    },
    {
     "name": "stdout",
     "output_type": "stream",
     "text": [
      "Data for EXR has been saved\n",
      "Fetching data for: XOM\n"
     ]
    },
    {
     "name": "stderr",
     "output_type": "stream",
     "text": [
      "[*********************100%***********************]  1 of 1 completed\n"
     ]
    },
    {
     "name": "stdout",
     "output_type": "stream",
     "text": [
      "Data for XOM has been saved\n",
      "Fetching data for: FFIV\n"
     ]
    },
    {
     "name": "stderr",
     "output_type": "stream",
     "text": [
      "[*********************100%***********************]  1 of 1 completed\n"
     ]
    },
    {
     "name": "stdout",
     "output_type": "stream",
     "text": [
      "Data for FFIV has been saved\n",
      "Fetching data for: FDS\n"
     ]
    },
    {
     "name": "stderr",
     "output_type": "stream",
     "text": [
      "[*********************100%***********************]  1 of 1 completed\n"
     ]
    },
    {
     "name": "stdout",
     "output_type": "stream",
     "text": [
      "Data for FDS has been saved\n",
      "Fetching data for: FICO\n"
     ]
    },
    {
     "name": "stderr",
     "output_type": "stream",
     "text": [
      "[*********************100%***********************]  1 of 1 completed\n"
     ]
    },
    {
     "name": "stdout",
     "output_type": "stream",
     "text": [
      "Data for FICO has been saved\n",
      "Fetching data for: FAST\n"
     ]
    },
    {
     "name": "stderr",
     "output_type": "stream",
     "text": [
      "[*********************100%***********************]  1 of 1 completed\n"
     ]
    },
    {
     "name": "stdout",
     "output_type": "stream",
     "text": [
      "Data for FAST has been saved\n",
      "Fetching data for: FRT\n"
     ]
    },
    {
     "name": "stderr",
     "output_type": "stream",
     "text": [
      "[*********************100%***********************]  1 of 1 completed\n"
     ]
    },
    {
     "name": "stdout",
     "output_type": "stream",
     "text": [
      "Data for FRT has been saved\n",
      "Fetching data for: FDX\n"
     ]
    },
    {
     "name": "stderr",
     "output_type": "stream",
     "text": [
      "[*********************100%***********************]  1 of 1 completed\n"
     ]
    },
    {
     "name": "stdout",
     "output_type": "stream",
     "text": [
      "Data for FDX has been saved\n",
      "Fetching data for: FIS\n"
     ]
    },
    {
     "name": "stderr",
     "output_type": "stream",
     "text": [
      "[*********************100%***********************]  1 of 1 completed\n"
     ]
    },
    {
     "name": "stdout",
     "output_type": "stream",
     "text": [
      "Data for FIS has been saved\n",
      "Fetching data for: FITB\n"
     ]
    },
    {
     "name": "stderr",
     "output_type": "stream",
     "text": [
      "[*********************100%***********************]  1 of 1 completed\n"
     ]
    },
    {
     "name": "stdout",
     "output_type": "stream",
     "text": [
      "Data for FITB has been saved\n",
      "Fetching data for: FSLR\n"
     ]
    },
    {
     "name": "stderr",
     "output_type": "stream",
     "text": [
      "[*********************100%***********************]  1 of 1 completed\n"
     ]
    },
    {
     "name": "stdout",
     "output_type": "stream",
     "text": [
      "Data for FSLR has been saved\n",
      "Fetching data for: FE\n"
     ]
    },
    {
     "name": "stderr",
     "output_type": "stream",
     "text": [
      "[*********************100%***********************]  1 of 1 completed\n",
      "[*********************100%***********************]  1 of 1 completed\n"
     ]
    },
    {
     "name": "stdout",
     "output_type": "stream",
     "text": [
      "Data for FE has been saved\n",
      "Fetching data for: FI\n",
      "Data for FI has been saved\n",
      "Fetching data for: F\n"
     ]
    },
    {
     "name": "stderr",
     "output_type": "stream",
     "text": [
      "[*********************100%***********************]  1 of 1 completed\n",
      "[*********************100%***********************]  1 of 1 completed\n"
     ]
    },
    {
     "name": "stdout",
     "output_type": "stream",
     "text": [
      "Data for F has been saved\n",
      "Fetching data for: FTNT\n",
      "Data for FTNT has been saved\n",
      "Fetching data for: FTV\n"
     ]
    },
    {
     "name": "stderr",
     "output_type": "stream",
     "text": [
      "[*********************100%***********************]  1 of 1 completed\n"
     ]
    },
    {
     "name": "stdout",
     "output_type": "stream",
     "text": [
      "Data for FTV has been saved\n",
      "Fetching data for: FOXA\n"
     ]
    },
    {
     "name": "stderr",
     "output_type": "stream",
     "text": [
      "[*********************100%***********************]  1 of 1 completed\n"
     ]
    },
    {
     "name": "stdout",
     "output_type": "stream",
     "text": [
      "Data for FOXA has been saved\n",
      "Fetching data for: FOX\n"
     ]
    },
    {
     "name": "stderr",
     "output_type": "stream",
     "text": [
      "[*********************100%***********************]  1 of 1 completed\n"
     ]
    },
    {
     "name": "stdout",
     "output_type": "stream",
     "text": [
      "Data for FOX has been saved\n",
      "Fetching data for: BEN\n"
     ]
    },
    {
     "name": "stderr",
     "output_type": "stream",
     "text": [
      "[*********************100%***********************]  1 of 1 completed\n"
     ]
    },
    {
     "name": "stdout",
     "output_type": "stream",
     "text": [
      "Data for BEN has been saved\n",
      "Fetching data for: FCX\n"
     ]
    },
    {
     "name": "stderr",
     "output_type": "stream",
     "text": [
      "[*********************100%***********************]  1 of 1 completed\n",
      "[*********************100%***********************]  1 of 1 completed"
     ]
    },
    {
     "name": "stdout",
     "output_type": "stream",
     "text": [
      "Data for FCX has been saved\n",
      "Fetching data for: GRMN\n"
     ]
    },
    {
     "name": "stderr",
     "output_type": "stream",
     "text": [
      "\n"
     ]
    },
    {
     "name": "stdout",
     "output_type": "stream",
     "text": [
      "Data for GRMN has been saved\n",
      "Fetching data for: IT\n"
     ]
    },
    {
     "name": "stderr",
     "output_type": "stream",
     "text": [
      "[*********************100%***********************]  1 of 1 completed\n"
     ]
    },
    {
     "name": "stdout",
     "output_type": "stream",
     "text": [
      "Data for IT has been saved\n",
      "Fetching data for: GE\n"
     ]
    },
    {
     "name": "stderr",
     "output_type": "stream",
     "text": [
      "[*********************100%***********************]  1 of 1 completed\n"
     ]
    },
    {
     "name": "stdout",
     "output_type": "stream",
     "text": [
      "Data for GE has been saved\n",
      "Fetching data for: GEHC\n"
     ]
    },
    {
     "name": "stderr",
     "output_type": "stream",
     "text": [
      "[*********************100%***********************]  1 of 1 completed\n",
      "[*********************100%***********************]  1 of 1 completed\n"
     ]
    },
    {
     "name": "stdout",
     "output_type": "stream",
     "text": [
      "Data for GEHC has been saved\n",
      "Fetching data for: GEV\n",
      "Data for GEV has been saved\n",
      "Fetching data for: GEN\n"
     ]
    },
    {
     "name": "stderr",
     "output_type": "stream",
     "text": [
      "[*********************100%***********************]  1 of 1 completed\n",
      "[*********************100%***********************]  1 of 1 completed\n"
     ]
    },
    {
     "name": "stdout",
     "output_type": "stream",
     "text": [
      "Data for GEN has been saved\n",
      "Fetching data for: GNRC\n",
      "Data for GNRC has been saved\n",
      "Fetching data for: GD\n"
     ]
    },
    {
     "name": "stderr",
     "output_type": "stream",
     "text": [
      "[*********************100%***********************]  1 of 1 completed\n"
     ]
    },
    {
     "name": "stdout",
     "output_type": "stream",
     "text": [
      "Data for GD has been saved\n",
      "Fetching data for: GIS\n"
     ]
    },
    {
     "name": "stderr",
     "output_type": "stream",
     "text": [
      "[*********************100%***********************]  1 of 1 completed\n"
     ]
    },
    {
     "name": "stdout",
     "output_type": "stream",
     "text": [
      "Data for GIS has been saved\n",
      "Fetching data for: GM\n"
     ]
    },
    {
     "name": "stderr",
     "output_type": "stream",
     "text": [
      "[*********************100%***********************]  1 of 1 completed\n"
     ]
    },
    {
     "name": "stdout",
     "output_type": "stream",
     "text": [
      "Data for GM has been saved\n",
      "Fetching data for: GPC\n"
     ]
    },
    {
     "name": "stderr",
     "output_type": "stream",
     "text": [
      "[*********************100%***********************]  1 of 1 completed\n"
     ]
    },
    {
     "name": "stdout",
     "output_type": "stream",
     "text": [
      "Data for GPC has been saved\n",
      "Fetching data for: GILD\n"
     ]
    },
    {
     "name": "stderr",
     "output_type": "stream",
     "text": [
      "[*********************100%***********************]  1 of 1 completed\n"
     ]
    },
    {
     "name": "stdout",
     "output_type": "stream",
     "text": [
      "Data for GILD has been saved\n",
      "Fetching data for: GPN\n"
     ]
    },
    {
     "name": "stderr",
     "output_type": "stream",
     "text": [
      "[*********************100%***********************]  1 of 1 completed\n"
     ]
    },
    {
     "name": "stdout",
     "output_type": "stream",
     "text": [
      "Data for GPN has been saved\n",
      "Fetching data for: GL\n"
     ]
    },
    {
     "name": "stderr",
     "output_type": "stream",
     "text": [
      "[*********************100%***********************]  1 of 1 completed\n"
     ]
    },
    {
     "name": "stdout",
     "output_type": "stream",
     "text": [
      "Data for GL has been saved\n",
      "Fetching data for: GDDY\n"
     ]
    },
    {
     "name": "stderr",
     "output_type": "stream",
     "text": [
      "[*********************100%***********************]  1 of 1 completed\n"
     ]
    },
    {
     "name": "stdout",
     "output_type": "stream",
     "text": [
      "Data for GDDY has been saved\n",
      "Fetching data for: GS\n"
     ]
    },
    {
     "name": "stderr",
     "output_type": "stream",
     "text": [
      "[*********************100%***********************]  1 of 1 completed\n"
     ]
    },
    {
     "name": "stdout",
     "output_type": "stream",
     "text": [
      "Data for GS has been saved\n",
      "Fetching data for: HAL\n"
     ]
    },
    {
     "name": "stderr",
     "output_type": "stream",
     "text": [
      "[*********************100%***********************]  1 of 1 completed\n"
     ]
    },
    {
     "name": "stdout",
     "output_type": "stream",
     "text": [
      "Data for HAL has been saved\n",
      "Fetching data for: HIG\n"
     ]
    },
    {
     "name": "stderr",
     "output_type": "stream",
     "text": [
      "[*********************100%***********************]  1 of 1 completed\n"
     ]
    },
    {
     "name": "stdout",
     "output_type": "stream",
     "text": [
      "Data for HIG has been saved\n",
      "Fetching data for: HAS\n"
     ]
    },
    {
     "name": "stderr",
     "output_type": "stream",
     "text": [
      "[*********************100%***********************]  1 of 1 completed\n"
     ]
    },
    {
     "name": "stdout",
     "output_type": "stream",
     "text": [
      "Data for HAS has been saved\n",
      "Fetching data for: HCA\n"
     ]
    },
    {
     "name": "stderr",
     "output_type": "stream",
     "text": [
      "[*********************100%***********************]  1 of 1 completed\n"
     ]
    },
    {
     "name": "stdout",
     "output_type": "stream",
     "text": [
      "Data for HCA has been saved\n",
      "Fetching data for: DOC\n"
     ]
    },
    {
     "name": "stderr",
     "output_type": "stream",
     "text": [
      "[*********************100%***********************]  1 of 1 completed\n"
     ]
    },
    {
     "name": "stdout",
     "output_type": "stream",
     "text": [
      "Data for DOC has been saved\n",
      "Fetching data for: HSIC\n"
     ]
    },
    {
     "name": "stderr",
     "output_type": "stream",
     "text": [
      "[*********************100%***********************]  1 of 1 completed\n"
     ]
    },
    {
     "name": "stdout",
     "output_type": "stream",
     "text": [
      "Data for HSIC has been saved\n",
      "Fetching data for: HSY\n"
     ]
    },
    {
     "name": "stderr",
     "output_type": "stream",
     "text": [
      "[*********************100%***********************]  1 of 1 completed\n"
     ]
    },
    {
     "name": "stdout",
     "output_type": "stream",
     "text": [
      "Data for HSY has been saved\n",
      "Fetching data for: HES\n"
     ]
    },
    {
     "name": "stderr",
     "output_type": "stream",
     "text": [
      "[*********************100%***********************]  1 of 1 completed\n"
     ]
    },
    {
     "name": "stdout",
     "output_type": "stream",
     "text": [
      "Data for HES has been saved\n",
      "Fetching data for: HPE\n"
     ]
    },
    {
     "name": "stderr",
     "output_type": "stream",
     "text": [
      "[*********************100%***********************]  1 of 1 completed\n"
     ]
    },
    {
     "name": "stdout",
     "output_type": "stream",
     "text": [
      "Data for HPE has been saved\n",
      "Fetching data for: HLT\n"
     ]
    },
    {
     "name": "stderr",
     "output_type": "stream",
     "text": [
      "[*********************100%***********************]  1 of 1 completed\n"
     ]
    },
    {
     "name": "stdout",
     "output_type": "stream",
     "text": [
      "Data for HLT has been saved\n",
      "Fetching data for: HOLX\n"
     ]
    },
    {
     "name": "stderr",
     "output_type": "stream",
     "text": [
      "[*********************100%***********************]  1 of 1 completed\n"
     ]
    },
    {
     "name": "stdout",
     "output_type": "stream",
     "text": [
      "Data for HOLX has been saved\n",
      "Fetching data for: HD\n"
     ]
    },
    {
     "name": "stderr",
     "output_type": "stream",
     "text": [
      "[*********************100%***********************]  1 of 1 completed\n"
     ]
    },
    {
     "name": "stdout",
     "output_type": "stream",
     "text": [
      "Data for HD has been saved\n",
      "Fetching data for: HON\n"
     ]
    },
    {
     "name": "stderr",
     "output_type": "stream",
     "text": [
      "[*********************100%***********************]  1 of 1 completed\n"
     ]
    },
    {
     "name": "stdout",
     "output_type": "stream",
     "text": [
      "Data for HON has been saved\n",
      "Fetching data for: HRL\n"
     ]
    },
    {
     "name": "stderr",
     "output_type": "stream",
     "text": [
      "[*********************100%***********************]  1 of 1 completed\n"
     ]
    },
    {
     "name": "stdout",
     "output_type": "stream",
     "text": [
      "Data for HRL has been saved\n",
      "Fetching data for: HST\n"
     ]
    },
    {
     "name": "stderr",
     "output_type": "stream",
     "text": [
      "[*********************100%***********************]  1 of 1 completed\n"
     ]
    },
    {
     "name": "stdout",
     "output_type": "stream",
     "text": [
      "Data for HST has been saved\n",
      "Fetching data for: HWM\n"
     ]
    },
    {
     "name": "stderr",
     "output_type": "stream",
     "text": [
      "[*********************100%***********************]  1 of 1 completed\n"
     ]
    },
    {
     "name": "stdout",
     "output_type": "stream",
     "text": [
      "Data for HWM has been saved\n",
      "Fetching data for: HPQ\n"
     ]
    },
    {
     "name": "stderr",
     "output_type": "stream",
     "text": [
      "[*********************100%***********************]  1 of 1 completed\n"
     ]
    },
    {
     "name": "stdout",
     "output_type": "stream",
     "text": [
      "Data for HPQ has been saved\n",
      "Fetching data for: HUBB\n"
     ]
    },
    {
     "name": "stderr",
     "output_type": "stream",
     "text": [
      "[*********************100%***********************]  1 of 1 completed\n"
     ]
    },
    {
     "name": "stdout",
     "output_type": "stream",
     "text": [
      "Data for HUBB has been saved\n",
      "Fetching data for: HUM\n"
     ]
    },
    {
     "name": "stderr",
     "output_type": "stream",
     "text": [
      "[*********************100%***********************]  1 of 1 completed\n"
     ]
    },
    {
     "name": "stdout",
     "output_type": "stream",
     "text": [
      "Data for HUM has been saved\n",
      "Fetching data for: HBAN\n"
     ]
    },
    {
     "name": "stderr",
     "output_type": "stream",
     "text": [
      "[*********************100%***********************]  1 of 1 completed\n"
     ]
    },
    {
     "name": "stdout",
     "output_type": "stream",
     "text": [
      "Data for HBAN has been saved\n",
      "Fetching data for: HII\n"
     ]
    },
    {
     "name": "stderr",
     "output_type": "stream",
     "text": [
      "[*********************100%***********************]  1 of 1 completed\n"
     ]
    },
    {
     "name": "stdout",
     "output_type": "stream",
     "text": [
      "Data for HII has been saved\n",
      "Fetching data for: IBM\n"
     ]
    },
    {
     "name": "stderr",
     "output_type": "stream",
     "text": [
      "[*********************100%***********************]  1 of 1 completed\n"
     ]
    },
    {
     "name": "stdout",
     "output_type": "stream",
     "text": [
      "Data for IBM has been saved\n",
      "Fetching data for: IEX\n"
     ]
    },
    {
     "name": "stderr",
     "output_type": "stream",
     "text": [
      "[*********************100%***********************]  1 of 1 completed\n"
     ]
    },
    {
     "name": "stdout",
     "output_type": "stream",
     "text": [
      "Data for IEX has been saved\n",
      "Fetching data for: IDXX\n"
     ]
    },
    {
     "name": "stderr",
     "output_type": "stream",
     "text": [
      "[*********************100%***********************]  1 of 1 completed\n"
     ]
    },
    {
     "name": "stdout",
     "output_type": "stream",
     "text": [
      "Data for IDXX has been saved\n",
      "Fetching data for: ITW\n"
     ]
    },
    {
     "name": "stderr",
     "output_type": "stream",
     "text": [
      "[*********************100%***********************]  1 of 1 completed\n",
      "[*********************100%***********************]  1 of 1 completed\n"
     ]
    },
    {
     "name": "stdout",
     "output_type": "stream",
     "text": [
      "Data for ITW has been saved\n",
      "Fetching data for: INCY\n",
      "Data for INCY has been saved\n",
      "Fetching data for: IR\n"
     ]
    },
    {
     "name": "stderr",
     "output_type": "stream",
     "text": [
      "[*********************100%***********************]  1 of 1 completed\n"
     ]
    },
    {
     "name": "stdout",
     "output_type": "stream",
     "text": [
      "Data for IR has been saved\n",
      "Fetching data for: PODD\n"
     ]
    },
    {
     "name": "stderr",
     "output_type": "stream",
     "text": [
      "[*********************100%***********************]  1 of 1 completed\n"
     ]
    },
    {
     "name": "stdout",
     "output_type": "stream",
     "text": [
      "Data for PODD has been saved\n",
      "Fetching data for: INTC\n"
     ]
    },
    {
     "name": "stderr",
     "output_type": "stream",
     "text": [
      "[*********************100%***********************]  1 of 1 completed\n"
     ]
    },
    {
     "name": "stdout",
     "output_type": "stream",
     "text": [
      "Data for INTC has been saved\n",
      "Fetching data for: ICE\n"
     ]
    },
    {
     "name": "stderr",
     "output_type": "stream",
     "text": [
      "[*********************100%***********************]  1 of 1 completed\n"
     ]
    },
    {
     "name": "stdout",
     "output_type": "stream",
     "text": [
      "Data for ICE has been saved\n",
      "Fetching data for: IFF\n"
     ]
    },
    {
     "name": "stderr",
     "output_type": "stream",
     "text": [
      "[*********************100%***********************]  1 of 1 completed\n"
     ]
    },
    {
     "name": "stdout",
     "output_type": "stream",
     "text": [
      "Data for IFF has been saved\n",
      "Fetching data for: IP\n"
     ]
    },
    {
     "name": "stderr",
     "output_type": "stream",
     "text": [
      "[*********************100%***********************]  1 of 1 completed\n"
     ]
    },
    {
     "name": "stdout",
     "output_type": "stream",
     "text": [
      "Data for IP has been saved\n",
      "Fetching data for: IPG\n"
     ]
    },
    {
     "name": "stderr",
     "output_type": "stream",
     "text": [
      "[*********************100%***********************]  1 of 1 completed\n"
     ]
    },
    {
     "name": "stdout",
     "output_type": "stream",
     "text": [
      "Data for IPG has been saved\n",
      "Fetching data for: INTU\n"
     ]
    },
    {
     "name": "stderr",
     "output_type": "stream",
     "text": [
      "[*********************100%***********************]  1 of 1 completed\n"
     ]
    },
    {
     "name": "stdout",
     "output_type": "stream",
     "text": [
      "Data for INTU has been saved\n",
      "Fetching data for: ISRG\n"
     ]
    },
    {
     "name": "stderr",
     "output_type": "stream",
     "text": [
      "[*********************100%***********************]  1 of 1 completed\n"
     ]
    },
    {
     "name": "stdout",
     "output_type": "stream",
     "text": [
      "Data for ISRG has been saved\n",
      "Fetching data for: IVZ\n"
     ]
    },
    {
     "name": "stderr",
     "output_type": "stream",
     "text": [
      "[*********************100%***********************]  1 of 1 completed\n"
     ]
    },
    {
     "name": "stdout",
     "output_type": "stream",
     "text": [
      "Data for IVZ has been saved\n",
      "Fetching data for: INVH\n"
     ]
    },
    {
     "name": "stderr",
     "output_type": "stream",
     "text": [
      "[*********************100%***********************]  1 of 1 completed\n",
      "[*********************100%***********************]  1 of 1 completed\n"
     ]
    },
    {
     "name": "stdout",
     "output_type": "stream",
     "text": [
      "Data for INVH has been saved\n",
      "Fetching data for: IQV\n",
      "Data for IQV has been saved\n",
      "Fetching data for: IRM\n"
     ]
    },
    {
     "name": "stderr",
     "output_type": "stream",
     "text": [
      "[*********************100%***********************]  1 of 1 completed\n"
     ]
    },
    {
     "name": "stdout",
     "output_type": "stream",
     "text": [
      "Data for IRM has been saved\n",
      "Fetching data for: JBHT\n"
     ]
    },
    {
     "name": "stderr",
     "output_type": "stream",
     "text": [
      "[*********************100%***********************]  1 of 1 completed\n"
     ]
    },
    {
     "name": "stdout",
     "output_type": "stream",
     "text": [
      "Data for JBHT has been saved\n",
      "Fetching data for: JBL\n"
     ]
    },
    {
     "name": "stderr",
     "output_type": "stream",
     "text": [
      "[*********************100%***********************]  1 of 1 completed\n"
     ]
    },
    {
     "name": "stdout",
     "output_type": "stream",
     "text": [
      "Data for JBL has been saved\n",
      "Fetching data for: JKHY\n"
     ]
    },
    {
     "name": "stderr",
     "output_type": "stream",
     "text": [
      "[*********************100%***********************]  1 of 1 completed\n"
     ]
    },
    {
     "name": "stdout",
     "output_type": "stream",
     "text": [
      "Data for JKHY has been saved\n",
      "Fetching data for: J\n"
     ]
    },
    {
     "name": "stderr",
     "output_type": "stream",
     "text": [
      "[*********************100%***********************]  1 of 1 completed\n"
     ]
    },
    {
     "name": "stdout",
     "output_type": "stream",
     "text": [
      "Data for J has been saved\n",
      "Fetching data for: JNJ\n"
     ]
    },
    {
     "name": "stderr",
     "output_type": "stream",
     "text": [
      "[*********************100%***********************]  1 of 1 completed\n"
     ]
    },
    {
     "name": "stdout",
     "output_type": "stream",
     "text": [
      "Data for JNJ has been saved\n",
      "Fetching data for: JCI\n"
     ]
    },
    {
     "name": "stderr",
     "output_type": "stream",
     "text": [
      "[*********************100%***********************]  1 of 1 completed\n"
     ]
    },
    {
     "name": "stdout",
     "output_type": "stream",
     "text": [
      "Data for JCI has been saved\n",
      "Fetching data for: JPM\n"
     ]
    },
    {
     "name": "stderr",
     "output_type": "stream",
     "text": [
      "[*********************100%***********************]  1 of 1 completed\n"
     ]
    },
    {
     "name": "stdout",
     "output_type": "stream",
     "text": [
      "Data for JPM has been saved\n",
      "Fetching data for: JNPR\n"
     ]
    },
    {
     "name": "stderr",
     "output_type": "stream",
     "text": [
      "[*********************100%***********************]  1 of 1 completed\n"
     ]
    },
    {
     "name": "stdout",
     "output_type": "stream",
     "text": [
      "Data for JNPR has been saved\n",
      "Fetching data for: K\n"
     ]
    },
    {
     "name": "stderr",
     "output_type": "stream",
     "text": [
      "[*********************100%***********************]  1 of 1 completed\n",
      "[*********************100%***********************]  1 of 1 completed\n"
     ]
    },
    {
     "name": "stdout",
     "output_type": "stream",
     "text": [
      "Data for K has been saved\n",
      "Fetching data for: KVUE\n",
      "Data for KVUE has been saved\n",
      "Fetching data for: KDP\n"
     ]
    },
    {
     "name": "stderr",
     "output_type": "stream",
     "text": [
      "[*********************100%***********************]  1 of 1 completed\n"
     ]
    },
    {
     "name": "stdout",
     "output_type": "stream",
     "text": [
      "Data for KDP has been saved\n",
      "Fetching data for: KEY\n"
     ]
    },
    {
     "name": "stderr",
     "output_type": "stream",
     "text": [
      "[*********************100%***********************]  1 of 1 completed\n"
     ]
    },
    {
     "name": "stdout",
     "output_type": "stream",
     "text": [
      "Data for KEY has been saved\n",
      "Fetching data for: KEYS\n"
     ]
    },
    {
     "name": "stderr",
     "output_type": "stream",
     "text": [
      "[*********************100%***********************]  1 of 1 completed\n"
     ]
    },
    {
     "name": "stdout",
     "output_type": "stream",
     "text": [
      "Data for KEYS has been saved\n",
      "Fetching data for: KMB\n"
     ]
    },
    {
     "name": "stderr",
     "output_type": "stream",
     "text": [
      "[*********************100%***********************]  1 of 1 completed\n"
     ]
    },
    {
     "name": "stdout",
     "output_type": "stream",
     "text": [
      "Data for KMB has been saved\n",
      "Fetching data for: KIM\n"
     ]
    },
    {
     "name": "stderr",
     "output_type": "stream",
     "text": [
      "[*********************100%***********************]  1 of 1 completed\n"
     ]
    },
    {
     "name": "stdout",
     "output_type": "stream",
     "text": [
      "Data for KIM has been saved\n",
      "Fetching data for: KMI\n"
     ]
    },
    {
     "name": "stderr",
     "output_type": "stream",
     "text": [
      "[*********************100%***********************]  1 of 1 completed\n"
     ]
    },
    {
     "name": "stdout",
     "output_type": "stream",
     "text": [
      "Data for KMI has been saved\n",
      "Fetching data for: KKR\n"
     ]
    },
    {
     "name": "stderr",
     "output_type": "stream",
     "text": [
      "[*********************100%***********************]  1 of 1 completed\n"
     ]
    },
    {
     "name": "stdout",
     "output_type": "stream",
     "text": [
      "Data for KKR has been saved\n",
      "Fetching data for: KLAC\n"
     ]
    },
    {
     "name": "stderr",
     "output_type": "stream",
     "text": [
      "[*********************100%***********************]  1 of 1 completed\n",
      "[*********************100%***********************]  1 of 1 completed\n"
     ]
    },
    {
     "name": "stdout",
     "output_type": "stream",
     "text": [
      "Data for KLAC has been saved\n",
      "Fetching data for: KHC\n",
      "Data for KHC has been saved\n",
      "Fetching data for: KR\n"
     ]
    },
    {
     "name": "stderr",
     "output_type": "stream",
     "text": [
      "[*********************100%***********************]  1 of 1 completed\n"
     ]
    },
    {
     "name": "stdout",
     "output_type": "stream",
     "text": [
      "Data for KR has been saved\n",
      "Fetching data for: LHX\n"
     ]
    },
    {
     "name": "stderr",
     "output_type": "stream",
     "text": [
      "[*********************100%***********************]  1 of 1 completed\n"
     ]
    },
    {
     "name": "stdout",
     "output_type": "stream",
     "text": [
      "Data for LHX has been saved\n",
      "Fetching data for: LH\n"
     ]
    },
    {
     "name": "stderr",
     "output_type": "stream",
     "text": [
      "[*********************100%***********************]  1 of 1 completed\n"
     ]
    },
    {
     "name": "stdout",
     "output_type": "stream",
     "text": [
      "Data for LH has been saved\n",
      "Fetching data for: LRCX\n"
     ]
    },
    {
     "name": "stderr",
     "output_type": "stream",
     "text": [
      "[*********************100%***********************]  1 of 1 completed\n",
      "[*********************100%***********************]  1 of 1 completed"
     ]
    },
    {
     "name": "stdout",
     "output_type": "stream",
     "text": [
      "Data for LRCX has been saved\n",
      "Fetching data for: LW\n"
     ]
    },
    {
     "name": "stderr",
     "output_type": "stream",
     "text": [
      "\n"
     ]
    },
    {
     "name": "stdout",
     "output_type": "stream",
     "text": [
      "Data for LW has been saved\n",
      "Fetching data for: LVS\n"
     ]
    },
    {
     "name": "stderr",
     "output_type": "stream",
     "text": [
      "[*********************100%***********************]  1 of 1 completed\n"
     ]
    },
    {
     "name": "stdout",
     "output_type": "stream",
     "text": [
      "Data for LVS has been saved\n",
      "Fetching data for: LDOS\n"
     ]
    },
    {
     "name": "stderr",
     "output_type": "stream",
     "text": [
      "[*********************100%***********************]  1 of 1 completed\n"
     ]
    },
    {
     "name": "stdout",
     "output_type": "stream",
     "text": [
      "Data for LDOS has been saved\n",
      "Fetching data for: LEN\n"
     ]
    },
    {
     "name": "stderr",
     "output_type": "stream",
     "text": [
      "[*********************100%***********************]  1 of 1 completed\n"
     ]
    },
    {
     "name": "stdout",
     "output_type": "stream",
     "text": [
      "Data for LEN has been saved\n",
      "Fetching data for: LII\n"
     ]
    },
    {
     "name": "stderr",
     "output_type": "stream",
     "text": [
      "[*********************100%***********************]  1 of 1 completed\n"
     ]
    },
    {
     "name": "stdout",
     "output_type": "stream",
     "text": [
      "Data for LII has been saved\n",
      "Fetching data for: LLY\n"
     ]
    },
    {
     "name": "stderr",
     "output_type": "stream",
     "text": [
      "[*********************100%***********************]  1 of 1 completed\n"
     ]
    },
    {
     "name": "stdout",
     "output_type": "stream",
     "text": [
      "Data for LLY has been saved\n",
      "Fetching data for: LIN\n"
     ]
    },
    {
     "name": "stderr",
     "output_type": "stream",
     "text": [
      "[*********************100%***********************]  1 of 1 completed\n",
      "[*********************100%***********************]  1 of 1 completed\n"
     ]
    },
    {
     "name": "stdout",
     "output_type": "stream",
     "text": [
      "Data for LIN has been saved\n",
      "Fetching data for: LYV\n",
      "Data for LYV has been saved\n",
      "Fetching data for: LKQ\n"
     ]
    },
    {
     "name": "stderr",
     "output_type": "stream",
     "text": [
      "[*********************100%***********************]  1 of 1 completed\n"
     ]
    },
    {
     "name": "stdout",
     "output_type": "stream",
     "text": [
      "Data for LKQ has been saved\n",
      "Fetching data for: LMT\n"
     ]
    },
    {
     "name": "stderr",
     "output_type": "stream",
     "text": [
      "[*********************100%***********************]  1 of 1 completed\n"
     ]
    },
    {
     "name": "stdout",
     "output_type": "stream",
     "text": [
      "Data for LMT has been saved\n",
      "Fetching data for: L\n"
     ]
    },
    {
     "name": "stderr",
     "output_type": "stream",
     "text": [
      "[*********************100%***********************]  1 of 1 completed\n"
     ]
    },
    {
     "name": "stdout",
     "output_type": "stream",
     "text": [
      "Data for L has been saved\n",
      "Fetching data for: LOW\n"
     ]
    },
    {
     "name": "stderr",
     "output_type": "stream",
     "text": [
      "[*********************100%***********************]  1 of 1 completed\n"
     ]
    },
    {
     "name": "stdout",
     "output_type": "stream",
     "text": [
      "Data for LOW has been saved\n",
      "Fetching data for: LULU\n"
     ]
    },
    {
     "name": "stderr",
     "output_type": "stream",
     "text": [
      "[*********************100%***********************]  1 of 1 completed\n"
     ]
    },
    {
     "name": "stdout",
     "output_type": "stream",
     "text": [
      "Data for LULU has been saved\n",
      "Fetching data for: LYB\n"
     ]
    },
    {
     "name": "stderr",
     "output_type": "stream",
     "text": [
      "[*********************100%***********************]  1 of 1 completed\n"
     ]
    },
    {
     "name": "stdout",
     "output_type": "stream",
     "text": [
      "Data for LYB has been saved\n",
      "Fetching data for: MTB\n"
     ]
    },
    {
     "name": "stderr",
     "output_type": "stream",
     "text": [
      "[*********************100%***********************]  1 of 1 completed\n"
     ]
    },
    {
     "name": "stdout",
     "output_type": "stream",
     "text": [
      "Data for MTB has been saved\n",
      "Fetching data for: MPC\n"
     ]
    },
    {
     "name": "stderr",
     "output_type": "stream",
     "text": [
      "[*********************100%***********************]  1 of 1 completed\n"
     ]
    },
    {
     "name": "stdout",
     "output_type": "stream",
     "text": [
      "Data for MPC has been saved\n",
      "Fetching data for: MKTX\n"
     ]
    },
    {
     "name": "stderr",
     "output_type": "stream",
     "text": [
      "[*********************100%***********************]  1 of 1 completed\n"
     ]
    },
    {
     "name": "stdout",
     "output_type": "stream",
     "text": [
      "Data for MKTX has been saved\n",
      "Fetching data for: MAR\n"
     ]
    },
    {
     "name": "stderr",
     "output_type": "stream",
     "text": [
      "[*********************100%***********************]  1 of 1 completed\n"
     ]
    },
    {
     "name": "stdout",
     "output_type": "stream",
     "text": [
      "Data for MAR has been saved\n",
      "Fetching data for: MMC\n"
     ]
    },
    {
     "name": "stderr",
     "output_type": "stream",
     "text": [
      "[*********************100%***********************]  1 of 1 completed\n"
     ]
    },
    {
     "name": "stdout",
     "output_type": "stream",
     "text": [
      "Data for MMC has been saved\n",
      "Fetching data for: MLM\n"
     ]
    },
    {
     "name": "stderr",
     "output_type": "stream",
     "text": [
      "[*********************100%***********************]  1 of 1 completed\n"
     ]
    },
    {
     "name": "stdout",
     "output_type": "stream",
     "text": [
      "Data for MLM has been saved\n",
      "Fetching data for: MAS\n"
     ]
    },
    {
     "name": "stderr",
     "output_type": "stream",
     "text": [
      "[*********************100%***********************]  1 of 1 completed\n"
     ]
    },
    {
     "name": "stdout",
     "output_type": "stream",
     "text": [
      "Data for MAS has been saved\n",
      "Fetching data for: MA\n"
     ]
    },
    {
     "name": "stderr",
     "output_type": "stream",
     "text": [
      "[*********************100%***********************]  1 of 1 completed\n"
     ]
    },
    {
     "name": "stdout",
     "output_type": "stream",
     "text": [
      "Data for MA has been saved\n",
      "Fetching data for: MTCH\n"
     ]
    },
    {
     "name": "stderr",
     "output_type": "stream",
     "text": [
      "[*********************100%***********************]  1 of 1 completed\n"
     ]
    },
    {
     "name": "stdout",
     "output_type": "stream",
     "text": [
      "Data for MTCH has been saved\n",
      "Fetching data for: MKC\n"
     ]
    },
    {
     "name": "stderr",
     "output_type": "stream",
     "text": [
      "[*********************100%***********************]  1 of 1 completed\n"
     ]
    },
    {
     "name": "stdout",
     "output_type": "stream",
     "text": [
      "Data for MKC has been saved\n",
      "Fetching data for: MCD\n"
     ]
    },
    {
     "name": "stderr",
     "output_type": "stream",
     "text": [
      "[*********************100%***********************]  1 of 1 completed\n"
     ]
    },
    {
     "name": "stdout",
     "output_type": "stream",
     "text": [
      "Data for MCD has been saved\n",
      "Fetching data for: MCK\n"
     ]
    },
    {
     "name": "stderr",
     "output_type": "stream",
     "text": [
      "[*********************100%***********************]  1 of 1 completed\n"
     ]
    },
    {
     "name": "stdout",
     "output_type": "stream",
     "text": [
      "Data for MCK has been saved\n",
      "Fetching data for: MDT\n"
     ]
    },
    {
     "name": "stderr",
     "output_type": "stream",
     "text": [
      "[*********************100%***********************]  1 of 1 completed\n"
     ]
    },
    {
     "name": "stdout",
     "output_type": "stream",
     "text": [
      "Data for MDT has been saved\n",
      "Fetching data for: MRK\n"
     ]
    },
    {
     "name": "stderr",
     "output_type": "stream",
     "text": [
      "[*********************100%***********************]  1 of 1 completed\n",
      "[*********************100%***********************]  1 of 1 completed\n"
     ]
    },
    {
     "name": "stdout",
     "output_type": "stream",
     "text": [
      "Data for MRK has been saved\n",
      "Fetching data for: META\n",
      "Data for META has been saved\n",
      "Fetching data for: MET\n"
     ]
    },
    {
     "name": "stderr",
     "output_type": "stream",
     "text": [
      "[*********************100%***********************]  1 of 1 completed\n"
     ]
    },
    {
     "name": "stdout",
     "output_type": "stream",
     "text": [
      "Data for MET has been saved\n",
      "Fetching data for: MTD\n"
     ]
    },
    {
     "name": "stderr",
     "output_type": "stream",
     "text": [
      "[*********************100%***********************]  1 of 1 completed\n",
      "[*********************100%***********************]  1 of 1 completed"
     ]
    },
    {
     "name": "stdout",
     "output_type": "stream",
     "text": [
      "Data for MTD has been saved\n",
      "Fetching data for: MGM\n"
     ]
    },
    {
     "name": "stderr",
     "output_type": "stream",
     "text": [
      "\n"
     ]
    },
    {
     "name": "stdout",
     "output_type": "stream",
     "text": [
      "Data for MGM has been saved\n",
      "Fetching data for: MCHP\n"
     ]
    },
    {
     "name": "stderr",
     "output_type": "stream",
     "text": [
      "[*********************100%***********************]  1 of 1 completed\n"
     ]
    },
    {
     "name": "stdout",
     "output_type": "stream",
     "text": [
      "Data for MCHP has been saved\n",
      "Fetching data for: MU\n"
     ]
    },
    {
     "name": "stderr",
     "output_type": "stream",
     "text": [
      "[*********************100%***********************]  1 of 1 completed\n"
     ]
    },
    {
     "name": "stdout",
     "output_type": "stream",
     "text": [
      "Data for MU has been saved\n",
      "Fetching data for: MSFT\n"
     ]
    },
    {
     "name": "stderr",
     "output_type": "stream",
     "text": [
      "[*********************100%***********************]  1 of 1 completed\n"
     ]
    },
    {
     "name": "stdout",
     "output_type": "stream",
     "text": [
      "Data for MSFT has been saved\n",
      "Fetching data for: MAA\n"
     ]
    },
    {
     "name": "stderr",
     "output_type": "stream",
     "text": [
      "[*********************100%***********************]  1 of 1 completed\n",
      "[*********************100%***********************]  1 of 1 completed\n"
     ]
    },
    {
     "name": "stdout",
     "output_type": "stream",
     "text": [
      "Data for MAA has been saved\n",
      "Fetching data for: MRNA\n",
      "Data for MRNA has been saved\n",
      "Fetching data for: MHK\n"
     ]
    },
    {
     "name": "stderr",
     "output_type": "stream",
     "text": [
      "[*********************100%***********************]  1 of 1 completed\n",
      "[*********************100%***********************]  1 of 1 completed"
     ]
    },
    {
     "name": "stdout",
     "output_type": "stream",
     "text": [
      "Data for MHK has been saved\n",
      "Fetching data for: MOH\n"
     ]
    },
    {
     "name": "stderr",
     "output_type": "stream",
     "text": [
      "\n"
     ]
    },
    {
     "name": "stdout",
     "output_type": "stream",
     "text": [
      "Data for MOH has been saved\n",
      "Fetching data for: TAP\n"
     ]
    },
    {
     "name": "stderr",
     "output_type": "stream",
     "text": [
      "[*********************100%***********************]  1 of 1 completed\n"
     ]
    },
    {
     "name": "stdout",
     "output_type": "stream",
     "text": [
      "Data for TAP has been saved\n",
      "Fetching data for: MDLZ\n"
     ]
    },
    {
     "name": "stderr",
     "output_type": "stream",
     "text": [
      "[*********************100%***********************]  1 of 1 completed\n"
     ]
    },
    {
     "name": "stdout",
     "output_type": "stream",
     "text": [
      "Data for MDLZ has been saved\n",
      "Fetching data for: MPWR\n"
     ]
    },
    {
     "name": "stderr",
     "output_type": "stream",
     "text": [
      "[*********************100%***********************]  1 of 1 completed\n",
      "[*********************100%***********************]  1 of 1 completed"
     ]
    },
    {
     "name": "stdout",
     "output_type": "stream",
     "text": [
      "Data for MPWR has been saved\n",
      "Fetching data for: MNST\n"
     ]
    },
    {
     "name": "stderr",
     "output_type": "stream",
     "text": [
      "\n"
     ]
    },
    {
     "name": "stdout",
     "output_type": "stream",
     "text": [
      "Data for MNST has been saved\n",
      "Fetching data for: MCO\n"
     ]
    },
    {
     "name": "stderr",
     "output_type": "stream",
     "text": [
      "[*********************100%***********************]  1 of 1 completed\n"
     ]
    },
    {
     "name": "stdout",
     "output_type": "stream",
     "text": [
      "Data for MCO has been saved\n",
      "Fetching data for: MS\n"
     ]
    },
    {
     "name": "stderr",
     "output_type": "stream",
     "text": [
      "[*********************100%***********************]  1 of 1 completed\n"
     ]
    },
    {
     "name": "stdout",
     "output_type": "stream",
     "text": [
      "Data for MS has been saved\n",
      "Fetching data for: MOS\n"
     ]
    },
    {
     "name": "stderr",
     "output_type": "stream",
     "text": [
      "[*********************100%***********************]  1 of 1 completed\n"
     ]
    },
    {
     "name": "stdout",
     "output_type": "stream",
     "text": [
      "Data for MOS has been saved\n",
      "Fetching data for: MSI\n"
     ]
    },
    {
     "name": "stderr",
     "output_type": "stream",
     "text": [
      "[*********************100%***********************]  1 of 1 completed\n"
     ]
    },
    {
     "name": "stdout",
     "output_type": "stream",
     "text": [
      "Data for MSI has been saved\n",
      "Fetching data for: MSCI\n"
     ]
    },
    {
     "name": "stderr",
     "output_type": "stream",
     "text": [
      "[*********************100%***********************]  1 of 1 completed\n"
     ]
    },
    {
     "name": "stdout",
     "output_type": "stream",
     "text": [
      "Data for MSCI has been saved\n",
      "Fetching data for: NDAQ\n"
     ]
    },
    {
     "name": "stderr",
     "output_type": "stream",
     "text": [
      "[*********************100%***********************]  1 of 1 completed\n"
     ]
    },
    {
     "name": "stdout",
     "output_type": "stream",
     "text": [
      "Data for NDAQ has been saved\n",
      "Fetching data for: NTAP\n"
     ]
    },
    {
     "name": "stderr",
     "output_type": "stream",
     "text": [
      "[*********************100%***********************]  1 of 1 completed\n",
      "[*********************100%***********************]  1 of 1 completed"
     ]
    },
    {
     "name": "stdout",
     "output_type": "stream",
     "text": [
      "Data for NTAP has been saved\n",
      "Fetching data for: NFLX\n"
     ]
    },
    {
     "name": "stderr",
     "output_type": "stream",
     "text": [
      "\n"
     ]
    },
    {
     "name": "stdout",
     "output_type": "stream",
     "text": [
      "Data for NFLX has been saved\n",
      "Fetching data for: NEM\n"
     ]
    },
    {
     "name": "stderr",
     "output_type": "stream",
     "text": [
      "[*********************100%***********************]  1 of 1 completed\n"
     ]
    },
    {
     "name": "stdout",
     "output_type": "stream",
     "text": [
      "Data for NEM has been saved\n",
      "Fetching data for: NWSA\n"
     ]
    },
    {
     "name": "stderr",
     "output_type": "stream",
     "text": [
      "[*********************100%***********************]  1 of 1 completed\n",
      "[*********************100%***********************]  1 of 1 completed\n"
     ]
    },
    {
     "name": "stdout",
     "output_type": "stream",
     "text": [
      "Data for NWSA has been saved\n",
      "Fetching data for: NWS\n",
      "Data for NWS has been saved\n",
      "Fetching data for: NEE\n"
     ]
    },
    {
     "name": "stderr",
     "output_type": "stream",
     "text": [
      "[*********************100%***********************]  1 of 1 completed\n"
     ]
    },
    {
     "name": "stdout",
     "output_type": "stream",
     "text": [
      "Data for NEE has been saved\n",
      "Fetching data for: NKE\n"
     ]
    },
    {
     "name": "stderr",
     "output_type": "stream",
     "text": [
      "[*********************100%***********************]  1 of 1 completed\n"
     ]
    },
    {
     "name": "stdout",
     "output_type": "stream",
     "text": [
      "Data for NKE has been saved\n",
      "Fetching data for: NI\n"
     ]
    },
    {
     "name": "stderr",
     "output_type": "stream",
     "text": [
      "[*********************100%***********************]  1 of 1 completed\n"
     ]
    },
    {
     "name": "stdout",
     "output_type": "stream",
     "text": [
      "Data for NI has been saved\n",
      "Fetching data for: NDSN\n"
     ]
    },
    {
     "name": "stderr",
     "output_type": "stream",
     "text": [
      "[*********************100%***********************]  1 of 1 completed\n"
     ]
    },
    {
     "name": "stdout",
     "output_type": "stream",
     "text": [
      "Data for NDSN has been saved\n",
      "Fetching data for: NSC\n"
     ]
    },
    {
     "name": "stderr",
     "output_type": "stream",
     "text": [
      "[*********************100%***********************]  1 of 1 completed\n"
     ]
    },
    {
     "name": "stdout",
     "output_type": "stream",
     "text": [
      "Data for NSC has been saved\n",
      "Fetching data for: NTRS\n"
     ]
    },
    {
     "name": "stderr",
     "output_type": "stream",
     "text": [
      "[*********************100%***********************]  1 of 1 completed\n"
     ]
    },
    {
     "name": "stdout",
     "output_type": "stream",
     "text": [
      "Data for NTRS has been saved\n",
      "Fetching data for: NOC\n"
     ]
    },
    {
     "name": "stderr",
     "output_type": "stream",
     "text": [
      "[*********************100%***********************]  1 of 1 completed\n",
      "[*********************100%***********************]  1 of 1 completed\n"
     ]
    },
    {
     "name": "stdout",
     "output_type": "stream",
     "text": [
      "Data for NOC has been saved\n",
      "Fetching data for: NCLH\n",
      "Data for NCLH has been saved\n",
      "Fetching data for: NRG\n"
     ]
    },
    {
     "name": "stderr",
     "output_type": "stream",
     "text": [
      "[*********************100%***********************]  1 of 1 completed\n"
     ]
    },
    {
     "name": "stdout",
     "output_type": "stream",
     "text": [
      "Data for NRG has been saved\n",
      "Fetching data for: NUE\n"
     ]
    },
    {
     "name": "stderr",
     "output_type": "stream",
     "text": [
      "[*********************100%***********************]  1 of 1 completed\n"
     ]
    },
    {
     "name": "stdout",
     "output_type": "stream",
     "text": [
      "Data for NUE has been saved\n",
      "Fetching data for: NVDA\n"
     ]
    },
    {
     "name": "stderr",
     "output_type": "stream",
     "text": [
      "[*********************100%***********************]  1 of 1 completed\n",
      "[*********************100%***********************]  1 of 1 completed\n"
     ]
    },
    {
     "name": "stdout",
     "output_type": "stream",
     "text": [
      "Data for NVDA has been saved\n",
      "Fetching data for: NVR\n",
      "Data for NVR has been saved\n",
      "Fetching data for: NXPI\n"
     ]
    },
    {
     "name": "stderr",
     "output_type": "stream",
     "text": [
      "[*********************100%***********************]  1 of 1 completed\n",
      "[*********************100%***********************]  1 of 1 completed"
     ]
    },
    {
     "name": "stdout",
     "output_type": "stream",
     "text": [
      "Data for NXPI has been saved\n",
      "Fetching data for: ORLY\n"
     ]
    },
    {
     "name": "stderr",
     "output_type": "stream",
     "text": [
      "\n"
     ]
    },
    {
     "name": "stdout",
     "output_type": "stream",
     "text": [
      "Data for ORLY has been saved\n",
      "Fetching data for: OXY\n"
     ]
    },
    {
     "name": "stderr",
     "output_type": "stream",
     "text": [
      "[*********************100%***********************]  1 of 1 completed\n"
     ]
    },
    {
     "name": "stdout",
     "output_type": "stream",
     "text": [
      "Data for OXY has been saved\n",
      "Fetching data for: ODFL\n"
     ]
    },
    {
     "name": "stderr",
     "output_type": "stream",
     "text": [
      "[*********************100%***********************]  1 of 1 completed\n"
     ]
    },
    {
     "name": "stdout",
     "output_type": "stream",
     "text": [
      "Data for ODFL has been saved\n",
      "Fetching data for: OMC\n"
     ]
    },
    {
     "name": "stderr",
     "output_type": "stream",
     "text": [
      "[*********************100%***********************]  1 of 1 completed\n",
      "[*********************100%***********************]  1 of 1 completed\n"
     ]
    },
    {
     "name": "stdout",
     "output_type": "stream",
     "text": [
      "Data for OMC has been saved\n",
      "Fetching data for: ON\n",
      "Data for ON has been saved\n",
      "Fetching data for: OKE\n"
     ]
    },
    {
     "name": "stderr",
     "output_type": "stream",
     "text": [
      "[*********************100%***********************]  1 of 1 completed\n"
     ]
    },
    {
     "name": "stdout",
     "output_type": "stream",
     "text": [
      "Data for OKE has been saved\n",
      "Fetching data for: ORCL\n"
     ]
    },
    {
     "name": "stderr",
     "output_type": "stream",
     "text": [
      "[*********************100%***********************]  1 of 1 completed\n",
      "[*********************100%***********************]  1 of 1 completed\n"
     ]
    },
    {
     "name": "stdout",
     "output_type": "stream",
     "text": [
      "Data for ORCL has been saved\n",
      "Fetching data for: OTIS\n",
      "Data for OTIS has been saved\n",
      "Fetching data for: PCAR\n"
     ]
    },
    {
     "name": "stderr",
     "output_type": "stream",
     "text": [
      "[*********************100%***********************]  1 of 1 completed\n"
     ]
    },
    {
     "name": "stdout",
     "output_type": "stream",
     "text": [
      "Data for PCAR has been saved\n",
      "Fetching data for: PKG\n"
     ]
    },
    {
     "name": "stderr",
     "output_type": "stream",
     "text": [
      "[*********************100%***********************]  1 of 1 completed\n",
      "[*********************100%***********************]  1 of 1 completed\n"
     ]
    },
    {
     "name": "stdout",
     "output_type": "stream",
     "text": [
      "Data for PKG has been saved\n",
      "Fetching data for: PLTR\n",
      "Data for PLTR has been saved\n",
      "Fetching data for: PANW\n"
     ]
    },
    {
     "name": "stderr",
     "output_type": "stream",
     "text": [
      "[*********************100%***********************]  1 of 1 completed\n"
     ]
    },
    {
     "name": "stdout",
     "output_type": "stream",
     "text": [
      "Data for PANW has been saved\n",
      "Fetching data for: PARA\n"
     ]
    },
    {
     "name": "stderr",
     "output_type": "stream",
     "text": [
      "[*********************100%***********************]  1 of 1 completed\n"
     ]
    },
    {
     "name": "stdout",
     "output_type": "stream",
     "text": [
      "Data for PARA has been saved\n",
      "Fetching data for: PH\n"
     ]
    },
    {
     "name": "stderr",
     "output_type": "stream",
     "text": [
      "[*********************100%***********************]  1 of 1 completed\n"
     ]
    },
    {
     "name": "stdout",
     "output_type": "stream",
     "text": [
      "Data for PH has been saved\n",
      "Fetching data for: PAYX\n"
     ]
    },
    {
     "name": "stderr",
     "output_type": "stream",
     "text": [
      "[*********************100%***********************]  1 of 1 completed\n",
      "[*********************100%***********************]  1 of 1 completed\n"
     ]
    },
    {
     "name": "stdout",
     "output_type": "stream",
     "text": [
      "Data for PAYX has been saved\n",
      "Fetching data for: PAYC\n",
      "Data for PAYC has been saved\n",
      "Fetching data for: PYPL\n"
     ]
    },
    {
     "name": "stderr",
     "output_type": "stream",
     "text": [
      "[*********************100%***********************]  1 of 1 completed\n"
     ]
    },
    {
     "name": "stdout",
     "output_type": "stream",
     "text": [
      "Data for PYPL has been saved\n",
      "Fetching data for: PNR\n"
     ]
    },
    {
     "name": "stderr",
     "output_type": "stream",
     "text": [
      "[*********************100%***********************]  1 of 1 completed\n"
     ]
    },
    {
     "name": "stdout",
     "output_type": "stream",
     "text": [
      "Data for PNR has been saved\n",
      "Fetching data for: PEP\n"
     ]
    },
    {
     "name": "stderr",
     "output_type": "stream",
     "text": [
      "[*********************100%***********************]  1 of 1 completed\n"
     ]
    },
    {
     "name": "stdout",
     "output_type": "stream",
     "text": [
      "Data for PEP has been saved\n",
      "Fetching data for: PFE\n"
     ]
    },
    {
     "name": "stderr",
     "output_type": "stream",
     "text": [
      "[*********************100%***********************]  1 of 1 completed\n"
     ]
    },
    {
     "name": "stdout",
     "output_type": "stream",
     "text": [
      "Data for PFE has been saved\n",
      "Fetching data for: PCG\n"
     ]
    },
    {
     "name": "stderr",
     "output_type": "stream",
     "text": [
      "[*********************100%***********************]  1 of 1 completed\n"
     ]
    },
    {
     "name": "stdout",
     "output_type": "stream",
     "text": [
      "Data for PCG has been saved\n",
      "Fetching data for: PM\n"
     ]
    },
    {
     "name": "stderr",
     "output_type": "stream",
     "text": [
      "[*********************100%***********************]  1 of 1 completed\n"
     ]
    },
    {
     "name": "stdout",
     "output_type": "stream",
     "text": [
      "Data for PM has been saved\n",
      "Fetching data for: PSX\n"
     ]
    },
    {
     "name": "stderr",
     "output_type": "stream",
     "text": [
      "[*********************100%***********************]  1 of 1 completed\n"
     ]
    },
    {
     "name": "stdout",
     "output_type": "stream",
     "text": [
      "Data for PSX has been saved\n",
      "Fetching data for: PNW\n"
     ]
    },
    {
     "name": "stderr",
     "output_type": "stream",
     "text": [
      "[*********************100%***********************]  1 of 1 completed\n"
     ]
    },
    {
     "name": "stdout",
     "output_type": "stream",
     "text": [
      "Data for PNW has been saved\n",
      "Fetching data for: PNC\n"
     ]
    },
    {
     "name": "stderr",
     "output_type": "stream",
     "text": [
      "[*********************100%***********************]  1 of 1 completed\n"
     ]
    },
    {
     "name": "stdout",
     "output_type": "stream",
     "text": [
      "Data for PNC has been saved\n",
      "Fetching data for: POOL\n"
     ]
    },
    {
     "name": "stderr",
     "output_type": "stream",
     "text": [
      "[*********************100%***********************]  1 of 1 completed\n"
     ]
    },
    {
     "name": "stdout",
     "output_type": "stream",
     "text": [
      "Data for POOL has been saved\n",
      "Fetching data for: PPG\n"
     ]
    },
    {
     "name": "stderr",
     "output_type": "stream",
     "text": [
      "[*********************100%***********************]  1 of 1 completed\n"
     ]
    },
    {
     "name": "stdout",
     "output_type": "stream",
     "text": [
      "Data for PPG has been saved\n",
      "Fetching data for: PPL\n"
     ]
    },
    {
     "name": "stderr",
     "output_type": "stream",
     "text": [
      "[*********************100%***********************]  1 of 1 completed\n"
     ]
    },
    {
     "name": "stdout",
     "output_type": "stream",
     "text": [
      "Data for PPL has been saved\n",
      "Fetching data for: PFG\n"
     ]
    },
    {
     "name": "stderr",
     "output_type": "stream",
     "text": [
      "[*********************100%***********************]  1 of 1 completed\n"
     ]
    },
    {
     "name": "stdout",
     "output_type": "stream",
     "text": [
      "Data for PFG has been saved\n",
      "Fetching data for: PG\n"
     ]
    },
    {
     "name": "stderr",
     "output_type": "stream",
     "text": [
      "[*********************100%***********************]  1 of 1 completed\n"
     ]
    },
    {
     "name": "stdout",
     "output_type": "stream",
     "text": [
      "Data for PG has been saved\n",
      "Fetching data for: PGR\n"
     ]
    },
    {
     "name": "stderr",
     "output_type": "stream",
     "text": [
      "[*********************100%***********************]  1 of 1 completed\n"
     ]
    },
    {
     "name": "stdout",
     "output_type": "stream",
     "text": [
      "Data for PGR has been saved\n",
      "Fetching data for: PLD\n"
     ]
    },
    {
     "name": "stderr",
     "output_type": "stream",
     "text": [
      "[*********************100%***********************]  1 of 1 completed\n"
     ]
    },
    {
     "name": "stdout",
     "output_type": "stream",
     "text": [
      "Data for PLD has been saved\n",
      "Fetching data for: PRU\n"
     ]
    },
    {
     "name": "stderr",
     "output_type": "stream",
     "text": [
      "[*********************100%***********************]  1 of 1 completed\n"
     ]
    },
    {
     "name": "stdout",
     "output_type": "stream",
     "text": [
      "Data for PRU has been saved\n",
      "Fetching data for: PEG\n"
     ]
    },
    {
     "name": "stderr",
     "output_type": "stream",
     "text": [
      "[*********************100%***********************]  1 of 1 completed\n",
      "[*********************100%***********************]  1 of 1 completed\n"
     ]
    },
    {
     "name": "stdout",
     "output_type": "stream",
     "text": [
      "Data for PEG has been saved\n",
      "Fetching data for: PTC\n",
      "Data for PTC has been saved\n",
      "Fetching data for: PSA\n"
     ]
    },
    {
     "name": "stderr",
     "output_type": "stream",
     "text": [
      "[*********************100%***********************]  1 of 1 completed\n"
     ]
    },
    {
     "name": "stdout",
     "output_type": "stream",
     "text": [
      "Data for PSA has been saved\n",
      "Fetching data for: PHM\n"
     ]
    },
    {
     "name": "stderr",
     "output_type": "stream",
     "text": [
      "[*********************100%***********************]  1 of 1 completed\n"
     ]
    },
    {
     "name": "stdout",
     "output_type": "stream",
     "text": [
      "Data for PHM has been saved\n",
      "Fetching data for: PWR\n"
     ]
    },
    {
     "name": "stderr",
     "output_type": "stream",
     "text": [
      "[*********************100%***********************]  1 of 1 completed\n"
     ]
    },
    {
     "name": "stdout",
     "output_type": "stream",
     "text": [
      "Data for PWR has been saved\n",
      "Fetching data for: QCOM\n"
     ]
    },
    {
     "name": "stderr",
     "output_type": "stream",
     "text": [
      "[*********************100%***********************]  1 of 1 completed\n"
     ]
    },
    {
     "name": "stdout",
     "output_type": "stream",
     "text": [
      "Data for QCOM has been saved\n",
      "Fetching data for: DGX\n"
     ]
    },
    {
     "name": "stderr",
     "output_type": "stream",
     "text": [
      "[*********************100%***********************]  1 of 1 completed\n"
     ]
    },
    {
     "name": "stdout",
     "output_type": "stream",
     "text": [
      "Data for DGX has been saved\n",
      "Fetching data for: RL\n"
     ]
    },
    {
     "name": "stderr",
     "output_type": "stream",
     "text": [
      "[*********************100%***********************]  1 of 1 completed\n"
     ]
    },
    {
     "name": "stdout",
     "output_type": "stream",
     "text": [
      "Data for RL has been saved\n",
      "Fetching data for: RJF\n"
     ]
    },
    {
     "name": "stderr",
     "output_type": "stream",
     "text": [
      "[*********************100%***********************]  1 of 1 completed\n"
     ]
    },
    {
     "name": "stdout",
     "output_type": "stream",
     "text": [
      "Data for RJF has been saved\n",
      "Fetching data for: RTX\n"
     ]
    },
    {
     "name": "stderr",
     "output_type": "stream",
     "text": [
      "[*********************100%***********************]  1 of 1 completed\n"
     ]
    },
    {
     "name": "stdout",
     "output_type": "stream",
     "text": [
      "Data for RTX has been saved\n",
      "Fetching data for: O\n"
     ]
    },
    {
     "name": "stderr",
     "output_type": "stream",
     "text": [
      "[*********************100%***********************]  1 of 1 completed\n"
     ]
    },
    {
     "name": "stdout",
     "output_type": "stream",
     "text": [
      "Data for O has been saved\n",
      "Fetching data for: REG\n"
     ]
    },
    {
     "name": "stderr",
     "output_type": "stream",
     "text": [
      "[*********************100%***********************]  1 of 1 completed\n"
     ]
    },
    {
     "name": "stdout",
     "output_type": "stream",
     "text": [
      "Data for REG has been saved\n",
      "Fetching data for: REGN\n"
     ]
    },
    {
     "name": "stderr",
     "output_type": "stream",
     "text": [
      "[*********************100%***********************]  1 of 1 completed\n"
     ]
    },
    {
     "name": "stdout",
     "output_type": "stream",
     "text": [
      "Data for REGN has been saved\n",
      "Fetching data for: RF\n"
     ]
    },
    {
     "name": "stderr",
     "output_type": "stream",
     "text": [
      "[*********************100%***********************]  1 of 1 completed\n"
     ]
    },
    {
     "name": "stdout",
     "output_type": "stream",
     "text": [
      "Data for RF has been saved\n",
      "Fetching data for: RSG\n"
     ]
    },
    {
     "name": "stderr",
     "output_type": "stream",
     "text": [
      "[*********************100%***********************]  1 of 1 completed\n"
     ]
    },
    {
     "name": "stdout",
     "output_type": "stream",
     "text": [
      "Data for RSG has been saved\n",
      "Fetching data for: RMD\n"
     ]
    },
    {
     "name": "stderr",
     "output_type": "stream",
     "text": [
      "[*********************100%***********************]  1 of 1 completed\n"
     ]
    },
    {
     "name": "stdout",
     "output_type": "stream",
     "text": [
      "Data for RMD has been saved\n",
      "Fetching data for: RVTY\n"
     ]
    },
    {
     "name": "stderr",
     "output_type": "stream",
     "text": [
      "[*********************100%***********************]  1 of 1 completed\n"
     ]
    },
    {
     "name": "stdout",
     "output_type": "stream",
     "text": [
      "Data for RVTY has been saved\n",
      "Fetching data for: ROK\n"
     ]
    },
    {
     "name": "stderr",
     "output_type": "stream",
     "text": [
      "[*********************100%***********************]  1 of 1 completed\n"
     ]
    },
    {
     "name": "stdout",
     "output_type": "stream",
     "text": [
      "Data for ROK has been saved\n",
      "Fetching data for: ROL\n"
     ]
    },
    {
     "name": "stderr",
     "output_type": "stream",
     "text": [
      "[*********************100%***********************]  1 of 1 completed\n"
     ]
    },
    {
     "name": "stdout",
     "output_type": "stream",
     "text": [
      "Data for ROL has been saved\n",
      "Fetching data for: ROP\n"
     ]
    },
    {
     "name": "stderr",
     "output_type": "stream",
     "text": [
      "[*********************100%***********************]  1 of 1 completed\n"
     ]
    },
    {
     "name": "stdout",
     "output_type": "stream",
     "text": [
      "Data for ROP has been saved\n",
      "Fetching data for: ROST\n"
     ]
    },
    {
     "name": "stderr",
     "output_type": "stream",
     "text": [
      "[*********************100%***********************]  1 of 1 completed\n"
     ]
    },
    {
     "name": "stdout",
     "output_type": "stream",
     "text": [
      "Data for ROST has been saved\n",
      "Fetching data for: RCL\n"
     ]
    },
    {
     "name": "stderr",
     "output_type": "stream",
     "text": [
      "[*********************100%***********************]  1 of 1 completed\n"
     ]
    },
    {
     "name": "stdout",
     "output_type": "stream",
     "text": [
      "Data for RCL has been saved\n",
      "Fetching data for: SPGI\n"
     ]
    },
    {
     "name": "stderr",
     "output_type": "stream",
     "text": [
      "[*********************100%***********************]  1 of 1 completed\n"
     ]
    },
    {
     "name": "stdout",
     "output_type": "stream",
     "text": [
      "Data for SPGI has been saved\n",
      "Fetching data for: CRM\n"
     ]
    },
    {
     "name": "stderr",
     "output_type": "stream",
     "text": [
      "[*********************100%***********************]  1 of 1 completed\n",
      "[*********************100%***********************]  1 of 1 completed\n"
     ]
    },
    {
     "name": "stdout",
     "output_type": "stream",
     "text": [
      "Data for CRM has been saved\n",
      "Fetching data for: SBAC\n",
      "Data for SBAC has been saved\n",
      "Fetching data for: SLB\n"
     ]
    },
    {
     "name": "stderr",
     "output_type": "stream",
     "text": [
      "[*********************100%***********************]  1 of 1 completed\n"
     ]
    },
    {
     "name": "stdout",
     "output_type": "stream",
     "text": [
      "Data for SLB has been saved\n",
      "Fetching data for: STX\n"
     ]
    },
    {
     "name": "stderr",
     "output_type": "stream",
     "text": [
      "[*********************100%***********************]  1 of 1 completed\n"
     ]
    },
    {
     "name": "stdout",
     "output_type": "stream",
     "text": [
      "Data for STX has been saved\n",
      "Fetching data for: SRE\n"
     ]
    },
    {
     "name": "stderr",
     "output_type": "stream",
     "text": [
      "[*********************100%***********************]  1 of 1 completed\n"
     ]
    },
    {
     "name": "stdout",
     "output_type": "stream",
     "text": [
      "Data for SRE has been saved\n",
      "Fetching data for: NOW\n"
     ]
    },
    {
     "name": "stderr",
     "output_type": "stream",
     "text": [
      "[*********************100%***********************]  1 of 1 completed\n"
     ]
    },
    {
     "name": "stdout",
     "output_type": "stream",
     "text": [
      "Data for NOW has been saved\n",
      "Fetching data for: SHW\n"
     ]
    },
    {
     "name": "stderr",
     "output_type": "stream",
     "text": [
      "[*********************100%***********************]  1 of 1 completed\n"
     ]
    },
    {
     "name": "stdout",
     "output_type": "stream",
     "text": [
      "Data for SHW has been saved\n",
      "Fetching data for: SPG\n"
     ]
    },
    {
     "name": "stderr",
     "output_type": "stream",
     "text": [
      "[*********************100%***********************]  1 of 1 completed\n",
      "[*********************100%***********************]  1 of 1 completed\n"
     ]
    },
    {
     "name": "stdout",
     "output_type": "stream",
     "text": [
      "Data for SPG has been saved\n",
      "Fetching data for: SWKS\n",
      "Data for SWKS has been saved\n",
      "Fetching data for: SJM\n"
     ]
    },
    {
     "name": "stderr",
     "output_type": "stream",
     "text": [
      "[*********************100%***********************]  1 of 1 completed\n",
      "[*********************100%***********************]  1 of 1 completed\n"
     ]
    },
    {
     "name": "stdout",
     "output_type": "stream",
     "text": [
      "Data for SJM has been saved\n",
      "Fetching data for: SW\n",
      "Data for SW has been saved\n",
      "Fetching data for: SNA\n"
     ]
    },
    {
     "name": "stderr",
     "output_type": "stream",
     "text": [
      "[*********************100%***********************]  1 of 1 completed\n",
      "[*********************100%***********************]  1 of 1 completed\n"
     ]
    },
    {
     "name": "stdout",
     "output_type": "stream",
     "text": [
      "Data for SNA has been saved\n",
      "Fetching data for: SOLV\n",
      "Data for SOLV has been saved\n",
      "Fetching data for: SO\n"
     ]
    },
    {
     "name": "stderr",
     "output_type": "stream",
     "text": [
      "[*********************100%***********************]  1 of 1 completed\n"
     ]
    },
    {
     "name": "stdout",
     "output_type": "stream",
     "text": [
      "Data for SO has been saved\n",
      "Fetching data for: LUV\n"
     ]
    },
    {
     "name": "stderr",
     "output_type": "stream",
     "text": [
      "[*********************100%***********************]  1 of 1 completed\n"
     ]
    },
    {
     "name": "stdout",
     "output_type": "stream",
     "text": [
      "Data for LUV has been saved\n",
      "Fetching data for: SWK\n"
     ]
    },
    {
     "name": "stderr",
     "output_type": "stream",
     "text": [
      "[*********************100%***********************]  1 of 1 completed\n"
     ]
    },
    {
     "name": "stdout",
     "output_type": "stream",
     "text": [
      "Data for SWK has been saved\n",
      "Fetching data for: SBUX\n"
     ]
    },
    {
     "name": "stderr",
     "output_type": "stream",
     "text": [
      "[*********************100%***********************]  1 of 1 completed\n"
     ]
    },
    {
     "name": "stdout",
     "output_type": "stream",
     "text": [
      "Data for SBUX has been saved\n",
      "Fetching data for: STT\n"
     ]
    },
    {
     "name": "stderr",
     "output_type": "stream",
     "text": [
      "[*********************100%***********************]  1 of 1 completed\n"
     ]
    },
    {
     "name": "stdout",
     "output_type": "stream",
     "text": [
      "Data for STT has been saved\n",
      "Fetching data for: STLD\n"
     ]
    },
    {
     "name": "stderr",
     "output_type": "stream",
     "text": [
      "[*********************100%***********************]  1 of 1 completed\n"
     ]
    },
    {
     "name": "stdout",
     "output_type": "stream",
     "text": [
      "Data for STLD has been saved\n",
      "Fetching data for: STE\n"
     ]
    },
    {
     "name": "stderr",
     "output_type": "stream",
     "text": [
      "[*********************100%***********************]  1 of 1 completed\n"
     ]
    },
    {
     "name": "stdout",
     "output_type": "stream",
     "text": [
      "Data for STE has been saved\n",
      "Fetching data for: SYK\n"
     ]
    },
    {
     "name": "stderr",
     "output_type": "stream",
     "text": [
      "[*********************100%***********************]  1 of 1 completed\n"
     ]
    },
    {
     "name": "stdout",
     "output_type": "stream",
     "text": [
      "Data for SYK has been saved\n",
      "Fetching data for: SMCI\n"
     ]
    },
    {
     "name": "stderr",
     "output_type": "stream",
     "text": [
      "[*********************100%***********************]  1 of 1 completed\n",
      "[*********************100%***********************]  1 of 1 completed"
     ]
    },
    {
     "name": "stdout",
     "output_type": "stream",
     "text": [
      "Data for SMCI has been saved\n",
      "Fetching data for: SYF\n",
      "Data for SYF has been saved\n",
      "Fetching data for: SNPS\n"
     ]
    },
    {
     "name": "stderr",
     "output_type": "stream",
     "text": [
      "\n",
      "[*********************100%***********************]  1 of 1 completed\n"
     ]
    },
    {
     "name": "stdout",
     "output_type": "stream",
     "text": [
      "Data for SNPS has been saved\n",
      "Fetching data for: SYY\n"
     ]
    },
    {
     "name": "stderr",
     "output_type": "stream",
     "text": [
      "[*********************100%***********************]  1 of 1 completed\n"
     ]
    },
    {
     "name": "stdout",
     "output_type": "stream",
     "text": [
      "Data for SYY has been saved\n",
      "Fetching data for: TMUS\n"
     ]
    },
    {
     "name": "stderr",
     "output_type": "stream",
     "text": [
      "[*********************100%***********************]  1 of 1 completed\n"
     ]
    },
    {
     "name": "stdout",
     "output_type": "stream",
     "text": [
      "Data for TMUS has been saved\n",
      "Fetching data for: TROW\n"
     ]
    },
    {
     "name": "stderr",
     "output_type": "stream",
     "text": [
      "[*********************100%***********************]  1 of 1 completed\n"
     ]
    },
    {
     "name": "stdout",
     "output_type": "stream",
     "text": [
      "Data for TROW has been saved\n",
      "Fetching data for: TTWO\n"
     ]
    },
    {
     "name": "stderr",
     "output_type": "stream",
     "text": [
      "[*********************100%***********************]  1 of 1 completed\n"
     ]
    },
    {
     "name": "stdout",
     "output_type": "stream",
     "text": [
      "Data for TTWO has been saved\n",
      "Fetching data for: TPR\n"
     ]
    },
    {
     "name": "stderr",
     "output_type": "stream",
     "text": [
      "[*********************100%***********************]  1 of 1 completed\n"
     ]
    },
    {
     "name": "stdout",
     "output_type": "stream",
     "text": [
      "Data for TPR has been saved\n",
      "Fetching data for: TRGP\n"
     ]
    },
    {
     "name": "stderr",
     "output_type": "stream",
     "text": [
      "[*********************100%***********************]  1 of 1 completed\n"
     ]
    },
    {
     "name": "stdout",
     "output_type": "stream",
     "text": [
      "Data for TRGP has been saved\n",
      "Fetching data for: TGT\n"
     ]
    },
    {
     "name": "stderr",
     "output_type": "stream",
     "text": [
      "[*********************100%***********************]  1 of 1 completed\n"
     ]
    },
    {
     "name": "stdout",
     "output_type": "stream",
     "text": [
      "Data for TGT has been saved\n",
      "Fetching data for: TEL\n"
     ]
    },
    {
     "name": "stderr",
     "output_type": "stream",
     "text": [
      "[*********************100%***********************]  1 of 1 completed\n",
      "[*********************100%***********************]  1 of 1 completed\n"
     ]
    },
    {
     "name": "stdout",
     "output_type": "stream",
     "text": [
      "Data for TEL has been saved\n",
      "Fetching data for: TDY\n",
      "Data for TDY has been saved\n",
      "Fetching data for: TER\n"
     ]
    },
    {
     "name": "stderr",
     "output_type": "stream",
     "text": [
      "[*********************100%***********************]  1 of 1 completed\n"
     ]
    },
    {
     "name": "stdout",
     "output_type": "stream",
     "text": [
      "Data for TER has been saved\n",
      "Fetching data for: TSLA\n"
     ]
    },
    {
     "name": "stderr",
     "output_type": "stream",
     "text": [
      "[*********************100%***********************]  1 of 1 completed\n"
     ]
    },
    {
     "name": "stdout",
     "output_type": "stream",
     "text": [
      "Data for TSLA has been saved\n",
      "Fetching data for: TXN\n"
     ]
    },
    {
     "name": "stderr",
     "output_type": "stream",
     "text": [
      "[*********************100%***********************]  1 of 1 completed\n"
     ]
    },
    {
     "name": "stdout",
     "output_type": "stream",
     "text": [
      "Data for TXN has been saved\n",
      "Fetching data for: TPL\n"
     ]
    },
    {
     "name": "stderr",
     "output_type": "stream",
     "text": [
      "[*********************100%***********************]  1 of 1 completed\n"
     ]
    },
    {
     "name": "stdout",
     "output_type": "stream",
     "text": [
      "Data for TPL has been saved\n",
      "Fetching data for: TXT\n"
     ]
    },
    {
     "name": "stderr",
     "output_type": "stream",
     "text": [
      "[*********************100%***********************]  1 of 1 completed\n"
     ]
    },
    {
     "name": "stdout",
     "output_type": "stream",
     "text": [
      "Data for TXT has been saved\n",
      "Fetching data for: TMO\n"
     ]
    },
    {
     "name": "stderr",
     "output_type": "stream",
     "text": [
      "[*********************100%***********************]  1 of 1 completed\n"
     ]
    },
    {
     "name": "stdout",
     "output_type": "stream",
     "text": [
      "Data for TMO has been saved\n",
      "Fetching data for: TJX\n"
     ]
    },
    {
     "name": "stderr",
     "output_type": "stream",
     "text": [
      "[*********************100%***********************]  1 of 1 completed\n"
     ]
    },
    {
     "name": "stdout",
     "output_type": "stream",
     "text": [
      "Data for TJX has been saved\n",
      "Fetching data for: TKO\n"
     ]
    },
    {
     "name": "stderr",
     "output_type": "stream",
     "text": [
      "[*********************100%***********************]  1 of 1 completed\n"
     ]
    },
    {
     "name": "stdout",
     "output_type": "stream",
     "text": [
      "Data for TKO has been saved\n",
      "Fetching data for: TSCO\n"
     ]
    },
    {
     "name": "stderr",
     "output_type": "stream",
     "text": [
      "[*********************100%***********************]  1 of 1 completed\n",
      "\n",
      "1 Failed download:\n",
      "['TSCO']: YFPricesMissingError('possibly delisted; no price data found  (1d 2010-01-01 -> 2025-04-01)')\n"
     ]
    },
    {
     "name": "stdout",
     "output_type": "stream",
     "text": [
      "Skipping TSCO, insufficient data: 0 days\n",
      "Fetching data for: TT\n"
     ]
    },
    {
     "name": "stderr",
     "output_type": "stream",
     "text": [
      "[*********************100%***********************]  1 of 1 completed\n"
     ]
    },
    {
     "name": "stdout",
     "output_type": "stream",
     "text": [
      "Data for TT has been saved\n",
      "Fetching data for: TDG\n"
     ]
    },
    {
     "name": "stderr",
     "output_type": "stream",
     "text": [
      "[*********************100%***********************]  1 of 1 completed\n"
     ]
    },
    {
     "name": "stdout",
     "output_type": "stream",
     "text": [
      "Data for TDG has been saved\n",
      "Fetching data for: TRV\n"
     ]
    },
    {
     "name": "stderr",
     "output_type": "stream",
     "text": [
      "[*********************100%***********************]  1 of 1 completed\n"
     ]
    },
    {
     "name": "stdout",
     "output_type": "stream",
     "text": [
      "Data for TRV has been saved\n",
      "Fetching data for: TRMB\n"
     ]
    },
    {
     "name": "stderr",
     "output_type": "stream",
     "text": [
      "[*********************100%***********************]  1 of 1 completed\n"
     ]
    },
    {
     "name": "stdout",
     "output_type": "stream",
     "text": [
      "Data for TRMB has been saved\n",
      "Fetching data for: TFC\n"
     ]
    },
    {
     "name": "stderr",
     "output_type": "stream",
     "text": [
      "[*********************100%***********************]  1 of 1 completed\n"
     ]
    },
    {
     "name": "stdout",
     "output_type": "stream",
     "text": [
      "Data for TFC has been saved\n",
      "Fetching data for: TYL\n"
     ]
    },
    {
     "name": "stderr",
     "output_type": "stream",
     "text": [
      "[*********************100%***********************]  1 of 1 completed\n"
     ]
    },
    {
     "name": "stdout",
     "output_type": "stream",
     "text": [
      "Data for TYL has been saved\n",
      "Fetching data for: TSN\n"
     ]
    },
    {
     "name": "stderr",
     "output_type": "stream",
     "text": [
      "[*********************100%***********************]  1 of 1 completed\n"
     ]
    },
    {
     "name": "stdout",
     "output_type": "stream",
     "text": [
      "Data for TSN has been saved\n",
      "Fetching data for: USB\n"
     ]
    },
    {
     "name": "stderr",
     "output_type": "stream",
     "text": [
      "[*********************100%***********************]  1 of 1 completed\n",
      "[*********************100%***********************]  1 of 1 completed\n"
     ]
    },
    {
     "name": "stdout",
     "output_type": "stream",
     "text": [
      "Data for USB has been saved\n",
      "Fetching data for: UBER\n",
      "Data for UBER has been saved\n",
      "Fetching data for: UDR\n"
     ]
    },
    {
     "name": "stderr",
     "output_type": "stream",
     "text": [
      "[*********************100%***********************]  1 of 1 completed\n"
     ]
    },
    {
     "name": "stdout",
     "output_type": "stream",
     "text": [
      "Data for UDR has been saved\n",
      "Fetching data for: ULTA\n"
     ]
    },
    {
     "name": "stderr",
     "output_type": "stream",
     "text": [
      "[*********************100%***********************]  1 of 1 completed\n"
     ]
    },
    {
     "name": "stdout",
     "output_type": "stream",
     "text": [
      "Data for ULTA has been saved\n",
      "Fetching data for: UNP\n"
     ]
    },
    {
     "name": "stderr",
     "output_type": "stream",
     "text": [
      "[*********************100%***********************]  1 of 1 completed\n"
     ]
    },
    {
     "name": "stdout",
     "output_type": "stream",
     "text": [
      "Data for UNP has been saved\n",
      "Fetching data for: UAL\n"
     ]
    },
    {
     "name": "stderr",
     "output_type": "stream",
     "text": [
      "[*********************100%***********************]  1 of 1 completed\n"
     ]
    },
    {
     "name": "stdout",
     "output_type": "stream",
     "text": [
      "Data for UAL has been saved\n",
      "Fetching data for: UPS\n"
     ]
    },
    {
     "name": "stderr",
     "output_type": "stream",
     "text": [
      "[*********************100%***********************]  1 of 1 completed\n",
      "[*********************100%***********************]  1 of 1 completed\n"
     ]
    },
    {
     "name": "stdout",
     "output_type": "stream",
     "text": [
      "Data for UPS has been saved\n",
      "Fetching data for: URI\n",
      "Data for URI has been saved\n",
      "Fetching data for: UNH\n"
     ]
    },
    {
     "name": "stderr",
     "output_type": "stream",
     "text": [
      "[*********************100%***********************]  1 of 1 completed\n"
     ]
    },
    {
     "name": "stdout",
     "output_type": "stream",
     "text": [
      "Data for UNH has been saved\n",
      "Fetching data for: UHS\n"
     ]
    },
    {
     "name": "stderr",
     "output_type": "stream",
     "text": [
      "[*********************100%***********************]  1 of 1 completed\n"
     ]
    },
    {
     "name": "stdout",
     "output_type": "stream",
     "text": [
      "Data for UHS has been saved\n",
      "Fetching data for: VLO\n"
     ]
    },
    {
     "name": "stderr",
     "output_type": "stream",
     "text": [
      "[*********************100%***********************]  1 of 1 completed\n"
     ]
    },
    {
     "name": "stdout",
     "output_type": "stream",
     "text": [
      "Data for VLO has been saved\n",
      "Fetching data for: VTR\n"
     ]
    },
    {
     "name": "stderr",
     "output_type": "stream",
     "text": [
      "[*********************100%***********************]  1 of 1 completed\n",
      "[*********************100%***********************]  1 of 1 completed\n"
     ]
    },
    {
     "name": "stdout",
     "output_type": "stream",
     "text": [
      "Data for VTR has been saved\n",
      "Fetching data for: VLTO\n",
      "Data for VLTO has been saved\n",
      "Fetching data for: VRSN\n"
     ]
    },
    {
     "name": "stderr",
     "output_type": "stream",
     "text": [
      "[*********************100%***********************]  1 of 1 completed\n"
     ]
    },
    {
     "name": "stdout",
     "output_type": "stream",
     "text": [
      "Data for VRSN has been saved\n",
      "Fetching data for: VRSK\n"
     ]
    },
    {
     "name": "stderr",
     "output_type": "stream",
     "text": [
      "[*********************100%***********************]  1 of 1 completed\n"
     ]
    },
    {
     "name": "stdout",
     "output_type": "stream",
     "text": [
      "Data for VRSK has been saved\n",
      "Fetching data for: VZ\n"
     ]
    },
    {
     "name": "stderr",
     "output_type": "stream",
     "text": [
      "[*********************100%***********************]  1 of 1 completed\n"
     ]
    },
    {
     "name": "stdout",
     "output_type": "stream",
     "text": [
      "Data for VZ has been saved\n",
      "Fetching data for: VRTX\n"
     ]
    },
    {
     "name": "stderr",
     "output_type": "stream",
     "text": [
      "[*********************100%***********************]  1 of 1 completed\n"
     ]
    },
    {
     "name": "stdout",
     "output_type": "stream",
     "text": [
      "Data for VRTX has been saved\n",
      "Fetching data for: VTRS\n"
     ]
    },
    {
     "name": "stderr",
     "output_type": "stream",
     "text": [
      "[*********************100%***********************]  1 of 1 completed\n"
     ]
    },
    {
     "name": "stdout",
     "output_type": "stream",
     "text": [
      "Data for VTRS has been saved\n",
      "Fetching data for: VICI\n"
     ]
    },
    {
     "name": "stderr",
     "output_type": "stream",
     "text": [
      "[*********************100%***********************]  1 of 1 completed\n"
     ]
    },
    {
     "name": "stdout",
     "output_type": "stream",
     "text": [
      "Data for VICI has been saved\n",
      "Fetching data for: V\n"
     ]
    },
    {
     "name": "stderr",
     "output_type": "stream",
     "text": [
      "[*********************100%***********************]  1 of 1 completed\n"
     ]
    },
    {
     "name": "stdout",
     "output_type": "stream",
     "text": [
      "Data for V has been saved\n",
      "Fetching data for: VST\n"
     ]
    },
    {
     "name": "stderr",
     "output_type": "stream",
     "text": [
      "[*********************100%***********************]  1 of 1 completed\n"
     ]
    },
    {
     "name": "stdout",
     "output_type": "stream",
     "text": [
      "Data for VST has been saved\n",
      "Fetching data for: VMC\n"
     ]
    },
    {
     "name": "stderr",
     "output_type": "stream",
     "text": [
      "[*********************100%***********************]  1 of 1 completed\n"
     ]
    },
    {
     "name": "stdout",
     "output_type": "stream",
     "text": [
      "Data for VMC has been saved\n",
      "Fetching data for: WRB\n"
     ]
    },
    {
     "name": "stderr",
     "output_type": "stream",
     "text": [
      "[*********************100%***********************]  1 of 1 completed\n"
     ]
    },
    {
     "name": "stdout",
     "output_type": "stream",
     "text": [
      "Data for WRB has been saved\n",
      "Fetching data for: GWW\n"
     ]
    },
    {
     "name": "stderr",
     "output_type": "stream",
     "text": [
      "[*********************100%***********************]  1 of 1 completed\n"
     ]
    },
    {
     "name": "stdout",
     "output_type": "stream",
     "text": [
      "Data for GWW has been saved\n",
      "Fetching data for: WAB\n"
     ]
    },
    {
     "name": "stderr",
     "output_type": "stream",
     "text": [
      "[*********************100%***********************]  1 of 1 completed\n"
     ]
    },
    {
     "name": "stdout",
     "output_type": "stream",
     "text": [
      "Data for WAB has been saved\n",
      "Fetching data for: WBA\n"
     ]
    },
    {
     "name": "stderr",
     "output_type": "stream",
     "text": [
      "[*********************100%***********************]  1 of 1 completed\n"
     ]
    },
    {
     "name": "stdout",
     "output_type": "stream",
     "text": [
      "Data for WBA has been saved\n",
      "Fetching data for: WMT\n"
     ]
    },
    {
     "name": "stderr",
     "output_type": "stream",
     "text": [
      "[*********************100%***********************]  1 of 1 completed\n"
     ]
    },
    {
     "name": "stdout",
     "output_type": "stream",
     "text": [
      "Data for WMT has been saved\n",
      "Fetching data for: DIS\n"
     ]
    },
    {
     "name": "stderr",
     "output_type": "stream",
     "text": [
      "[*********************100%***********************]  1 of 1 completed\n"
     ]
    },
    {
     "name": "stdout",
     "output_type": "stream",
     "text": [
      "Data for DIS has been saved\n",
      "Fetching data for: WBD\n"
     ]
    },
    {
     "name": "stderr",
     "output_type": "stream",
     "text": [
      "[*********************100%***********************]  1 of 1 completed\n"
     ]
    },
    {
     "name": "stdout",
     "output_type": "stream",
     "text": [
      "Data for WBD has been saved\n",
      "Fetching data for: WM\n"
     ]
    },
    {
     "name": "stderr",
     "output_type": "stream",
     "text": [
      "[*********************100%***********************]  1 of 1 completed\n",
      "[*********************100%***********************]  1 of 1 completed\n"
     ]
    },
    {
     "name": "stdout",
     "output_type": "stream",
     "text": [
      "Data for WM has been saved\n",
      "Fetching data for: WAT\n",
      "Data for WAT has been saved\n",
      "Fetching data for: WEC\n"
     ]
    },
    {
     "name": "stderr",
     "output_type": "stream",
     "text": [
      "[*********************100%***********************]  1 of 1 completed\n"
     ]
    },
    {
     "name": "stdout",
     "output_type": "stream",
     "text": [
      "Data for WEC has been saved\n",
      "Fetching data for: WFC\n"
     ]
    },
    {
     "name": "stderr",
     "output_type": "stream",
     "text": [
      "[*********************100%***********************]  1 of 1 completed\n"
     ]
    },
    {
     "name": "stdout",
     "output_type": "stream",
     "text": [
      "Data for WFC has been saved\n",
      "Fetching data for: WELL\n"
     ]
    },
    {
     "name": "stderr",
     "output_type": "stream",
     "text": [
      "[*********************100%***********************]  1 of 1 completed\n"
     ]
    },
    {
     "name": "stdout",
     "output_type": "stream",
     "text": [
      "Data for WELL has been saved\n",
      "Fetching data for: WST\n"
     ]
    },
    {
     "name": "stderr",
     "output_type": "stream",
     "text": [
      "[*********************100%***********************]  1 of 1 completed\n"
     ]
    },
    {
     "name": "stdout",
     "output_type": "stream",
     "text": [
      "Data for WST has been saved\n",
      "Fetching data for: WDC\n"
     ]
    },
    {
     "name": "stderr",
     "output_type": "stream",
     "text": [
      "[*********************100%***********************]  1 of 1 completed\n"
     ]
    },
    {
     "name": "stdout",
     "output_type": "stream",
     "text": [
      "Data for WDC has been saved\n",
      "Fetching data for: WY\n"
     ]
    },
    {
     "name": "stderr",
     "output_type": "stream",
     "text": [
      "[*********************100%***********************]  1 of 1 completed\n"
     ]
    },
    {
     "name": "stdout",
     "output_type": "stream",
     "text": [
      "Data for WY has been saved\n",
      "Fetching data for: WSM\n"
     ]
    },
    {
     "name": "stderr",
     "output_type": "stream",
     "text": [
      "[*********************100%***********************]  1 of 1 completed\n"
     ]
    },
    {
     "name": "stdout",
     "output_type": "stream",
     "text": [
      "Data for WSM has been saved\n",
      "Fetching data for: WMB\n"
     ]
    },
    {
     "name": "stderr",
     "output_type": "stream",
     "text": [
      "[*********************100%***********************]  1 of 1 completed\n"
     ]
    },
    {
     "name": "stdout",
     "output_type": "stream",
     "text": [
      "Data for WMB has been saved\n",
      "Fetching data for: WTW\n"
     ]
    },
    {
     "name": "stderr",
     "output_type": "stream",
     "text": [
      "[*********************100%***********************]  1 of 1 completed\n",
      "[*********************100%***********************]  1 of 1 completed\n"
     ]
    },
    {
     "name": "stdout",
     "output_type": "stream",
     "text": [
      "Data for WTW has been saved\n",
      "Fetching data for: WDAY\n",
      "Data for WDAY has been saved\n",
      "Fetching data for: WYNN\n"
     ]
    },
    {
     "name": "stderr",
     "output_type": "stream",
     "text": [
      "[*********************100%***********************]  1 of 1 completed\n"
     ]
    },
    {
     "name": "stdout",
     "output_type": "stream",
     "text": [
      "Data for WYNN has been saved\n",
      "Fetching data for: XEL\n"
     ]
    },
    {
     "name": "stderr",
     "output_type": "stream",
     "text": [
      "[*********************100%***********************]  1 of 1 completed\n"
     ]
    },
    {
     "name": "stdout",
     "output_type": "stream",
     "text": [
      "Data for XEL has been saved\n",
      "Fetching data for: XYL\n"
     ]
    },
    {
     "name": "stderr",
     "output_type": "stream",
     "text": [
      "[*********************100%***********************]  1 of 1 completed\n"
     ]
    },
    {
     "name": "stdout",
     "output_type": "stream",
     "text": [
      "Data for XYL has been saved\n",
      "Fetching data for: YUM\n"
     ]
    },
    {
     "name": "stderr",
     "output_type": "stream",
     "text": [
      "[*********************100%***********************]  1 of 1 completed\n",
      "[*********************100%***********************]  1 of 1 completed\n"
     ]
    },
    {
     "name": "stdout",
     "output_type": "stream",
     "text": [
      "Data for YUM has been saved\n",
      "Fetching data for: ZBRA\n",
      "Data for ZBRA has been saved\n",
      "Fetching data for: ZBH\n"
     ]
    },
    {
     "name": "stderr",
     "output_type": "stream",
     "text": [
      "[*********************100%***********************]  1 of 1 completed\n"
     ]
    },
    {
     "name": "stdout",
     "output_type": "stream",
     "text": [
      "Data for ZBH has been saved\n",
      "Fetching data for: ZTS\n"
     ]
    },
    {
     "name": "stderr",
     "output_type": "stream",
     "text": [
      "[*********************100%***********************]  1 of 1 completed\n",
      "[*********************100%***********************]  1 of 1 completed"
     ]
    },
    {
     "name": "stdout",
     "output_type": "stream",
     "text": [
      "Data for ZTS has been saved\n",
      "Fetching data for: ^VIX\n"
     ]
    },
    {
     "name": "stderr",
     "output_type": "stream",
     "text": [
      "\n"
     ]
    },
    {
     "name": "stdout",
     "output_type": "stream",
     "text": [
      "Data for ^VIX has been saved\n",
      "Fetching data for: ^GSPC\n"
     ]
    },
    {
     "name": "stderr",
     "output_type": "stream",
     "text": [
      "[*********************100%***********************]  1 of 1 completed"
     ]
    },
    {
     "name": "stdout",
     "output_type": "stream",
     "text": [
      "Data for ^GSPC has been saved\n",
      "All eligible stock data has been successfully saved.\n"
     ]
    },
    {
     "name": "stderr",
     "output_type": "stream",
     "text": [
      "\n"
     ]
    }
   ],
   "source": [
    "import yfinance as yf\n",
    "import os\n",
    "import pandas as pd\n",
    "\n",
    "# Create a directory to store S&P 500 stock data\n",
    "directory = \"SP500_10_25\"\n",
    "if not os.path.exists(directory):\n",
    "    os.makedirs(directory)\n",
    "\n",
    "# Retrieve the list of S&P 500 stocks from Wikipedia\n",
    "sp500_url = \"https://en.wikipedia.org/wiki/List_of_S%26P_500_companies\"\n",
    "table = pd.read_html(sp500_url)[0]\n",
    "tickers = table['Symbol'].tolist()\n",
    "\n",
    "# Add VIX and S&P 500 index (^VIX, ^GSPC)\n",
    "tickers.extend([\"^VIX\", \"^GSPC\"])\n",
    "\n",
    "# Fetch stock data and save as CSV\n",
    "for ticker in tickers:\n",
    "    print(f\"Fetching data for: {ticker}\")\n",
    "    stock_data = yf.download(ticker, start=\"2010-01-01\", end=\"2025-04-01\")\n",
    "    \n",
    "    # Check if the number of data points is less than 100 days\n",
    "    if len(stock_data) < 100:\n",
    "        print(f\"Skipping {ticker}, insufficient data: {len(stock_data)} days\")\n",
    "        continue  # Skip this stock and do not save data\n",
    "\n",
    "    # Keep only the required columns (Open, High, Low, Close, Volume)\n",
    "    stock_data = stock_data[['Open', 'High', 'Low', 'Close', 'Volume']]\n",
    "    \n",
    "    # Save data as CSV\n",
    "    stock_data.to_csv(f\"{directory}/{ticker}.csv\")\n",
    "    print(f\"Data for {ticker} has been saved\")\n",
    "\n",
    "print(\"All eligible stock data has been successfully saved.\")\n"
   ]
  },
  {
   "cell_type": "code",
   "execution_count": 2,
   "metadata": {},
   "outputs": [
    {
     "name": "stdout",
     "output_type": "stream",
     "text": [
      "Processing complete: TMUS.csv\n",
      "Processing complete: CHRW.csv\n",
      "Processing complete: COO.csv\n",
      "Processing complete: ES.csv\n",
      "Processing complete: HSIC.csv\n",
      "Processing complete: MKTX.csv\n",
      "Processing complete: UDR.csv\n",
      "Processing complete: ED.csv\n",
      "Processing complete: MCHP.csv\n",
      "Processing complete: KVUE.csv\n",
      "Processing complete: EOG.csv\n",
      "Processing complete: MO.csv\n",
      "Processing complete: ROK.csv\n",
      "Processing complete: MGM.csv\n",
      "Processing complete: KO.csv\n",
      "Processing complete: PLTR.csv\n",
      "Processing complete: AAPL.csv\n",
      "Processing complete: ROL.csv\n",
      "Processing complete: STT.csv\n",
      "Processing complete: NDAQ.csv\n",
      "Processing complete: JKHY.csv\n",
      "Processing complete: HSY.csv\n",
      "Processing complete: BX.csv\n",
      "Processing complete: HPE.csv\n",
      "Processing complete: DD.csv\n",
      "Processing complete: XEL.csv\n",
      "Processing complete: CVS.csv\n",
      "Processing complete: PEP.csv\n",
      "Processing complete: KHC.csv\n",
      "Processing complete: TJX.csv\n",
      "Processing complete: LIN.csv\n",
      "Processing complete: AIZ.csv\n",
      "Processing complete: CI.csv\n",
      "Processing complete: BG.csv\n",
      "Processing complete: STX.csv\n",
      "Processing complete: DHR.csv\n",
      "Processing complete: DECK.csv\n",
      "Processing complete: CZR.csv\n",
      "Processing complete: JPM.csv\n",
      "Processing complete: CMS.csv\n",
      "Processing complete: WM.csv\n",
      "Processing complete: GOOG.csv\n",
      "Processing complete: SWK.csv\n",
      "Processing complete: ALLE.csv\n",
      "Processing complete: CSCO.csv\n",
      "Processing complete: BKNG.csv\n",
      "Processing complete: BEN.csv\n",
      "Processing complete: SO.csv\n",
      "Processing complete: CMG.csv\n",
      "Processing complete: GILD.csv\n",
      "Processing complete: NOC.csv\n",
      "Processing complete: HBAN.csv\n",
      "Processing complete: AWK.csv\n",
      "Processing complete: DG.csv\n",
      "Processing complete: NWSA.csv\n",
      "Processing complete: DOV.csv\n",
      "Processing complete: BLK.csv\n",
      "Processing complete: LLY.csv\n",
      "Processing complete: MOH.csv\n",
      "Processing complete: MDLZ.csv\n",
      "Processing complete: VICI.csv\n",
      "Processing complete: WST.csv\n",
      "Processing complete: DVA.csv\n",
      "Processing complete: NXPI.csv\n",
      "Processing complete: IR.csv\n",
      "Processing complete: J.csv\n",
      "Processing complete: UNP.csv\n",
      "Processing complete: REG.csv\n",
      "Processing complete: ODFL.csv\n",
      "Processing complete: ECL.csv\n",
      "Processing complete: INVH.csv\n",
      "Processing complete: WBA.csv\n",
      "Processing complete: BDX.csv\n",
      "Processing complete: NSC.csv\n",
      "Processing complete: STE.csv\n",
      "Processing complete: K.csv\n",
      "Processing complete: ORCL.csv\n",
      "Processing complete: VRTX.csv\n",
      "Processing complete: ABT.csv\n",
      "Processing complete: RCL.csv\n",
      "Processing complete: LYV.csv\n",
      "Processing complete: INTU.csv\n",
      "Processing complete: DAL.csv\n",
      "Processing complete: NOW.csv\n",
      "Processing complete: T.csv\n",
      "Processing complete: IRM.csv\n",
      "Processing complete: OKE.csv\n",
      "Processing complete: BIIB.csv\n",
      "Processing complete: ITW.csv\n",
      "Processing complete: RSG.csv\n",
      "Processing complete: LYB.csv\n",
      "Processing complete: TT.csv\n",
      "Processing complete: FANG.csv\n",
      "Processing complete: PGR.csv\n",
      "Processing complete: AMT.csv\n",
      "Processing complete: XOM.csv\n",
      "Processing complete: CAH.csv\n",
      "Processing complete: WRB.csv\n",
      "Processing complete: WTW.csv\n",
      "Processing complete: FRT.csv\n",
      "Processing complete: FFIV.csv\n",
      "Processing complete: APTV.csv\n",
      "Processing complete: LRCX.csv\n",
      "Processing complete: HOLX.csv\n",
      "Processing complete: PPL.csv\n",
      "Processing complete: NTRS.csv\n",
      "Processing complete: FE.csv\n",
      "Processing complete: ARE.csv\n",
      "Processing complete: ADSK.csv\n",
      "Processing complete: KEYS.csv\n",
      "Processing complete: HUM.csv\n",
      "Processing complete: PPG.csv\n",
      "Processing complete: TKO.csv\n",
      "Processing complete: HIG.csv\n",
      "Processing complete: SPGI.csv\n",
      "Processing complete: KLAC.csv\n",
      "Processing complete: MOS.csv\n",
      "Processing complete: NTAP.csv\n",
      "Processing complete: PRU.csv\n",
      "Processing complete: AMP.csv\n",
      "Processing complete: MSFT.csv\n",
      "Processing complete: SOLV.csv\n",
      "Processing complete: DAY.csv\n",
      "Processing complete: BK.csv\n",
      "Processing complete: KIM.csv\n",
      "Processing complete: PYPL.csv\n",
      "Processing complete: PLD.csv\n",
      "Processing complete: PH.csv\n",
      "Processing complete: APA.csv\n",
      "Processing complete: EMR.csv\n",
      "Processing complete: ACGL.csv\n",
      "Processing complete: IQV.csv\n",
      "Processing complete: OXY.csv\n",
      "Processing complete: IEX.csv\n",
      "Processing complete: DASH.csv\n",
      "Processing complete: NCLH.csv\n",
      "Processing complete: PNC.csv\n",
      "Processing complete: ICE.csv\n",
      "Processing complete: CFG.csv\n",
      "Processing complete: STLD.csv\n",
      "Processing complete: MET.csv\n",
      "Processing complete: PWR.csv\n",
      "Processing complete: F.csv\n",
      "Processing complete: CCL.csv\n",
      "Processing complete: HAS.csv\n",
      "Processing complete: USB.csv\n",
      "Processing complete: GIS.csv\n",
      "Processing complete: PAYX.csv\n",
      "Processing complete: HRL.csv\n",
      "Processing complete: GS.csv\n",
      "Processing complete: HD.csv\n",
      "Processing complete: PANW.csv\n",
      "Processing complete: EL.csv\n",
      "Processing complete: LMT.csv\n",
      "Processing complete: CARR.csv\n",
      "Processing complete: CMI.csv\n",
      "Processing complete: D.csv\n",
      "Processing complete: JBHT.csv\n",
      "Processing complete: BA.csv\n",
      "Processing complete: EIX.csv\n",
      "Processing complete: AMCR.csv\n",
      "Processing complete: TXT.csv\n",
      "Processing complete: WY.csv\n",
      "Processing complete: TFC.csv\n",
      "Processing complete: FSLR.csv\n",
      "Processing complete: UAL.csv\n",
      "Processing complete: BKR.csv\n",
      "Processing complete: V.csv\n",
      "Processing complete: SW.csv\n",
      "Processing complete: NI.csv\n",
      "Processing complete: PARA.csv\n",
      "Processing complete: MU.csv\n",
      "Processing complete: FOXA.csv\n",
      "Processing complete: HON.csv\n",
      "Processing complete: PNR.csv\n",
      "Processing complete: GRMN.csv\n",
      "Processing complete: AVY.csv\n",
      "Processing complete: MRK.csv\n",
      "Processing complete: WAT.csv\n",
      "Processing complete: IPG.csv\n",
      "Processing complete: PSA.csv\n",
      "Processing complete: LW.csv\n",
      "Processing complete: EVRG.csv\n",
      "Processing complete: SYY.csv\n",
      "Processing complete: TER.csv\n",
      "Processing complete: MCO.csv\n",
      "Processing complete: HWM.csv\n",
      "Processing complete: VST.csv\n",
      "Processing complete: VRSN.csv\n",
      "Processing complete: NFLX.csv\n",
      "Processing complete: CRWD.csv\n",
      "Processing complete: CCI.csv\n",
      "Processing complete: AXP.csv\n",
      "Processing complete: IT.csv\n",
      "Processing complete: ADI.csv\n",
      "Processing complete: BLDR.csv\n",
      "Processing complete: IP.csv\n",
      "Processing complete: TYL.csv\n",
      "Processing complete: MSCI.csv\n",
      "Processing complete: CF.csv\n",
      "Processing complete: A.csv\n",
      "Processing complete: PEG.csv\n",
      "Processing complete: SCHW.csv\n",
      "Processing complete: ETN.csv\n",
      "Processing complete: ZBRA.csv\n",
      "Processing complete: SYK.csv\n",
      "Processing complete: JNJ.csv\n",
      "Processing complete: OMC.csv\n",
      "Processing complete: RVTY.csv\n",
      "Processing complete: JCI.csv\n",
      "Processing complete: GM.csv\n",
      "Processing complete: AME.csv\n",
      "Processing complete: ELV.csv\n",
      "Processing complete: CINF.csv\n",
      "Processing complete: RTX.csv\n",
      "Processing complete: CEG.csv\n",
      "Processing complete: NWS.csv\n",
      "Processing complete: CTVA.csv\n",
      "Processing complete: ESS.csv\n",
      "Processing complete: CVX.csv\n",
      "Processing complete: MA.csv\n",
      "Processing complete: SRE.csv\n",
      "Processing complete: XYL.csv\n",
      "Processing complete: EXR.csv\n",
      "Processing complete: ALL.csv\n",
      "Processing complete: FCX.csv\n",
      "Processing complete: PNW.csv\n",
      "Processing complete: PHM.csv\n",
      "Processing complete: KR.csv\n",
      "Processing complete: NVR.csv\n",
      "Processing complete: CTAS.csv\n",
      "Processing complete: AOS.csv\n",
      "Processing complete: CDW.csv\n",
      "Processing complete: EA.csv\n",
      "Processing complete: NEM.csv\n",
      "Processing complete: PFG.csv\n",
      "Processing complete: TDG.csv\n",
      "Processing complete: CME.csv\n",
      "Processing complete: AMD.csv\n",
      "Processing complete: CLX.csv\n",
      "Processing complete: EXPE.csv\n",
      "Processing complete: LNT.csv\n",
      "Processing complete: VLTO.csv\n",
      "Processing complete: AON.csv\n",
      "Processing complete: JBL.csv\n",
      "Processing complete: ANET.csv\n",
      "Processing complete: ROST.csv\n",
      "Processing complete: AMZN.csv\n",
      "Processing complete: ^GSPC.csv\n",
      "Processing complete: INTC.csv\n",
      "Processing complete: AMGN.csv\n",
      "Processing complete: DOC.csv\n",
      "Processing complete: TGT.csv\n",
      "Processing complete: TECH.csv\n",
      "Processing complete: ADP.csv\n",
      "Processing complete: CTRA.csv\n",
      "Processing complete: BAC.csv\n",
      "Processing complete: VZ.csv\n",
      "Processing complete: KMI.csv\n",
      "Processing complete: ULTA.csv\n",
      "Processing complete: LVS.csv\n",
      "Processing complete: DLTR.csv\n",
      "Processing complete: FDS.csv\n",
      "Processing complete: OTIS.csv\n",
      "Processing complete: PKG.csv\n",
      "Processing complete: WELL.csv\n",
      "Processing complete: CRL.csv\n",
      "Processing complete: STZ.csv\n",
      "Processing complete: ROP.csv\n",
      "Processing complete: WYNN.csv\n",
      "Processing complete: SBUX.csv\n",
      "Processing complete: MPC.csv\n",
      "Processing complete: KKR.csv\n",
      "Processing complete: MKC.csv\n",
      "Processing complete: ACN.csv\n",
      "Processing complete: FTV.csv\n",
      "Processing complete: AZO.csv\n",
      "Processing complete: MHK.csv\n",
      "Processing complete: ATO.csv\n",
      "Processing complete: ABNB.csv\n",
      "Processing complete: AVB.csv\n",
      "Processing complete: SHW.csv\n",
      "Processing complete: YUM.csv\n",
      "Processing complete: CPT.csv\n",
      "Processing complete: GEN.csv\n",
      "Processing complete: CPB.csv\n",
      "Processing complete: CNP.csv\n",
      "Processing complete: LHX.csv\n",
      "Processing complete: RMD.csv\n",
      "Processing complete: HLT.csv\n",
      "Processing complete: GNRC.csv\n",
      "Processing complete: NDSN.csv\n",
      "Processing complete: ADM.csv\n",
      "Processing complete: TRGP.csv\n",
      "Processing complete: LUV.csv\n",
      "Processing complete: HPQ.csv\n",
      "Processing complete: O.csv\n",
      "Processing complete: MTCH.csv\n",
      "Processing complete: BR.csv\n",
      "Processing complete: TRV.csv\n",
      "Processing complete: DFS.csv\n",
      "Processing complete: EW.csv\n",
      "Processing complete: DUK.csv\n",
      "Processing complete: DIS.csv\n",
      "Processing complete: DRI.csv\n",
      "Processing complete: UHS.csv\n",
      "Processing complete: GLW.csv\n",
      "Processing complete: FI.csv\n",
      "Processing complete: MTB.csv\n",
      "Processing complete: PFE.csv\n",
      "Processing complete: LKQ.csv\n",
      "Processing complete: ALGN.csv\n",
      "Processing complete: VRSK.csv\n",
      "Processing complete: DPZ.csv\n",
      "Processing complete: LII.csv\n",
      "Processing complete: EFX.csv\n",
      "Processing complete: AEE.csv\n",
      "Processing complete: MAS.csv\n",
      "Processing complete: DVN.csv\n",
      "Processing complete: FOX.csv\n",
      "Processing complete: LEN.csv\n",
      "Processing complete: CPRT.csv\n",
      "Processing complete: HST.csv\n",
      "Processing complete: APO.csv\n",
      "Processing complete: AES.csv\n",
      "Processing complete: CNC.csv\n",
      "Processing complete: SMCI.csv\n",
      "Processing complete: URI.csv\n",
      "Processing complete: DGX.csv\n",
      "Processing complete: FTNT.csv\n",
      "Processing complete: GPC.csv\n",
      "Processing complete: BRO.csv\n",
      "Processing complete: PODD.csv\n",
      "Processing complete: GD.csv\n",
      "Processing complete: COP.csv\n",
      "Processing complete: ABBV.csv\n",
      "Processing complete: GDDY.csv\n",
      "Processing complete: NUE.csv\n",
      "Processing complete: MRNA.csv\n",
      "Processing complete: CTSH.csv\n",
      "Processing complete: FITB.csv\n",
      "Processing complete: SPG.csv\n",
      "Processing complete: DLR.csv\n",
      "Processing complete: IFF.csv\n",
      "Processing complete: VMC.csv\n",
      "Processing complete: PG.csv\n",
      "Processing complete: IBM.csv\n",
      "Processing complete: KMB.csv\n",
      "Processing complete: SBAC.csv\n",
      "Processing complete: TRMB.csv\n",
      "Processing complete: NVDA.csv\n",
      "Processing complete: UPS.csv\n",
      "Processing complete: LDOS.csv\n",
      "Processing complete: ISRG.csv\n",
      "Processing complete: ORLY.csv\n",
      "Processing complete: CPAY.csv\n",
      "Processing complete: C.csv\n",
      "Processing complete: EPAM.csv\n",
      "Processing complete: GL.csv\n",
      "Processing complete: SJM.csv\n",
      "Processing complete: REGN.csv\n",
      "Processing complete: MNST.csv\n",
      "Processing complete: MAA.csv\n",
      "Processing complete: DOW.csv\n",
      "Processing complete: CHD.csv\n",
      "Processing complete: BXP.csv\n",
      "Processing complete: DTE.csv\n",
      "Processing complete: CAG.csv\n",
      "Processing complete: GEV.csv\n",
      "Processing complete: WDAY.csv\n",
      "Processing complete: PCG.csv\n",
      "Processing complete: FAST.csv\n",
      "Processing complete: COR.csv\n",
      "Processing complete: BALL.csv\n",
      "Processing complete: TSLA.csv\n",
      "Processing complete: PM.csv\n",
      "Processing complete: TXN.csv\n",
      "Processing complete: SNA.csv\n",
      "Processing complete: DELL.csv\n",
      "Processing complete: ZTS.csv\n",
      "Processing complete: LH.csv\n",
      "Processing complete: CBOE.csv\n",
      "Processing complete: AVGO.csv\n",
      "Processing complete: ERIE.csv\n",
      "Processing complete: EXC.csv\n",
      "Processing complete: AFL.csv\n",
      "Processing complete: DHI.csv\n",
      "Processing complete: CHTR.csv\n",
      "Processing complete: RL.csv\n",
      "Processing complete: JNPR.csv\n",
      "Processing complete: EQIX.csv\n",
      "Processing complete: GE.csv\n",
      "Processing complete: WDC.csv\n",
      "Processing complete: WBD.csv\n",
      "Processing complete: INCY.csv\n",
      "Processing complete: TPL.csv\n",
      "Processing complete: AMAT.csv\n",
      "Processing complete: EXE.csv\n",
      "Processing complete: VTRS.csv\n",
      "Processing complete: NKE.csv\n",
      "Processing complete: GPN.csv\n",
      "Processing complete: APH.csv\n",
      "Processing complete: VTR.csv\n",
      "Processing complete: ALB.csv\n",
      "Processing complete: CDNS.csv\n",
      "Processing complete: HCA.csv\n",
      "Processing complete: LOW.csv\n",
      "Processing complete: IVZ.csv\n",
      "Processing complete: EQT.csv\n",
      "Processing complete: IDXX.csv\n",
      "Processing complete: ZBH.csv\n",
      "Processing complete: LULU.csv\n",
      "Processing complete: BAX.csv\n",
      "Processing complete: MCD.csv\n",
      "Processing complete: ANSS.csv\n",
      "Processing complete: APD.csv\n",
      "Processing complete: PAYC.csv\n",
      "Processing complete: UBER.csv\n",
      "Processing complete: COST.csv\n",
      "Processing complete: ENPH.csv\n",
      "Processing complete: CBRE.csv\n",
      "Processing complete: MCK.csv\n",
      "Processing complete: AXON.csv\n",
      "Processing complete: PCAR.csv\n",
      "Processing complete: CSGP.csv\n",
      "Processing complete: COF.csv\n",
      "Processing complete: MPWR.csv\n",
      "Processing complete: GWW.csv\n",
      "Processing complete: GOOGL.csv\n",
      "Processing complete: L.csv\n",
      "Processing complete: FICO.csv\n",
      "Processing complete: NEE.csv\n",
      "Processing complete: TEL.csv\n",
      "Processing complete: CSX.csv\n",
      "Processing complete: BMY.csv\n",
      "Processing complete: QCOM.csv\n",
      "Processing complete: SYF.csv\n",
      "Processing complete: SWKS.csv\n",
      "Processing complete: EXPD.csv\n",
      "Processing complete: ADBE.csv\n",
      "Processing complete: RJF.csv\n",
      "Processing complete: TTWO.csv\n",
      "Processing complete: RF.csv\n",
      "Processing complete: FIS.csv\n",
      "Processing complete: ^VIX.csv\n",
      "Processing complete: WAB.csv\n",
      "Processing complete: HAL.csv\n",
      "Processing complete: BSX.csv\n",
      "Processing complete: META.csv\n",
      "Processing complete: PTC.csv\n",
      "Processing complete: POOL.csv\n",
      "Processing complete: UNH.csv\n",
      "Processing complete: CAT.csv\n",
      "Processing complete: CB.csv\n",
      "Processing complete: BBY.csv\n",
      "Processing complete: EQR.csv\n",
      "Processing complete: KDP.csv\n",
      "Processing complete: AEP.csv\n",
      "Processing complete: WMT.csv\n",
      "Processing complete: TSN.csv\n",
      "Processing complete: KMX.csv\n",
      "Processing complete: CRM.csv\n",
      "Processing complete: TAP.csv\n",
      "Processing complete: MMM.csv\n",
      "Processing complete: HII.csv\n",
      "Processing complete: CMCSA.csv\n",
      "Processing complete: HES.csv\n",
      "Processing complete: TROW.csv\n",
      "Processing complete: HUBB.csv\n",
      "Processing complete: WEC.csv\n",
      "Processing complete: TMO.csv\n",
      "Processing complete: TPR.csv\n",
      "Processing complete: MLM.csv\n",
      "Processing complete: WMB.csv\n",
      "Processing complete: PSX.csv\n",
      "Processing complete: MTD.csv\n",
      "Processing complete: EG.csv\n",
      "Processing complete: AJG.csv\n",
      "Processing complete: DE.csv\n",
      "Processing complete: SNPS.csv\n",
      "Processing complete: AIG.csv\n",
      "Processing complete: AKAM.csv\n",
      "Processing complete: TDY.csv\n",
      "Processing complete: DXCM.csv\n",
      "Processing complete: WFC.csv\n",
      "Processing complete: ON.csv\n",
      "Processing complete: MS.csv\n",
      "Processing complete: GEHC.csv\n",
      "Processing complete: FDX.csv\n",
      "Processing complete: MMC.csv\n",
      "Processing complete: MAR.csv\n",
      "Processing complete: MSI.csv\n",
      "Processing complete: EMN.csv\n",
      "Processing complete: KEY.csv\n",
      "Processing complete: WSM.csv\n",
      "Processing complete: CL.csv\n",
      "Processing complete: EBAY.csv\n",
      "Processing complete: MDT.csv\n",
      "Processing complete: VLO.csv\n",
      "Processing complete: NRG.csv\n",
      "Processing complete: SLB.csv\n",
      "Processing complete: ETR.csv\n",
      "🎉 All CSV files have been cleaned!\n"
     ]
    }
   ],
   "source": [
    "import os\n",
    "import pandas as pd\n",
    "\n",
    "# Set storage path\n",
    "directory = \"SP500_10_25\"\n",
    "\n",
    "# Process each CSV file\n",
    "for ticker in os.listdir(directory):\n",
    "    if ticker.endswith(\".csv\"):\n",
    "        file_path = os.path.join(directory, ticker)\n",
    "        \n",
    "        # Read the CSV file\n",
    "        df = pd.read_csv(file_path)\n",
    "\n",
    "        # Delete the second and third rows\n",
    "        df = df.drop([0, 1]).reset_index(drop=True)\n",
    "\n",
    "        # Remove rows containing NaN values\n",
    "        df = df.dropna()\n",
    "\n",
    "        # Rename the first column to 'Date'\n",
    "        df.columns.values[0] = 'Date'\n",
    "\n",
    "        # Save the modified file\n",
    "        df.to_csv(file_path, index=False)\n",
    "\n",
    "        print(f\"Processing complete: {ticker}\")\n",
    "\n",
    "print(\"🎉 All CSV files have been cleaned!\")\n"
   ]
  },
  {
   "cell_type": "code",
   "execution_count": 3,
   "metadata": {},
   "outputs": [
    {
     "name": "stdout",
     "output_type": "stream",
     "text": [
      "Merging completed. Merged file saved as 'training/10_25_merged_stocks.csv'.\n"
     ]
    },
    {
     "data": {
      "text/html": [
       "<div>\n",
       "<style scoped>\n",
       "    .dataframe tbody tr th:only-of-type {\n",
       "        vertical-align: middle;\n",
       "    }\n",
       "\n",
       "    .dataframe tbody tr th {\n",
       "        vertical-align: top;\n",
       "    }\n",
       "\n",
       "    .dataframe thead th {\n",
       "        text-align: right;\n",
       "    }\n",
       "</style>\n",
       "<table border=\"1\" class=\"dataframe\">\n",
       "  <thead>\n",
       "    <tr style=\"text-align: right;\">\n",
       "      <th></th>\n",
       "      <th>Date</th>\n",
       "      <th>Stock_ID</th>\n",
       "      <th>Open</th>\n",
       "      <th>High</th>\n",
       "      <th>Low</th>\n",
       "      <th>Close</th>\n",
       "      <th>Volume</th>\n",
       "    </tr>\n",
       "  </thead>\n",
       "  <tbody>\n",
       "    <tr>\n",
       "      <th>0</th>\n",
       "      <td>2010-01-04</td>\n",
       "      <td>A</td>\n",
       "      <td>20.031039</td>\n",
       "      <td>20.184192</td>\n",
       "      <td>19.865125</td>\n",
       "      <td>19.973608</td>\n",
       "      <td>3815561</td>\n",
       "    </tr>\n",
       "    <tr>\n",
       "      <th>1</th>\n",
       "      <td>2010-01-04</td>\n",
       "      <td>AAPL</td>\n",
       "      <td>6.422878</td>\n",
       "      <td>6.455078</td>\n",
       "      <td>6.391279</td>\n",
       "      <td>6.440332</td>\n",
       "      <td>493729600</td>\n",
       "    </tr>\n",
       "    <tr>\n",
       "      <th>2</th>\n",
       "      <td>2010-01-04</td>\n",
       "      <td>ABT</td>\n",
       "      <td>18.573220</td>\n",
       "      <td>18.700035</td>\n",
       "      <td>18.480679</td>\n",
       "      <td>18.665760</td>\n",
       "      <td>10829095</td>\n",
       "    </tr>\n",
       "    <tr>\n",
       "      <th>3</th>\n",
       "      <td>2010-01-04</td>\n",
       "      <td>ACGL</td>\n",
       "      <td>7.587114</td>\n",
       "      <td>7.628319</td>\n",
       "      <td>7.580774</td>\n",
       "      <td>7.601905</td>\n",
       "      <td>4813200</td>\n",
       "    </tr>\n",
       "    <tr>\n",
       "      <th>4</th>\n",
       "      <td>2010-01-04</td>\n",
       "      <td>ACN</td>\n",
       "      <td>31.524190</td>\n",
       "      <td>32.040482</td>\n",
       "      <td>31.509004</td>\n",
       "      <td>31.941778</td>\n",
       "      <td>3650100</td>\n",
       "    </tr>\n",
       "    <tr>\n",
       "      <th>5</th>\n",
       "      <td>2010-01-04</td>\n",
       "      <td>ADBE</td>\n",
       "      <td>36.650002</td>\n",
       "      <td>37.299999</td>\n",
       "      <td>36.650002</td>\n",
       "      <td>37.090000</td>\n",
       "      <td>4710200</td>\n",
       "    </tr>\n",
       "    <tr>\n",
       "      <th>6</th>\n",
       "      <td>2010-01-04</td>\n",
       "      <td>ADI</td>\n",
       "      <td>22.246501</td>\n",
       "      <td>22.526418</td>\n",
       "      <td>22.120538</td>\n",
       "      <td>22.162525</td>\n",
       "      <td>2102700</td>\n",
       "    </tr>\n",
       "    <tr>\n",
       "      <th>7</th>\n",
       "      <td>2010-01-04</td>\n",
       "      <td>ADM</td>\n",
       "      <td>21.011577</td>\n",
       "      <td>21.251862</td>\n",
       "      <td>20.911458</td>\n",
       "      <td>21.004902</td>\n",
       "      <td>3472500</td>\n",
       "    </tr>\n",
       "    <tr>\n",
       "      <th>8</th>\n",
       "      <td>2010-01-04</td>\n",
       "      <td>ADP</td>\n",
       "      <td>26.597093</td>\n",
       "      <td>26.597093</td>\n",
       "      <td>26.083967</td>\n",
       "      <td>26.163380</td>\n",
       "      <td>3930120</td>\n",
       "    </tr>\n",
       "    <tr>\n",
       "      <th>9</th>\n",
       "      <td>2010-01-04</td>\n",
       "      <td>ADSK</td>\n",
       "      <td>25.610001</td>\n",
       "      <td>25.830000</td>\n",
       "      <td>25.610001</td>\n",
       "      <td>25.670000</td>\n",
       "      <td>2228600</td>\n",
       "    </tr>\n",
       "  </tbody>\n",
       "</table>\n",
       "</div>"
      ],
      "text/plain": [
       "        Date Stock_ID       Open       High        Low      Close     Volume\n",
       "0 2010-01-04        A  20.031039  20.184192  19.865125  19.973608    3815561\n",
       "1 2010-01-04     AAPL   6.422878   6.455078   6.391279   6.440332  493729600\n",
       "2 2010-01-04      ABT  18.573220  18.700035  18.480679  18.665760   10829095\n",
       "3 2010-01-04     ACGL   7.587114   7.628319   7.580774   7.601905    4813200\n",
       "4 2010-01-04      ACN  31.524190  32.040482  31.509004  31.941778    3650100\n",
       "5 2010-01-04     ADBE  36.650002  37.299999  36.650002  37.090000    4710200\n",
       "6 2010-01-04      ADI  22.246501  22.526418  22.120538  22.162525    2102700\n",
       "7 2010-01-04      ADM  21.011577  21.251862  20.911458  21.004902    3472500\n",
       "8 2010-01-04      ADP  26.597093  26.597093  26.083967  26.163380    3930120\n",
       "9 2010-01-04     ADSK  25.610001  25.830000  25.610001  25.670000    2228600"
      ]
     },
     "execution_count": 3,
     "metadata": {},
     "output_type": "execute_result"
    }
   ],
   "source": [
    "import os\n",
    "import pandas as pd\n",
    "\n",
    "directory = \"SP500_10_25\"\n",
    "\n",
    "# Get a list of all CSV files\n",
    "csv_files = [f for f in os.listdir(directory) if f.endswith(\".csv\")]\n",
    "\n",
    "# Initialize an empty list to store individual stock DataFrames\n",
    "dfs = []\n",
    "\n",
    "# Read and store each CSV file\n",
    "for file in csv_files:\n",
    "    stock_df = pd.read_csv(os.path.join(directory, file), parse_dates=[\"Date\"])\n",
    "    stock_df[\"Stock_ID\"] = file.replace(\".csv\", \"\")  # Add stock ticker as an identifier\n",
    "    dfs.append(stock_df)\n",
    "\n",
    "# Concatenate all stock DataFrames\n",
    "training_df = pd.concat(dfs, ignore_index=True)\n",
    "\n",
    "# Sort by Date first, then by Stock_ID\n",
    "training_df = training_df.sort_values(by=[\"Date\", \"Stock_ID\"]).reset_index(drop=True)\n",
    "\n",
    "# Reorder columns: Date → Stock_ID → Other Columns\n",
    "cols = [\"Date\", \"Stock_ID\"] + [col for col in training_df.columns if col not in [\"Date\", \"Stock_ID\"]]\n",
    "training_df = training_df[cols]\n",
    "\n",
    "# Create new directory\n",
    "directory = \"training\"\n",
    "if not os.path.exists(directory):\n",
    "    os.makedirs(directory)\n",
    "\n",
    "# Save merged data to a new CSV file\n",
    "training_csv_path = os.path.join(directory, \"10_25_merged_stocks.csv\")\n",
    "training_df.to_csv(training_csv_path, index=False)\n",
    "\n",
    "print(f\"Merging completed. Merged file saved as '{training_csv_path}'.\")\n",
    "\n",
    "training_df.head(10)"
   ]
  },
  {
   "cell_type": "code",
   "execution_count": 4,
   "metadata": {},
   "outputs": [
    {
     "name": "stdout",
     "output_type": "stream",
     "text": [
      "Feature engineering complete. Saved to training/10_25_merged_stocks_features.csv\n"
     ]
    },
    {
     "data": {
      "text/html": [
       "<div>\n",
       "<style scoped>\n",
       "    .dataframe tbody tr th:only-of-type {\n",
       "        vertical-align: middle;\n",
       "    }\n",
       "\n",
       "    .dataframe tbody tr th {\n",
       "        vertical-align: top;\n",
       "    }\n",
       "\n",
       "    .dataframe thead th {\n",
       "        text-align: right;\n",
       "    }\n",
       "</style>\n",
       "<table border=\"1\" class=\"dataframe\">\n",
       "  <thead>\n",
       "    <tr style=\"text-align: right;\">\n",
       "      <th></th>\n",
       "      <th>Date</th>\n",
       "      <th>Stock_ID</th>\n",
       "      <th>Open</th>\n",
       "      <th>High</th>\n",
       "      <th>Low</th>\n",
       "      <th>Close</th>\n",
       "      <th>Volume</th>\n",
       "      <th>Return_1d</th>\n",
       "      <th>Return_5d</th>\n",
       "      <th>Return_10d</th>\n",
       "      <th>Return_50d</th>\n",
       "      <th>Volatility_5d</th>\n",
       "      <th>Volatility_10d</th>\n",
       "      <th>Volatility_20d</th>\n",
       "      <th>SMA_10</th>\n",
       "      <th>SMA_50</th>\n",
       "      <th>SMA_200</th>\n",
       "      <th>RSI_14</th>\n",
       "      <th>Volume_Change_5d</th>\n",
       "      <th>Volume_Change_10d</th>\n",
       "    </tr>\n",
       "  </thead>\n",
       "  <tbody>\n",
       "    <tr>\n",
       "      <th>0</th>\n",
       "      <td>2010-01-04</td>\n",
       "      <td>A</td>\n",
       "      <td>20.031039</td>\n",
       "      <td>20.184192</td>\n",
       "      <td>19.865125</td>\n",
       "      <td>19.973608</td>\n",
       "      <td>3815561</td>\n",
       "      <td>-0.010863</td>\n",
       "      <td>NaN</td>\n",
       "      <td>NaN</td>\n",
       "      <td>NaN</td>\n",
       "      <td>NaN</td>\n",
       "      <td>NaN</td>\n",
       "      <td>NaN</td>\n",
       "      <td>NaN</td>\n",
       "      <td>NaN</td>\n",
       "      <td>NaN</td>\n",
       "      <td>NaN</td>\n",
       "      <td>NaN</td>\n",
       "      <td>NaN</td>\n",
       "    </tr>\n",
       "    <tr>\n",
       "      <th>1</th>\n",
       "      <td>2010-01-05</td>\n",
       "      <td>A</td>\n",
       "      <td>19.916162</td>\n",
       "      <td>19.922543</td>\n",
       "      <td>19.629000</td>\n",
       "      <td>19.756628</td>\n",
       "      <td>4186031</td>\n",
       "      <td>-0.003553</td>\n",
       "      <td>NaN</td>\n",
       "      <td>NaN</td>\n",
       "      <td>NaN</td>\n",
       "      <td>NaN</td>\n",
       "      <td>NaN</td>\n",
       "      <td>NaN</td>\n",
       "      <td>NaN</td>\n",
       "      <td>NaN</td>\n",
       "      <td>NaN</td>\n",
       "      <td>NaN</td>\n",
       "      <td>NaN</td>\n",
       "      <td>NaN</td>\n",
       "    </tr>\n",
       "    <tr>\n",
       "      <th>2</th>\n",
       "      <td>2010-01-06</td>\n",
       "      <td>A</td>\n",
       "      <td>19.686438</td>\n",
       "      <td>19.782158</td>\n",
       "      <td>19.629005</td>\n",
       "      <td>19.686438</td>\n",
       "      <td>3243779</td>\n",
       "      <td>-0.001296</td>\n",
       "      <td>NaN</td>\n",
       "      <td>NaN</td>\n",
       "      <td>NaN</td>\n",
       "      <td>NaN</td>\n",
       "      <td>NaN</td>\n",
       "      <td>NaN</td>\n",
       "      <td>NaN</td>\n",
       "      <td>NaN</td>\n",
       "      <td>NaN</td>\n",
       "      <td>NaN</td>\n",
       "      <td>NaN</td>\n",
       "      <td>NaN</td>\n",
       "    </tr>\n",
       "    <tr>\n",
       "      <th>3</th>\n",
       "      <td>2010-01-07</td>\n",
       "      <td>A</td>\n",
       "      <td>19.641773</td>\n",
       "      <td>19.667300</td>\n",
       "      <td>19.463097</td>\n",
       "      <td>19.660919</td>\n",
       "      <td>3095172</td>\n",
       "      <td>-0.000325</td>\n",
       "      <td>NaN</td>\n",
       "      <td>NaN</td>\n",
       "      <td>NaN</td>\n",
       "      <td>NaN</td>\n",
       "      <td>NaN</td>\n",
       "      <td>NaN</td>\n",
       "      <td>NaN</td>\n",
       "      <td>NaN</td>\n",
       "      <td>NaN</td>\n",
       "      <td>NaN</td>\n",
       "      <td>NaN</td>\n",
       "      <td>NaN</td>\n",
       "    </tr>\n",
       "    <tr>\n",
       "      <th>4</th>\n",
       "      <td>2010-01-08</td>\n",
       "      <td>A</td>\n",
       "      <td>19.552427</td>\n",
       "      <td>19.686435</td>\n",
       "      <td>19.399276</td>\n",
       "      <td>19.654528</td>\n",
       "      <td>3733918</td>\n",
       "      <td>0.000650</td>\n",
       "      <td>NaN</td>\n",
       "      <td>NaN</td>\n",
       "      <td>NaN</td>\n",
       "      <td>0.004623</td>\n",
       "      <td>NaN</td>\n",
       "      <td>NaN</td>\n",
       "      <td>NaN</td>\n",
       "      <td>NaN</td>\n",
       "      <td>NaN</td>\n",
       "      <td>NaN</td>\n",
       "      <td>NaN</td>\n",
       "      <td>NaN</td>\n",
       "    </tr>\n",
       "    <tr>\n",
       "      <th>5</th>\n",
       "      <td>2010-01-11</td>\n",
       "      <td>A</td>\n",
       "      <td>19.705582</td>\n",
       "      <td>19.814066</td>\n",
       "      <td>19.571575</td>\n",
       "      <td>19.667295</td>\n",
       "      <td>4781579</td>\n",
       "      <td>-0.012005</td>\n",
       "      <td>-0.015336</td>\n",
       "      <td>NaN</td>\n",
       "      <td>NaN</td>\n",
       "      <td>0.005107</td>\n",
       "      <td>NaN</td>\n",
       "      <td>NaN</td>\n",
       "      <td>NaN</td>\n",
       "      <td>NaN</td>\n",
       "      <td>NaN</td>\n",
       "      <td>NaN</td>\n",
       "      <td>0.253178</td>\n",
       "      <td>NaN</td>\n",
       "    </tr>\n",
       "    <tr>\n",
       "      <th>6</th>\n",
       "      <td>2010-01-12</td>\n",
       "      <td>A</td>\n",
       "      <td>19.501380</td>\n",
       "      <td>19.558811</td>\n",
       "      <td>19.284413</td>\n",
       "      <td>19.431185</td>\n",
       "      <td>2871073</td>\n",
       "      <td>0.007882</td>\n",
       "      <td>-0.016473</td>\n",
       "      <td>NaN</td>\n",
       "      <td>NaN</td>\n",
       "      <td>0.007129</td>\n",
       "      <td>NaN</td>\n",
       "      <td>NaN</td>\n",
       "      <td>NaN</td>\n",
       "      <td>NaN</td>\n",
       "      <td>NaN</td>\n",
       "      <td>NaN</td>\n",
       "      <td>-0.314130</td>\n",
       "      <td>NaN</td>\n",
       "    </tr>\n",
       "    <tr>\n",
       "      <th>7</th>\n",
       "      <td>2010-01-13</td>\n",
       "      <td>A</td>\n",
       "      <td>19.443948</td>\n",
       "      <td>19.641769</td>\n",
       "      <td>19.175932</td>\n",
       "      <td>19.584337</td>\n",
       "      <td>3418949</td>\n",
       "      <td>0.014989</td>\n",
       "      <td>-0.005186</td>\n",
       "      <td>NaN</td>\n",
       "      <td>NaN</td>\n",
       "      <td>0.010080</td>\n",
       "      <td>NaN</td>\n",
       "      <td>NaN</td>\n",
       "      <td>NaN</td>\n",
       "      <td>NaN</td>\n",
       "      <td>NaN</td>\n",
       "      <td>NaN</td>\n",
       "      <td>0.054002</td>\n",
       "      <td>NaN</td>\n",
       "    </tr>\n",
       "    <tr>\n",
       "      <th>8</th>\n",
       "      <td>2010-01-14</td>\n",
       "      <td>A</td>\n",
       "      <td>19.520523</td>\n",
       "      <td>19.935309</td>\n",
       "      <td>19.463090</td>\n",
       "      <td>19.877878</td>\n",
       "      <td>6163782</td>\n",
       "      <td>-0.023114</td>\n",
       "      <td>0.011035</td>\n",
       "      <td>NaN</td>\n",
       "      <td>NaN</td>\n",
       "      <td>0.015319</td>\n",
       "      <td>NaN</td>\n",
       "      <td>NaN</td>\n",
       "      <td>NaN</td>\n",
       "      <td>NaN</td>\n",
       "      <td>NaN</td>\n",
       "      <td>NaN</td>\n",
       "      <td>0.991418</td>\n",
       "      <td>NaN</td>\n",
       "    </tr>\n",
       "    <tr>\n",
       "      <th>9</th>\n",
       "      <td>2010-01-15</td>\n",
       "      <td>A</td>\n",
       "      <td>19.922544</td>\n",
       "      <td>20.011883</td>\n",
       "      <td>19.354603</td>\n",
       "      <td>19.418417</td>\n",
       "      <td>4626681</td>\n",
       "      <td>0.012159</td>\n",
       "      <td>-0.012013</td>\n",
       "      <td>NaN</td>\n",
       "      <td>NaN</td>\n",
       "      <td>0.016681</td>\n",
       "      <td>0.011652</td>\n",
       "      <td>NaN</td>\n",
       "      <td>19.671123</td>\n",
       "      <td>NaN</td>\n",
       "      <td>NaN</td>\n",
       "      <td>NaN</td>\n",
       "      <td>0.239096</td>\n",
       "      <td>NaN</td>\n",
       "    </tr>\n",
       "  </tbody>\n",
       "</table>\n",
       "</div>"
      ],
      "text/plain": [
       "        Date Stock_ID       Open       High        Low      Close   Volume  \\\n",
       "0 2010-01-04        A  20.031039  20.184192  19.865125  19.973608  3815561   \n",
       "1 2010-01-05        A  19.916162  19.922543  19.629000  19.756628  4186031   \n",
       "2 2010-01-06        A  19.686438  19.782158  19.629005  19.686438  3243779   \n",
       "3 2010-01-07        A  19.641773  19.667300  19.463097  19.660919  3095172   \n",
       "4 2010-01-08        A  19.552427  19.686435  19.399276  19.654528  3733918   \n",
       "5 2010-01-11        A  19.705582  19.814066  19.571575  19.667295  4781579   \n",
       "6 2010-01-12        A  19.501380  19.558811  19.284413  19.431185  2871073   \n",
       "7 2010-01-13        A  19.443948  19.641769  19.175932  19.584337  3418949   \n",
       "8 2010-01-14        A  19.520523  19.935309  19.463090  19.877878  6163782   \n",
       "9 2010-01-15        A  19.922544  20.011883  19.354603  19.418417  4626681   \n",
       "\n",
       "   Return_1d  Return_5d  Return_10d  Return_50d  Volatility_5d  \\\n",
       "0  -0.010863        NaN         NaN         NaN            NaN   \n",
       "1  -0.003553        NaN         NaN         NaN            NaN   \n",
       "2  -0.001296        NaN         NaN         NaN            NaN   \n",
       "3  -0.000325        NaN         NaN         NaN            NaN   \n",
       "4   0.000650        NaN         NaN         NaN       0.004623   \n",
       "5  -0.012005  -0.015336         NaN         NaN       0.005107   \n",
       "6   0.007882  -0.016473         NaN         NaN       0.007129   \n",
       "7   0.014989  -0.005186         NaN         NaN       0.010080   \n",
       "8  -0.023114   0.011035         NaN         NaN       0.015319   \n",
       "9   0.012159  -0.012013         NaN         NaN       0.016681   \n",
       "\n",
       "   Volatility_10d  Volatility_20d     SMA_10  SMA_50  SMA_200  RSI_14  \\\n",
       "0             NaN             NaN        NaN     NaN      NaN     NaN   \n",
       "1             NaN             NaN        NaN     NaN      NaN     NaN   \n",
       "2             NaN             NaN        NaN     NaN      NaN     NaN   \n",
       "3             NaN             NaN        NaN     NaN      NaN     NaN   \n",
       "4             NaN             NaN        NaN     NaN      NaN     NaN   \n",
       "5             NaN             NaN        NaN     NaN      NaN     NaN   \n",
       "6             NaN             NaN        NaN     NaN      NaN     NaN   \n",
       "7             NaN             NaN        NaN     NaN      NaN     NaN   \n",
       "8             NaN             NaN        NaN     NaN      NaN     NaN   \n",
       "9        0.011652             NaN  19.671123     NaN      NaN     NaN   \n",
       "\n",
       "   Volume_Change_5d  Volume_Change_10d  \n",
       "0               NaN                NaN  \n",
       "1               NaN                NaN  \n",
       "2               NaN                NaN  \n",
       "3               NaN                NaN  \n",
       "4               NaN                NaN  \n",
       "5          0.253178                NaN  \n",
       "6         -0.314130                NaN  \n",
       "7          0.054002                NaN  \n",
       "8          0.991418                NaN  \n",
       "9          0.239096                NaN  "
      ]
     },
     "execution_count": 4,
     "metadata": {},
     "output_type": "execute_result"
    }
   ],
   "source": [
    "import pandas as pd\n",
    "import numpy as np\n",
    "\n",
    "# Load the merged dataset\n",
    "file_path = \"training/10_25_merged_stocks.csv\"\n",
    "df = pd.read_csv(file_path, parse_dates=[\"Date\"])\n",
    "\n",
    "# Ensure sorting by Date and Stock_ID\n",
    "df = df.sort_values(by=[\"Stock_ID\", \"Date\"]).reset_index(drop=True)\n",
    "\n",
    "# Function to calculate technical indicators\n",
    "def calculate_features(df):\n",
    "    \n",
    "    # Shift to avoid look-ahead bias (so this would be the next day's Return_1d)\n",
    "    df[\"Return_1d\"] = df.groupby(\"Stock_ID\")[\"Close\"].pct_change(1).shift(-1)\n",
    "    \n",
    "    # The rest of them remains the same\n",
    "    df[\"Return_5d\"] = df.groupby(\"Stock_ID\")['Close'].pct_change(5)\n",
    "    df[\"Return_10d\"] = df.groupby(\"Stock_ID\")['Close'].pct_change(10)\n",
    "    df[\"Return_50d\"] = df.groupby(\"Stock_ID\")['Close'].pct_change(50)\n",
    "    \n",
    "    # Rolling volatility\n",
    "    df[\"Volatility_5d\"] = df.groupby(\"Stock_ID\")[\"Return_1d\"].rolling(5).std().reset_index(level=0, drop=True)\n",
    "    df[\"Volatility_10d\"] = df.groupby(\"Stock_ID\")[\"Return_1d\"].rolling(10).std().reset_index(level=0, drop=True)\n",
    "    df[\"Volatility_20d\"] = df.groupby(\"Stock_ID\")[\"Return_1d\"].rolling(20).std().reset_index(level=0, drop=True)\n",
    "    \n",
    "    # Momentum indicators\n",
    "    df[\"SMA_10\"] = df.groupby(\"Stock_ID\")[\"Close\"].rolling(10).mean().reset_index(level=0, drop=True)\n",
    "    df[\"SMA_50\"] = df.groupby(\"Stock_ID\")[\"Close\"].rolling(50).mean().reset_index(level=0, drop=True)\n",
    "    df[\"SMA_200\"] = df.groupby(\"Stock_ID\")[\"Close\"].rolling(200).mean().reset_index(level=0, drop=True)\n",
    "    df[\"RSI_14\"] = 100 - (100 / (1 + df.groupby(\"Stock_ID\")[\"Return_1d\"].rolling(14).apply(lambda x: np.mean(x[x > 0]) / np.mean(-x[x < 0]) if np.mean(-x[x < 0]) != 0 else np.inf).reset_index(level=0, drop=True)))\n",
    "    \n",
    "    # Volume-based features\n",
    "    df[\"Volume_Change_5d\"] = df.groupby(\"Stock_ID\")[\"Volume\"].pct_change(5)\n",
    "    df[\"Volume_Change_10d\"] = df.groupby(\"Stock_ID\")[\"Volume\"].pct_change(10)\n",
    "    \n",
    "    return df\n",
    "\n",
    "# Apply feature calculations\n",
    "df = calculate_features(df)\n",
    "\n",
    "# Save the new dataset with features\n",
    "output_path = \"training/10_25_merged_stocks_features.csv\"\n",
    "df.to_csv(output_path, index=False)\n",
    "print(f\"Feature engineering complete. Saved to {output_path}\")\n",
    "\n",
    "df.head(10)"
   ]
  },
  {
   "cell_type": "code",
   "execution_count": 5,
   "metadata": {},
   "outputs": [
    {
     "name": "stdout",
     "output_type": "stream",
     "text": [
      "       Volume_Change_5d  Volume_Change_10d\n",
      "count      1.815103e+06       1.812601e+06\n",
      "mean                inf                inf\n",
      "std                 NaN                NaN\n",
      "min       -1.000000e+00      -1.000000e+00\n",
      "1%        -7.372657e-01      -7.489305e-01\n",
      "25%       -2.728956e-01      -2.878390e-01\n",
      "50%       -9.215108e-03      -7.963247e-03\n",
      "75%        3.626289e-01       3.914729e-01\n",
      "99%        3.062460e+00       3.269058e+00\n",
      "max                 inf                inf\n"
     ]
    },
    {
     "name": "stderr",
     "output_type": "stream",
     "text": [
      "/home/jesse/Projects/myenvs/xgboost/lib/python3.12/site-packages/pandas/core/nanops.py:1016: RuntimeWarning: invalid value encountered in subtract\n",
      "  sqr = _ensure_numeric((avg - values) ** 2)\n",
      "/home/jesse/Projects/myenvs/xgboost/lib/python3.12/site-packages/pandas/core/nanops.py:1016: RuntimeWarning: invalid value encountered in subtract\n",
      "  sqr = _ensure_numeric((avg - values) ** 2)\n"
     ]
    }
   ],
   "source": [
    "# Based on my previous experience, this is basically the most troublesome ones\n",
    "print(df[[\"Volume_Change_5d\", \"Volume_Change_10d\"]].describe(percentiles=[0.01, 0.25, 0.5, 0.75, 0.99]))"
   ]
  },
  {
   "cell_type": "code",
   "execution_count": 6,
   "metadata": {},
   "outputs": [
    {
     "name": "stdout",
     "output_type": "stream",
     "text": [
      "Cleaned dataset saved as 'training/10_25_merged_stocks_features.csv'.\n"
     ]
    },
    {
     "data": {
      "text/html": [
       "<div>\n",
       "<style scoped>\n",
       "    .dataframe tbody tr th:only-of-type {\n",
       "        vertical-align: middle;\n",
       "    }\n",
       "\n",
       "    .dataframe tbody tr th {\n",
       "        vertical-align: top;\n",
       "    }\n",
       "\n",
       "    .dataframe thead th {\n",
       "        text-align: right;\n",
       "    }\n",
       "</style>\n",
       "<table border=\"1\" class=\"dataframe\">\n",
       "  <thead>\n",
       "    <tr style=\"text-align: right;\">\n",
       "      <th></th>\n",
       "      <th>Date</th>\n",
       "      <th>Stock_ID</th>\n",
       "      <th>Open</th>\n",
       "      <th>High</th>\n",
       "      <th>Low</th>\n",
       "      <th>Close</th>\n",
       "      <th>Volume</th>\n",
       "      <th>Return_1d</th>\n",
       "      <th>Return_5d</th>\n",
       "      <th>Return_10d</th>\n",
       "      <th>Return_50d</th>\n",
       "      <th>Volatility_5d</th>\n",
       "      <th>Volatility_10d</th>\n",
       "      <th>Volatility_20d</th>\n",
       "      <th>SMA_10</th>\n",
       "      <th>SMA_50</th>\n",
       "      <th>SMA_200</th>\n",
       "      <th>RSI_14</th>\n",
       "      <th>Volume_Change_5d</th>\n",
       "      <th>Volume_Change_10d</th>\n",
       "    </tr>\n",
       "  </thead>\n",
       "  <tbody>\n",
       "    <tr>\n",
       "      <th>0</th>\n",
       "      <td>2010-10-18</td>\n",
       "      <td>A</td>\n",
       "      <td>22.009242</td>\n",
       "      <td>22.187918</td>\n",
       "      <td>21.779513</td>\n",
       "      <td>22.117723</td>\n",
       "      <td>2889666</td>\n",
       "      <td>-0.018465</td>\n",
       "      <td>0.026963</td>\n",
       "      <td>0.063516</td>\n",
       "      <td>0.206404</td>\n",
       "      <td>0.013740</td>\n",
       "      <td>0.012511</td>\n",
       "      <td>0.017771</td>\n",
       "      <td>21.557442</td>\n",
       "      <td>19.397105</td>\n",
       "      <td>19.992931</td>\n",
       "      <td>55.295687</td>\n",
       "      <td>0.078135</td>\n",
       "      <td>-0.577275</td>\n",
       "    </tr>\n",
       "    <tr>\n",
       "      <th>1</th>\n",
       "      <td>2010-10-19</td>\n",
       "      <td>A</td>\n",
       "      <td>21.779509</td>\n",
       "      <td>21.990093</td>\n",
       "      <td>21.415772</td>\n",
       "      <td>21.709314</td>\n",
       "      <td>5580676</td>\n",
       "      <td>0.018813</td>\n",
       "      <td>0.010095</td>\n",
       "      <td>0.029661</td>\n",
       "      <td>0.140845</td>\n",
       "      <td>0.013772</td>\n",
       "      <td>0.012325</td>\n",
       "      <td>0.017566</td>\n",
       "      <td>21.619979</td>\n",
       "      <td>19.450708</td>\n",
       "      <td>20.001610</td>\n",
       "      <td>54.089201</td>\n",
       "      <td>0.159694</td>\n",
       "      <td>-0.054881</td>\n",
       "    </tr>\n",
       "    <tr>\n",
       "      <th>2</th>\n",
       "      <td>2010-10-20</td>\n",
       "      <td>A</td>\n",
       "      <td>21.785894</td>\n",
       "      <td>22.238969</td>\n",
       "      <td>21.753986</td>\n",
       "      <td>22.117723</td>\n",
       "      <td>3486612</td>\n",
       "      <td>0.002597</td>\n",
       "      <td>0.010201</td>\n",
       "      <td>0.060912</td>\n",
       "      <td>0.176510</td>\n",
       "      <td>0.013550</td>\n",
       "      <td>0.011812</td>\n",
       "      <td>0.017337</td>\n",
       "      <td>21.746968</td>\n",
       "      <td>19.517074</td>\n",
       "      <td>20.013415</td>\n",
       "      <td>52.142683</td>\n",
       "      <td>-0.220259</td>\n",
       "      <td>-0.229009</td>\n",
       "    </tr>\n",
       "    <tr>\n",
       "      <th>3</th>\n",
       "      <td>2010-10-21</td>\n",
       "      <td>A</td>\n",
       "      <td>22.200681</td>\n",
       "      <td>22.334688</td>\n",
       "      <td>21.964571</td>\n",
       "      <td>22.175154</td>\n",
       "      <td>4276622</td>\n",
       "      <td>0.000000</td>\n",
       "      <td>0.015191</td>\n",
       "      <td>0.046687</td>\n",
       "      <td>0.231396</td>\n",
       "      <td>0.013375</td>\n",
       "      <td>0.010873</td>\n",
       "      <td>0.014028</td>\n",
       "      <td>21.845879</td>\n",
       "      <td>19.600414</td>\n",
       "      <td>20.025859</td>\n",
       "      <td>63.914274</td>\n",
       "      <td>0.050118</td>\n",
       "      <td>-0.181446</td>\n",
       "    </tr>\n",
       "    <tr>\n",
       "      <th>4</th>\n",
       "      <td>2010-10-22</td>\n",
       "      <td>A</td>\n",
       "      <td>22.168773</td>\n",
       "      <td>22.283637</td>\n",
       "      <td>22.028383</td>\n",
       "      <td>22.175154</td>\n",
       "      <td>3521422</td>\n",
       "      <td>0.004317</td>\n",
       "      <td>0.007830</td>\n",
       "      <td>0.028106</td>\n",
       "      <td>0.262259</td>\n",
       "      <td>0.013320</td>\n",
       "      <td>0.010772</td>\n",
       "      <td>0.013934</td>\n",
       "      <td>21.906501</td>\n",
       "      <td>19.692561</td>\n",
       "      <td>20.038430</td>\n",
       "      <td>61.602159</td>\n",
       "      <td>-0.094475</td>\n",
       "      <td>-0.120312</td>\n",
       "    </tr>\n",
       "    <tr>\n",
       "      <th>5</th>\n",
       "      <td>2010-10-25</td>\n",
       "      <td>A</td>\n",
       "      <td>22.353831</td>\n",
       "      <td>22.436789</td>\n",
       "      <td>22.175152</td>\n",
       "      <td>22.270874</td>\n",
       "      <td>3706098</td>\n",
       "      <td>-0.002865</td>\n",
       "      <td>0.006924</td>\n",
       "      <td>0.034074</td>\n",
       "      <td>0.276051</td>\n",
       "      <td>0.008411</td>\n",
       "      <td>0.010819</td>\n",
       "      <td>0.013945</td>\n",
       "      <td>21.979886</td>\n",
       "      <td>19.788919</td>\n",
       "      <td>20.051512</td>\n",
       "      <td>67.695547</td>\n",
       "      <td>0.282535</td>\n",
       "      <td>0.382745</td>\n",
       "    </tr>\n",
       "    <tr>\n",
       "      <th>6</th>\n",
       "      <td>2010-10-26</td>\n",
       "      <td>A</td>\n",
       "      <td>22.098584</td>\n",
       "      <td>22.334692</td>\n",
       "      <td>21.951812</td>\n",
       "      <td>22.207066</td>\n",
       "      <td>4473740</td>\n",
       "      <td>-0.006034</td>\n",
       "      <td>0.022928</td>\n",
       "      <td>0.033254</td>\n",
       "      <td>0.281296</td>\n",
       "      <td>0.004160</td>\n",
       "      <td>0.009682</td>\n",
       "      <td>0.014083</td>\n",
       "      <td>22.051357</td>\n",
       "      <td>19.886426</td>\n",
       "      <td>20.064210</td>\n",
       "      <td>65.918269</td>\n",
       "      <td>-0.198352</td>\n",
       "      <td>-0.070333</td>\n",
       "    </tr>\n",
       "    <tr>\n",
       "      <th>7</th>\n",
       "      <td>2010-10-27</td>\n",
       "      <td>A</td>\n",
       "      <td>22.002866</td>\n",
       "      <td>22.181544</td>\n",
       "      <td>21.805045</td>\n",
       "      <td>22.073061</td>\n",
       "      <td>2316206</td>\n",
       "      <td>0.009540</td>\n",
       "      <td>-0.002019</td>\n",
       "      <td>0.008161</td>\n",
       "      <td>0.181352</td>\n",
       "      <td>0.006111</td>\n",
       "      <td>0.009971</td>\n",
       "      <td>0.013282</td>\n",
       "      <td>22.069226</td>\n",
       "      <td>19.954196</td>\n",
       "      <td>20.077420</td>\n",
       "      <td>63.156290</td>\n",
       "      <td>-0.335686</td>\n",
       "      <td>-0.482007</td>\n",
       "    </tr>\n",
       "    <tr>\n",
       "      <th>8</th>\n",
       "      <td>2010-10-28</td>\n",
       "      <td>A</td>\n",
       "      <td>22.417649</td>\n",
       "      <td>22.545275</td>\n",
       "      <td>21.964574</td>\n",
       "      <td>22.283640</td>\n",
       "      <td>3349608</td>\n",
       "      <td>-0.003436</td>\n",
       "      <td>0.004892</td>\n",
       "      <td>0.020158</td>\n",
       "      <td>0.186141</td>\n",
       "      <td>0.006435</td>\n",
       "      <td>0.009920</td>\n",
       "      <td>0.013187</td>\n",
       "      <td>22.113257</td>\n",
       "      <td>20.024135</td>\n",
       "      <td>20.090916</td>\n",
       "      <td>61.815981</td>\n",
       "      <td>-0.216763</td>\n",
       "      <td>-0.177509</td>\n",
       "    </tr>\n",
       "    <tr>\n",
       "      <th>9</th>\n",
       "      <td>2010-10-29</td>\n",
       "      <td>A</td>\n",
       "      <td>22.219827</td>\n",
       "      <td>22.341073</td>\n",
       "      <td>22.092201</td>\n",
       "      <td>22.207066</td>\n",
       "      <td>2703592</td>\n",
       "      <td>-0.001437</td>\n",
       "      <td>0.001439</td>\n",
       "      <td>0.009281</td>\n",
       "      <td>0.219341</td>\n",
       "      <td>0.006040</td>\n",
       "      <td>0.009825</td>\n",
       "      <td>0.010273</td>\n",
       "      <td>22.133677</td>\n",
       "      <td>20.104030</td>\n",
       "      <td>20.102562</td>\n",
       "      <td>62.245964</td>\n",
       "      <td>-0.232244</td>\n",
       "      <td>-0.304778</td>\n",
       "    </tr>\n",
       "  </tbody>\n",
       "</table>\n",
       "</div>"
      ],
      "text/plain": [
       "        Date Stock_ID       Open       High        Low      Close   Volume  \\\n",
       "0 2010-10-18        A  22.009242  22.187918  21.779513  22.117723  2889666   \n",
       "1 2010-10-19        A  21.779509  21.990093  21.415772  21.709314  5580676   \n",
       "2 2010-10-20        A  21.785894  22.238969  21.753986  22.117723  3486612   \n",
       "3 2010-10-21        A  22.200681  22.334688  21.964571  22.175154  4276622   \n",
       "4 2010-10-22        A  22.168773  22.283637  22.028383  22.175154  3521422   \n",
       "5 2010-10-25        A  22.353831  22.436789  22.175152  22.270874  3706098   \n",
       "6 2010-10-26        A  22.098584  22.334692  21.951812  22.207066  4473740   \n",
       "7 2010-10-27        A  22.002866  22.181544  21.805045  22.073061  2316206   \n",
       "8 2010-10-28        A  22.417649  22.545275  21.964574  22.283640  3349608   \n",
       "9 2010-10-29        A  22.219827  22.341073  22.092201  22.207066  2703592   \n",
       "\n",
       "   Return_1d  Return_5d  Return_10d  Return_50d  Volatility_5d  \\\n",
       "0  -0.018465   0.026963    0.063516    0.206404       0.013740   \n",
       "1   0.018813   0.010095    0.029661    0.140845       0.013772   \n",
       "2   0.002597   0.010201    0.060912    0.176510       0.013550   \n",
       "3   0.000000   0.015191    0.046687    0.231396       0.013375   \n",
       "4   0.004317   0.007830    0.028106    0.262259       0.013320   \n",
       "5  -0.002865   0.006924    0.034074    0.276051       0.008411   \n",
       "6  -0.006034   0.022928    0.033254    0.281296       0.004160   \n",
       "7   0.009540  -0.002019    0.008161    0.181352       0.006111   \n",
       "8  -0.003436   0.004892    0.020158    0.186141       0.006435   \n",
       "9  -0.001437   0.001439    0.009281    0.219341       0.006040   \n",
       "\n",
       "   Volatility_10d  Volatility_20d     SMA_10     SMA_50    SMA_200     RSI_14  \\\n",
       "0        0.012511        0.017771  21.557442  19.397105  19.992931  55.295687   \n",
       "1        0.012325        0.017566  21.619979  19.450708  20.001610  54.089201   \n",
       "2        0.011812        0.017337  21.746968  19.517074  20.013415  52.142683   \n",
       "3        0.010873        0.014028  21.845879  19.600414  20.025859  63.914274   \n",
       "4        0.010772        0.013934  21.906501  19.692561  20.038430  61.602159   \n",
       "5        0.010819        0.013945  21.979886  19.788919  20.051512  67.695547   \n",
       "6        0.009682        0.014083  22.051357  19.886426  20.064210  65.918269   \n",
       "7        0.009971        0.013282  22.069226  19.954196  20.077420  63.156290   \n",
       "8        0.009920        0.013187  22.113257  20.024135  20.090916  61.815981   \n",
       "9        0.009825        0.010273  22.133677  20.104030  20.102562  62.245964   \n",
       "\n",
       "   Volume_Change_5d  Volume_Change_10d  \n",
       "0          0.078135          -0.577275  \n",
       "1          0.159694          -0.054881  \n",
       "2         -0.220259          -0.229009  \n",
       "3          0.050118          -0.181446  \n",
       "4         -0.094475          -0.120312  \n",
       "5          0.282535           0.382745  \n",
       "6         -0.198352          -0.070333  \n",
       "7         -0.335686          -0.482007  \n",
       "8         -0.216763          -0.177509  \n",
       "9         -0.232244          -0.304778  "
      ]
     },
     "execution_count": 6,
     "metadata": {},
     "output_type": "execute_result"
    }
   ],
   "source": [
    "# Replace infinite values with NaN (so they can be dropped)\n",
    "df.replace([np.inf, -np.inf], np.nan, inplace=True)\n",
    "\n",
    "# Drop rows with NaN values\n",
    "df = df.dropna().reset_index(drop=True)\n",
    "\n",
    "# Save the cleaned dataset\n",
    "file_path = \"training/10_25_merged_stocks_features.csv\"\n",
    "df.to_csv(file_path, index=False)\n",
    "\n",
    "print(f\"Cleaned dataset saved as '{file_path}'.\")\n",
    "\n",
    "df.head(10)"
   ]
  },
  {
   "cell_type": "code",
   "execution_count": 7,
   "metadata": {},
   "outputs": [
    {
     "name": "stdout",
     "output_type": "stream",
     "text": [
      "       Volume_Change_5d  Volume_Change_10d\n",
      "count      1.716961e+06       1.716961e+06\n",
      "mean       1.645018e-01       1.798818e-01\n",
      "std        2.606765e+00       2.005927e+00\n",
      "min       -1.000000e+00      -1.000000e+00\n",
      "1%        -7.347692e-01      -7.460513e-01\n",
      "25%       -2.720496e-01      -2.872603e-01\n",
      "50%       -9.024894e-03      -7.727533e-03\n",
      "75%        3.615317e-01       3.907865e-01\n",
      "99%        3.005167e+00       3.200444e+00\n",
      "max        2.828333e+03       2.223667e+03\n"
     ]
    }
   ],
   "source": [
    "# Double check again!\n",
    "print(df[[\"Volume_Change_5d\", \"Volume_Change_10d\"]].describe(percentiles=[0.01, 0.25, 0.5, 0.75, 0.99]))"
   ]
  },
  {
   "cell_type": "code",
   "execution_count": 8,
   "metadata": {},
   "outputs": [
    {
     "name": "stdout",
     "output_type": "stream",
     "text": [
      "Training set saved: training/train_2010_2020.csv (1190576 rows)\n",
      "Validation set saved: training/valid_2021_2021.csv (123757 rows)\n",
      "Testing set saved: training/test_2022_2025.csv (402628 rows)\n"
     ]
    }
   ],
   "source": [
    "import pandas as pd\n",
    "\n",
    "# Load the merged dataset\n",
    "file_path = \"training/10_25_merged_stocks_features.csv\"\n",
    "df = pd.read_csv(file_path, parse_dates=[\"Date\"])\n",
    "\n",
    "# Define split dates\n",
    "train_end_date = \"2020-12-31\"\n",
    "valid_start_date = \"2021-01-01\"\n",
    "valid_end_date = \"2021-12-31\"\n",
    "test_start_date = \"2022-01-01\"\n",
    "test_end_date = \"2025-04-01\"\n",
    "\n",
    "# Split into training, validation, and testing sets\n",
    "train_df = df[df[\"Date\"] <= train_end_date]\n",
    "valid_df = df[(df[\"Date\"] >= valid_start_date) & (df[\"Date\"] <= valid_end_date)]\n",
    "test_df = df[(df[\"Date\"] >= test_start_date) & (df[\"Date\"] <= test_end_date)]\n",
    "\n",
    "# Save to CSV\n",
    "output_dir = \"training\"\n",
    "train_path = f\"{output_dir}/train_2010_2020.csv\"\n",
    "valid_path = f\"{output_dir}/valid_2021_2021.csv\"\n",
    "test_path = f\"{output_dir}/test_2022_2025.csv\"\n",
    "\n",
    "train_df.to_csv(train_path, index=False)\n",
    "valid_df.to_csv(valid_path, index=False)\n",
    "test_df.to_csv(test_path, index=False)\n",
    "\n",
    "print(f\"Training set saved: {train_path} ({len(train_df)} rows)\")\n",
    "print(f\"Validation set saved: {valid_path} ({len(valid_df)} rows)\")\n",
    "print(f\"Testing set saved: {test_path} ({len(test_df)} rows)\")\n"
   ]
  }
 ],
 "metadata": {
  "kernelspec": {
   "display_name": "xgboost",
   "language": "python",
   "name": "python3"
  },
  "language_info": {
   "codemirror_mode": {
    "name": "ipython",
    "version": 3
   },
   "file_extension": ".py",
   "mimetype": "text/x-python",
   "name": "python",
   "nbconvert_exporter": "python",
   "pygments_lexer": "ipython3",
   "version": "3.12.3"
  }
 },
 "nbformat": 4,
 "nbformat_minor": 2
}
