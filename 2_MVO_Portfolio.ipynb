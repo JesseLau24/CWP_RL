{
 "cells": [
  {
   "cell_type": "code",
   "execution_count": null,
   "metadata": {},
   "outputs": [],
   "source": [
    "import os\n",
    "import pandas as pd\n",
    "\n",
    "# 设定文件夹路径和筛选条件\n",
    "directory = \"SP500_10_20\"\n",
    "min_data_length = 2500  # 数据行数超过 2500 行\n",
    "top_stocks_count = 300  # 按成交量筛选前 300 只大盘股\n",
    "\n",
    "# 准备存储有效的股票列表\n",
    "valid_tickers = []\n",
    "\n",
    "# 读取数据并筛选符合条件的股票\n",
    "for ticker in os.listdir(directory):\n",
    "    if ticker.endswith(\".csv\"):\n",
    "        file_path = os.path.join(directory, ticker)\n",
    "        df = pd.read_csv(file_path)\n",
    "\n",
    "        # 确保数据量大于 2500 行\n",
    "        if df.shape[0] >= min_data_length:\n",
    "            # 计算成交量均值（假设 Volume 列为成交量）\n",
    "            avg_volume = df['Volume'].mean()\n",
    "\n",
    "            # 将符合条件的股票加入列表\n",
    "            valid_tickers.append({\n",
    "                'ticker': ticker.replace(\".csv\", \"\"),\n",
    "                'avg_volume': avg_volume\n",
    "            })\n",
    "\n",
    "# 按成交量排序并选择前 300 只大盘股\n",
    "valid_tickers = sorted(valid_tickers, key=lambda x: x['avg_volume'], reverse=True)\n",
    "top_300_stocks = [ticker['ticker'] for ticker in valid_tickers[:top_stocks_count]]\n",
    "\n",
    "# 输出前 300 只大盘股\n",
    "print(top_300_stocks)"
   ]
  },
  {
   "cell_type": "code",
   "execution_count": null,
   "metadata": {},
   "outputs": [],
   "source": [
    "import pandas as pd\n",
    "import os\n",
    "\n",
    "# 设定文件夹路径和筛选条件\n",
    "directory = \"SP500_10_20\"\n",
    "\n",
    "# 读取数据并存储\n",
    "stock_data = {}\n",
    "\n",
    "for ticker in top_300_stocks:\n",
    "    file_path = os.path.join(directory, f\"{ticker}.csv\")\n",
    "    if os.path.exists(file_path):\n",
    "        df = pd.read_csv(file_path)\n",
    "        \n",
    "        # 删除前两行，重置索引\n",
    "        df = df.drop([0, 1]).reset_index(drop=True)\n",
    "        \n",
    "        # 确保数据包含 'Date' 和 'Close' 列\n",
    "        if 'Date' in df.columns and 'Close' in df.columns:\n",
    "            df['Date'] = pd.to_datetime(df['Date'])\n",
    "            df.set_index('Date', inplace=True)\n",
    "            stock_data[ticker] = df['Close']\n",
    "        else:\n",
    "            print(f\"缺少必要列：{ticker}\")\n",
    "    else:\n",
    "        print(f\"文件未找到：{ticker}\")\n",
    "\n",
    "# 输出加载的数据\n",
    "stock_data.keys()\n"
   ]
  },
  {
   "cell_type": "code",
   "execution_count": null,
   "metadata": {},
   "outputs": [],
   "source": [
    "# 计算每只股票的每日收益率\n",
    "returns = pd.DataFrame()\n",
    "\n",
    "for ticker, data in stock_data.items():\n",
    "    returns[ticker] = data.pct_change().dropna()\n",
    "\n",
    "# 输出前几行收益率数据\n",
    "returns.head()"
   ]
  },
  {
   "cell_type": "code",
   "execution_count": null,
   "metadata": {},
   "outputs": [],
   "source": [
    "# 计算收益率均值\n",
    "mean_returns = returns.mean()\n",
    "\n",
    "# 输出收益率均值\n",
    "mean_returns"
   ]
  },
  {
   "cell_type": "code",
   "execution_count": null,
   "metadata": {},
   "outputs": [],
   "source": [
    "# 计算协方差矩阵\n",
    "cov_matrix = returns.cov()\n",
    "\n",
    "# 输出协方差矩阵\n",
    "cov_matrix"
   ]
  },
  {
   "cell_type": "code",
   "execution_count": null,
   "metadata": {},
   "outputs": [],
   "source": [
    "import numpy as np\n",
    "from scipy.optimize import minimize\n",
    "\n",
    "# 定义目标函数：夏普率（最大化夏普率）\n",
    "def objective(weights, mean_returns, cov_matrix, risk_free_rate=0.0):\n",
    "    portfolio_return = np.sum(weights * mean_returns)\n",
    "    portfolio_volatility = np.sqrt(np.dot(weights.T, np.dot(cov_matrix, weights)))\n",
    "    sharpe_ratio = (portfolio_return - risk_free_rate) / portfolio_volatility\n",
    "    return -sharpe_ratio  # 我们需要最小化负的夏普率\n",
    "\n",
    "# 初始投资组合权重，均匀分配\n",
    "num_assets = len(mean_returns)\n",
    "initial_weights = np.ones(num_assets) / num_assets\n",
    "\n",
    "# 约束：所有权重和为 1，且每个权重在 0 到 1 之间\n",
    "constraints = ({\n",
    "    'type': 'eq', 'fun': lambda weights: np.sum(weights) - 1\n",
    "})\n",
    "bounds = tuple((0, 1) for asset in range(num_assets))"
   ]
  },
  {
   "cell_type": "code",
   "execution_count": null,
   "metadata": {},
   "outputs": [],
   "source": [
    "# 执行优化\n",
    "optimized_result = minimize(objective, initial_weights, args=(mean_returns, cov_matrix),\n",
    "                            method='SLSQP', bounds=bounds, constraints=constraints)\n",
    "\n",
    "# 获取优化后的投资比例\n",
    "optimal_weights = optimized_result.x\n",
    "\n",
    "# 输出优化结果\n",
    "optimal_weights"
   ]
  },
  {
   "cell_type": "code",
   "execution_count": null,
   "metadata": {},
   "outputs": [],
   "source": [
    "# 输出最佳投资组合及每只股票的投资比例\n",
    "optimal_portfolio = pd.DataFrame({'Stock': mean_returns.index, 'Weight': optimal_weights})\n",
    "optimal_portfolio['Weight'] = optimal_portfolio['Weight'] / optimal_portfolio['Weight'].sum()  # 确保权重和为1\n",
    "\n",
    "# 过滤掉权重为0的股票\n",
    "optimal_portfolio = optimal_portfolio[optimal_portfolio['Weight'] > 0]\n",
    "\n",
    "# 显示投资组合\n",
    "optimal_portfolio.sort_values(by='Weight', ascending=False, inplace=True)\n",
    "optimal_portfolio"
   ]
  },
  {
   "cell_type": "code",
   "execution_count": null,
   "metadata": {},
   "outputs": [],
   "source": [
    "# 将最佳投资组合保存到 CSV 文件\n",
    "optimal_portfolio.to_csv('optimal_portfolio.csv', index=False)\n",
    "\n",
    "print(\"最佳投资组合已保存到 'optimal_portfolio.csv'\")"
   ]
  }
 ],
 "metadata": {
  "kernelspec": {
   "display_name": "torch_cwp",
   "language": "python",
   "name": "python3"
  },
  "language_info": {
   "codemirror_mode": {
    "name": "ipython",
    "version": 3
   },
   "file_extension": ".py",
   "mimetype": "text/x-python",
   "name": "python",
   "nbconvert_exporter": "python",
   "pygments_lexer": "ipython3",
   "version": "3.11.2"
  }
 },
 "nbformat": 4,
 "nbformat_minor": 2
}
