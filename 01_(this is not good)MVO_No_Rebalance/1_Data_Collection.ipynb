{
 "cells": [
  {
   "cell_type": "code",
   "execution_count": 1,
   "metadata": {},
   "outputs": [
    {
     "name": "stdout",
     "output_type": "stream",
     "text": [
      "Fetching data: MMM\n",
      "YF.download() has changed argument auto_adjust default to True\n"
     ]
    },
    {
     "name": "stderr",
     "output_type": "stream",
     "text": [
      "[*********************100%***********************]  1 of 1 completed\n"
     ]
    },
    {
     "name": "stdout",
     "output_type": "stream",
     "text": [
      "MMM data saved\n",
      "Fetching data: AOS\n"
     ]
    },
    {
     "name": "stderr",
     "output_type": "stream",
     "text": [
      "[*********************100%***********************]  1 of 1 completed\n"
     ]
    },
    {
     "name": "stdout",
     "output_type": "stream",
     "text": [
      "AOS data saved\n",
      "Fetching data: ABT\n"
     ]
    },
    {
     "name": "stderr",
     "output_type": "stream",
     "text": [
      "[*********************100%***********************]  1 of 1 completed\n",
      "[*********************100%***********************]  1 of 1 completed\n"
     ]
    },
    {
     "name": "stdout",
     "output_type": "stream",
     "text": [
      "ABT data saved\n",
      "Fetching data: ABBV\n",
      "Skipping ABBV, insufficient data days: 2014 days\n",
      "Fetching data: ACN\n"
     ]
    },
    {
     "name": "stderr",
     "output_type": "stream",
     "text": [
      "[*********************100%***********************]  1 of 1 completed\n",
      "[*********************100%***********************]  1 of 1 completed\n"
     ]
    },
    {
     "name": "stdout",
     "output_type": "stream",
     "text": [
      "ACN data saved\n",
      "Fetching data: ADBE\n",
      "ADBE data saved\n",
      "Fetching data: AMD\n"
     ]
    },
    {
     "name": "stderr",
     "output_type": "stream",
     "text": [
      "[*********************100%***********************]  1 of 1 completed\n"
     ]
    },
    {
     "name": "stdout",
     "output_type": "stream",
     "text": [
      "AMD data saved\n",
      "Fetching data: AES\n"
     ]
    },
    {
     "name": "stderr",
     "output_type": "stream",
     "text": [
      "[*********************100%***********************]  1 of 1 completed\n"
     ]
    },
    {
     "name": "stdout",
     "output_type": "stream",
     "text": [
      "AES data saved\n",
      "Fetching data: AFL\n"
     ]
    },
    {
     "name": "stderr",
     "output_type": "stream",
     "text": [
      "[*********************100%***********************]  1 of 1 completed\n"
     ]
    },
    {
     "name": "stdout",
     "output_type": "stream",
     "text": [
      "AFL data saved\n",
      "Fetching data: A\n"
     ]
    },
    {
     "name": "stderr",
     "output_type": "stream",
     "text": [
      "[*********************100%***********************]  1 of 1 completed\n"
     ]
    },
    {
     "name": "stdout",
     "output_type": "stream",
     "text": [
      "A data saved\n",
      "Fetching data: APD\n"
     ]
    },
    {
     "name": "stderr",
     "output_type": "stream",
     "text": [
      "[*********************100%***********************]  1 of 1 completed\n",
      "[*********************100%***********************]  1 of 1 completed\n"
     ]
    },
    {
     "name": "stdout",
     "output_type": "stream",
     "text": [
      "APD data saved\n",
      "Fetching data: ABNB\n",
      "Skipping ABNB, insufficient data days: 14 days\n",
      "Fetching data: AKAM\n"
     ]
    },
    {
     "name": "stderr",
     "output_type": "stream",
     "text": [
      "[*********************100%***********************]  1 of 1 completed\n"
     ]
    },
    {
     "name": "stdout",
     "output_type": "stream",
     "text": [
      "AKAM data saved\n",
      "Fetching data: ALB\n"
     ]
    },
    {
     "name": "stderr",
     "output_type": "stream",
     "text": [
      "[*********************100%***********************]  1 of 1 completed\n"
     ]
    },
    {
     "name": "stdout",
     "output_type": "stream",
     "text": [
      "ALB data saved\n",
      "Fetching data: ARE\n"
     ]
    },
    {
     "name": "stderr",
     "output_type": "stream",
     "text": [
      "[*********************100%***********************]  1 of 1 completed\n",
      "[*********************100%***********************]  1 of 1 completed\n"
     ]
    },
    {
     "name": "stdout",
     "output_type": "stream",
     "text": [
      "ARE data saved\n",
      "Fetching data: ALGN\n",
      "ALGN data saved\n",
      "Fetching data: ALLE\n"
     ]
    },
    {
     "name": "stderr",
     "output_type": "stream",
     "text": [
      "[*********************100%***********************]  1 of 1 completed\n"
     ]
    },
    {
     "name": "stdout",
     "output_type": "stream",
     "text": [
      "Skipping ALLE, insufficient data days: 1792 days\n",
      "Fetching data: LNT\n"
     ]
    },
    {
     "name": "stderr",
     "output_type": "stream",
     "text": [
      "[*********************100%***********************]  1 of 1 completed\n",
      "[*********************100%***********************]  1 of 1 completed"
     ]
    },
    {
     "name": "stdout",
     "output_type": "stream",
     "text": [
      "LNT data saved\n",
      "Fetching data: ALL\n"
     ]
    },
    {
     "name": "stderr",
     "output_type": "stream",
     "text": [
      "\n"
     ]
    },
    {
     "name": "stdout",
     "output_type": "stream",
     "text": [
      "ALL data saved\n",
      "Fetching data: GOOGL\n"
     ]
    },
    {
     "name": "stderr",
     "output_type": "stream",
     "text": [
      "[*********************100%***********************]  1 of 1 completed\n",
      "[*********************100%***********************]  1 of 1 completed"
     ]
    },
    {
     "name": "stdout",
     "output_type": "stream",
     "text": [
      "GOOGL data saved\n",
      "Fetching data: GOOG\n"
     ]
    },
    {
     "name": "stderr",
     "output_type": "stream",
     "text": [
      "\n"
     ]
    },
    {
     "name": "stdout",
     "output_type": "stream",
     "text": [
      "GOOG data saved\n",
      "Fetching data: MO\n"
     ]
    },
    {
     "name": "stderr",
     "output_type": "stream",
     "text": [
      "[*********************100%***********************]  1 of 1 completed\n"
     ]
    },
    {
     "name": "stdout",
     "output_type": "stream",
     "text": [
      "MO data saved\n",
      "Fetching data: AMZN\n"
     ]
    },
    {
     "name": "stderr",
     "output_type": "stream",
     "text": [
      "[*********************100%***********************]  1 of 1 completed\n",
      "[*********************100%***********************]  1 of 1 completed\n"
     ]
    },
    {
     "name": "stdout",
     "output_type": "stream",
     "text": [
      "AMZN data saved\n",
      "Fetching data: AMCR\n",
      "Skipping AMCR, insufficient data days: 2172 days\n",
      "Fetching data: AEE\n"
     ]
    },
    {
     "name": "stderr",
     "output_type": "stream",
     "text": [
      "[*********************100%***********************]  1 of 1 completed\n"
     ]
    },
    {
     "name": "stdout",
     "output_type": "stream",
     "text": [
      "AEE data saved\n",
      "Fetching data: AEP\n"
     ]
    },
    {
     "name": "stderr",
     "output_type": "stream",
     "text": [
      "[*********************100%***********************]  1 of 1 completed\n"
     ]
    },
    {
     "name": "stdout",
     "output_type": "stream",
     "text": [
      "AEP data saved\n",
      "Fetching data: AXP\n"
     ]
    },
    {
     "name": "stderr",
     "output_type": "stream",
     "text": [
      "[*********************100%***********************]  1 of 1 completed\n"
     ]
    },
    {
     "name": "stdout",
     "output_type": "stream",
     "text": [
      "AXP data saved\n",
      "Fetching data: AIG\n"
     ]
    },
    {
     "name": "stderr",
     "output_type": "stream",
     "text": [
      "[*********************100%***********************]  1 of 1 completed\n"
     ]
    },
    {
     "name": "stdout",
     "output_type": "stream",
     "text": [
      "AIG data saved\n",
      "Fetching data: AMT\n"
     ]
    },
    {
     "name": "stderr",
     "output_type": "stream",
     "text": [
      "[*********************100%***********************]  1 of 1 completed\n",
      "[*********************100%***********************]  1 of 1 completed\n"
     ]
    },
    {
     "name": "stdout",
     "output_type": "stream",
     "text": [
      "AMT data saved\n",
      "Fetching data: AWK\n",
      "AWK data saved\n",
      "Fetching data: AMP\n"
     ]
    },
    {
     "name": "stderr",
     "output_type": "stream",
     "text": [
      "[*********************100%***********************]  1 of 1 completed\n"
     ]
    },
    {
     "name": "stdout",
     "output_type": "stream",
     "text": [
      "AMP data saved\n",
      "Fetching data: AME\n"
     ]
    },
    {
     "name": "stderr",
     "output_type": "stream",
     "text": [
      "[*********************100%***********************]  1 of 1 completed\n"
     ]
    },
    {
     "name": "stdout",
     "output_type": "stream",
     "text": [
      "AME data saved\n",
      "Fetching data: AMGN\n"
     ]
    },
    {
     "name": "stderr",
     "output_type": "stream",
     "text": [
      "[*********************100%***********************]  1 of 1 completed\n",
      "[*********************100%***********************]  1 of 1 completed\n"
     ]
    },
    {
     "name": "stdout",
     "output_type": "stream",
     "text": [
      "AMGN data saved\n",
      "Fetching data: APH\n",
      "APH data saved\n",
      "Fetching data: ADI\n"
     ]
    },
    {
     "name": "stderr",
     "output_type": "stream",
     "text": [
      "[*********************100%***********************]  1 of 1 completed\n",
      "[*********************100%***********************]  1 of 1 completed\n"
     ]
    },
    {
     "name": "stdout",
     "output_type": "stream",
     "text": [
      "ADI data saved\n",
      "Fetching data: ANSS\n",
      "ANSS data saved\n",
      "Fetching data: AON\n"
     ]
    },
    {
     "name": "stderr",
     "output_type": "stream",
     "text": [
      "[*********************100%***********************]  1 of 1 completed\n"
     ]
    },
    {
     "name": "stdout",
     "output_type": "stream",
     "text": [
      "AON data saved\n",
      "Fetching data: APA\n"
     ]
    },
    {
     "name": "stderr",
     "output_type": "stream",
     "text": [
      "[*********************100%***********************]  1 of 1 completed\n"
     ]
    },
    {
     "name": "stdout",
     "output_type": "stream",
     "text": [
      "APA data saved\n",
      "Fetching data: APO\n"
     ]
    },
    {
     "name": "stderr",
     "output_type": "stream",
     "text": [
      "[*********************100%***********************]  1 of 1 completed\n"
     ]
    },
    {
     "name": "stdout",
     "output_type": "stream",
     "text": [
      "Skipping APO, insufficient data days: 2456 days\n",
      "Fetching data: AAPL\n"
     ]
    },
    {
     "name": "stderr",
     "output_type": "stream",
     "text": [
      "[*********************100%***********************]  1 of 1 completed\n"
     ]
    },
    {
     "name": "stdout",
     "output_type": "stream",
     "text": [
      "AAPL data saved\n",
      "Fetching data: AMAT\n"
     ]
    },
    {
     "name": "stderr",
     "output_type": "stream",
     "text": [
      "[*********************100%***********************]  1 of 1 completed\n"
     ]
    },
    {
     "name": "stdout",
     "output_type": "stream",
     "text": [
      "AMAT data saved\n",
      "Fetching data: APTV\n"
     ]
    },
    {
     "name": "stderr",
     "output_type": "stream",
     "text": [
      "[*********************100%***********************]  1 of 1 completed\n",
      "[*********************100%***********************]  1 of 1 completed\n"
     ]
    },
    {
     "name": "stdout",
     "output_type": "stream",
     "text": [
      "Skipping APTV, insufficient data days: 2294 days\n",
      "Fetching data: ACGL\n",
      "ACGL data saved\n",
      "Fetching data: ADM\n"
     ]
    },
    {
     "name": "stderr",
     "output_type": "stream",
     "text": [
      "[*********************100%***********************]  1 of 1 completed\n",
      "[*********************100%***********************]  1 of 1 completed\n"
     ]
    },
    {
     "name": "stdout",
     "output_type": "stream",
     "text": [
      "ADM data saved\n",
      "Fetching data: ANET\n",
      "Skipping ANET, insufficient data days: 1655 days\n",
      "Fetching data: AJG\n"
     ]
    },
    {
     "name": "stderr",
     "output_type": "stream",
     "text": [
      "[*********************100%***********************]  1 of 1 completed\n"
     ]
    },
    {
     "name": "stdout",
     "output_type": "stream",
     "text": [
      "AJG data saved\n",
      "Fetching data: AIZ\n"
     ]
    },
    {
     "name": "stderr",
     "output_type": "stream",
     "text": [
      "[*********************100%***********************]  1 of 1 completed\n"
     ]
    },
    {
     "name": "stdout",
     "output_type": "stream",
     "text": [
      "AIZ data saved\n",
      "Fetching data: T\n"
     ]
    },
    {
     "name": "stderr",
     "output_type": "stream",
     "text": [
      "[*********************100%***********************]  1 of 1 completed\n"
     ]
    },
    {
     "name": "stdout",
     "output_type": "stream",
     "text": [
      "T data saved\n",
      "Fetching data: ATO\n"
     ]
    },
    {
     "name": "stderr",
     "output_type": "stream",
     "text": [
      "[*********************100%***********************]  1 of 1 completed\n"
     ]
    },
    {
     "name": "stdout",
     "output_type": "stream",
     "text": [
      "ATO data saved\n",
      "Fetching data: ADSK\n"
     ]
    },
    {
     "name": "stderr",
     "output_type": "stream",
     "text": [
      "[*********************100%***********************]  1 of 1 completed\n"
     ]
    },
    {
     "name": "stdout",
     "output_type": "stream",
     "text": [
      "ADSK data saved\n",
      "Fetching data: ADP\n"
     ]
    },
    {
     "name": "stderr",
     "output_type": "stream",
     "text": [
      "[*********************100%***********************]  1 of 1 completed\n"
     ]
    },
    {
     "name": "stdout",
     "output_type": "stream",
     "text": [
      "ADP data saved\n",
      "Fetching data: AZO\n"
     ]
    },
    {
     "name": "stderr",
     "output_type": "stream",
     "text": [
      "[*********************100%***********************]  1 of 1 completed\n"
     ]
    },
    {
     "name": "stdout",
     "output_type": "stream",
     "text": [
      "AZO data saved\n",
      "Fetching data: AVB\n"
     ]
    },
    {
     "name": "stderr",
     "output_type": "stream",
     "text": [
      "[*********************100%***********************]  1 of 1 completed\n"
     ]
    },
    {
     "name": "stdout",
     "output_type": "stream",
     "text": [
      "AVB data saved\n",
      "Fetching data: AVY\n"
     ]
    },
    {
     "name": "stderr",
     "output_type": "stream",
     "text": [
      "[*********************100%***********************]  1 of 1 completed\n",
      "[*********************100%***********************]  1 of 1 completed\n"
     ]
    },
    {
     "name": "stdout",
     "output_type": "stream",
     "text": [
      "AVY data saved\n",
      "Fetching data: AXON\n",
      "AXON data saved\n",
      "Fetching data: BKR\n"
     ]
    },
    {
     "name": "stderr",
     "output_type": "stream",
     "text": [
      "[*********************100%***********************]  1 of 1 completed\n"
     ]
    },
    {
     "name": "stdout",
     "output_type": "stream",
     "text": [
      "BKR data saved\n",
      "Fetching data: BALL\n"
     ]
    },
    {
     "name": "stderr",
     "output_type": "stream",
     "text": [
      "[*********************100%***********************]  1 of 1 completed\n"
     ]
    },
    {
     "name": "stdout",
     "output_type": "stream",
     "text": [
      "BALL data saved\n",
      "Fetching data: BAC\n"
     ]
    },
    {
     "name": "stderr",
     "output_type": "stream",
     "text": [
      "[*********************100%***********************]  1 of 1 completed\n"
     ]
    },
    {
     "name": "stdout",
     "output_type": "stream",
     "text": [
      "BAC data saved\n",
      "Fetching data: BAX\n"
     ]
    },
    {
     "name": "stderr",
     "output_type": "stream",
     "text": [
      "[*********************100%***********************]  1 of 1 completed\n"
     ]
    },
    {
     "name": "stdout",
     "output_type": "stream",
     "text": [
      "BAX data saved\n",
      "Fetching data: BDX\n"
     ]
    },
    {
     "name": "stderr",
     "output_type": "stream",
     "text": [
      "[*********************100%***********************]  1 of 1 completed\n"
     ]
    },
    {
     "name": "stdout",
     "output_type": "stream",
     "text": [
      "BDX data saved\n",
      "Fetching data: BRK.B\n"
     ]
    },
    {
     "name": "stderr",
     "output_type": "stream",
     "text": [
      "[*********************100%***********************]  1 of 1 completed\n",
      "\n",
      "1 Failed download:\n",
      "['BRK.B']: YFTzMissingError('possibly delisted; no timezone found')\n"
     ]
    },
    {
     "name": "stdout",
     "output_type": "stream",
     "text": [
      "Skipping BRK.B, insufficient data days: 0 days\n",
      "Fetching data: BBY\n"
     ]
    },
    {
     "name": "stderr",
     "output_type": "stream",
     "text": [
      "[*********************100%***********************]  1 of 1 completed\n"
     ]
    },
    {
     "name": "stdout",
     "output_type": "stream",
     "text": [
      "BBY data saved\n",
      "Fetching data: TECH\n"
     ]
    },
    {
     "name": "stderr",
     "output_type": "stream",
     "text": [
      "[*********************100%***********************]  1 of 1 completed\n"
     ]
    },
    {
     "name": "stdout",
     "output_type": "stream",
     "text": [
      "TECH data saved\n",
      "Fetching data: BIIB\n"
     ]
    },
    {
     "name": "stderr",
     "output_type": "stream",
     "text": [
      "[*********************100%***********************]  1 of 1 completed\n"
     ]
    },
    {
     "name": "stdout",
     "output_type": "stream",
     "text": [
      "BIIB data saved\n",
      "Fetching data: BLK\n"
     ]
    },
    {
     "name": "stderr",
     "output_type": "stream",
     "text": [
      "[*********************100%***********************]  1 of 1 completed\n"
     ]
    },
    {
     "name": "stdout",
     "output_type": "stream",
     "text": [
      "BLK data saved\n",
      "Fetching data: BX\n"
     ]
    },
    {
     "name": "stderr",
     "output_type": "stream",
     "text": [
      "[*********************100%***********************]  1 of 1 completed\n"
     ]
    },
    {
     "name": "stdout",
     "output_type": "stream",
     "text": [
      "BX data saved\n",
      "Fetching data: BK\n"
     ]
    },
    {
     "name": "stderr",
     "output_type": "stream",
     "text": [
      "[*********************100%***********************]  1 of 1 completed\n"
     ]
    },
    {
     "name": "stdout",
     "output_type": "stream",
     "text": [
      "BK data saved\n",
      "Fetching data: BA\n"
     ]
    },
    {
     "name": "stderr",
     "output_type": "stream",
     "text": [
      "[*********************100%***********************]  1 of 1 completed\n"
     ]
    },
    {
     "name": "stdout",
     "output_type": "stream",
     "text": [
      "BA data saved\n",
      "Fetching data: BKNG\n"
     ]
    },
    {
     "name": "stderr",
     "output_type": "stream",
     "text": [
      "[*********************100%***********************]  1 of 1 completed\n"
     ]
    },
    {
     "name": "stdout",
     "output_type": "stream",
     "text": [
      "BKNG data saved\n",
      "Fetching data: BSX\n"
     ]
    },
    {
     "name": "stderr",
     "output_type": "stream",
     "text": [
      "[*********************100%***********************]  1 of 1 completed\n"
     ]
    },
    {
     "name": "stdout",
     "output_type": "stream",
     "text": [
      "BSX data saved\n",
      "Fetching data: BMY\n"
     ]
    },
    {
     "name": "stderr",
     "output_type": "stream",
     "text": [
      "[*********************100%***********************]  1 of 1 completed\n"
     ]
    },
    {
     "name": "stdout",
     "output_type": "stream",
     "text": [
      "BMY data saved\n",
      "Fetching data: AVGO\n"
     ]
    },
    {
     "name": "stderr",
     "output_type": "stream",
     "text": [
      "[*********************100%***********************]  1 of 1 completed\n",
      "[*********************100%***********************]  1 of 1 completed"
     ]
    },
    {
     "name": "stdout",
     "output_type": "stream",
     "text": [
      "AVGO data saved\n",
      "Fetching data: BR\n"
     ]
    },
    {
     "name": "stderr",
     "output_type": "stream",
     "text": [
      "\n"
     ]
    },
    {
     "name": "stdout",
     "output_type": "stream",
     "text": [
      "BR data saved\n",
      "Fetching data: BRO\n"
     ]
    },
    {
     "name": "stderr",
     "output_type": "stream",
     "text": [
      "[*********************100%***********************]  1 of 1 completed\n",
      "[*********************100%***********************]  1 of 1 completed\n",
      "\n",
      "1 Failed download:\n",
      "['BF.B']: YFPricesMissingError('possibly delisted; no price data found  (1d 2010-12-31 -> 2020-12-31)')\n"
     ]
    },
    {
     "name": "stdout",
     "output_type": "stream",
     "text": [
      "BRO data saved\n",
      "Fetching data: BF.B\n",
      "Skipping BF.B, insufficient data days: 0 days\n",
      "Fetching data: BLDR\n"
     ]
    },
    {
     "name": "stderr",
     "output_type": "stream",
     "text": [
      "[*********************100%***********************]  1 of 1 completed\n"
     ]
    },
    {
     "name": "stdout",
     "output_type": "stream",
     "text": [
      "BLDR data saved\n",
      "Fetching data: BG\n"
     ]
    },
    {
     "name": "stderr",
     "output_type": "stream",
     "text": [
      "[*********************100%***********************]  1 of 1 completed\n"
     ]
    },
    {
     "name": "stdout",
     "output_type": "stream",
     "text": [
      "BG data saved\n",
      "Fetching data: BXP\n"
     ]
    },
    {
     "name": "stderr",
     "output_type": "stream",
     "text": [
      "[*********************100%***********************]  1 of 1 completed\n"
     ]
    },
    {
     "name": "stdout",
     "output_type": "stream",
     "text": [
      "BXP data saved\n",
      "Fetching data: CHRW\n"
     ]
    },
    {
     "name": "stderr",
     "output_type": "stream",
     "text": [
      "[*********************100%***********************]  1 of 1 completed\n",
      "[*********************100%***********************]  1 of 1 completed\n"
     ]
    },
    {
     "name": "stdout",
     "output_type": "stream",
     "text": [
      "CHRW data saved\n",
      "Fetching data: CDNS\n",
      "CDNS data saved\n",
      "Fetching data: CZR\n"
     ]
    },
    {
     "name": "stderr",
     "output_type": "stream",
     "text": [
      "[*********************100%***********************]  1 of 1 completed\n"
     ]
    },
    {
     "name": "stdout",
     "output_type": "stream",
     "text": [
      "Skipping CZR, insufficient data days: 1581 days\n",
      "Fetching data: CPT\n"
     ]
    },
    {
     "name": "stderr",
     "output_type": "stream",
     "text": [
      "[*********************100%***********************]  1 of 1 completed\n"
     ]
    },
    {
     "name": "stdout",
     "output_type": "stream",
     "text": [
      "CPT data saved\n",
      "Fetching data: CPB\n"
     ]
    },
    {
     "name": "stderr",
     "output_type": "stream",
     "text": [
      "[*********************100%***********************]  1 of 1 completed\n"
     ]
    },
    {
     "name": "stdout",
     "output_type": "stream",
     "text": [
      "CPB data saved\n",
      "Fetching data: COF\n"
     ]
    },
    {
     "name": "stderr",
     "output_type": "stream",
     "text": [
      "[*********************100%***********************]  1 of 1 completed\n"
     ]
    },
    {
     "name": "stdout",
     "output_type": "stream",
     "text": [
      "COF data saved\n",
      "Fetching data: CAH\n"
     ]
    },
    {
     "name": "stderr",
     "output_type": "stream",
     "text": [
      "[*********************100%***********************]  1 of 1 completed\n",
      "[*********************100%***********************]  1 of 1 completed\n"
     ]
    },
    {
     "name": "stdout",
     "output_type": "stream",
     "text": [
      "CAH data saved\n",
      "Fetching data: KMX\n",
      "KMX data saved\n",
      "Fetching data: CCL\n"
     ]
    },
    {
     "name": "stderr",
     "output_type": "stream",
     "text": [
      "[*********************100%***********************]  1 of 1 completed\n",
      "[*********************100%***********************]  1 of 1 completed\n"
     ]
    },
    {
     "name": "stdout",
     "output_type": "stream",
     "text": [
      "CCL data saved\n",
      "Fetching data: CARR\n",
      "Skipping CARR, insufficient data days: 199 days\n",
      "Fetching data: CAT\n"
     ]
    },
    {
     "name": "stderr",
     "output_type": "stream",
     "text": [
      "[*********************100%***********************]  1 of 1 completed\n"
     ]
    },
    {
     "name": "stdout",
     "output_type": "stream",
     "text": [
      "CAT data saved\n",
      "Fetching data: CBOE\n"
     ]
    },
    {
     "name": "stderr",
     "output_type": "stream",
     "text": [
      "[*********************100%***********************]  1 of 1 completed\n",
      "[*********************100%***********************]  1 of 1 completed\n"
     ]
    },
    {
     "name": "stdout",
     "output_type": "stream",
     "text": [
      "CBOE data saved\n",
      "Fetching data: CBRE\n",
      "CBRE data saved\n",
      "Fetching data: CDW\n"
     ]
    },
    {
     "name": "stderr",
     "output_type": "stream",
     "text": [
      "[*********************100%***********************]  1 of 1 completed\n"
     ]
    },
    {
     "name": "stdout",
     "output_type": "stream",
     "text": [
      "Skipping CDW, insufficient data days: 1892 days\n",
      "Fetching data: COR\n"
     ]
    },
    {
     "name": "stderr",
     "output_type": "stream",
     "text": [
      "[*********************100%***********************]  1 of 1 completed\n",
      "[*********************100%***********************]  1 of 1 completed"
     ]
    },
    {
     "name": "stdout",
     "output_type": "stream",
     "text": [
      "COR data saved\n",
      "Fetching data: CNC\n"
     ]
    },
    {
     "name": "stderr",
     "output_type": "stream",
     "text": [
      "\n"
     ]
    },
    {
     "name": "stdout",
     "output_type": "stream",
     "text": [
      "CNC data saved\n",
      "Fetching data: CNP\n"
     ]
    },
    {
     "name": "stderr",
     "output_type": "stream",
     "text": [
      "[*********************100%***********************]  1 of 1 completed\n"
     ]
    },
    {
     "name": "stdout",
     "output_type": "stream",
     "text": [
      "CNP data saved\n",
      "Fetching data: CF\n"
     ]
    },
    {
     "name": "stderr",
     "output_type": "stream",
     "text": [
      "[*********************100%***********************]  1 of 1 completed\n"
     ]
    },
    {
     "name": "stdout",
     "output_type": "stream",
     "text": [
      "CF data saved\n",
      "Fetching data: CRL\n"
     ]
    },
    {
     "name": "stderr",
     "output_type": "stream",
     "text": [
      "[*********************100%***********************]  1 of 1 completed\n"
     ]
    },
    {
     "name": "stdout",
     "output_type": "stream",
     "text": [
      "CRL data saved\n",
      "Fetching data: SCHW\n"
     ]
    },
    {
     "name": "stderr",
     "output_type": "stream",
     "text": [
      "[*********************100%***********************]  1 of 1 completed\n",
      "[*********************100%***********************]  1 of 1 completed"
     ]
    },
    {
     "name": "stdout",
     "output_type": "stream",
     "text": [
      "SCHW data saved\n",
      "Fetching data: CHTR\n"
     ]
    },
    {
     "name": "stderr",
     "output_type": "stream",
     "text": [
      "\n"
     ]
    },
    {
     "name": "stdout",
     "output_type": "stream",
     "text": [
      "CHTR data saved\n",
      "Fetching data: CVX\n"
     ]
    },
    {
     "name": "stderr",
     "output_type": "stream",
     "text": [
      "[*********************100%***********************]  1 of 1 completed\n"
     ]
    },
    {
     "name": "stdout",
     "output_type": "stream",
     "text": [
      "CVX data saved\n",
      "Fetching data: CMG\n"
     ]
    },
    {
     "name": "stderr",
     "output_type": "stream",
     "text": [
      "[*********************100%***********************]  1 of 1 completed\n"
     ]
    },
    {
     "name": "stdout",
     "output_type": "stream",
     "text": [
      "CMG data saved\n",
      "Fetching data: CB\n"
     ]
    },
    {
     "name": "stderr",
     "output_type": "stream",
     "text": [
      "[*********************100%***********************]  1 of 1 completed\n"
     ]
    },
    {
     "name": "stdout",
     "output_type": "stream",
     "text": [
      "CB data saved\n",
      "Fetching data: CHD\n"
     ]
    },
    {
     "name": "stderr",
     "output_type": "stream",
     "text": [
      "[*********************100%***********************]  1 of 1 completed\n"
     ]
    },
    {
     "name": "stdout",
     "output_type": "stream",
     "text": [
      "CHD data saved\n",
      "Fetching data: CI\n"
     ]
    },
    {
     "name": "stderr",
     "output_type": "stream",
     "text": [
      "[*********************100%***********************]  1 of 1 completed\n",
      "[*********************100%***********************]  1 of 1 completed\n"
     ]
    },
    {
     "name": "stdout",
     "output_type": "stream",
     "text": [
      "CI data saved\n",
      "Fetching data: CINF\n",
      "CINF data saved\n",
      "Fetching data: CTAS\n"
     ]
    },
    {
     "name": "stderr",
     "output_type": "stream",
     "text": [
      "[*********************100%***********************]  1 of 1 completed\n",
      "[*********************100%***********************]  1 of 1 completed\n"
     ]
    },
    {
     "name": "stdout",
     "output_type": "stream",
     "text": [
      "CTAS data saved\n",
      "Fetching data: CSCO\n",
      "CSCO data saved\n",
      "Fetching data: C\n"
     ]
    },
    {
     "name": "stderr",
     "output_type": "stream",
     "text": [
      "[*********************100%***********************]  1 of 1 completed\n"
     ]
    },
    {
     "name": "stdout",
     "output_type": "stream",
     "text": [
      "C data saved\n",
      "Fetching data: CFG\n"
     ]
    },
    {
     "name": "stderr",
     "output_type": "stream",
     "text": [
      "[*********************100%***********************]  1 of 1 completed\n"
     ]
    },
    {
     "name": "stdout",
     "output_type": "stream",
     "text": [
      "Skipping CFG, insufficient data days: 1579 days\n",
      "Fetching data: CLX\n"
     ]
    },
    {
     "name": "stderr",
     "output_type": "stream",
     "text": [
      "[*********************100%***********************]  1 of 1 completed\n"
     ]
    },
    {
     "name": "stdout",
     "output_type": "stream",
     "text": [
      "CLX data saved\n",
      "Fetching data: CME\n"
     ]
    },
    {
     "name": "stderr",
     "output_type": "stream",
     "text": [
      "[*********************100%***********************]  1 of 1 completed\n"
     ]
    },
    {
     "name": "stdout",
     "output_type": "stream",
     "text": [
      "CME data saved\n",
      "Fetching data: CMS\n"
     ]
    },
    {
     "name": "stderr",
     "output_type": "stream",
     "text": [
      "[*********************100%***********************]  1 of 1 completed\n"
     ]
    },
    {
     "name": "stdout",
     "output_type": "stream",
     "text": [
      "CMS data saved\n",
      "Fetching data: KO\n"
     ]
    },
    {
     "name": "stderr",
     "output_type": "stream",
     "text": [
      "[*********************100%***********************]  1 of 1 completed\n",
      "[*********************100%***********************]  1 of 1 completed"
     ]
    },
    {
     "name": "stdout",
     "output_type": "stream",
     "text": [
      "KO data saved\n",
      "Fetching data: CTSH\n"
     ]
    },
    {
     "name": "stderr",
     "output_type": "stream",
     "text": [
      "\n"
     ]
    },
    {
     "name": "stdout",
     "output_type": "stream",
     "text": [
      "CTSH data saved\n",
      "Fetching data: CL\n"
     ]
    },
    {
     "name": "stderr",
     "output_type": "stream",
     "text": [
      "[*********************100%***********************]  1 of 1 completed\n"
     ]
    },
    {
     "name": "stdout",
     "output_type": "stream",
     "text": [
      "CL data saved\n",
      "Fetching data: CMCSA\n"
     ]
    },
    {
     "name": "stderr",
     "output_type": "stream",
     "text": [
      "[*********************100%***********************]  1 of 1 completed\n",
      "[*********************100%***********************]  1 of 1 completed"
     ]
    },
    {
     "name": "stdout",
     "output_type": "stream",
     "text": [
      "CMCSA data saved\n",
      "Fetching data: CAG\n"
     ]
    },
    {
     "name": "stderr",
     "output_type": "stream",
     "text": [
      "\n"
     ]
    },
    {
     "name": "stdout",
     "output_type": "stream",
     "text": [
      "CAG data saved\n",
      "Fetching data: COP\n"
     ]
    },
    {
     "name": "stderr",
     "output_type": "stream",
     "text": [
      "[*********************100%***********************]  1 of 1 completed\n"
     ]
    },
    {
     "name": "stdout",
     "output_type": "stream",
     "text": [
      "COP data saved\n",
      "Fetching data: ED\n"
     ]
    },
    {
     "name": "stderr",
     "output_type": "stream",
     "text": [
      "[*********************100%***********************]  1 of 1 completed\n"
     ]
    },
    {
     "name": "stdout",
     "output_type": "stream",
     "text": [
      "ED data saved\n",
      "Fetching data: STZ\n"
     ]
    },
    {
     "name": "stderr",
     "output_type": "stream",
     "text": [
      "[*********************100%***********************]  1 of 1 completed\n"
     ]
    },
    {
     "name": "stdout",
     "output_type": "stream",
     "text": [
      "STZ data saved\n",
      "Fetching data: CEG\n"
     ]
    },
    {
     "name": "stderr",
     "output_type": "stream",
     "text": [
      "[*********************100%***********************]  1 of 1 completed\n",
      "\n",
      "1 Failed download:\n",
      "['CEG']: YFPricesMissingError('possibly delisted; no price data found  (1d 2010-12-31 -> 2020-12-31) (Yahoo error = \"Data doesn\\'t exist for startDate = 1293771600, endDate = 1609390800\")')\n"
     ]
    },
    {
     "name": "stdout",
     "output_type": "stream",
     "text": [
      "Skipping CEG, insufficient data days: 0 days\n",
      "Fetching data: COO\n"
     ]
    },
    {
     "name": "stderr",
     "output_type": "stream",
     "text": [
      "[*********************100%***********************]  1 of 1 completed\n"
     ]
    },
    {
     "name": "stdout",
     "output_type": "stream",
     "text": [
      "COO data saved\n",
      "Fetching data: CPRT\n"
     ]
    },
    {
     "name": "stderr",
     "output_type": "stream",
     "text": [
      "[*********************100%***********************]  1 of 1 completed\n"
     ]
    },
    {
     "name": "stdout",
     "output_type": "stream",
     "text": [
      "CPRT data saved\n",
      "Fetching data: GLW\n"
     ]
    },
    {
     "name": "stderr",
     "output_type": "stream",
     "text": [
      "[*********************100%***********************]  1 of 1 completed\n"
     ]
    },
    {
     "name": "stdout",
     "output_type": "stream",
     "text": [
      "GLW data saved\n",
      "Fetching data: CPAY\n"
     ]
    },
    {
     "name": "stderr",
     "output_type": "stream",
     "text": [
      "[*********************100%***********************]  1 of 1 completed\n",
      "[*********************100%***********************]  1 of 1 completed\n"
     ]
    },
    {
     "name": "stdout",
     "output_type": "stream",
     "text": [
      "CPAY data saved\n",
      "Fetching data: CTVA\n",
      "Skipping CTVA, insufficient data days: 405 days\n",
      "Fetching data: CSGP\n"
     ]
    },
    {
     "name": "stderr",
     "output_type": "stream",
     "text": [
      "[*********************100%***********************]  1 of 1 completed\n"
     ]
    },
    {
     "name": "stdout",
     "output_type": "stream",
     "text": [
      "CSGP data saved\n",
      "Fetching data: COST\n"
     ]
    },
    {
     "name": "stderr",
     "output_type": "stream",
     "text": [
      "[*********************100%***********************]  1 of 1 completed\n",
      "[*********************100%***********************]  1 of 1 completed"
     ]
    },
    {
     "name": "stdout",
     "output_type": "stream",
     "text": [
      "COST data saved\n",
      "Fetching data: CTRA\n"
     ]
    },
    {
     "name": "stderr",
     "output_type": "stream",
     "text": [
      "\n",
      "[*********************100%***********************]  1 of 1 completed\n"
     ]
    },
    {
     "name": "stdout",
     "output_type": "stream",
     "text": [
      "CTRA data saved\n",
      "Fetching data: CRWD\n",
      "Skipping CRWD, insufficient data days: 393 days\n",
      "Fetching data: CCI\n"
     ]
    },
    {
     "name": "stderr",
     "output_type": "stream",
     "text": [
      "[*********************100%***********************]  1 of 1 completed\n"
     ]
    },
    {
     "name": "stdout",
     "output_type": "stream",
     "text": [
      "CCI data saved\n",
      "Fetching data: CSX\n"
     ]
    },
    {
     "name": "stderr",
     "output_type": "stream",
     "text": [
      "[*********************100%***********************]  1 of 1 completed\n"
     ]
    },
    {
     "name": "stdout",
     "output_type": "stream",
     "text": [
      "CSX data saved\n",
      "Fetching data: CMI\n"
     ]
    },
    {
     "name": "stderr",
     "output_type": "stream",
     "text": [
      "[*********************100%***********************]  1 of 1 completed\n",
      "[*********************100%***********************]  1 of 1 completed"
     ]
    },
    {
     "name": "stdout",
     "output_type": "stream",
     "text": [
      "CMI data saved\n",
      "Fetching data: CVS\n"
     ]
    },
    {
     "name": "stderr",
     "output_type": "stream",
     "text": [
      "\n",
      "[*********************100%***********************]  1 of 1 completed"
     ]
    },
    {
     "name": "stdout",
     "output_type": "stream",
     "text": [
      "CVS data saved\n",
      "Fetching data: DHR\n"
     ]
    },
    {
     "name": "stderr",
     "output_type": "stream",
     "text": [
      "\n"
     ]
    },
    {
     "name": "stdout",
     "output_type": "stream",
     "text": [
      "DHR data saved\n",
      "Fetching data: DRI\n"
     ]
    },
    {
     "name": "stderr",
     "output_type": "stream",
     "text": [
      "[*********************100%***********************]  1 of 1 completed\n"
     ]
    },
    {
     "name": "stdout",
     "output_type": "stream",
     "text": [
      "DRI data saved\n",
      "Fetching data: DVA\n"
     ]
    },
    {
     "name": "stderr",
     "output_type": "stream",
     "text": [
      "[*********************100%***********************]  1 of 1 completed\n",
      "[*********************100%***********************]  1 of 1 completed\n"
     ]
    },
    {
     "name": "stdout",
     "output_type": "stream",
     "text": [
      "DVA data saved\n",
      "Fetching data: DAY\n",
      "Skipping DAY, insufficient data days: 676 days\n",
      "Fetching data: DECK\n"
     ]
    },
    {
     "name": "stderr",
     "output_type": "stream",
     "text": [
      "[*********************100%***********************]  1 of 1 completed\n"
     ]
    },
    {
     "name": "stdout",
     "output_type": "stream",
     "text": [
      "DECK data saved\n",
      "Fetching data: DE\n"
     ]
    },
    {
     "name": "stderr",
     "output_type": "stream",
     "text": [
      "[*********************100%***********************]  1 of 1 completed\n",
      "[*********************100%***********************]  1 of 1 completed\n"
     ]
    },
    {
     "name": "stdout",
     "output_type": "stream",
     "text": [
      "DE data saved\n",
      "Fetching data: DELL\n",
      "Skipping DELL, insufficient data days: 1101 days\n",
      "Fetching data: DAL\n"
     ]
    },
    {
     "name": "stderr",
     "output_type": "stream",
     "text": [
      "[*********************100%***********************]  1 of 1 completed\n"
     ]
    },
    {
     "name": "stdout",
     "output_type": "stream",
     "text": [
      "DAL data saved\n",
      "Fetching data: DVN\n"
     ]
    },
    {
     "name": "stderr",
     "output_type": "stream",
     "text": [
      "[*********************100%***********************]  1 of 1 completed\n",
      "[*********************100%***********************]  1 of 1 completed\n"
     ]
    },
    {
     "name": "stdout",
     "output_type": "stream",
     "text": [
      "DVN data saved\n",
      "Fetching data: DXCM\n",
      "DXCM data saved\n",
      "Fetching data: FANG\n"
     ]
    },
    {
     "name": "stderr",
     "output_type": "stream",
     "text": [
      "[*********************100%***********************]  1 of 1 completed\n"
     ]
    },
    {
     "name": "stdout",
     "output_type": "stream",
     "text": [
      "Skipping FANG, insufficient data days: 2067 days\n",
      "Fetching data: DLR\n"
     ]
    },
    {
     "name": "stderr",
     "output_type": "stream",
     "text": [
      "[*********************100%***********************]  1 of 1 completed\n"
     ]
    },
    {
     "name": "stdout",
     "output_type": "stream",
     "text": [
      "DLR data saved\n",
      "Fetching data: DFS\n"
     ]
    },
    {
     "name": "stderr",
     "output_type": "stream",
     "text": [
      "[*********************100%***********************]  1 of 1 completed\n"
     ]
    },
    {
     "name": "stdout",
     "output_type": "stream",
     "text": [
      "DFS data saved\n",
      "Fetching data: DG\n"
     ]
    },
    {
     "name": "stderr",
     "output_type": "stream",
     "text": [
      "[*********************100%***********************]  1 of 1 completed\n",
      "[*********************100%***********************]  1 of 1 completed\n"
     ]
    },
    {
     "name": "stdout",
     "output_type": "stream",
     "text": [
      "DG data saved\n",
      "Fetching data: DLTR\n",
      "DLTR data saved\n",
      "Fetching data: D\n"
     ]
    },
    {
     "name": "stderr",
     "output_type": "stream",
     "text": [
      "[*********************100%***********************]  1 of 1 completed\n"
     ]
    },
    {
     "name": "stdout",
     "output_type": "stream",
     "text": [
      "D data saved\n",
      "Fetching data: DPZ\n"
     ]
    },
    {
     "name": "stderr",
     "output_type": "stream",
     "text": [
      "[*********************100%***********************]  1 of 1 completed\n",
      "[*********************100%***********************]  1 of 1 completed\n"
     ]
    },
    {
     "name": "stdout",
     "output_type": "stream",
     "text": [
      "DPZ data saved\n",
      "Fetching data: DASH\n",
      "Skipping DASH, insufficient data days: 15 days\n",
      "Fetching data: DOV\n"
     ]
    },
    {
     "name": "stderr",
     "output_type": "stream",
     "text": [
      "[*********************100%***********************]  1 of 1 completed\n",
      "[*********************100%***********************]  1 of 1 completed\n"
     ]
    },
    {
     "name": "stdout",
     "output_type": "stream",
     "text": [
      "DOV data saved\n",
      "Fetching data: DOW\n",
      "Skipping DOW, insufficient data days: 451 days\n",
      "Fetching data: DHI\n"
     ]
    },
    {
     "name": "stderr",
     "output_type": "stream",
     "text": [
      "[*********************100%***********************]  1 of 1 completed\n"
     ]
    },
    {
     "name": "stdout",
     "output_type": "stream",
     "text": [
      "DHI data saved\n",
      "Fetching data: DTE\n"
     ]
    },
    {
     "name": "stderr",
     "output_type": "stream",
     "text": [
      "[*********************100%***********************]  1 of 1 completed\n"
     ]
    },
    {
     "name": "stdout",
     "output_type": "stream",
     "text": [
      "DTE data saved\n",
      "Fetching data: DUK\n"
     ]
    },
    {
     "name": "stderr",
     "output_type": "stream",
     "text": [
      "[*********************100%***********************]  1 of 1 completed\n"
     ]
    },
    {
     "name": "stdout",
     "output_type": "stream",
     "text": [
      "DUK data saved\n",
      "Fetching data: DD\n"
     ]
    },
    {
     "name": "stderr",
     "output_type": "stream",
     "text": [
      "[*********************100%***********************]  1 of 1 completed\n"
     ]
    },
    {
     "name": "stdout",
     "output_type": "stream",
     "text": [
      "DD data saved\n",
      "Fetching data: EMN\n"
     ]
    },
    {
     "name": "stderr",
     "output_type": "stream",
     "text": [
      "[*********************100%***********************]  1 of 1 completed\n"
     ]
    },
    {
     "name": "stdout",
     "output_type": "stream",
     "text": [
      "EMN data saved\n",
      "Fetching data: ETN\n"
     ]
    },
    {
     "name": "stderr",
     "output_type": "stream",
     "text": [
      "[*********************100%***********************]  1 of 1 completed\n"
     ]
    },
    {
     "name": "stdout",
     "output_type": "stream",
     "text": [
      "ETN data saved\n",
      "Fetching data: EBAY\n"
     ]
    },
    {
     "name": "stderr",
     "output_type": "stream",
     "text": [
      "[*********************100%***********************]  1 of 1 completed\n"
     ]
    },
    {
     "name": "stdout",
     "output_type": "stream",
     "text": [
      "EBAY data saved\n",
      "Fetching data: ECL\n"
     ]
    },
    {
     "name": "stderr",
     "output_type": "stream",
     "text": [
      "[*********************100%***********************]  1 of 1 completed\n"
     ]
    },
    {
     "name": "stdout",
     "output_type": "stream",
     "text": [
      "ECL data saved\n",
      "Fetching data: EIX\n"
     ]
    },
    {
     "name": "stderr",
     "output_type": "stream",
     "text": [
      "[*********************100%***********************]  1 of 1 completed\n"
     ]
    },
    {
     "name": "stdout",
     "output_type": "stream",
     "text": [
      "EIX data saved\n",
      "Fetching data: EW\n"
     ]
    },
    {
     "name": "stderr",
     "output_type": "stream",
     "text": [
      "[*********************100%***********************]  1 of 1 completed\n",
      "[*********************100%***********************]  1 of 1 completed\n"
     ]
    },
    {
     "name": "stdout",
     "output_type": "stream",
     "text": [
      "EW data saved\n",
      "Fetching data: EA\n",
      "EA data saved\n",
      "Fetching data: ELV\n"
     ]
    },
    {
     "name": "stderr",
     "output_type": "stream",
     "text": [
      "[*********************100%***********************]  1 of 1 completed\n"
     ]
    },
    {
     "name": "stdout",
     "output_type": "stream",
     "text": [
      "ELV data saved\n",
      "Fetching data: EMR\n"
     ]
    },
    {
     "name": "stderr",
     "output_type": "stream",
     "text": [
      "[*********************100%***********************]  1 of 1 completed\n",
      "[*********************100%***********************]  1 of 1 completed\n"
     ]
    },
    {
     "name": "stdout",
     "output_type": "stream",
     "text": [
      "EMR data saved\n",
      "Fetching data: ENPH\n",
      "Skipping ENPH, insufficient data days: 2203 days\n",
      "Fetching data: ETR\n"
     ]
    },
    {
     "name": "stderr",
     "output_type": "stream",
     "text": [
      "[*********************100%***********************]  1 of 1 completed\n"
     ]
    },
    {
     "name": "stdout",
     "output_type": "stream",
     "text": [
      "ETR data saved\n",
      "Fetching data: EOG\n"
     ]
    },
    {
     "name": "stderr",
     "output_type": "stream",
     "text": [
      "[*********************100%***********************]  1 of 1 completed\n",
      "[*********************100%***********************]  1 of 1 completed"
     ]
    },
    {
     "name": "stdout",
     "output_type": "stream",
     "text": [
      "EOG data saved\n",
      "Fetching data: EPAM\n",
      "Skipping EPAM, insufficient data days: 2239 days\n",
      "Fetching data: EQT\n"
     ]
    },
    {
     "name": "stderr",
     "output_type": "stream",
     "text": [
      "\n",
      "[*********************100%***********************]  1 of 1 completed\n"
     ]
    },
    {
     "name": "stdout",
     "output_type": "stream",
     "text": [
      "EQT data saved\n",
      "Fetching data: EFX\n"
     ]
    },
    {
     "name": "stderr",
     "output_type": "stream",
     "text": [
      "[*********************100%***********************]  1 of 1 completed\n"
     ]
    },
    {
     "name": "stdout",
     "output_type": "stream",
     "text": [
      "EFX data saved\n",
      "Fetching data: EQIX\n"
     ]
    },
    {
     "name": "stderr",
     "output_type": "stream",
     "text": [
      "[*********************100%***********************]  1 of 1 completed\n"
     ]
    },
    {
     "name": "stdout",
     "output_type": "stream",
     "text": [
      "EQIX data saved\n",
      "Fetching data: EQR\n"
     ]
    },
    {
     "name": "stderr",
     "output_type": "stream",
     "text": [
      "[*********************100%***********************]  1 of 1 completed\n",
      "[*********************100%***********************]  1 of 1 completed\n"
     ]
    },
    {
     "name": "stdout",
     "output_type": "stream",
     "text": [
      "EQR data saved\n",
      "Fetching data: ERIE\n",
      "ERIE data saved\n",
      "Fetching data: ESS\n"
     ]
    },
    {
     "name": "stderr",
     "output_type": "stream",
     "text": [
      "[*********************100%***********************]  1 of 1 completed\n"
     ]
    },
    {
     "name": "stdout",
     "output_type": "stream",
     "text": [
      "ESS data saved\n",
      "Fetching data: EL\n"
     ]
    },
    {
     "name": "stderr",
     "output_type": "stream",
     "text": [
      "[*********************100%***********************]  1 of 1 completed\n"
     ]
    },
    {
     "name": "stdout",
     "output_type": "stream",
     "text": [
      "EL data saved\n",
      "Fetching data: EG\n"
     ]
    },
    {
     "name": "stderr",
     "output_type": "stream",
     "text": [
      "[*********************100%***********************]  1 of 1 completed\n"
     ]
    },
    {
     "name": "stdout",
     "output_type": "stream",
     "text": [
      "EG data saved\n",
      "Fetching data: EVRG\n"
     ]
    },
    {
     "name": "stderr",
     "output_type": "stream",
     "text": [
      "[*********************100%***********************]  1 of 1 completed\n"
     ]
    },
    {
     "name": "stdout",
     "output_type": "stream",
     "text": [
      "EVRG data saved\n",
      "Fetching data: ES\n"
     ]
    },
    {
     "name": "stderr",
     "output_type": "stream",
     "text": [
      "[*********************100%***********************]  1 of 1 completed\n"
     ]
    },
    {
     "name": "stdout",
     "output_type": "stream",
     "text": [
      "ES data saved\n",
      "Fetching data: EXC\n"
     ]
    },
    {
     "name": "stderr",
     "output_type": "stream",
     "text": [
      "[*********************100%***********************]  1 of 1 completed\n"
     ]
    },
    {
     "name": "stdout",
     "output_type": "stream",
     "text": [
      "EXC data saved\n",
      "Fetching data: EXE\n"
     ]
    },
    {
     "name": "stderr",
     "output_type": "stream",
     "text": [
      "[*********************100%***********************]  1 of 1 completed\n",
      "\n",
      "1 Failed download:\n",
      "['EXE']: YFPricesMissingError('possibly delisted; no price data found  (1d 2010-12-31 -> 2020-12-31) (Yahoo error = \"Data doesn\\'t exist for startDate = 1293771600, endDate = 1609390800\")')\n"
     ]
    },
    {
     "name": "stdout",
     "output_type": "stream",
     "text": [
      "Skipping EXE, insufficient data days: 0 days\n",
      "Fetching data: EXPE\n"
     ]
    },
    {
     "name": "stderr",
     "output_type": "stream",
     "text": [
      "[*********************100%***********************]  1 of 1 completed\n"
     ]
    },
    {
     "name": "stdout",
     "output_type": "stream",
     "text": [
      "EXPE data saved\n",
      "Fetching data: EXPD\n"
     ]
    },
    {
     "name": "stderr",
     "output_type": "stream",
     "text": [
      "[*********************100%***********************]  1 of 1 completed\n",
      "[*********************100%***********************]  1 of 1 completed\n"
     ]
    },
    {
     "name": "stdout",
     "output_type": "stream",
     "text": [
      "EXPD data saved\n",
      "Fetching data: EXR\n",
      "EXR data saved\n",
      "Fetching data: XOM\n"
     ]
    },
    {
     "name": "stderr",
     "output_type": "stream",
     "text": [
      "[*********************100%***********************]  1 of 1 completed\n"
     ]
    },
    {
     "name": "stdout",
     "output_type": "stream",
     "text": [
      "XOM data saved\n",
      "Fetching data: FFIV\n"
     ]
    },
    {
     "name": "stderr",
     "output_type": "stream",
     "text": [
      "[*********************100%***********************]  1 of 1 completed\n",
      "[*********************100%***********************]  1 of 1 completed\n"
     ]
    },
    {
     "name": "stdout",
     "output_type": "stream",
     "text": [
      "FFIV data saved\n",
      "Fetching data: FDS\n",
      "FDS data saved\n",
      "Fetching data: FICO\n"
     ]
    },
    {
     "name": "stderr",
     "output_type": "stream",
     "text": [
      "[*********************100%***********************]  1 of 1 completed\n"
     ]
    },
    {
     "name": "stdout",
     "output_type": "stream",
     "text": [
      "FICO data saved\n",
      "Fetching data: FAST\n"
     ]
    },
    {
     "name": "stderr",
     "output_type": "stream",
     "text": [
      "[*********************100%***********************]  1 of 1 completed\n"
     ]
    },
    {
     "name": "stdout",
     "output_type": "stream",
     "text": [
      "FAST data saved\n",
      "Fetching data: FRT\n"
     ]
    },
    {
     "name": "stderr",
     "output_type": "stream",
     "text": [
      "[*********************100%***********************]  1 of 1 completed\n"
     ]
    },
    {
     "name": "stdout",
     "output_type": "stream",
     "text": [
      "FRT data saved\n",
      "Fetching data: FDX\n"
     ]
    },
    {
     "name": "stderr",
     "output_type": "stream",
     "text": [
      "[*********************100%***********************]  1 of 1 completed\n",
      "[*********************100%***********************]  1 of 1 completed"
     ]
    },
    {
     "name": "stdout",
     "output_type": "stream",
     "text": [
      "FDX data saved\n",
      "Fetching data: FIS\n"
     ]
    },
    {
     "name": "stderr",
     "output_type": "stream",
     "text": [
      "\n"
     ]
    },
    {
     "name": "stdout",
     "output_type": "stream",
     "text": [
      "FIS data saved\n",
      "Fetching data: FITB\n"
     ]
    },
    {
     "name": "stderr",
     "output_type": "stream",
     "text": [
      "[*********************100%***********************]  1 of 1 completed\n",
      "[*********************100%***********************]  1 of 1 completed\n"
     ]
    },
    {
     "name": "stdout",
     "output_type": "stream",
     "text": [
      "FITB data saved\n",
      "Fetching data: FSLR\n",
      "FSLR data saved\n",
      "Fetching data: FE\n"
     ]
    },
    {
     "name": "stderr",
     "output_type": "stream",
     "text": [
      "[*********************100%***********************]  1 of 1 completed\n",
      "[*********************100%***********************]  1 of 1 completed\n"
     ]
    },
    {
     "name": "stdout",
     "output_type": "stream",
     "text": [
      "FE data saved\n",
      "Fetching data: FI\n",
      "FI data saved\n",
      "Fetching data: F\n"
     ]
    },
    {
     "name": "stderr",
     "output_type": "stream",
     "text": [
      "[*********************100%***********************]  1 of 1 completed\n"
     ]
    },
    {
     "name": "stdout",
     "output_type": "stream",
     "text": [
      "F data saved\n",
      "Fetching data: FTNT\n"
     ]
    },
    {
     "name": "stderr",
     "output_type": "stream",
     "text": [
      "[*********************100%***********************]  1 of 1 completed\n",
      "[*********************100%***********************]  1 of 1 completed\n"
     ]
    },
    {
     "name": "stdout",
     "output_type": "stream",
     "text": [
      "FTNT data saved\n",
      "Fetching data: FTV\n",
      "Skipping FTV, insufficient data days: 1132 days\n",
      "Fetching data: FOXA\n"
     ]
    },
    {
     "name": "stderr",
     "output_type": "stream",
     "text": [
      "[*********************100%***********************]  1 of 1 completed\n",
      "[*********************100%***********************]  1 of 1 completed\n"
     ]
    },
    {
     "name": "stdout",
     "output_type": "stream",
     "text": [
      "Skipping FOXA, insufficient data days: 457 days\n",
      "Fetching data: FOX\n",
      "Skipping FOX, insufficient data days: 456 days\n",
      "Fetching data: BEN\n"
     ]
    },
    {
     "name": "stderr",
     "output_type": "stream",
     "text": [
      "[*********************100%***********************]  1 of 1 completed\n",
      "[*********************100%***********************]  1 of 1 completed\n"
     ]
    },
    {
     "name": "stdout",
     "output_type": "stream",
     "text": [
      "BEN data saved\n",
      "Fetching data: FCX\n",
      "FCX data saved\n",
      "Fetching data: GRMN\n"
     ]
    },
    {
     "name": "stderr",
     "output_type": "stream",
     "text": [
      "[*********************100%***********************]  1 of 1 completed\n"
     ]
    },
    {
     "name": "stdout",
     "output_type": "stream",
     "text": [
      "GRMN data saved\n",
      "Fetching data: IT\n"
     ]
    },
    {
     "name": "stderr",
     "output_type": "stream",
     "text": [
      "[*********************100%***********************]  1 of 1 completed\n"
     ]
    },
    {
     "name": "stdout",
     "output_type": "stream",
     "text": [
      "IT data saved\n",
      "Fetching data: GE\n"
     ]
    },
    {
     "name": "stderr",
     "output_type": "stream",
     "text": [
      "[*********************100%***********************]  1 of 1 completed\n"
     ]
    },
    {
     "name": "stdout",
     "output_type": "stream",
     "text": [
      "GE data saved\n",
      "Fetching data: GEHC\n"
     ]
    },
    {
     "name": "stderr",
     "output_type": "stream",
     "text": [
      "[*********************100%***********************]  1 of 1 completed\n",
      "\n",
      "1 Failed download:\n",
      "['GEHC']: YFPricesMissingError('possibly delisted; no price data found  (1d 2010-12-31 -> 2020-12-31) (Yahoo error = \"Data doesn\\'t exist for startDate = 1293771600, endDate = 1609390800\")')\n"
     ]
    },
    {
     "name": "stdout",
     "output_type": "stream",
     "text": [
      "Skipping GEHC, insufficient data days: 0 days\n",
      "Fetching data: GEV\n"
     ]
    },
    {
     "name": "stderr",
     "output_type": "stream",
     "text": [
      "[*********************100%***********************]  1 of 1 completed\n",
      "\n",
      "1 Failed download:\n",
      "['GEV']: YFPricesMissingError('possibly delisted; no price data found  (1d 2010-12-31 -> 2020-12-31) (Yahoo error = \"Data doesn\\'t exist for startDate = 1293771600, endDate = 1609390800\")')\n"
     ]
    },
    {
     "name": "stdout",
     "output_type": "stream",
     "text": [
      "Skipping GEV, insufficient data days: 0 days\n",
      "Fetching data: GEN\n"
     ]
    },
    {
     "name": "stderr",
     "output_type": "stream",
     "text": [
      "[*********************100%***********************]  1 of 1 completed\n"
     ]
    },
    {
     "name": "stdout",
     "output_type": "stream",
     "text": [
      "GEN data saved\n",
      "Fetching data: GNRC\n"
     ]
    },
    {
     "name": "stderr",
     "output_type": "stream",
     "text": [
      "[*********************100%***********************]  1 of 1 completed\n"
     ]
    },
    {
     "name": "stdout",
     "output_type": "stream",
     "text": [
      "GNRC data saved\n",
      "Fetching data: GD\n"
     ]
    },
    {
     "name": "stderr",
     "output_type": "stream",
     "text": [
      "[*********************100%***********************]  1 of 1 completed\n"
     ]
    },
    {
     "name": "stdout",
     "output_type": "stream",
     "text": [
      "GD data saved\n",
      "Fetching data: GIS\n"
     ]
    },
    {
     "name": "stderr",
     "output_type": "stream",
     "text": [
      "[*********************100%***********************]  1 of 1 completed\n",
      "[*********************100%***********************]  1 of 1 completed\n"
     ]
    },
    {
     "name": "stdout",
     "output_type": "stream",
     "text": [
      "GIS data saved\n",
      "Fetching data: GM\n",
      "GM data saved\n",
      "Fetching data: GPC\n"
     ]
    },
    {
     "name": "stderr",
     "output_type": "stream",
     "text": [
      "[*********************100%***********************]  1 of 1 completed\n"
     ]
    },
    {
     "name": "stdout",
     "output_type": "stream",
     "text": [
      "GPC data saved\n",
      "Fetching data: GILD\n"
     ]
    },
    {
     "name": "stderr",
     "output_type": "stream",
     "text": [
      "[*********************100%***********************]  1 of 1 completed\n"
     ]
    },
    {
     "name": "stdout",
     "output_type": "stream",
     "text": [
      "GILD data saved\n",
      "Fetching data: GPN\n"
     ]
    },
    {
     "name": "stderr",
     "output_type": "stream",
     "text": [
      "[*********************100%***********************]  1 of 1 completed\n"
     ]
    },
    {
     "name": "stdout",
     "output_type": "stream",
     "text": [
      "GPN data saved\n",
      "Fetching data: GL\n"
     ]
    },
    {
     "name": "stderr",
     "output_type": "stream",
     "text": [
      "[*********************100%***********************]  1 of 1 completed\n",
      "[*********************100%***********************]  1 of 1 completed\n"
     ]
    },
    {
     "name": "stdout",
     "output_type": "stream",
     "text": [
      "GL data saved\n",
      "Fetching data: GDDY\n",
      "Skipping GDDY, insufficient data days: 1450 days\n",
      "Fetching data: GS\n"
     ]
    },
    {
     "name": "stderr",
     "output_type": "stream",
     "text": [
      "[*********************100%***********************]  1 of 1 completed\n"
     ]
    },
    {
     "name": "stdout",
     "output_type": "stream",
     "text": [
      "GS data saved\n",
      "Fetching data: HAL\n"
     ]
    },
    {
     "name": "stderr",
     "output_type": "stream",
     "text": [
      "[*********************100%***********************]  1 of 1 completed\n"
     ]
    },
    {
     "name": "stdout",
     "output_type": "stream",
     "text": [
      "HAL data saved\n",
      "Fetching data: HIG\n"
     ]
    },
    {
     "name": "stderr",
     "output_type": "stream",
     "text": [
      "[*********************100%***********************]  1 of 1 completed\n",
      "[*********************100%***********************]  1 of 1 completed"
     ]
    },
    {
     "name": "stdout",
     "output_type": "stream",
     "text": [
      "HIG data saved\n",
      "Fetching data: HAS\n"
     ]
    },
    {
     "name": "stderr",
     "output_type": "stream",
     "text": [
      "\n",
      "[*********************100%***********************]  1 of 1 completed\n"
     ]
    },
    {
     "name": "stdout",
     "output_type": "stream",
     "text": [
      "HAS data saved\n",
      "Fetching data: HCA\n",
      "Skipping HCA, insufficient data days: 2470 days\n",
      "Fetching data: DOC\n"
     ]
    },
    {
     "name": "stderr",
     "output_type": "stream",
     "text": [
      "[*********************100%***********************]  1 of 1 completed\n"
     ]
    },
    {
     "name": "stdout",
     "output_type": "stream",
     "text": [
      "DOC data saved\n",
      "Fetching data: HSIC\n"
     ]
    },
    {
     "name": "stderr",
     "output_type": "stream",
     "text": [
      "[*********************100%***********************]  1 of 1 completed\n"
     ]
    },
    {
     "name": "stdout",
     "output_type": "stream",
     "text": [
      "HSIC data saved\n",
      "Fetching data: HSY\n"
     ]
    },
    {
     "name": "stderr",
     "output_type": "stream",
     "text": [
      "[*********************100%***********************]  1 of 1 completed\n"
     ]
    },
    {
     "name": "stdout",
     "output_type": "stream",
     "text": [
      "HSY data saved\n",
      "Fetching data: HES\n"
     ]
    },
    {
     "name": "stderr",
     "output_type": "stream",
     "text": [
      "[*********************100%***********************]  1 of 1 completed\n",
      "[*********************100%***********************]  1 of 1 completed\n"
     ]
    },
    {
     "name": "stdout",
     "output_type": "stream",
     "text": [
      "HES data saved\n",
      "Fetching data: HPE\n",
      "Skipping HPE, insufficient data days: 1310 days\n",
      "Fetching data: HLT\n"
     ]
    },
    {
     "name": "stderr",
     "output_type": "stream",
     "text": [
      "[*********************100%***********************]  1 of 1 completed\n",
      "[*********************100%***********************]  1 of 1 completed\n"
     ]
    },
    {
     "name": "stdout",
     "output_type": "stream",
     "text": [
      "Skipping HLT, insufficient data days: 1775 days\n",
      "Fetching data: HOLX\n",
      "HOLX data saved\n",
      "Fetching data: HD\n"
     ]
    },
    {
     "name": "stderr",
     "output_type": "stream",
     "text": [
      "[*********************100%***********************]  1 of 1 completed\n"
     ]
    },
    {
     "name": "stdout",
     "output_type": "stream",
     "text": [
      "HD data saved\n",
      "Fetching data: HON\n"
     ]
    },
    {
     "name": "stderr",
     "output_type": "stream",
     "text": [
      "[*********************100%***********************]  1 of 1 completed\n"
     ]
    },
    {
     "name": "stdout",
     "output_type": "stream",
     "text": [
      "HON data saved\n",
      "Fetching data: HRL\n"
     ]
    },
    {
     "name": "stderr",
     "output_type": "stream",
     "text": [
      "[*********************100%***********************]  1 of 1 completed\n"
     ]
    },
    {
     "name": "stdout",
     "output_type": "stream",
     "text": [
      "HRL data saved\n",
      "Fetching data: HST\n"
     ]
    },
    {
     "name": "stderr",
     "output_type": "stream",
     "text": [
      "[*********************100%***********************]  1 of 1 completed\n",
      "[*********************100%***********************]  1 of 1 completed\n"
     ]
    },
    {
     "name": "stdout",
     "output_type": "stream",
     "text": [
      "HST data saved\n",
      "Fetching data: HWM\n",
      "Skipping HWM, insufficient data days: 1048 days\n",
      "Fetching data: HPQ\n"
     ]
    },
    {
     "name": "stderr",
     "output_type": "stream",
     "text": [
      "[*********************100%***********************]  1 of 1 completed\n"
     ]
    },
    {
     "name": "stdout",
     "output_type": "stream",
     "text": [
      "HPQ data saved\n",
      "Fetching data: HUBB\n"
     ]
    },
    {
     "name": "stderr",
     "output_type": "stream",
     "text": [
      "[*********************100%***********************]  1 of 1 completed\n"
     ]
    },
    {
     "name": "stdout",
     "output_type": "stream",
     "text": [
      "HUBB data saved\n",
      "Fetching data: HUM\n"
     ]
    },
    {
     "name": "stderr",
     "output_type": "stream",
     "text": [
      "[*********************100%***********************]  1 of 1 completed\n"
     ]
    },
    {
     "name": "stdout",
     "output_type": "stream",
     "text": [
      "HUM data saved\n",
      "Fetching data: HBAN\n"
     ]
    },
    {
     "name": "stderr",
     "output_type": "stream",
     "text": [
      "[*********************100%***********************]  1 of 1 completed\n",
      "[*********************100%***********************]  1 of 1 completed\n"
     ]
    },
    {
     "name": "stdout",
     "output_type": "stream",
     "text": [
      "HBAN data saved\n",
      "Fetching data: HII\n",
      "Skipping HII, insufficient data days: 2462 days\n",
      "Fetching data: IBM\n"
     ]
    },
    {
     "name": "stderr",
     "output_type": "stream",
     "text": [
      "[*********************100%***********************]  1 of 1 completed\n",
      "[*********************100%***********************]  1 of 1 completed"
     ]
    },
    {
     "name": "stdout",
     "output_type": "stream",
     "text": [
      "IBM data saved\n",
      "Fetching data: IEX\n"
     ]
    },
    {
     "name": "stderr",
     "output_type": "stream",
     "text": [
      "\n"
     ]
    },
    {
     "name": "stdout",
     "output_type": "stream",
     "text": [
      "IEX data saved\n",
      "Fetching data: IDXX\n"
     ]
    },
    {
     "name": "stderr",
     "output_type": "stream",
     "text": [
      "[*********************100%***********************]  1 of 1 completed\n"
     ]
    },
    {
     "name": "stdout",
     "output_type": "stream",
     "text": [
      "IDXX data saved\n",
      "Fetching data: ITW\n"
     ]
    },
    {
     "name": "stderr",
     "output_type": "stream",
     "text": [
      "[*********************100%***********************]  1 of 1 completed\n",
      "[*********************100%***********************]  1 of 1 completed\n"
     ]
    },
    {
     "name": "stdout",
     "output_type": "stream",
     "text": [
      "ITW data saved\n",
      "Fetching data: INCY\n",
      "INCY data saved\n",
      "Fetching data: IR\n"
     ]
    },
    {
     "name": "stderr",
     "output_type": "stream",
     "text": [
      "[*********************100%***********************]  1 of 1 completed\n",
      "[*********************100%***********************]  1 of 1 completed\n"
     ]
    },
    {
     "name": "stdout",
     "output_type": "stream",
     "text": [
      "Skipping IR, insufficient data days: 916 days\n",
      "Fetching data: PODD\n",
      "PODD data saved\n",
      "Fetching data: INTC\n"
     ]
    },
    {
     "name": "stderr",
     "output_type": "stream",
     "text": [
      "[*********************100%***********************]  1 of 1 completed\n",
      "[*********************100%***********************]  1 of 1 completed\n"
     ]
    },
    {
     "name": "stdout",
     "output_type": "stream",
     "text": [
      "INTC data saved\n",
      "Fetching data: ICE\n",
      "ICE data saved\n",
      "Fetching data: IFF\n"
     ]
    },
    {
     "name": "stderr",
     "output_type": "stream",
     "text": [
      "[*********************100%***********************]  1 of 1 completed\n"
     ]
    },
    {
     "name": "stdout",
     "output_type": "stream",
     "text": [
      "IFF data saved\n",
      "Fetching data: IP\n"
     ]
    },
    {
     "name": "stderr",
     "output_type": "stream",
     "text": [
      "[*********************100%***********************]  1 of 1 completed\n"
     ]
    },
    {
     "name": "stdout",
     "output_type": "stream",
     "text": [
      "IP data saved\n",
      "Fetching data: IPG\n"
     ]
    },
    {
     "name": "stderr",
     "output_type": "stream",
     "text": [
      "[*********************100%***********************]  1 of 1 completed\n",
      "[*********************100%***********************]  1 of 1 completed\n"
     ]
    },
    {
     "name": "stdout",
     "output_type": "stream",
     "text": [
      "IPG data saved\n",
      "Fetching data: INTU\n",
      "INTU data saved\n",
      "Fetching data: ISRG\n"
     ]
    },
    {
     "name": "stderr",
     "output_type": "stream",
     "text": [
      "[*********************100%***********************]  1 of 1 completed\n"
     ]
    },
    {
     "name": "stdout",
     "output_type": "stream",
     "text": [
      "ISRG data saved\n",
      "Fetching data: IVZ\n"
     ]
    },
    {
     "name": "stderr",
     "output_type": "stream",
     "text": [
      "[*********************100%***********************]  1 of 1 completed\n",
      "[*********************100%***********************]  1 of 1 completed\n"
     ]
    },
    {
     "name": "stdout",
     "output_type": "stream",
     "text": [
      "IVZ data saved\n",
      "Fetching data: INVH\n",
      "Skipping INVH, insufficient data days: 986 days\n",
      "Fetching data: IQV\n"
     ]
    },
    {
     "name": "stderr",
     "output_type": "stream",
     "text": [
      "[*********************100%***********************]  1 of 1 completed\n"
     ]
    },
    {
     "name": "stdout",
     "output_type": "stream",
     "text": [
      "Skipping IQV, insufficient data days: 1926 days\n",
      "Fetching data: IRM\n"
     ]
    },
    {
     "name": "stderr",
     "output_type": "stream",
     "text": [
      "[*********************100%***********************]  1 of 1 completed\n"
     ]
    },
    {
     "name": "stdout",
     "output_type": "stream",
     "text": [
      "IRM data saved\n",
      "Fetching data: JBHT\n"
     ]
    },
    {
     "name": "stderr",
     "output_type": "stream",
     "text": [
      "[*********************100%***********************]  1 of 1 completed\n"
     ]
    },
    {
     "name": "stdout",
     "output_type": "stream",
     "text": [
      "JBHT data saved\n",
      "Fetching data: JBL\n"
     ]
    },
    {
     "name": "stderr",
     "output_type": "stream",
     "text": [
      "[*********************100%***********************]  1 of 1 completed\n"
     ]
    },
    {
     "name": "stdout",
     "output_type": "stream",
     "text": [
      "JBL data saved\n",
      "Fetching data: JKHY\n"
     ]
    },
    {
     "name": "stderr",
     "output_type": "stream",
     "text": [
      "[*********************100%***********************]  1 of 1 completed\n"
     ]
    },
    {
     "name": "stdout",
     "output_type": "stream",
     "text": [
      "JKHY data saved\n",
      "Fetching data: J\n"
     ]
    },
    {
     "name": "stderr",
     "output_type": "stream",
     "text": [
      "[*********************100%***********************]  1 of 1 completed\n"
     ]
    },
    {
     "name": "stdout",
     "output_type": "stream",
     "text": [
      "J data saved\n",
      "Fetching data: JNJ\n"
     ]
    },
    {
     "name": "stderr",
     "output_type": "stream",
     "text": [
      "[*********************100%***********************]  1 of 1 completed\n"
     ]
    },
    {
     "name": "stdout",
     "output_type": "stream",
     "text": [
      "JNJ data saved\n",
      "Fetching data: JCI\n"
     ]
    },
    {
     "name": "stderr",
     "output_type": "stream",
     "text": [
      "[*********************100%***********************]  1 of 1 completed\n"
     ]
    },
    {
     "name": "stdout",
     "output_type": "stream",
     "text": [
      "JCI data saved\n",
      "Fetching data: JPM\n"
     ]
    },
    {
     "name": "stderr",
     "output_type": "stream",
     "text": [
      "[*********************100%***********************]  1 of 1 completed\n"
     ]
    },
    {
     "name": "stdout",
     "output_type": "stream",
     "text": [
      "JPM data saved\n",
      "Fetching data: JNPR\n"
     ]
    },
    {
     "name": "stderr",
     "output_type": "stream",
     "text": [
      "[*********************100%***********************]  1 of 1 completed\n"
     ]
    },
    {
     "name": "stdout",
     "output_type": "stream",
     "text": [
      "JNPR data saved\n",
      "Fetching data: K\n"
     ]
    },
    {
     "name": "stderr",
     "output_type": "stream",
     "text": [
      "[*********************100%***********************]  1 of 1 completed\n"
     ]
    },
    {
     "name": "stdout",
     "output_type": "stream",
     "text": [
      "K data saved\n",
      "Fetching data: KVUE\n"
     ]
    },
    {
     "name": "stderr",
     "output_type": "stream",
     "text": [
      "[*********************100%***********************]  1 of 1 completed\n",
      "\n",
      "1 Failed download:\n",
      "['KVUE']: YFPricesMissingError('possibly delisted; no price data found  (1d 2010-12-31 -> 2020-12-31) (Yahoo error = \"Data doesn\\'t exist for startDate = 1293771600, endDate = 1609390800\")')\n"
     ]
    },
    {
     "name": "stdout",
     "output_type": "stream",
     "text": [
      "Skipping KVUE, insufficient data days: 0 days\n",
      "Fetching data: KDP\n"
     ]
    },
    {
     "name": "stderr",
     "output_type": "stream",
     "text": [
      "[*********************100%***********************]  1 of 1 completed\n"
     ]
    },
    {
     "name": "stdout",
     "output_type": "stream",
     "text": [
      "KDP data saved\n",
      "Fetching data: KEY\n"
     ]
    },
    {
     "name": "stderr",
     "output_type": "stream",
     "text": [
      "[*********************100%***********************]  1 of 1 completed\n",
      "[*********************100%***********************]  1 of 1 completed\n"
     ]
    },
    {
     "name": "stdout",
     "output_type": "stream",
     "text": [
      "KEY data saved\n",
      "Fetching data: KEYS\n",
      "Skipping KEYS, insufficient data days: 1561 days\n",
      "Fetching data: KMB\n"
     ]
    },
    {
     "name": "stderr",
     "output_type": "stream",
     "text": [
      "[*********************100%***********************]  1 of 1 completed\n"
     ]
    },
    {
     "name": "stdout",
     "output_type": "stream",
     "text": [
      "KMB data saved\n",
      "Fetching data: KIM\n"
     ]
    },
    {
     "name": "stderr",
     "output_type": "stream",
     "text": [
      "[*********************100%***********************]  1 of 1 completed\n"
     ]
    },
    {
     "name": "stdout",
     "output_type": "stream",
     "text": [
      "KIM data saved\n",
      "Fetching data: KMI\n"
     ]
    },
    {
     "name": "stderr",
     "output_type": "stream",
     "text": [
      "[*********************100%***********************]  1 of 1 completed\n",
      "[*********************100%***********************]  1 of 1 completed\n"
     ]
    },
    {
     "name": "stdout",
     "output_type": "stream",
     "text": [
      "Skipping KMI, insufficient data days: 2488 days\n",
      "Fetching data: KKR\n",
      "KKR data saved\n",
      "Fetching data: KLAC\n"
     ]
    },
    {
     "name": "stderr",
     "output_type": "stream",
     "text": [
      "[*********************100%***********************]  1 of 1 completed\n",
      "[*********************100%***********************]  1 of 1 completed\n"
     ]
    },
    {
     "name": "stdout",
     "output_type": "stream",
     "text": [
      "KLAC data saved\n",
      "Fetching data: KHC\n",
      "Skipping KHC, insufficient data days: 1384 days\n",
      "Fetching data: KR\n"
     ]
    },
    {
     "name": "stderr",
     "output_type": "stream",
     "text": [
      "[*********************100%***********************]  1 of 1 completed\n"
     ]
    },
    {
     "name": "stdout",
     "output_type": "stream",
     "text": [
      "KR data saved\n",
      "Fetching data: LHX\n"
     ]
    },
    {
     "name": "stderr",
     "output_type": "stream",
     "text": [
      "[*********************100%***********************]  1 of 1 completed\n"
     ]
    },
    {
     "name": "stdout",
     "output_type": "stream",
     "text": [
      "LHX data saved\n",
      "Fetching data: LH\n"
     ]
    },
    {
     "name": "stderr",
     "output_type": "stream",
     "text": [
      "[*********************100%***********************]  1 of 1 completed\n"
     ]
    },
    {
     "name": "stdout",
     "output_type": "stream",
     "text": [
      "LH data saved\n",
      "Fetching data: LRCX\n"
     ]
    },
    {
     "name": "stderr",
     "output_type": "stream",
     "text": [
      "[*********************100%***********************]  1 of 1 completed\n",
      "[*********************100%***********************]  1 of 1 completed\n"
     ]
    },
    {
     "name": "stdout",
     "output_type": "stream",
     "text": [
      "LRCX data saved\n",
      "Fetching data: LW\n",
      "Skipping LW, insufficient data days: 1041 days\n",
      "Fetching data: LVS\n"
     ]
    },
    {
     "name": "stderr",
     "output_type": "stream",
     "text": [
      "[*********************100%***********************]  1 of 1 completed\n"
     ]
    },
    {
     "name": "stdout",
     "output_type": "stream",
     "text": [
      "LVS data saved\n",
      "Fetching data: LDOS\n"
     ]
    },
    {
     "name": "stderr",
     "output_type": "stream",
     "text": [
      "[*********************100%***********************]  1 of 1 completed\n"
     ]
    },
    {
     "name": "stdout",
     "output_type": "stream",
     "text": [
      "LDOS data saved\n",
      "Fetching data: LEN\n"
     ]
    },
    {
     "name": "stderr",
     "output_type": "stream",
     "text": [
      "[*********************100%***********************]  1 of 1 completed\n"
     ]
    },
    {
     "name": "stdout",
     "output_type": "stream",
     "text": [
      "LEN data saved\n",
      "Fetching data: LII\n"
     ]
    },
    {
     "name": "stderr",
     "output_type": "stream",
     "text": [
      "[*********************100%***********************]  1 of 1 completed\n"
     ]
    },
    {
     "name": "stdout",
     "output_type": "stream",
     "text": [
      "LII data saved\n",
      "Fetching data: LLY\n"
     ]
    },
    {
     "name": "stderr",
     "output_type": "stream",
     "text": [
      "[*********************100%***********************]  1 of 1 completed\n"
     ]
    },
    {
     "name": "stdout",
     "output_type": "stream",
     "text": [
      "LLY data saved\n",
      "Fetching data: LIN\n"
     ]
    },
    {
     "name": "stderr",
     "output_type": "stream",
     "text": [
      "[*********************100%***********************]  1 of 1 completed\n",
      "[*********************100%***********************]  1 of 1 completed\n"
     ]
    },
    {
     "name": "stdout",
     "output_type": "stream",
     "text": [
      "LIN data saved\n",
      "Fetching data: LYV\n",
      "LYV data saved\n",
      "Fetching data: LKQ\n"
     ]
    },
    {
     "name": "stderr",
     "output_type": "stream",
     "text": [
      "[*********************100%***********************]  1 of 1 completed\n"
     ]
    },
    {
     "name": "stdout",
     "output_type": "stream",
     "text": [
      "LKQ data saved\n",
      "Fetching data: LMT\n"
     ]
    },
    {
     "name": "stderr",
     "output_type": "stream",
     "text": [
      "[*********************100%***********************]  1 of 1 completed\n"
     ]
    },
    {
     "name": "stdout",
     "output_type": "stream",
     "text": [
      "LMT data saved\n",
      "Fetching data: L\n"
     ]
    },
    {
     "name": "stderr",
     "output_type": "stream",
     "text": [
      "[*********************100%***********************]  1 of 1 completed\n",
      "[*********************100%***********************]  1 of 1 completed\n"
     ]
    },
    {
     "name": "stdout",
     "output_type": "stream",
     "text": [
      "L data saved\n",
      "Fetching data: LOW\n",
      "LOW data saved\n",
      "Fetching data: LULU\n"
     ]
    },
    {
     "name": "stderr",
     "output_type": "stream",
     "text": [
      "[*********************100%***********************]  1 of 1 completed\n",
      "[*********************100%***********************]  1 of 1 completed\n"
     ]
    },
    {
     "name": "stdout",
     "output_type": "stream",
     "text": [
      "LULU data saved\n",
      "Fetching data: LYB\n",
      "LYB data saved\n",
      "Fetching data: MTB\n"
     ]
    },
    {
     "name": "stderr",
     "output_type": "stream",
     "text": [
      "[*********************100%***********************]  1 of 1 completed\n"
     ]
    },
    {
     "name": "stdout",
     "output_type": "stream",
     "text": [
      "MTB data saved\n",
      "Fetching data: MPC\n"
     ]
    },
    {
     "name": "stderr",
     "output_type": "stream",
     "text": [
      "[*********************100%***********************]  1 of 1 completed\n",
      "[*********************100%***********************]  1 of 1 completed\n"
     ]
    },
    {
     "name": "stdout",
     "output_type": "stream",
     "text": [
      "Skipping MPC, insufficient data days: 2396 days\n",
      "Fetching data: MKTX\n",
      "MKTX data saved\n",
      "Fetching data: MAR\n"
     ]
    },
    {
     "name": "stderr",
     "output_type": "stream",
     "text": [
      "[*********************100%***********************]  1 of 1 completed\n"
     ]
    },
    {
     "name": "stdout",
     "output_type": "stream",
     "text": [
      "MAR data saved\n",
      "Fetching data: MMC\n"
     ]
    },
    {
     "name": "stderr",
     "output_type": "stream",
     "text": [
      "[*********************100%***********************]  1 of 1 completed\n"
     ]
    },
    {
     "name": "stdout",
     "output_type": "stream",
     "text": [
      "MMC data saved\n",
      "Fetching data: MLM\n"
     ]
    },
    {
     "name": "stderr",
     "output_type": "stream",
     "text": [
      "[*********************100%***********************]  1 of 1 completed\n"
     ]
    },
    {
     "name": "stdout",
     "output_type": "stream",
     "text": [
      "MLM data saved\n",
      "Fetching data: MAS\n"
     ]
    },
    {
     "name": "stderr",
     "output_type": "stream",
     "text": [
      "[*********************100%***********************]  1 of 1 completed\n",
      "[*********************100%***********************]  1 of 1 completed\n"
     ]
    },
    {
     "name": "stdout",
     "output_type": "stream",
     "text": [
      "MAS data saved\n",
      "Fetching data: MA\n",
      "MA data saved\n",
      "Fetching data: MTCH\n"
     ]
    },
    {
     "name": "stderr",
     "output_type": "stream",
     "text": [
      "[*********************100%***********************]  1 of 1 completed\n"
     ]
    },
    {
     "name": "stdout",
     "output_type": "stream",
     "text": [
      "MTCH data saved\n",
      "Fetching data: MKC\n"
     ]
    },
    {
     "name": "stderr",
     "output_type": "stream",
     "text": [
      "[*********************100%***********************]  1 of 1 completed\n"
     ]
    },
    {
     "name": "stdout",
     "output_type": "stream",
     "text": [
      "MKC data saved\n",
      "Fetching data: MCD\n"
     ]
    },
    {
     "name": "stderr",
     "output_type": "stream",
     "text": [
      "[*********************100%***********************]  1 of 1 completed\n"
     ]
    },
    {
     "name": "stdout",
     "output_type": "stream",
     "text": [
      "MCD data saved\n",
      "Fetching data: MCK\n"
     ]
    },
    {
     "name": "stderr",
     "output_type": "stream",
     "text": [
      "[*********************100%***********************]  1 of 1 completed\n"
     ]
    },
    {
     "name": "stdout",
     "output_type": "stream",
     "text": [
      "MCK data saved\n",
      "Fetching data: MDT\n"
     ]
    },
    {
     "name": "stderr",
     "output_type": "stream",
     "text": [
      "[*********************100%***********************]  1 of 1 completed\n"
     ]
    },
    {
     "name": "stdout",
     "output_type": "stream",
     "text": [
      "MDT data saved\n",
      "Fetching data: MRK\n"
     ]
    },
    {
     "name": "stderr",
     "output_type": "stream",
     "text": [
      "[*********************100%***********************]  1 of 1 completed\n",
      "[*********************100%***********************]  1 of 1 completed\n"
     ]
    },
    {
     "name": "stdout",
     "output_type": "stream",
     "text": [
      "MRK data saved\n",
      "Fetching data: META\n",
      "Skipping META, insufficient data days: 2169 days\n",
      "Fetching data: MET\n"
     ]
    },
    {
     "name": "stderr",
     "output_type": "stream",
     "text": [
      "[*********************100%***********************]  1 of 1 completed\n"
     ]
    },
    {
     "name": "stdout",
     "output_type": "stream",
     "text": [
      "MET data saved\n",
      "Fetching data: MTD\n"
     ]
    },
    {
     "name": "stderr",
     "output_type": "stream",
     "text": [
      "[*********************100%***********************]  1 of 1 completed\n"
     ]
    },
    {
     "name": "stdout",
     "output_type": "stream",
     "text": [
      "MTD data saved\n",
      "Fetching data: MGM\n"
     ]
    },
    {
     "name": "stderr",
     "output_type": "stream",
     "text": [
      "[*********************100%***********************]  1 of 1 completed\n"
     ]
    },
    {
     "name": "stdout",
     "output_type": "stream",
     "text": [
      "MGM data saved\n",
      "Fetching data: MCHP\n"
     ]
    },
    {
     "name": "stderr",
     "output_type": "stream",
     "text": [
      "[*********************100%***********************]  1 of 1 completed\n"
     ]
    },
    {
     "name": "stdout",
     "output_type": "stream",
     "text": [
      "MCHP data saved\n",
      "Fetching data: MU\n"
     ]
    },
    {
     "name": "stderr",
     "output_type": "stream",
     "text": [
      "[*********************100%***********************]  1 of 1 completed\n"
     ]
    },
    {
     "name": "stdout",
     "output_type": "stream",
     "text": [
      "MU data saved\n",
      "Fetching data: MSFT\n"
     ]
    },
    {
     "name": "stderr",
     "output_type": "stream",
     "text": [
      "[*********************100%***********************]  1 of 1 completed\n"
     ]
    },
    {
     "name": "stdout",
     "output_type": "stream",
     "text": [
      "MSFT data saved\n",
      "Fetching data: MAA\n"
     ]
    },
    {
     "name": "stderr",
     "output_type": "stream",
     "text": [
      "[*********************100%***********************]  1 of 1 completed\n",
      "[*********************100%***********************]  1 of 1 completed\n"
     ]
    },
    {
     "name": "stdout",
     "output_type": "stream",
     "text": [
      "MAA data saved\n",
      "Fetching data: MRNA\n",
      "Skipping MRNA, insufficient data days: 520 days\n",
      "Fetching data: MHK\n"
     ]
    },
    {
     "name": "stderr",
     "output_type": "stream",
     "text": [
      "[*********************100%***********************]  1 of 1 completed\n",
      "[*********************100%***********************]  1 of 1 completed\n"
     ]
    },
    {
     "name": "stdout",
     "output_type": "stream",
     "text": [
      "MHK data saved\n",
      "Fetching data: MOH\n",
      "MOH data saved\n",
      "Fetching data: TAP\n"
     ]
    },
    {
     "name": "stderr",
     "output_type": "stream",
     "text": [
      "[*********************100%***********************]  1 of 1 completed\n",
      "[*********************100%***********************]  1 of 1 completed"
     ]
    },
    {
     "name": "stdout",
     "output_type": "stream",
     "text": [
      "TAP data saved\n",
      "Fetching data: MDLZ\n"
     ]
    },
    {
     "name": "stderr",
     "output_type": "stream",
     "text": [
      "\n",
      "[*********************100%***********************]  1 of 1 completed"
     ]
    },
    {
     "name": "stdout",
     "output_type": "stream",
     "text": [
      "MDLZ data saved\n",
      "Fetching data: MPWR\n"
     ]
    },
    {
     "name": "stderr",
     "output_type": "stream",
     "text": [
      "\n",
      "[*********************100%***********************]  1 of 1 completed\n"
     ]
    },
    {
     "name": "stdout",
     "output_type": "stream",
     "text": [
      "MPWR data saved\n",
      "Fetching data: MNST\n",
      "MNST data saved\n",
      "Fetching data: MCO\n"
     ]
    },
    {
     "name": "stderr",
     "output_type": "stream",
     "text": [
      "[*********************100%***********************]  1 of 1 completed\n"
     ]
    },
    {
     "name": "stdout",
     "output_type": "stream",
     "text": [
      "MCO data saved\n",
      "Fetching data: MS\n"
     ]
    },
    {
     "name": "stderr",
     "output_type": "stream",
     "text": [
      "[*********************100%***********************]  1 of 1 completed\n"
     ]
    },
    {
     "name": "stdout",
     "output_type": "stream",
     "text": [
      "MS data saved\n",
      "Fetching data: MOS\n"
     ]
    },
    {
     "name": "stderr",
     "output_type": "stream",
     "text": [
      "[*********************100%***********************]  1 of 1 completed\n"
     ]
    },
    {
     "name": "stdout",
     "output_type": "stream",
     "text": [
      "MOS data saved\n",
      "Fetching data: MSI\n"
     ]
    },
    {
     "name": "stderr",
     "output_type": "stream",
     "text": [
      "[*********************100%***********************]  1 of 1 completed\n"
     ]
    },
    {
     "name": "stdout",
     "output_type": "stream",
     "text": [
      "MSI data saved\n",
      "Fetching data: MSCI\n"
     ]
    },
    {
     "name": "stderr",
     "output_type": "stream",
     "text": [
      "[*********************100%***********************]  1 of 1 completed\n",
      "[*********************100%***********************]  1 of 1 completed"
     ]
    },
    {
     "name": "stdout",
     "output_type": "stream",
     "text": [
      "MSCI data saved\n",
      "Fetching data: NDAQ\n"
     ]
    },
    {
     "name": "stderr",
     "output_type": "stream",
     "text": [
      "\n"
     ]
    },
    {
     "name": "stdout",
     "output_type": "stream",
     "text": [
      "NDAQ data saved\n",
      "Fetching data: NTAP\n"
     ]
    },
    {
     "name": "stderr",
     "output_type": "stream",
     "text": [
      "[*********************100%***********************]  1 of 1 completed\n",
      "[*********************100%***********************]  1 of 1 completed\n"
     ]
    },
    {
     "name": "stdout",
     "output_type": "stream",
     "text": [
      "NTAP data saved\n",
      "Fetching data: NFLX\n",
      "NFLX data saved\n",
      "Fetching data: NEM\n"
     ]
    },
    {
     "name": "stderr",
     "output_type": "stream",
     "text": [
      "[*********************100%***********************]  1 of 1 completed\n"
     ]
    },
    {
     "name": "stdout",
     "output_type": "stream",
     "text": [
      "NEM data saved\n",
      "Fetching data: NWSA\n"
     ]
    },
    {
     "name": "stderr",
     "output_type": "stream",
     "text": [
      "[*********************100%***********************]  1 of 1 completed\n"
     ]
    },
    {
     "name": "stdout",
     "output_type": "stream",
     "text": [
      "Skipping NWSA, insufficient data days: 1898 days\n",
      "Fetching data: NWS\n"
     ]
    },
    {
     "name": "stderr",
     "output_type": "stream",
     "text": [
      "[*********************100%***********************]  1 of 1 completed\n"
     ]
    },
    {
     "name": "stdout",
     "output_type": "stream",
     "text": [
      "Skipping NWS, insufficient data days: 1898 days\n",
      "Fetching data: NEE\n"
     ]
    },
    {
     "name": "stderr",
     "output_type": "stream",
     "text": [
      "[*********************100%***********************]  1 of 1 completed\n"
     ]
    },
    {
     "name": "stdout",
     "output_type": "stream",
     "text": [
      "NEE data saved\n",
      "Fetching data: NKE\n"
     ]
    },
    {
     "name": "stderr",
     "output_type": "stream",
     "text": [
      "[*********************100%***********************]  1 of 1 completed\n"
     ]
    },
    {
     "name": "stdout",
     "output_type": "stream",
     "text": [
      "NKE data saved\n",
      "Fetching data: NI\n"
     ]
    },
    {
     "name": "stderr",
     "output_type": "stream",
     "text": [
      "[*********************100%***********************]  1 of 1 completed\n"
     ]
    },
    {
     "name": "stdout",
     "output_type": "stream",
     "text": [
      "NI data saved\n",
      "Fetching data: NDSN\n"
     ]
    },
    {
     "name": "stderr",
     "output_type": "stream",
     "text": [
      "[*********************100%***********************]  1 of 1 completed\n"
     ]
    },
    {
     "name": "stdout",
     "output_type": "stream",
     "text": [
      "NDSN data saved\n",
      "Fetching data: NSC\n"
     ]
    },
    {
     "name": "stderr",
     "output_type": "stream",
     "text": [
      "[*********************100%***********************]  1 of 1 completed\n"
     ]
    },
    {
     "name": "stdout",
     "output_type": "stream",
     "text": [
      "NSC data saved\n",
      "Fetching data: NTRS\n"
     ]
    },
    {
     "name": "stderr",
     "output_type": "stream",
     "text": [
      "[*********************100%***********************]  1 of 1 completed\n"
     ]
    },
    {
     "name": "stdout",
     "output_type": "stream",
     "text": [
      "NTRS data saved\n",
      "Fetching data: NOC\n"
     ]
    },
    {
     "name": "stderr",
     "output_type": "stream",
     "text": [
      "[*********************100%***********************]  1 of 1 completed\n",
      "[*********************100%***********************]  1 of 1 completed"
     ]
    },
    {
     "name": "stdout",
     "output_type": "stream",
     "text": [
      "NOC data saved\n",
      "Fetching data: NCLH\n",
      "Skipping NCLH, insufficient data days: 2002 days\n",
      "Fetching data: NRG\n"
     ]
    },
    {
     "name": "stderr",
     "output_type": "stream",
     "text": [
      "\n",
      "[*********************100%***********************]  1 of 1 completed\n"
     ]
    },
    {
     "name": "stdout",
     "output_type": "stream",
     "text": [
      "NRG data saved\n",
      "Fetching data: NUE\n"
     ]
    },
    {
     "name": "stderr",
     "output_type": "stream",
     "text": [
      "[*********************100%***********************]  1 of 1 completed\n"
     ]
    },
    {
     "name": "stdout",
     "output_type": "stream",
     "text": [
      "NUE data saved\n",
      "Fetching data: NVDA\n"
     ]
    },
    {
     "name": "stderr",
     "output_type": "stream",
     "text": [
      "[*********************100%***********************]  1 of 1 completed\n"
     ]
    },
    {
     "name": "stdout",
     "output_type": "stream",
     "text": [
      "NVDA data saved\n",
      "Fetching data: NVR\n"
     ]
    },
    {
     "name": "stderr",
     "output_type": "stream",
     "text": [
      "[*********************100%***********************]  1 of 1 completed\n",
      "[*********************100%***********************]  1 of 1 completed\n"
     ]
    },
    {
     "name": "stdout",
     "output_type": "stream",
     "text": [
      "NVR data saved\n",
      "Fetching data: NXPI\n",
      "NXPI data saved\n",
      "Fetching data: ORLY\n"
     ]
    },
    {
     "name": "stderr",
     "output_type": "stream",
     "text": [
      "[*********************100%***********************]  1 of 1 completed\n"
     ]
    },
    {
     "name": "stdout",
     "output_type": "stream",
     "text": [
      "ORLY data saved\n",
      "Fetching data: OXY\n"
     ]
    },
    {
     "name": "stderr",
     "output_type": "stream",
     "text": [
      "[*********************100%***********************]  1 of 1 completed\n",
      "[*********************100%***********************]  1 of 1 completed\n"
     ]
    },
    {
     "name": "stdout",
     "output_type": "stream",
     "text": [
      "OXY data saved\n",
      "Fetching data: ODFL\n",
      "ODFL data saved\n",
      "Fetching data: OMC\n"
     ]
    },
    {
     "name": "stderr",
     "output_type": "stream",
     "text": [
      "[*********************100%***********************]  1 of 1 completed\n",
      "[*********************100%***********************]  1 of 1 completed\n"
     ]
    },
    {
     "name": "stdout",
     "output_type": "stream",
     "text": [
      "OMC data saved\n",
      "Fetching data: ON\n",
      "ON data saved\n",
      "Fetching data: OKE\n"
     ]
    },
    {
     "name": "stderr",
     "output_type": "stream",
     "text": [
      "[*********************100%***********************]  1 of 1 completed\n"
     ]
    },
    {
     "name": "stdout",
     "output_type": "stream",
     "text": [
      "OKE data saved\n",
      "Fetching data: ORCL\n"
     ]
    },
    {
     "name": "stderr",
     "output_type": "stream",
     "text": [
      "[*********************100%***********************]  1 of 1 completed\n",
      "[*********************100%***********************]  1 of 1 completed\n"
     ]
    },
    {
     "name": "stdout",
     "output_type": "stream",
     "text": [
      "ORCL data saved\n",
      "Fetching data: OTIS\n",
      "Skipping OTIS, insufficient data days: 199 days\n",
      "Fetching data: PCAR\n"
     ]
    },
    {
     "name": "stderr",
     "output_type": "stream",
     "text": [
      "[*********************100%***********************]  1 of 1 completed\n",
      "[*********************100%***********************]  1 of 1 completed"
     ]
    },
    {
     "name": "stdout",
     "output_type": "stream",
     "text": [
      "PCAR data saved\n",
      "Fetching data: PKG\n"
     ]
    },
    {
     "name": "stderr",
     "output_type": "stream",
     "text": [
      "\n",
      "[*********************100%***********************]  1 of 1 completed\n"
     ]
    },
    {
     "name": "stdout",
     "output_type": "stream",
     "text": [
      "PKG data saved\n",
      "Fetching data: PLTR\n",
      "Skipping PLTR, insufficient data days: 64 days\n",
      "Fetching data: PANW\n"
     ]
    },
    {
     "name": "stderr",
     "output_type": "stream",
     "text": [
      "[*********************100%***********************]  1 of 1 completed\n"
     ]
    },
    {
     "name": "stdout",
     "output_type": "stream",
     "text": [
      "Skipping PANW, insufficient data days: 2126 days\n",
      "Fetching data: PARA\n"
     ]
    },
    {
     "name": "stderr",
     "output_type": "stream",
     "text": [
      "[*********************100%***********************]  1 of 1 completed\n"
     ]
    },
    {
     "name": "stdout",
     "output_type": "stream",
     "text": [
      "PARA data saved\n",
      "Fetching data: PH\n"
     ]
    },
    {
     "name": "stderr",
     "output_type": "stream",
     "text": [
      "[*********************100%***********************]  1 of 1 completed\n"
     ]
    },
    {
     "name": "stdout",
     "output_type": "stream",
     "text": [
      "PH data saved\n",
      "Fetching data: PAYX\n"
     ]
    },
    {
     "name": "stderr",
     "output_type": "stream",
     "text": [
      "[*********************100%***********************]  1 of 1 completed\n",
      "[*********************100%***********************]  1 of 1 completed\n"
     ]
    },
    {
     "name": "stdout",
     "output_type": "stream",
     "text": [
      "PAYX data saved\n",
      "Fetching data: PAYC\n",
      "Skipping PAYC, insufficient data days: 1691 days\n",
      "Fetching data: PYPL\n"
     ]
    },
    {
     "name": "stderr",
     "output_type": "stream",
     "text": [
      "[*********************100%***********************]  1 of 1 completed\n"
     ]
    },
    {
     "name": "stdout",
     "output_type": "stream",
     "text": [
      "Skipping PYPL, insufficient data days: 1384 days\n",
      "Fetching data: PNR\n"
     ]
    },
    {
     "name": "stderr",
     "output_type": "stream",
     "text": [
      "[*********************100%***********************]  1 of 1 completed\n"
     ]
    },
    {
     "name": "stdout",
     "output_type": "stream",
     "text": [
      "PNR data saved\n",
      "Fetching data: PEP\n"
     ]
    },
    {
     "name": "stderr",
     "output_type": "stream",
     "text": [
      "[*********************100%***********************]  1 of 1 completed\n"
     ]
    },
    {
     "name": "stdout",
     "output_type": "stream",
     "text": [
      "PEP data saved\n",
      "Fetching data: PFE\n"
     ]
    },
    {
     "name": "stderr",
     "output_type": "stream",
     "text": [
      "[*********************100%***********************]  1 of 1 completed\n"
     ]
    },
    {
     "name": "stdout",
     "output_type": "stream",
     "text": [
      "PFE data saved\n",
      "Fetching data: PCG\n"
     ]
    },
    {
     "name": "stderr",
     "output_type": "stream",
     "text": [
      "[*********************100%***********************]  1 of 1 completed\n"
     ]
    },
    {
     "name": "stdout",
     "output_type": "stream",
     "text": [
      "PCG data saved\n",
      "Fetching data: PM\n"
     ]
    },
    {
     "name": "stderr",
     "output_type": "stream",
     "text": [
      "[*********************100%***********************]  1 of 1 completed\n",
      "[*********************100%***********************]  1 of 1 completed"
     ]
    },
    {
     "name": "stdout",
     "output_type": "stream",
     "text": [
      "PM data saved\n",
      "Fetching data: PSX\n",
      "Skipping PSX, insufficient data days: 2195 days\n",
      "Fetching data: PNW\n"
     ]
    },
    {
     "name": "stderr",
     "output_type": "stream",
     "text": [
      "\n",
      "[*********************100%***********************]  1 of 1 completed\n"
     ]
    },
    {
     "name": "stdout",
     "output_type": "stream",
     "text": [
      "PNW data saved\n",
      "Fetching data: PNC\n"
     ]
    },
    {
     "name": "stderr",
     "output_type": "stream",
     "text": [
      "[*********************100%***********************]  1 of 1 completed\n",
      "[*********************100%***********************]  1 of 1 completed"
     ]
    },
    {
     "name": "stdout",
     "output_type": "stream",
     "text": [
      "PNC data saved\n",
      "Fetching data: POOL\n"
     ]
    },
    {
     "name": "stderr",
     "output_type": "stream",
     "text": [
      "\n"
     ]
    },
    {
     "name": "stdout",
     "output_type": "stream",
     "text": [
      "POOL data saved\n",
      "Fetching data: PPG\n"
     ]
    },
    {
     "name": "stderr",
     "output_type": "stream",
     "text": [
      "[*********************100%***********************]  1 of 1 completed\n"
     ]
    },
    {
     "name": "stdout",
     "output_type": "stream",
     "text": [
      "PPG data saved\n",
      "Fetching data: PPL\n"
     ]
    },
    {
     "name": "stderr",
     "output_type": "stream",
     "text": [
      "[*********************100%***********************]  1 of 1 completed\n"
     ]
    },
    {
     "name": "stdout",
     "output_type": "stream",
     "text": [
      "PPL data saved\n",
      "Fetching data: PFG\n"
     ]
    },
    {
     "name": "stderr",
     "output_type": "stream",
     "text": [
      "[*********************100%***********************]  1 of 1 completed\n"
     ]
    },
    {
     "name": "stdout",
     "output_type": "stream",
     "text": [
      "PFG data saved\n",
      "Fetching data: PG\n"
     ]
    },
    {
     "name": "stderr",
     "output_type": "stream",
     "text": [
      "[*********************100%***********************]  1 of 1 completed\n"
     ]
    },
    {
     "name": "stdout",
     "output_type": "stream",
     "text": [
      "PG data saved\n",
      "Fetching data: PGR\n"
     ]
    },
    {
     "name": "stderr",
     "output_type": "stream",
     "text": [
      "[*********************100%***********************]  1 of 1 completed\n"
     ]
    },
    {
     "name": "stdout",
     "output_type": "stream",
     "text": [
      "PGR data saved\n",
      "Fetching data: PLD\n"
     ]
    },
    {
     "name": "stderr",
     "output_type": "stream",
     "text": [
      "[*********************100%***********************]  1 of 1 completed\n",
      "[*********************100%***********************]  1 of 1 completed"
     ]
    },
    {
     "name": "stdout",
     "output_type": "stream",
     "text": [
      "PLD data saved\n",
      "Fetching data: PRU\n"
     ]
    },
    {
     "name": "stderr",
     "output_type": "stream",
     "text": [
      "\n"
     ]
    },
    {
     "name": "stdout",
     "output_type": "stream",
     "text": [
      "PRU data saved\n",
      "Fetching data: PEG\n"
     ]
    },
    {
     "name": "stderr",
     "output_type": "stream",
     "text": [
      "[*********************100%***********************]  1 of 1 completed\n"
     ]
    },
    {
     "name": "stdout",
     "output_type": "stream",
     "text": [
      "PEG data saved\n",
      "Fetching data: PTC\n"
     ]
    },
    {
     "name": "stderr",
     "output_type": "stream",
     "text": [
      "[*********************100%***********************]  1 of 1 completed\n"
     ]
    },
    {
     "name": "stdout",
     "output_type": "stream",
     "text": [
      "PTC data saved\n",
      "Fetching data: PSA\n"
     ]
    },
    {
     "name": "stderr",
     "output_type": "stream",
     "text": [
      "[*********************100%***********************]  1 of 1 completed\n"
     ]
    },
    {
     "name": "stdout",
     "output_type": "stream",
     "text": [
      "PSA data saved\n",
      "Fetching data: PHM\n"
     ]
    },
    {
     "name": "stderr",
     "output_type": "stream",
     "text": [
      "[*********************100%***********************]  1 of 1 completed\n",
      "[*********************100%***********************]  1 of 1 completed"
     ]
    },
    {
     "name": "stdout",
     "output_type": "stream",
     "text": [
      "PHM data saved\n",
      "Fetching data: PWR\n"
     ]
    },
    {
     "name": "stderr",
     "output_type": "stream",
     "text": [
      "\n"
     ]
    },
    {
     "name": "stdout",
     "output_type": "stream",
     "text": [
      "PWR data saved\n",
      "Fetching data: QCOM\n"
     ]
    },
    {
     "name": "stderr",
     "output_type": "stream",
     "text": [
      "[*********************100%***********************]  1 of 1 completed\n"
     ]
    },
    {
     "name": "stdout",
     "output_type": "stream",
     "text": [
      "QCOM data saved\n",
      "Fetching data: DGX\n"
     ]
    },
    {
     "name": "stderr",
     "output_type": "stream",
     "text": [
      "[*********************100%***********************]  1 of 1 completed\n"
     ]
    },
    {
     "name": "stdout",
     "output_type": "stream",
     "text": [
      "DGX data saved\n",
      "Fetching data: RL\n"
     ]
    },
    {
     "name": "stderr",
     "output_type": "stream",
     "text": [
      "[*********************100%***********************]  1 of 1 completed\n"
     ]
    },
    {
     "name": "stdout",
     "output_type": "stream",
     "text": [
      "RL data saved\n",
      "Fetching data: RJF\n"
     ]
    },
    {
     "name": "stderr",
     "output_type": "stream",
     "text": [
      "[*********************100%***********************]  1 of 1 completed\n"
     ]
    },
    {
     "name": "stdout",
     "output_type": "stream",
     "text": [
      "RJF data saved\n",
      "Fetching data: RTX\n"
     ]
    },
    {
     "name": "stderr",
     "output_type": "stream",
     "text": [
      "[*********************100%***********************]  1 of 1 completed\n"
     ]
    },
    {
     "name": "stdout",
     "output_type": "stream",
     "text": [
      "RTX data saved\n",
      "Fetching data: O\n"
     ]
    },
    {
     "name": "stderr",
     "output_type": "stream",
     "text": [
      "[*********************100%***********************]  1 of 1 completed\n"
     ]
    },
    {
     "name": "stdout",
     "output_type": "stream",
     "text": [
      "O data saved\n",
      "Fetching data: REG\n"
     ]
    },
    {
     "name": "stderr",
     "output_type": "stream",
     "text": [
      "[*********************100%***********************]  1 of 1 completed\n",
      "[*********************100%***********************]  1 of 1 completed"
     ]
    },
    {
     "name": "stdout",
     "output_type": "stream",
     "text": [
      "REG data saved\n",
      "Fetching data: REGN\n"
     ]
    },
    {
     "name": "stderr",
     "output_type": "stream",
     "text": [
      "\n"
     ]
    },
    {
     "name": "stdout",
     "output_type": "stream",
     "text": [
      "REGN data saved\n",
      "Fetching data: RF\n"
     ]
    },
    {
     "name": "stderr",
     "output_type": "stream",
     "text": [
      "[*********************100%***********************]  1 of 1 completed\n"
     ]
    },
    {
     "name": "stdout",
     "output_type": "stream",
     "text": [
      "RF data saved\n",
      "Fetching data: RSG\n"
     ]
    },
    {
     "name": "stderr",
     "output_type": "stream",
     "text": [
      "[*********************100%***********************]  1 of 1 completed\n"
     ]
    },
    {
     "name": "stdout",
     "output_type": "stream",
     "text": [
      "RSG data saved\n",
      "Fetching data: RMD\n"
     ]
    },
    {
     "name": "stderr",
     "output_type": "stream",
     "text": [
      "[*********************100%***********************]  1 of 1 completed\n"
     ]
    },
    {
     "name": "stdout",
     "output_type": "stream",
     "text": [
      "RMD data saved\n",
      "Fetching data: RVTY\n"
     ]
    },
    {
     "name": "stderr",
     "output_type": "stream",
     "text": [
      "[*********************100%***********************]  1 of 1 completed\n"
     ]
    },
    {
     "name": "stdout",
     "output_type": "stream",
     "text": [
      "RVTY data saved\n",
      "Fetching data: ROK\n"
     ]
    },
    {
     "name": "stderr",
     "output_type": "stream",
     "text": [
      "[*********************100%***********************]  1 of 1 completed\n"
     ]
    },
    {
     "name": "stdout",
     "output_type": "stream",
     "text": [
      "ROK data saved\n",
      "Fetching data: ROL\n"
     ]
    },
    {
     "name": "stderr",
     "output_type": "stream",
     "text": [
      "[*********************100%***********************]  1 of 1 completed\n"
     ]
    },
    {
     "name": "stdout",
     "output_type": "stream",
     "text": [
      "ROL data saved\n",
      "Fetching data: ROP\n"
     ]
    },
    {
     "name": "stderr",
     "output_type": "stream",
     "text": [
      "[*********************100%***********************]  1 of 1 completed\n"
     ]
    },
    {
     "name": "stdout",
     "output_type": "stream",
     "text": [
      "ROP data saved\n",
      "Fetching data: ROST\n"
     ]
    },
    {
     "name": "stderr",
     "output_type": "stream",
     "text": [
      "[*********************100%***********************]  1 of 1 completed\n"
     ]
    },
    {
     "name": "stdout",
     "output_type": "stream",
     "text": [
      "ROST data saved\n",
      "Fetching data: RCL\n"
     ]
    },
    {
     "name": "stderr",
     "output_type": "stream",
     "text": [
      "[*********************100%***********************]  1 of 1 completed\n"
     ]
    },
    {
     "name": "stdout",
     "output_type": "stream",
     "text": [
      "RCL data saved\n",
      "Fetching data: SPGI\n"
     ]
    },
    {
     "name": "stderr",
     "output_type": "stream",
     "text": [
      "[*********************100%***********************]  1 of 1 completed\n"
     ]
    },
    {
     "name": "stdout",
     "output_type": "stream",
     "text": [
      "SPGI data saved\n",
      "Fetching data: CRM\n"
     ]
    },
    {
     "name": "stderr",
     "output_type": "stream",
     "text": [
      "[*********************100%***********************]  1 of 1 completed\n",
      "[*********************100%***********************]  1 of 1 completed"
     ]
    },
    {
     "name": "stdout",
     "output_type": "stream",
     "text": [
      "CRM data saved\n",
      "Fetching data: SBAC\n"
     ]
    },
    {
     "name": "stderr",
     "output_type": "stream",
     "text": [
      "\n"
     ]
    },
    {
     "name": "stdout",
     "output_type": "stream",
     "text": [
      "SBAC data saved\n",
      "Fetching data: SLB\n"
     ]
    },
    {
     "name": "stderr",
     "output_type": "stream",
     "text": [
      "[*********************100%***********************]  1 of 1 completed\n"
     ]
    },
    {
     "name": "stdout",
     "output_type": "stream",
     "text": [
      "SLB data saved\n",
      "Fetching data: STX\n"
     ]
    },
    {
     "name": "stderr",
     "output_type": "stream",
     "text": [
      "[*********************100%***********************]  1 of 1 completed\n"
     ]
    },
    {
     "name": "stdout",
     "output_type": "stream",
     "text": [
      "STX data saved\n",
      "Fetching data: SRE\n"
     ]
    },
    {
     "name": "stderr",
     "output_type": "stream",
     "text": [
      "[*********************100%***********************]  1 of 1 completed\n",
      "[*********************100%***********************]  1 of 1 completed\n"
     ]
    },
    {
     "name": "stdout",
     "output_type": "stream",
     "text": [
      "SRE data saved\n",
      "Fetching data: NOW\n",
      "Skipping NOW, insufficient data days: 2140 days\n",
      "Fetching data: SHW\n"
     ]
    },
    {
     "name": "stderr",
     "output_type": "stream",
     "text": [
      "[*********************100%***********************]  1 of 1 completed\n"
     ]
    },
    {
     "name": "stdout",
     "output_type": "stream",
     "text": [
      "SHW data saved\n",
      "Fetching data: SPG\n"
     ]
    },
    {
     "name": "stderr",
     "output_type": "stream",
     "text": [
      "[*********************100%***********************]  1 of 1 completed\n"
     ]
    },
    {
     "name": "stdout",
     "output_type": "stream",
     "text": [
      "SPG data saved\n",
      "Fetching data: SWKS\n"
     ]
    },
    {
     "name": "stderr",
     "output_type": "stream",
     "text": [
      "[*********************100%***********************]  1 of 1 completed\n"
     ]
    },
    {
     "name": "stdout",
     "output_type": "stream",
     "text": [
      "SWKS data saved\n",
      "Fetching data: SJM\n"
     ]
    },
    {
     "name": "stderr",
     "output_type": "stream",
     "text": [
      "[*********************100%***********************]  1 of 1 completed\n"
     ]
    },
    {
     "name": "stdout",
     "output_type": "stream",
     "text": [
      "SJM data saved\n",
      "Fetching data: SW\n"
     ]
    },
    {
     "name": "stderr",
     "output_type": "stream",
     "text": [
      "[*********************100%***********************]  1 of 1 completed\n",
      "\n",
      "1 Failed download:\n",
      "['SW']: YFPricesMissingError('possibly delisted; no price data found  (1d 2010-12-31 -> 2020-12-31) (Yahoo error = \"Data doesn\\'t exist for startDate = 1293771600, endDate = 1609390800\")')\n"
     ]
    },
    {
     "name": "stdout",
     "output_type": "stream",
     "text": [
      "Skipping SW, insufficient data days: 0 days\n",
      "Fetching data: SNA\n"
     ]
    },
    {
     "name": "stderr",
     "output_type": "stream",
     "text": [
      "[*********************100%***********************]  1 of 1 completed\n"
     ]
    },
    {
     "name": "stdout",
     "output_type": "stream",
     "text": [
      "SNA data saved\n",
      "Fetching data: SOLV\n"
     ]
    },
    {
     "name": "stderr",
     "output_type": "stream",
     "text": [
      "[*********************100%***********************]  1 of 1 completed\n",
      "\n",
      "1 Failed download:\n",
      "['SOLV']: YFPricesMissingError('possibly delisted; no price data found  (1d 2010-12-31 -> 2020-12-31) (Yahoo error = \"Data doesn\\'t exist for startDate = 1293771600, endDate = 1609390800\")')\n"
     ]
    },
    {
     "name": "stdout",
     "output_type": "stream",
     "text": [
      "Skipping SOLV, insufficient data days: 0 days\n",
      "Fetching data: SO\n"
     ]
    },
    {
     "name": "stderr",
     "output_type": "stream",
     "text": [
      "[*********************100%***********************]  1 of 1 completed\n"
     ]
    },
    {
     "name": "stdout",
     "output_type": "stream",
     "text": [
      "SO data saved\n",
      "Fetching data: LUV\n"
     ]
    },
    {
     "name": "stderr",
     "output_type": "stream",
     "text": [
      "[*********************100%***********************]  1 of 1 completed\n"
     ]
    },
    {
     "name": "stdout",
     "output_type": "stream",
     "text": [
      "LUV data saved\n",
      "Fetching data: SWK\n"
     ]
    },
    {
     "name": "stderr",
     "output_type": "stream",
     "text": [
      "[*********************100%***********************]  1 of 1 completed\n"
     ]
    },
    {
     "name": "stdout",
     "output_type": "stream",
     "text": [
      "SWK data saved\n",
      "Fetching data: SBUX\n"
     ]
    },
    {
     "name": "stderr",
     "output_type": "stream",
     "text": [
      "[*********************100%***********************]  1 of 1 completed\n"
     ]
    },
    {
     "name": "stdout",
     "output_type": "stream",
     "text": [
      "SBUX data saved\n",
      "Fetching data: STT\n"
     ]
    },
    {
     "name": "stderr",
     "output_type": "stream",
     "text": [
      "[*********************100%***********************]  1 of 1 completed\n"
     ]
    },
    {
     "name": "stdout",
     "output_type": "stream",
     "text": [
      "STT data saved\n",
      "Fetching data: STLD\n"
     ]
    },
    {
     "name": "stderr",
     "output_type": "stream",
     "text": [
      "[*********************100%***********************]  1 of 1 completed\n"
     ]
    },
    {
     "name": "stdout",
     "output_type": "stream",
     "text": [
      "STLD data saved\n",
      "Fetching data: STE\n"
     ]
    },
    {
     "name": "stderr",
     "output_type": "stream",
     "text": [
      "[*********************100%***********************]  1 of 1 completed\n"
     ]
    },
    {
     "name": "stdout",
     "output_type": "stream",
     "text": [
      "STE data saved\n",
      "Fetching data: SYK\n"
     ]
    },
    {
     "name": "stderr",
     "output_type": "stream",
     "text": [
      "[*********************100%***********************]  1 of 1 completed\n"
     ]
    },
    {
     "name": "stdout",
     "output_type": "stream",
     "text": [
      "SYK data saved\n",
      "Fetching data: SMCI\n"
     ]
    },
    {
     "name": "stderr",
     "output_type": "stream",
     "text": [
      "[*********************100%***********************]  1 of 1 completed\n",
      "[*********************100%***********************]  1 of 1 completed\n"
     ]
    },
    {
     "name": "stdout",
     "output_type": "stream",
     "text": [
      "SMCI data saved\n",
      "Fetching data: SYF\n",
      "Skipping SYF, insufficient data days: 1617 days\n",
      "Fetching data: SNPS\n"
     ]
    },
    {
     "name": "stderr",
     "output_type": "stream",
     "text": [
      "[*********************100%***********************]  1 of 1 completed\n"
     ]
    },
    {
     "name": "stdout",
     "output_type": "stream",
     "text": [
      "SNPS data saved\n",
      "Fetching data: SYY\n"
     ]
    },
    {
     "name": "stderr",
     "output_type": "stream",
     "text": [
      "[*********************100%***********************]  1 of 1 completed\n"
     ]
    },
    {
     "name": "stdout",
     "output_type": "stream",
     "text": [
      "SYY data saved\n",
      "Fetching data: TMUS\n"
     ]
    },
    {
     "name": "stderr",
     "output_type": "stream",
     "text": [
      "[*********************100%***********************]  1 of 1 completed\n"
     ]
    },
    {
     "name": "stdout",
     "output_type": "stream",
     "text": [
      "TMUS data saved\n",
      "Fetching data: TROW\n"
     ]
    },
    {
     "name": "stderr",
     "output_type": "stream",
     "text": [
      "[*********************100%***********************]  1 of 1 completed\n",
      "[*********************100%***********************]  1 of 1 completed\n"
     ]
    },
    {
     "name": "stdout",
     "output_type": "stream",
     "text": [
      "TROW data saved\n",
      "Fetching data: TTWO\n",
      "TTWO data saved\n",
      "Fetching data: TPR\n"
     ]
    },
    {
     "name": "stderr",
     "output_type": "stream",
     "text": [
      "[*********************100%***********************]  1 of 1 completed\n"
     ]
    },
    {
     "name": "stdout",
     "output_type": "stream",
     "text": [
      "TPR data saved\n",
      "Fetching data: TRGP\n"
     ]
    },
    {
     "name": "stderr",
     "output_type": "stream",
     "text": [
      "[*********************100%***********************]  1 of 1 completed\n"
     ]
    },
    {
     "name": "stdout",
     "output_type": "stream",
     "text": [
      "TRGP data saved\n",
      "Fetching data: TGT\n"
     ]
    },
    {
     "name": "stderr",
     "output_type": "stream",
     "text": [
      "[*********************100%***********************]  1 of 1 completed\n"
     ]
    },
    {
     "name": "stdout",
     "output_type": "stream",
     "text": [
      "TGT data saved\n",
      "Fetching data: TEL\n"
     ]
    },
    {
     "name": "stderr",
     "output_type": "stream",
     "text": [
      "[*********************100%***********************]  1 of 1 completed\n",
      "[*********************100%***********************]  1 of 1 completed\n"
     ]
    },
    {
     "name": "stdout",
     "output_type": "stream",
     "text": [
      "TEL data saved\n",
      "Fetching data: TDY\n",
      "TDY data saved\n",
      "Fetching data: TER\n"
     ]
    },
    {
     "name": "stderr",
     "output_type": "stream",
     "text": [
      "[*********************100%***********************]  1 of 1 completed\n"
     ]
    },
    {
     "name": "stdout",
     "output_type": "stream",
     "text": [
      "TER data saved\n",
      "Fetching data: TSLA\n"
     ]
    },
    {
     "name": "stderr",
     "output_type": "stream",
     "text": [
      "[*********************100%***********************]  1 of 1 completed\n"
     ]
    },
    {
     "name": "stdout",
     "output_type": "stream",
     "text": [
      "TSLA data saved\n",
      "Fetching data: TXN\n"
     ]
    },
    {
     "name": "stderr",
     "output_type": "stream",
     "text": [
      "[*********************100%***********************]  1 of 1 completed\n"
     ]
    },
    {
     "name": "stdout",
     "output_type": "stream",
     "text": [
      "TXN data saved\n",
      "Fetching data: TPL\n"
     ]
    },
    {
     "name": "stderr",
     "output_type": "stream",
     "text": [
      "[*********************100%***********************]  1 of 1 completed\n"
     ]
    },
    {
     "name": "stdout",
     "output_type": "stream",
     "text": [
      "TPL data saved\n",
      "Fetching data: TXT\n"
     ]
    },
    {
     "name": "stderr",
     "output_type": "stream",
     "text": [
      "[*********************100%***********************]  1 of 1 completed\n"
     ]
    },
    {
     "name": "stdout",
     "output_type": "stream",
     "text": [
      "TXT data saved\n",
      "Fetching data: TMO\n"
     ]
    },
    {
     "name": "stderr",
     "output_type": "stream",
     "text": [
      "[*********************100%***********************]  1 of 1 completed\n"
     ]
    },
    {
     "name": "stdout",
     "output_type": "stream",
     "text": [
      "TMO data saved\n",
      "Fetching data: TJX\n"
     ]
    },
    {
     "name": "stderr",
     "output_type": "stream",
     "text": [
      "[*********************100%***********************]  1 of 1 completed\n"
     ]
    },
    {
     "name": "stdout",
     "output_type": "stream",
     "text": [
      "TJX data saved\n",
      "Fetching data: TKO\n"
     ]
    },
    {
     "name": "stderr",
     "output_type": "stream",
     "text": [
      "[*********************100%***********************]  1 of 1 completed\n"
     ]
    },
    {
     "name": "stdout",
     "output_type": "stream",
     "text": [
      "TKO data saved\n",
      "Fetching data: TSCO\n"
     ]
    },
    {
     "name": "stderr",
     "output_type": "stream",
     "text": [
      "[*********************100%***********************]  1 of 1 completed\n"
     ]
    },
    {
     "name": "stdout",
     "output_type": "stream",
     "text": [
      "TSCO data saved\n",
      "Fetching data: TT\n"
     ]
    },
    {
     "name": "stderr",
     "output_type": "stream",
     "text": [
      "[*********************100%***********************]  1 of 1 completed\n"
     ]
    },
    {
     "name": "stdout",
     "output_type": "stream",
     "text": [
      "TT data saved\n",
      "Fetching data: TDG\n"
     ]
    },
    {
     "name": "stderr",
     "output_type": "stream",
     "text": [
      "[*********************100%***********************]  1 of 1 completed\n"
     ]
    },
    {
     "name": "stdout",
     "output_type": "stream",
     "text": [
      "TDG data saved\n",
      "Fetching data: TRV\n"
     ]
    },
    {
     "name": "stderr",
     "output_type": "stream",
     "text": [
      "[*********************100%***********************]  1 of 1 completed\n"
     ]
    },
    {
     "name": "stdout",
     "output_type": "stream",
     "text": [
      "TRV data saved\n",
      "Fetching data: TRMB\n"
     ]
    },
    {
     "name": "stderr",
     "output_type": "stream",
     "text": [
      "[*********************100%***********************]  1 of 1 completed\n"
     ]
    },
    {
     "name": "stdout",
     "output_type": "stream",
     "text": [
      "TRMB data saved\n",
      "Fetching data: TFC\n"
     ]
    },
    {
     "name": "stderr",
     "output_type": "stream",
     "text": [
      "[*********************100%***********************]  1 of 1 completed\n"
     ]
    },
    {
     "name": "stdout",
     "output_type": "stream",
     "text": [
      "TFC data saved\n",
      "Fetching data: TYL\n"
     ]
    },
    {
     "name": "stderr",
     "output_type": "stream",
     "text": [
      "[*********************100%***********************]  1 of 1 completed\n"
     ]
    },
    {
     "name": "stdout",
     "output_type": "stream",
     "text": [
      "TYL data saved\n",
      "Fetching data: TSN\n"
     ]
    },
    {
     "name": "stderr",
     "output_type": "stream",
     "text": [
      "[*********************100%***********************]  1 of 1 completed\n"
     ]
    },
    {
     "name": "stdout",
     "output_type": "stream",
     "text": [
      "TSN data saved\n",
      "Fetching data: USB\n"
     ]
    },
    {
     "name": "stderr",
     "output_type": "stream",
     "text": [
      "[*********************100%***********************]  1 of 1 completed\n",
      "[*********************100%***********************]  1 of 1 completed\n"
     ]
    },
    {
     "name": "stdout",
     "output_type": "stream",
     "text": [
      "USB data saved\n",
      "Fetching data: UBER\n",
      "Skipping UBER, insufficient data days: 415 days\n",
      "Fetching data: UDR\n"
     ]
    },
    {
     "name": "stderr",
     "output_type": "stream",
     "text": [
      "[*********************100%***********************]  1 of 1 completed\n"
     ]
    },
    {
     "name": "stdout",
     "output_type": "stream",
     "text": [
      "UDR data saved\n",
      "Fetching data: ULTA\n"
     ]
    },
    {
     "name": "stderr",
     "output_type": "stream",
     "text": [
      "[*********************100%***********************]  1 of 1 completed\n"
     ]
    },
    {
     "name": "stdout",
     "output_type": "stream",
     "text": [
      "ULTA data saved\n",
      "Fetching data: UNP\n"
     ]
    },
    {
     "name": "stderr",
     "output_type": "stream",
     "text": [
      "[*********************100%***********************]  1 of 1 completed\n"
     ]
    },
    {
     "name": "stdout",
     "output_type": "stream",
     "text": [
      "UNP data saved\n",
      "Fetching data: UAL\n"
     ]
    },
    {
     "name": "stderr",
     "output_type": "stream",
     "text": [
      "[*********************100%***********************]  1 of 1 completed\n"
     ]
    },
    {
     "name": "stdout",
     "output_type": "stream",
     "text": [
      "UAL data saved\n",
      "Fetching data: UPS\n"
     ]
    },
    {
     "name": "stderr",
     "output_type": "stream",
     "text": [
      "[*********************100%***********************]  1 of 1 completed\n",
      "[*********************100%***********************]  1 of 1 completed"
     ]
    },
    {
     "name": "stdout",
     "output_type": "stream",
     "text": [
      "UPS data saved\n",
      "Fetching data: URI\n"
     ]
    },
    {
     "name": "stderr",
     "output_type": "stream",
     "text": [
      "\n"
     ]
    },
    {
     "name": "stdout",
     "output_type": "stream",
     "text": [
      "URI data saved\n",
      "Fetching data: UNH\n"
     ]
    },
    {
     "name": "stderr",
     "output_type": "stream",
     "text": [
      "[*********************100%***********************]  1 of 1 completed\n"
     ]
    },
    {
     "name": "stdout",
     "output_type": "stream",
     "text": [
      "UNH data saved\n",
      "Fetching data: UHS\n"
     ]
    },
    {
     "name": "stderr",
     "output_type": "stream",
     "text": [
      "[*********************100%***********************]  1 of 1 completed\n"
     ]
    },
    {
     "name": "stdout",
     "output_type": "stream",
     "text": [
      "UHS data saved\n",
      "Fetching data: VLO\n"
     ]
    },
    {
     "name": "stderr",
     "output_type": "stream",
     "text": [
      "[*********************100%***********************]  1 of 1 completed\n"
     ]
    },
    {
     "name": "stdout",
     "output_type": "stream",
     "text": [
      "VLO data saved\n",
      "Fetching data: VTR\n"
     ]
    },
    {
     "name": "stderr",
     "output_type": "stream",
     "text": [
      "[*********************100%***********************]  1 of 1 completed\n"
     ]
    },
    {
     "name": "stdout",
     "output_type": "stream",
     "text": [
      "VTR data saved\n",
      "Fetching data: VLTO\n"
     ]
    },
    {
     "name": "stderr",
     "output_type": "stream",
     "text": [
      "[*********************100%***********************]  1 of 1 completed\n",
      "\n",
      "1 Failed download:\n",
      "['VLTO']: YFPricesMissingError('possibly delisted; no price data found  (1d 2010-12-31 -> 2020-12-31) (Yahoo error = \"Data doesn\\'t exist for startDate = 1293771600, endDate = 1609390800\")')\n"
     ]
    },
    {
     "name": "stdout",
     "output_type": "stream",
     "text": [
      "Skipping VLTO, insufficient data days: 0 days\n",
      "Fetching data: VRSN\n"
     ]
    },
    {
     "name": "stderr",
     "output_type": "stream",
     "text": [
      "[*********************100%***********************]  1 of 1 completed\n"
     ]
    },
    {
     "name": "stdout",
     "output_type": "stream",
     "text": [
      "VRSN data saved\n",
      "Fetching data: VRSK\n"
     ]
    },
    {
     "name": "stderr",
     "output_type": "stream",
     "text": [
      "[*********************100%***********************]  1 of 1 completed\n"
     ]
    },
    {
     "name": "stdout",
     "output_type": "stream",
     "text": [
      "VRSK data saved\n",
      "Fetching data: VZ\n"
     ]
    },
    {
     "name": "stderr",
     "output_type": "stream",
     "text": [
      "[*********************100%***********************]  1 of 1 completed\n",
      "[*********************100%***********************]  1 of 1 completed\n"
     ]
    },
    {
     "name": "stdout",
     "output_type": "stream",
     "text": [
      "VZ data saved\n",
      "Fetching data: VRTX\n",
      "VRTX data saved\n",
      "Fetching data: VTRS\n"
     ]
    },
    {
     "name": "stderr",
     "output_type": "stream",
     "text": [
      "[*********************100%***********************]  1 of 1 completed\n",
      "[*********************100%***********************]  1 of 1 completed\n"
     ]
    },
    {
     "name": "stdout",
     "output_type": "stream",
     "text": [
      "VTRS data saved\n",
      "Fetching data: VICI\n",
      "Skipping VICI, insufficient data days: 755 days\n",
      "Fetching data: V\n"
     ]
    },
    {
     "name": "stderr",
     "output_type": "stream",
     "text": [
      "[*********************100%***********************]  1 of 1 completed\n",
      "[*********************100%***********************]  1 of 1 completed\n"
     ]
    },
    {
     "name": "stdout",
     "output_type": "stream",
     "text": [
      "V data saved\n",
      "Fetching data: VST\n",
      "Skipping VST, insufficient data days: 1067 days\n",
      "Fetching data: VMC\n"
     ]
    },
    {
     "name": "stderr",
     "output_type": "stream",
     "text": [
      "[*********************100%***********************]  1 of 1 completed\n"
     ]
    },
    {
     "name": "stdout",
     "output_type": "stream",
     "text": [
      "VMC data saved\n",
      "Fetching data: WRB\n"
     ]
    },
    {
     "name": "stderr",
     "output_type": "stream",
     "text": [
      "[*********************100%***********************]  1 of 1 completed\n"
     ]
    },
    {
     "name": "stdout",
     "output_type": "stream",
     "text": [
      "WRB data saved\n",
      "Fetching data: GWW\n"
     ]
    },
    {
     "name": "stderr",
     "output_type": "stream",
     "text": [
      "[*********************100%***********************]  1 of 1 completed\n"
     ]
    },
    {
     "name": "stdout",
     "output_type": "stream",
     "text": [
      "GWW data saved\n",
      "Fetching data: WAB\n"
     ]
    },
    {
     "name": "stderr",
     "output_type": "stream",
     "text": [
      "[*********************100%***********************]  1 of 1 completed\n"
     ]
    },
    {
     "name": "stdout",
     "output_type": "stream",
     "text": [
      "WAB data saved\n",
      "Fetching data: WBA\n"
     ]
    },
    {
     "name": "stderr",
     "output_type": "stream",
     "text": [
      "[*********************100%***********************]  1 of 1 completed\n"
     ]
    },
    {
     "name": "stdout",
     "output_type": "stream",
     "text": [
      "WBA data saved\n",
      "Fetching data: WMT\n"
     ]
    },
    {
     "name": "stderr",
     "output_type": "stream",
     "text": [
      "[*********************100%***********************]  1 of 1 completed\n"
     ]
    },
    {
     "name": "stdout",
     "output_type": "stream",
     "text": [
      "WMT data saved\n",
      "Fetching data: DIS\n"
     ]
    },
    {
     "name": "stderr",
     "output_type": "stream",
     "text": [
      "[*********************100%***********************]  1 of 1 completed\n"
     ]
    },
    {
     "name": "stdout",
     "output_type": "stream",
     "text": [
      "DIS data saved\n",
      "Fetching data: WBD\n"
     ]
    },
    {
     "name": "stderr",
     "output_type": "stream",
     "text": [
      "[*********************100%***********************]  1 of 1 completed\n"
     ]
    },
    {
     "name": "stdout",
     "output_type": "stream",
     "text": [
      "WBD data saved\n",
      "Fetching data: WM\n"
     ]
    },
    {
     "name": "stderr",
     "output_type": "stream",
     "text": [
      "[*********************100%***********************]  1 of 1 completed\n"
     ]
    },
    {
     "name": "stdout",
     "output_type": "stream",
     "text": [
      "WM data saved\n",
      "Fetching data: WAT\n"
     ]
    },
    {
     "name": "stderr",
     "output_type": "stream",
     "text": [
      "[*********************100%***********************]  1 of 1 completed\n"
     ]
    },
    {
     "name": "stdout",
     "output_type": "stream",
     "text": [
      "WAT data saved\n",
      "Fetching data: WEC\n"
     ]
    },
    {
     "name": "stderr",
     "output_type": "stream",
     "text": [
      "[*********************100%***********************]  1 of 1 completed\n"
     ]
    },
    {
     "name": "stdout",
     "output_type": "stream",
     "text": [
      "WEC data saved\n",
      "Fetching data: WFC\n"
     ]
    },
    {
     "name": "stderr",
     "output_type": "stream",
     "text": [
      "[*********************100%***********************]  1 of 1 completed\n"
     ]
    },
    {
     "name": "stdout",
     "output_type": "stream",
     "text": [
      "WFC data saved\n",
      "Fetching data: WELL\n"
     ]
    },
    {
     "name": "stderr",
     "output_type": "stream",
     "text": [
      "[*********************100%***********************]  1 of 1 completed\n"
     ]
    },
    {
     "name": "stdout",
     "output_type": "stream",
     "text": [
      "WELL data saved\n",
      "Fetching data: WST\n"
     ]
    },
    {
     "name": "stderr",
     "output_type": "stream",
     "text": [
      "[*********************100%***********************]  1 of 1 completed\n"
     ]
    },
    {
     "name": "stdout",
     "output_type": "stream",
     "text": [
      "WST data saved\n",
      "Fetching data: WDC\n"
     ]
    },
    {
     "name": "stderr",
     "output_type": "stream",
     "text": [
      "[*********************100%***********************]  1 of 1 completed\n"
     ]
    },
    {
     "name": "stdout",
     "output_type": "stream",
     "text": [
      "WDC data saved\n",
      "Fetching data: WY\n"
     ]
    },
    {
     "name": "stderr",
     "output_type": "stream",
     "text": [
      "[*********************100%***********************]  1 of 1 completed\n"
     ]
    },
    {
     "name": "stdout",
     "output_type": "stream",
     "text": [
      "WY data saved\n",
      "Fetching data: WSM\n"
     ]
    },
    {
     "name": "stderr",
     "output_type": "stream",
     "text": [
      "[*********************100%***********************]  1 of 1 completed\n"
     ]
    },
    {
     "name": "stdout",
     "output_type": "stream",
     "text": [
      "WSM data saved\n",
      "Fetching data: WMB\n"
     ]
    },
    {
     "name": "stderr",
     "output_type": "stream",
     "text": [
      "[*********************100%***********************]  1 of 1 completed\n"
     ]
    },
    {
     "name": "stdout",
     "output_type": "stream",
     "text": [
      "WMB data saved\n",
      "Fetching data: WTW\n"
     ]
    },
    {
     "name": "stderr",
     "output_type": "stream",
     "text": [
      "[*********************100%***********************]  1 of 1 completed\n",
      "[*********************100%***********************]  1 of 1 completed\n"
     ]
    },
    {
     "name": "stdout",
     "output_type": "stream",
     "text": [
      "WTW data saved\n",
      "Fetching data: WDAY\n",
      "Skipping WDAY, insufficient data days: 2067 days\n",
      "Fetching data: WYNN\n"
     ]
    },
    {
     "name": "stderr",
     "output_type": "stream",
     "text": [
      "[*********************100%***********************]  1 of 1 completed\n"
     ]
    },
    {
     "name": "stdout",
     "output_type": "stream",
     "text": [
      "WYNN data saved\n",
      "Fetching data: XEL\n"
     ]
    },
    {
     "name": "stderr",
     "output_type": "stream",
     "text": [
      "[*********************100%***********************]  1 of 1 completed\n"
     ]
    },
    {
     "name": "stdout",
     "output_type": "stream",
     "text": [
      "XEL data saved\n",
      "Fetching data: XYL\n"
     ]
    },
    {
     "name": "stderr",
     "output_type": "stream",
     "text": [
      "[*********************100%***********************]  1 of 1 completed\n"
     ]
    },
    {
     "name": "stdout",
     "output_type": "stream",
     "text": [
      "Skipping XYL, insufficient data days: 2319 days\n",
      "Fetching data: YUM\n"
     ]
    },
    {
     "name": "stderr",
     "output_type": "stream",
     "text": [
      "[*********************100%***********************]  1 of 1 completed\n"
     ]
    },
    {
     "name": "stdout",
     "output_type": "stream",
     "text": [
      "YUM data saved\n",
      "Fetching data: ZBRA\n"
     ]
    },
    {
     "name": "stderr",
     "output_type": "stream",
     "text": [
      "[*********************100%***********************]  1 of 1 completed\n",
      "[*********************100%***********************]  1 of 1 completed"
     ]
    },
    {
     "name": "stdout",
     "output_type": "stream",
     "text": [
      "ZBRA data saved\n",
      "Fetching data: ZBH\n"
     ]
    },
    {
     "name": "stderr",
     "output_type": "stream",
     "text": [
      "\n",
      "[*********************100%***********************]  1 of 1 completed"
     ]
    },
    {
     "name": "stdout",
     "output_type": "stream",
     "text": [
      "ZBH data saved\n",
      "Fetching data: ZTS\n",
      "Skipping ZTS, insufficient data days: 1993 days\n",
      "All eligible stock data has been successfully saved.\n"
     ]
    },
    {
     "name": "stderr",
     "output_type": "stream",
     "text": [
      "\n"
     ]
    }
   ],
   "source": [
    "import yfinance as yf\n",
    "import os\n",
    "import pandas as pd\n",
    "\n",
    "# Set storage path\n",
    "directory = \"SP500_10_20\"\n",
    "if not os.path.exists(directory):\n",
    "    os.makedirs(directory)\n",
    "\n",
    "# Get the list of S&P 500 companies from Wikipedia\n",
    "sp500_url = \"https://en.wikipedia.org/wiki/List_of_S%26P_500_companies\"\n",
    "table = pd.read_html(sp500_url)[0]\n",
    "tickers = table['Symbol'].tolist()\n",
    "\n",
    "# Fetch stock data and save as CSV\n",
    "for ticker in tickers:\n",
    "    print(f\"Fetching data: {ticker}\")\n",
    "    stock_data = yf.download(ticker, start=\"2010-12-31\", end=\"2020-12-31\")\n",
    "    \n",
    "    # Check if the number of data rows is less than 2500 days\n",
    "    if len(stock_data) < 2500:\n",
    "        print(f\"Skipping {ticker}, insufficient data days: {len(stock_data)} days\")\n",
    "        continue  # Skip this stock and do not save the data\n",
    "\n",
    "    # Keep only the necessary columns (Open, High, Low, Close, Volume)\n",
    "    stock_data = stock_data[['Open', 'High', 'Low', 'Close', 'Volume']]\n",
    "    \n",
    "    # Save the data to CSV\n",
    "    stock_data.to_csv(f\"{directory}/{ticker}.csv\")\n",
    "    print(f\"{ticker} data saved\")\n",
    "\n",
    "print(\"All eligible stock data has been successfully saved.\")\n"
   ]
  },
  {
   "cell_type": "code",
   "execution_count": 2,
   "metadata": {},
   "outputs": [
    {
     "name": "stdout",
     "output_type": "stream",
     "text": [
      "Finished processing: TMUS.csv\n",
      "Finished processing: CHRW.csv\n",
      "Finished processing: COO.csv\n",
      "Finished processing: ES.csv\n",
      "Finished processing: HSIC.csv\n",
      "Finished processing: MKTX.csv\n",
      "Finished processing: UDR.csv\n",
      "Finished processing: ED.csv\n",
      "Finished processing: MCHP.csv\n",
      "Finished processing: EOG.csv\n",
      "Finished processing: MO.csv\n",
      "Finished processing: ROK.csv\n",
      "Finished processing: MGM.csv\n",
      "Finished processing: KO.csv\n",
      "Finished processing: AAPL.csv\n",
      "Finished processing: ROL.csv\n",
      "Finished processing: STT.csv\n",
      "Finished processing: NDAQ.csv\n",
      "Finished processing: JKHY.csv\n",
      "Finished processing: HSY.csv\n",
      "Finished processing: BX.csv\n",
      "Finished processing: DD.csv\n",
      "Finished processing: XEL.csv\n",
      "Finished processing: CVS.csv\n",
      "Finished processing: PEP.csv\n",
      "Finished processing: TJX.csv\n",
      "Finished processing: LIN.csv\n",
      "Finished processing: AIZ.csv\n",
      "Finished processing: CI.csv\n",
      "Finished processing: BG.csv\n",
      "Finished processing: STX.csv\n",
      "Finished processing: DHR.csv\n",
      "Finished processing: DECK.csv\n",
      "Finished processing: JPM.csv\n",
      "Finished processing: CMS.csv\n",
      "Finished processing: WM.csv\n",
      "Finished processing: GOOG.csv\n",
      "Finished processing: SWK.csv\n",
      "Finished processing: CSCO.csv\n",
      "Finished processing: BKNG.csv\n",
      "Finished processing: BEN.csv\n",
      "Finished processing: SO.csv\n",
      "Finished processing: CMG.csv\n",
      "Finished processing: GILD.csv\n",
      "Finished processing: NOC.csv\n",
      "Finished processing: HBAN.csv\n",
      "Finished processing: AWK.csv\n",
      "Finished processing: DG.csv\n",
      "Finished processing: DOV.csv\n",
      "Finished processing: BLK.csv\n",
      "Finished processing: LLY.csv\n",
      "Finished processing: MOH.csv\n",
      "Finished processing: MDLZ.csv\n",
      "Finished processing: WST.csv\n",
      "Finished processing: DVA.csv\n",
      "Finished processing: NXPI.csv\n",
      "Finished processing: J.csv\n",
      "Finished processing: UNP.csv\n",
      "Finished processing: REG.csv\n",
      "Finished processing: ODFL.csv\n",
      "Finished processing: ECL.csv\n",
      "Finished processing: WBA.csv\n",
      "Finished processing: BDX.csv\n",
      "Finished processing: NSC.csv\n",
      "Finished processing: STE.csv\n",
      "Finished processing: K.csv\n",
      "Finished processing: ORCL.csv\n",
      "Finished processing: VRTX.csv\n",
      "Finished processing: ABT.csv\n",
      "Finished processing: RCL.csv\n",
      "Finished processing: LYV.csv\n",
      "Finished processing: INTU.csv\n",
      "Finished processing: DAL.csv\n",
      "Finished processing: T.csv\n",
      "Finished processing: IRM.csv\n",
      "Finished processing: OKE.csv\n",
      "Finished processing: BIIB.csv\n",
      "Finished processing: ITW.csv\n",
      "Finished processing: RSG.csv\n",
      "Finished processing: LYB.csv\n",
      "Finished processing: TT.csv\n",
      "Finished processing: PGR.csv\n",
      "Finished processing: AMT.csv\n",
      "Finished processing: XOM.csv\n",
      "Finished processing: CAH.csv\n",
      "Finished processing: WRB.csv\n",
      "Finished processing: WTW.csv\n",
      "Finished processing: FRT.csv\n",
      "Finished processing: FFIV.csv\n",
      "Finished processing: LRCX.csv\n",
      "Finished processing: HOLX.csv\n",
      "Finished processing: PPL.csv\n",
      "Finished processing: NTRS.csv\n",
      "Finished processing: FE.csv\n",
      "Finished processing: ARE.csv\n",
      "Finished processing: ADSK.csv\n",
      "Finished processing: HUM.csv\n",
      "Finished processing: PPG.csv\n",
      "Finished processing: TKO.csv\n",
      "Finished processing: HIG.csv\n",
      "Finished processing: SPGI.csv\n",
      "Finished processing: KLAC.csv\n",
      "Finished processing: MOS.csv\n",
      "Finished processing: NTAP.csv\n",
      "Finished processing: PRU.csv\n",
      "Finished processing: AMP.csv\n",
      "Finished processing: MSFT.csv\n",
      "Finished processing: BK.csv\n",
      "Finished processing: KIM.csv\n",
      "Finished processing: PLD.csv\n",
      "Finished processing: PH.csv\n",
      "Finished processing: APA.csv\n",
      "Finished processing: EMR.csv\n",
      "Finished processing: ACGL.csv\n",
      "Finished processing: OXY.csv\n",
      "Finished processing: IEX.csv\n",
      "Finished processing: PNC.csv\n",
      "Finished processing: ICE.csv\n",
      "Finished processing: STLD.csv\n",
      "Finished processing: MET.csv\n",
      "Finished processing: PWR.csv\n",
      "Finished processing: F.csv\n",
      "Finished processing: CCL.csv\n",
      "Finished processing: HAS.csv\n",
      "Finished processing: USB.csv\n",
      "Finished processing: GIS.csv\n",
      "Finished processing: PAYX.csv\n",
      "Finished processing: HRL.csv\n",
      "Finished processing: GS.csv\n",
      "Finished processing: HD.csv\n",
      "Finished processing: EL.csv\n",
      "Finished processing: LMT.csv\n",
      "Finished processing: CMI.csv\n",
      "Finished processing: D.csv\n",
      "Finished processing: JBHT.csv\n",
      "Finished processing: BA.csv\n",
      "Finished processing: EIX.csv\n",
      "Finished processing: TXT.csv\n",
      "Finished processing: WY.csv\n",
      "Finished processing: TFC.csv\n",
      "Finished processing: FSLR.csv\n",
      "Finished processing: UAL.csv\n",
      "Finished processing: BKR.csv\n",
      "Finished processing: V.csv\n",
      "Finished processing: NI.csv\n",
      "Finished processing: PARA.csv\n",
      "Finished processing: MU.csv\n",
      "Finished processing: HON.csv\n",
      "Finished processing: PNR.csv\n",
      "Finished processing: GRMN.csv\n",
      "Finished processing: AVY.csv\n",
      "Finished processing: MRK.csv\n",
      "Finished processing: WAT.csv\n",
      "Finished processing: IPG.csv\n",
      "Finished processing: PSA.csv\n",
      "Finished processing: EVRG.csv\n",
      "Finished processing: SYY.csv\n",
      "Finished processing: TER.csv\n",
      "Finished processing: MCO.csv\n",
      "Finished processing: VRSN.csv\n",
      "Finished processing: NFLX.csv\n",
      "Finished processing: CCI.csv\n",
      "Finished processing: AXP.csv\n",
      "Finished processing: IT.csv\n",
      "Finished processing: ADI.csv\n",
      "Finished processing: BLDR.csv\n",
      "Finished processing: IP.csv\n",
      "Finished processing: TYL.csv\n",
      "Finished processing: MSCI.csv\n",
      "Finished processing: CF.csv\n",
      "Finished processing: A.csv\n",
      "Finished processing: PEG.csv\n",
      "Finished processing: SCHW.csv\n",
      "Finished processing: ETN.csv\n",
      "Finished processing: ZBRA.csv\n",
      "Finished processing: SYK.csv\n",
      "Finished processing: JNJ.csv\n",
      "Finished processing: OMC.csv\n",
      "Finished processing: RVTY.csv\n",
      "Finished processing: JCI.csv\n",
      "Finished processing: GM.csv\n",
      "Finished processing: AME.csv\n",
      "Finished processing: ELV.csv\n",
      "Finished processing: CINF.csv\n",
      "Finished processing: RTX.csv\n",
      "Finished processing: ESS.csv\n",
      "Finished processing: CVX.csv\n",
      "Finished processing: MA.csv\n",
      "Finished processing: SRE.csv\n",
      "Finished processing: EXR.csv\n",
      "Finished processing: ALL.csv\n",
      "Finished processing: FCX.csv\n",
      "Finished processing: PNW.csv\n",
      "Finished processing: PHM.csv\n",
      "Finished processing: KR.csv\n",
      "Finished processing: NVR.csv\n",
      "Finished processing: CTAS.csv\n",
      "Finished processing: AOS.csv\n",
      "Finished processing: EA.csv\n",
      "Finished processing: NEM.csv\n",
      "Finished processing: PFG.csv\n",
      "Finished processing: TDG.csv\n",
      "Finished processing: CME.csv\n",
      "Finished processing: AMD.csv\n",
      "Finished processing: CLX.csv\n",
      "Finished processing: EXPE.csv\n",
      "Finished processing: LNT.csv\n",
      "Finished processing: AON.csv\n",
      "Finished processing: JBL.csv\n",
      "Finished processing: ROST.csv\n",
      "Finished processing: AMZN.csv\n",
      "Finished processing: INTC.csv\n",
      "Finished processing: AMGN.csv\n",
      "Finished processing: DOC.csv\n",
      "Finished processing: TGT.csv\n",
      "Finished processing: TECH.csv\n",
      "Finished processing: ADP.csv\n",
      "Finished processing: CTRA.csv\n",
      "Finished processing: BAC.csv\n",
      "Finished processing: VZ.csv\n",
      "Finished processing: ULTA.csv\n",
      "Finished processing: LVS.csv\n",
      "Finished processing: DLTR.csv\n",
      "Finished processing: FDS.csv\n",
      "Finished processing: PKG.csv\n",
      "Finished processing: WELL.csv\n",
      "Finished processing: CRL.csv\n",
      "Finished processing: STZ.csv\n",
      "Finished processing: ROP.csv\n",
      "Finished processing: WYNN.csv\n",
      "Finished processing: SBUX.csv\n",
      "Finished processing: KKR.csv\n",
      "Finished processing: MKC.csv\n",
      "Finished processing: ACN.csv\n",
      "Finished processing: AZO.csv\n",
      "Finished processing: MHK.csv\n",
      "Finished processing: ATO.csv\n",
      "Finished processing: AVB.csv\n",
      "Finished processing: SHW.csv\n",
      "Finished processing: YUM.csv\n",
      "Finished processing: CPT.csv\n",
      "Finished processing: GEN.csv\n",
      "Finished processing: CPB.csv\n",
      "Finished processing: CNP.csv\n",
      "Finished processing: LHX.csv\n",
      "Finished processing: RMD.csv\n",
      "Finished processing: GNRC.csv\n",
      "Finished processing: NDSN.csv\n",
      "Finished processing: ADM.csv\n",
      "Finished processing: TRGP.csv\n",
      "Finished processing: LUV.csv\n",
      "Finished processing: HPQ.csv\n",
      "Finished processing: O.csv\n",
      "Finished processing: MTCH.csv\n",
      "Finished processing: BR.csv\n",
      "Finished processing: TRV.csv\n",
      "Finished processing: DFS.csv\n",
      "Finished processing: EW.csv\n",
      "Finished processing: DUK.csv\n",
      "Finished processing: DIS.csv\n",
      "Finished processing: DRI.csv\n",
      "Finished processing: UHS.csv\n",
      "Finished processing: GLW.csv\n",
      "Finished processing: FI.csv\n",
      "Finished processing: MTB.csv\n",
      "Finished processing: PFE.csv\n",
      "Finished processing: LKQ.csv\n",
      "Finished processing: ALGN.csv\n",
      "Finished processing: VRSK.csv\n",
      "Finished processing: DPZ.csv\n",
      "Finished processing: LII.csv\n",
      "Finished processing: EFX.csv\n",
      "Finished processing: TSCO.csv\n",
      "Finished processing: AEE.csv\n",
      "Finished processing: MAS.csv\n",
      "Finished processing: DVN.csv\n",
      "Finished processing: LEN.csv\n",
      "Finished processing: CPRT.csv\n",
      "Finished processing: HST.csv\n",
      "Finished processing: AES.csv\n",
      "Finished processing: CNC.csv\n",
      "Finished processing: SMCI.csv\n",
      "Finished processing: URI.csv\n",
      "Finished processing: DGX.csv\n",
      "Finished processing: FTNT.csv\n",
      "Finished processing: GPC.csv\n",
      "Finished processing: BRO.csv\n",
      "Finished processing: PODD.csv\n",
      "Finished processing: GD.csv\n",
      "Finished processing: COP.csv\n",
      "Finished processing: NUE.csv\n",
      "Finished processing: CTSH.csv\n",
      "Finished processing: FITB.csv\n",
      "Finished processing: SPG.csv\n",
      "Finished processing: DLR.csv\n",
      "Finished processing: IFF.csv\n",
      "Finished processing: VMC.csv\n",
      "Finished processing: PG.csv\n",
      "Finished processing: IBM.csv\n",
      "Finished processing: KMB.csv\n",
      "Finished processing: SBAC.csv\n",
      "Finished processing: TRMB.csv\n",
      "Finished processing: NVDA.csv\n",
      "Finished processing: UPS.csv\n",
      "Finished processing: LDOS.csv\n",
      "Finished processing: ISRG.csv\n",
      "Finished processing: ORLY.csv\n",
      "Finished processing: CPAY.csv\n",
      "Finished processing: C.csv\n",
      "Finished processing: GL.csv\n",
      "Finished processing: SJM.csv\n",
      "Finished processing: REGN.csv\n",
      "Finished processing: MNST.csv\n",
      "Finished processing: MAA.csv\n",
      "Finished processing: CHD.csv\n",
      "Finished processing: BXP.csv\n",
      "Finished processing: DTE.csv\n",
      "Finished processing: CAG.csv\n",
      "Finished processing: PCG.csv\n",
      "Finished processing: FAST.csv\n",
      "Finished processing: COR.csv\n",
      "Finished processing: BALL.csv\n",
      "Finished processing: TSLA.csv\n",
      "Finished processing: PM.csv\n",
      "Finished processing: TXN.csv\n",
      "Finished processing: SNA.csv\n",
      "Finished processing: LH.csv\n",
      "Finished processing: CBOE.csv\n",
      "Finished processing: AVGO.csv\n",
      "Finished processing: ERIE.csv\n",
      "Finished processing: EXC.csv\n",
      "Finished processing: AFL.csv\n",
      "Finished processing: DHI.csv\n",
      "Finished processing: CHTR.csv\n",
      "Finished processing: RL.csv\n",
      "Finished processing: JNPR.csv\n",
      "Finished processing: EQIX.csv\n",
      "Finished processing: GE.csv\n",
      "Finished processing: WDC.csv\n",
      "Finished processing: WBD.csv\n",
      "Finished processing: INCY.csv\n",
      "Finished processing: TPL.csv\n",
      "Finished processing: AMAT.csv\n",
      "Finished processing: VTRS.csv\n",
      "Finished processing: NKE.csv\n",
      "Finished processing: GPN.csv\n",
      "Finished processing: APH.csv\n",
      "Finished processing: VTR.csv\n",
      "Finished processing: ALB.csv\n",
      "Finished processing: CDNS.csv\n",
      "Finished processing: LOW.csv\n",
      "Finished processing: IVZ.csv\n",
      "Finished processing: EQT.csv\n",
      "Finished processing: IDXX.csv\n",
      "Finished processing: ZBH.csv\n",
      "Finished processing: LULU.csv\n",
      "Finished processing: BAX.csv\n",
      "Finished processing: MCD.csv\n",
      "Finished processing: ANSS.csv\n",
      "Finished processing: APD.csv\n",
      "Finished processing: COST.csv\n",
      "Finished processing: CBRE.csv\n",
      "Finished processing: MCK.csv\n",
      "Finished processing: AXON.csv\n",
      "Finished processing: PCAR.csv\n",
      "Finished processing: CSGP.csv\n",
      "Finished processing: COF.csv\n",
      "Finished processing: MPWR.csv\n",
      "Finished processing: GWW.csv\n",
      "Finished processing: GOOGL.csv\n",
      "Finished processing: L.csv\n",
      "Finished processing: FICO.csv\n",
      "Finished processing: NEE.csv\n",
      "Finished processing: TEL.csv\n",
      "Finished processing: CSX.csv\n",
      "Finished processing: BMY.csv\n",
      "Finished processing: QCOM.csv\n",
      "Finished processing: SWKS.csv\n",
      "Finished processing: EXPD.csv\n",
      "Finished processing: ADBE.csv\n",
      "Finished processing: RJF.csv\n",
      "Finished processing: TTWO.csv\n",
      "Finished processing: RF.csv\n",
      "Finished processing: FIS.csv\n",
      "Finished processing: WAB.csv\n",
      "Finished processing: HAL.csv\n",
      "Finished processing: BSX.csv\n",
      "Finished processing: PTC.csv\n",
      "Finished processing: POOL.csv\n",
      "Finished processing: UNH.csv\n",
      "Finished processing: CAT.csv\n",
      "Finished processing: CB.csv\n",
      "Finished processing: BBY.csv\n",
      "Finished processing: EQR.csv\n",
      "Finished processing: KDP.csv\n",
      "Finished processing: AEP.csv\n",
      "Finished processing: WMT.csv\n",
      "Finished processing: TSN.csv\n",
      "Finished processing: KMX.csv\n",
      "Finished processing: CRM.csv\n",
      "Finished processing: TAP.csv\n",
      "Finished processing: MMM.csv\n",
      "Finished processing: CMCSA.csv\n",
      "Finished processing: HES.csv\n",
      "Finished processing: TROW.csv\n",
      "Finished processing: HUBB.csv\n",
      "Finished processing: WEC.csv\n",
      "Finished processing: TMO.csv\n",
      "Finished processing: TPR.csv\n",
      "Finished processing: MLM.csv\n",
      "Finished processing: WMB.csv\n",
      "Finished processing: MTD.csv\n",
      "Finished processing: EG.csv\n",
      "Finished processing: AJG.csv\n",
      "Finished processing: DE.csv\n",
      "Finished processing: SNPS.csv\n",
      "Finished processing: AIG.csv\n",
      "Finished processing: AKAM.csv\n",
      "Finished processing: TDY.csv\n",
      "Finished processing: DXCM.csv\n",
      "Finished processing: WFC.csv\n",
      "Finished processing: ON.csv\n",
      "Finished processing: MS.csv\n",
      "Finished processing: FDX.csv\n",
      "Finished processing: MMC.csv\n",
      "Finished processing: MAR.csv\n",
      "Finished processing: MSI.csv\n",
      "Finished processing: EMN.csv\n",
      "Finished processing: KEY.csv\n",
      "Finished processing: WSM.csv\n",
      "Finished processing: CL.csv\n",
      "Finished processing: EBAY.csv\n",
      "Finished processing: MDT.csv\n",
      "Finished processing: VLO.csv\n",
      "Finished processing: NRG.csv\n",
      "Finished processing: SLB.csv\n",
      "Finished processing: ETR.csv\n",
      "🎉 All CSV files have been cleaned successfully!\n"
     ]
    }
   ],
   "source": [
    "import pandas as pd\n",
    "import os\n",
    "\n",
    "# Set the storage path\n",
    "directory = \"SP500_10_20\"\n",
    "\n",
    "# Process each CSV file\n",
    "for ticker in os.listdir(directory):\n",
    "    if ticker.endswith(\".csv\"):\n",
    "        file_path = os.path.join(directory, ticker)\n",
    "        \n",
    "        # Read the CSV file\n",
    "        df = pd.read_csv(file_path)\n",
    "\n",
    "        # Delete the second and third rows\n",
    "        df = df.drop([0, 1]).reset_index(drop=True)\n",
    "\n",
    "        # Remove rows containing NaN values\n",
    "        df = df.dropna()\n",
    "\n",
    "        # Rename the first column to 'Date'\n",
    "        df.columns.values[0] = 'Date'\n",
    "\n",
    "        # Save the modified file\n",
    "        df.to_csv(file_path, index=False)\n",
    "\n",
    "        print(f\"Finished processing: {ticker}\")\n",
    "\n",
    "print(\"🎉 All CSV files have been cleaned successfully!\")\n"
   ]
  },
  {
   "cell_type": "code",
   "execution_count": 3,
   "metadata": {},
   "outputs": [
    {
     "name": "stdout",
     "output_type": "stream",
     "text": [
      "Fetching data for: MMM\n"
     ]
    },
    {
     "name": "stderr",
     "output_type": "stream",
     "text": [
      "[*********************100%***********************]  1 of 1 completed\n"
     ]
    },
    {
     "name": "stdout",
     "output_type": "stream",
     "text": [
      "MMM data saved\n",
      "Fetching data for: AOS\n"
     ]
    },
    {
     "name": "stderr",
     "output_type": "stream",
     "text": [
      "[*********************100%***********************]  1 of 1 completed\n"
     ]
    },
    {
     "name": "stdout",
     "output_type": "stream",
     "text": [
      "AOS data saved\n",
      "Fetching data for: ABT\n"
     ]
    },
    {
     "name": "stderr",
     "output_type": "stream",
     "text": [
      "[*********************100%***********************]  1 of 1 completed\n",
      "[*********************100%***********************]  1 of 1 completed\n"
     ]
    },
    {
     "name": "stdout",
     "output_type": "stream",
     "text": [
      "ABT data saved\n",
      "Fetching data for: ABBV\n",
      "ABBV data saved\n",
      "Fetching data for: ACN\n"
     ]
    },
    {
     "name": "stderr",
     "output_type": "stream",
     "text": [
      "[*********************100%***********************]  1 of 1 completed\n",
      "[*********************100%***********************]  1 of 1 completed\n"
     ]
    },
    {
     "name": "stdout",
     "output_type": "stream",
     "text": [
      "ACN data saved\n",
      "Fetching data for: ADBE\n",
      "ADBE data saved\n",
      "Fetching data for: AMD\n"
     ]
    },
    {
     "name": "stderr",
     "output_type": "stream",
     "text": [
      "[*********************100%***********************]  1 of 1 completed\n",
      "[*********************100%***********************]  1 of 1 completed\n"
     ]
    },
    {
     "name": "stdout",
     "output_type": "stream",
     "text": [
      "AMD data saved\n",
      "Fetching data for: AES\n",
      "AES data saved\n",
      "Fetching data for: AFL\n"
     ]
    },
    {
     "name": "stderr",
     "output_type": "stream",
     "text": [
      "[*********************100%***********************]  1 of 1 completed\n",
      "[*********************100%***********************]  1 of 1 completed\n"
     ]
    },
    {
     "name": "stdout",
     "output_type": "stream",
     "text": [
      "AFL data saved\n",
      "Fetching data for: A\n",
      "A data saved\n",
      "Fetching data for: APD\n"
     ]
    },
    {
     "name": "stderr",
     "output_type": "stream",
     "text": [
      "[*********************100%***********************]  1 of 1 completed\n",
      "[*********************100%***********************]  1 of 1 completed\n"
     ]
    },
    {
     "name": "stdout",
     "output_type": "stream",
     "text": [
      "APD data saved\n",
      "Fetching data for: ABNB\n"
     ]
    },
    {
     "name": "stderr",
     "output_type": "stream",
     "text": [
      "[*********************100%***********************]  1 of 1 completed\n"
     ]
    },
    {
     "name": "stdout",
     "output_type": "stream",
     "text": [
      "ABNB data saved\n",
      "Fetching data for: AKAM\n",
      "AKAM data saved\n",
      "Fetching data for: ALB\n"
     ]
    },
    {
     "name": "stderr",
     "output_type": "stream",
     "text": [
      "[*********************100%***********************]  1 of 1 completed\n"
     ]
    },
    {
     "name": "stdout",
     "output_type": "stream",
     "text": [
      "ALB data saved\n",
      "Fetching data for: ARE\n"
     ]
    },
    {
     "name": "stderr",
     "output_type": "stream",
     "text": [
      "[*********************100%***********************]  1 of 1 completed\n",
      "[*********************100%***********************]  1 of 1 completed\n"
     ]
    },
    {
     "name": "stdout",
     "output_type": "stream",
     "text": [
      "ARE data saved\n",
      "Fetching data for: ALGN\n",
      "ALGN data saved\n",
      "Fetching data for: ALLE\n"
     ]
    },
    {
     "name": "stderr",
     "output_type": "stream",
     "text": [
      "[*********************100%***********************]  1 of 1 completed\n"
     ]
    },
    {
     "name": "stdout",
     "output_type": "stream",
     "text": [
      "ALLE data saved\n",
      "Fetching data for: LNT\n"
     ]
    },
    {
     "name": "stderr",
     "output_type": "stream",
     "text": [
      "[*********************100%***********************]  1 of 1 completed\n"
     ]
    },
    {
     "name": "stdout",
     "output_type": "stream",
     "text": [
      "LNT data saved\n",
      "Fetching data for: ALL\n"
     ]
    },
    {
     "name": "stderr",
     "output_type": "stream",
     "text": [
      "[*********************100%***********************]  1 of 1 completed\n",
      "[*********************100%***********************]  1 of 1 completed\n"
     ]
    },
    {
     "name": "stdout",
     "output_type": "stream",
     "text": [
      "ALL data saved\n",
      "Fetching data for: GOOGL\n",
      "GOOGL data saved\n",
      "Fetching data for: GOOG\n"
     ]
    },
    {
     "name": "stderr",
     "output_type": "stream",
     "text": [
      "[*********************100%***********************]  1 of 1 completed\n"
     ]
    },
    {
     "name": "stdout",
     "output_type": "stream",
     "text": [
      "GOOG data saved\n",
      "Fetching data for: MO\n"
     ]
    },
    {
     "name": "stderr",
     "output_type": "stream",
     "text": [
      "[*********************100%***********************]  1 of 1 completed\n",
      "[*********************100%***********************]  1 of 1 completed\n"
     ]
    },
    {
     "name": "stdout",
     "output_type": "stream",
     "text": [
      "MO data saved\n",
      "Fetching data for: AMZN\n",
      "AMZN data saved\n",
      "Fetching data for: AMCR\n"
     ]
    },
    {
     "name": "stderr",
     "output_type": "stream",
     "text": [
      "[*********************100%***********************]  1 of 1 completed\n"
     ]
    },
    {
     "name": "stdout",
     "output_type": "stream",
     "text": [
      "AMCR data saved\n",
      "Fetching data for: AEE\n"
     ]
    },
    {
     "name": "stderr",
     "output_type": "stream",
     "text": [
      "[*********************100%***********************]  1 of 1 completed\n"
     ]
    },
    {
     "name": "stdout",
     "output_type": "stream",
     "text": [
      "AEE data saved\n",
      "Fetching data for: AEP\n"
     ]
    },
    {
     "name": "stderr",
     "output_type": "stream",
     "text": [
      "[*********************100%***********************]  1 of 1 completed\n"
     ]
    },
    {
     "name": "stdout",
     "output_type": "stream",
     "text": [
      "AEP data saved\n",
      "Fetching data for: AXP\n"
     ]
    },
    {
     "name": "stderr",
     "output_type": "stream",
     "text": [
      "[*********************100%***********************]  1 of 1 completed\n"
     ]
    },
    {
     "name": "stdout",
     "output_type": "stream",
     "text": [
      "AXP data saved\n",
      "Fetching data for: AIG\n"
     ]
    },
    {
     "name": "stderr",
     "output_type": "stream",
     "text": [
      "[*********************100%***********************]  1 of 1 completed\n",
      "[*********************100%***********************]  1 of 1 completed\n"
     ]
    },
    {
     "name": "stdout",
     "output_type": "stream",
     "text": [
      "AIG data saved\n",
      "Fetching data for: AMT\n",
      "AMT data saved\n",
      "Fetching data for: AWK\n"
     ]
    },
    {
     "name": "stderr",
     "output_type": "stream",
     "text": [
      "[*********************100%***********************]  1 of 1 completed\n",
      "[*********************100%***********************]  1 of 1 completed\n"
     ]
    },
    {
     "name": "stdout",
     "output_type": "stream",
     "text": [
      "AWK data saved\n",
      "Fetching data for: AMP\n",
      "AMP data saved\n",
      "Fetching data for: AME\n"
     ]
    },
    {
     "name": "stderr",
     "output_type": "stream",
     "text": [
      "[*********************100%***********************]  1 of 1 completed\n"
     ]
    },
    {
     "name": "stdout",
     "output_type": "stream",
     "text": [
      "AME data saved\n",
      "Fetching data for: AMGN\n"
     ]
    },
    {
     "name": "stderr",
     "output_type": "stream",
     "text": [
      "[*********************100%***********************]  1 of 1 completed\n"
     ]
    },
    {
     "name": "stdout",
     "output_type": "stream",
     "text": [
      "AMGN data saved\n",
      "Fetching data for: APH\n"
     ]
    },
    {
     "name": "stderr",
     "output_type": "stream",
     "text": [
      "[*********************100%***********************]  1 of 1 completed\n",
      "[*********************100%***********************]  1 of 1 completed\n"
     ]
    },
    {
     "name": "stdout",
     "output_type": "stream",
     "text": [
      "APH data saved\n",
      "Fetching data for: ADI\n",
      "ADI data saved\n",
      "Fetching data for: ANSS\n"
     ]
    },
    {
     "name": "stderr",
     "output_type": "stream",
     "text": [
      "[*********************100%***********************]  1 of 1 completed\n",
      "[*********************100%***********************]  1 of 1 completed\n"
     ]
    },
    {
     "name": "stdout",
     "output_type": "stream",
     "text": [
      "ANSS data saved\n",
      "Fetching data for: AON\n",
      "AON data saved\n",
      "Fetching data for: APA\n"
     ]
    },
    {
     "name": "stderr",
     "output_type": "stream",
     "text": [
      "[*********************100%***********************]  1 of 1 completed\n",
      "[*********************100%***********************]  1 of 1 completed\n"
     ]
    },
    {
     "name": "stdout",
     "output_type": "stream",
     "text": [
      "APA data saved\n",
      "Fetching data for: APO\n",
      "APO data saved\n",
      "Fetching data for: AAPL\n"
     ]
    },
    {
     "name": "stderr",
     "output_type": "stream",
     "text": [
      "[*********************100%***********************]  1 of 1 completed\n"
     ]
    },
    {
     "name": "stdout",
     "output_type": "stream",
     "text": [
      "AAPL data saved\n",
      "Fetching data for: AMAT\n"
     ]
    },
    {
     "name": "stderr",
     "output_type": "stream",
     "text": [
      "[*********************100%***********************]  1 of 1 completed\n",
      "[*********************100%***********************]  1 of 1 completed\n"
     ]
    },
    {
     "name": "stdout",
     "output_type": "stream",
     "text": [
      "AMAT data saved\n",
      "Fetching data for: APTV\n",
      "APTV data saved\n",
      "Fetching data for: ACGL\n"
     ]
    },
    {
     "name": "stderr",
     "output_type": "stream",
     "text": [
      "[*********************100%***********************]  1 of 1 completed\n"
     ]
    },
    {
     "name": "stdout",
     "output_type": "stream",
     "text": [
      "ACGL data saved\n",
      "Fetching data for: ADM\n"
     ]
    },
    {
     "name": "stderr",
     "output_type": "stream",
     "text": [
      "[*********************100%***********************]  1 of 1 completed\n",
      "[*********************100%***********************]  1 of 1 completed\n"
     ]
    },
    {
     "name": "stdout",
     "output_type": "stream",
     "text": [
      "ADM data saved\n",
      "Fetching data for: ANET\n",
      "ANET data saved\n",
      "Fetching data for: AJG\n"
     ]
    },
    {
     "name": "stderr",
     "output_type": "stream",
     "text": [
      "[*********************100%***********************]  1 of 1 completed\n"
     ]
    },
    {
     "name": "stdout",
     "output_type": "stream",
     "text": [
      "AJG data saved\n",
      "Fetching data for: AIZ\n"
     ]
    },
    {
     "name": "stderr",
     "output_type": "stream",
     "text": [
      "[*********************100%***********************]  1 of 1 completed\n"
     ]
    },
    {
     "name": "stdout",
     "output_type": "stream",
     "text": [
      "AIZ data saved\n",
      "Fetching data for: T\n"
     ]
    },
    {
     "name": "stderr",
     "output_type": "stream",
     "text": [
      "[*********************100%***********************]  1 of 1 completed\n"
     ]
    },
    {
     "name": "stdout",
     "output_type": "stream",
     "text": [
      "T data saved\n",
      "Fetching data for: ATO\n"
     ]
    },
    {
     "name": "stderr",
     "output_type": "stream",
     "text": [
      "[*********************100%***********************]  1 of 1 completed\n",
      "[*********************100%***********************]  1 of 1 completed\n"
     ]
    },
    {
     "name": "stdout",
     "output_type": "stream",
     "text": [
      "ATO data saved\n",
      "Fetching data for: ADSK\n",
      "ADSK data saved\n",
      "Fetching data for: ADP\n"
     ]
    },
    {
     "name": "stderr",
     "output_type": "stream",
     "text": [
      "[*********************100%***********************]  1 of 1 completed\n",
      "[*********************100%***********************]  1 of 1 completed\n"
     ]
    },
    {
     "name": "stdout",
     "output_type": "stream",
     "text": [
      "ADP data saved\n",
      "Fetching data for: AZO\n",
      "AZO data saved\n",
      "Fetching data for: AVB\n"
     ]
    },
    {
     "name": "stderr",
     "output_type": "stream",
     "text": [
      "[*********************100%***********************]  1 of 1 completed\n"
     ]
    },
    {
     "name": "stdout",
     "output_type": "stream",
     "text": [
      "AVB data saved\n",
      "Fetching data for: AVY\n"
     ]
    },
    {
     "name": "stderr",
     "output_type": "stream",
     "text": [
      "[*********************100%***********************]  1 of 1 completed\n",
      "[*********************100%***********************]  1 of 1 completed\n"
     ]
    },
    {
     "name": "stdout",
     "output_type": "stream",
     "text": [
      "AVY data saved\n",
      "Fetching data for: AXON\n",
      "AXON data saved\n",
      "Fetching data for: BKR\n"
     ]
    },
    {
     "name": "stderr",
     "output_type": "stream",
     "text": [
      "[*********************100%***********************]  1 of 1 completed\n"
     ]
    },
    {
     "name": "stdout",
     "output_type": "stream",
     "text": [
      "BKR data saved\n",
      "Fetching data for: BALL\n"
     ]
    },
    {
     "name": "stderr",
     "output_type": "stream",
     "text": [
      "[*********************100%***********************]  1 of 1 completed\n"
     ]
    },
    {
     "name": "stdout",
     "output_type": "stream",
     "text": [
      "BALL data saved\n",
      "Fetching data for: BAC\n"
     ]
    },
    {
     "name": "stderr",
     "output_type": "stream",
     "text": [
      "[*********************100%***********************]  1 of 1 completed\n"
     ]
    },
    {
     "name": "stdout",
     "output_type": "stream",
     "text": [
      "BAC data saved\n",
      "Fetching data for: BAX\n"
     ]
    },
    {
     "name": "stderr",
     "output_type": "stream",
     "text": [
      "[*********************100%***********************]  1 of 1 completed\n"
     ]
    },
    {
     "name": "stdout",
     "output_type": "stream",
     "text": [
      "BAX data saved\n",
      "Fetching data for: BDX\n"
     ]
    },
    {
     "name": "stderr",
     "output_type": "stream",
     "text": [
      "[*********************100%***********************]  1 of 1 completed\n"
     ]
    },
    {
     "name": "stdout",
     "output_type": "stream",
     "text": [
      "BDX data saved\n",
      "Fetching data for: BRK.B\n"
     ]
    },
    {
     "name": "stderr",
     "output_type": "stream",
     "text": [
      "[*********************100%***********************]  1 of 1 completed\n",
      "\n",
      "1 Failed download:\n",
      "['BRK.B']: YFTzMissingError('possibly delisted; no timezone found')\n"
     ]
    },
    {
     "name": "stdout",
     "output_type": "stream",
     "text": [
      "Skipping BRK.B, not enough data: 0 days\n",
      "Fetching data for: BBY\n"
     ]
    },
    {
     "name": "stderr",
     "output_type": "stream",
     "text": [
      "[*********************100%***********************]  1 of 1 completed\n"
     ]
    },
    {
     "name": "stdout",
     "output_type": "stream",
     "text": [
      "BBY data saved\n",
      "Fetching data for: TECH\n"
     ]
    },
    {
     "name": "stderr",
     "output_type": "stream",
     "text": [
      "[*********************100%***********************]  1 of 1 completed\n",
      "[*********************100%***********************]  1 of 1 completed\n"
     ]
    },
    {
     "name": "stdout",
     "output_type": "stream",
     "text": [
      "TECH data saved\n",
      "Fetching data for: BIIB\n",
      "BIIB data saved\n",
      "Fetching data for: BLK\n"
     ]
    },
    {
     "name": "stderr",
     "output_type": "stream",
     "text": [
      "[*********************100%***********************]  1 of 1 completed\n",
      "[*********************100%***********************]  1 of 1 completed\n"
     ]
    },
    {
     "name": "stdout",
     "output_type": "stream",
     "text": [
      "BLK data saved\n",
      "Fetching data for: BX\n",
      "BX data saved\n",
      "Fetching data for: BK\n"
     ]
    },
    {
     "name": "stderr",
     "output_type": "stream",
     "text": [
      "[*********************100%***********************]  1 of 1 completed\n"
     ]
    },
    {
     "name": "stdout",
     "output_type": "stream",
     "text": [
      "BK data saved\n",
      "Fetching data for: BA\n"
     ]
    },
    {
     "name": "stderr",
     "output_type": "stream",
     "text": [
      "[*********************100%***********************]  1 of 1 completed\n",
      "[*********************100%***********************]  1 of 1 completed\n"
     ]
    },
    {
     "name": "stdout",
     "output_type": "stream",
     "text": [
      "BA data saved\n",
      "Fetching data for: BKNG\n",
      "BKNG data saved\n",
      "Fetching data for: BSX\n"
     ]
    },
    {
     "name": "stderr",
     "output_type": "stream",
     "text": [
      "[*********************100%***********************]  1 of 1 completed\n"
     ]
    },
    {
     "name": "stdout",
     "output_type": "stream",
     "text": [
      "BSX data saved\n",
      "Fetching data for: BMY\n"
     ]
    },
    {
     "name": "stderr",
     "output_type": "stream",
     "text": [
      "[*********************100%***********************]  1 of 1 completed\n",
      "[*********************100%***********************]  1 of 1 completed\n"
     ]
    },
    {
     "name": "stdout",
     "output_type": "stream",
     "text": [
      "BMY data saved\n",
      "Fetching data for: AVGO\n",
      "AVGO data saved\n",
      "Fetching data for: BR\n"
     ]
    },
    {
     "name": "stderr",
     "output_type": "stream",
     "text": [
      "[*********************100%***********************]  1 of 1 completed\n"
     ]
    },
    {
     "name": "stdout",
     "output_type": "stream",
     "text": [
      "BR data saved\n",
      "Fetching data for: BRO\n"
     ]
    },
    {
     "name": "stderr",
     "output_type": "stream",
     "text": [
      "[*********************100%***********************]  1 of 1 completed\n",
      "[*********************100%***********************]  1 of 1 completed\n",
      "\n",
      "1 Failed download:\n",
      "['BF.B']: YFPricesMissingError('possibly delisted; no price data found  (1d 2021-01-01 -> 2025-02-20)')\n"
     ]
    },
    {
     "name": "stdout",
     "output_type": "stream",
     "text": [
      "BRO data saved\n",
      "Fetching data for: BF.B\n",
      "Skipping BF.B, not enough data: 0 days\n",
      "Fetching data for: BLDR\n"
     ]
    },
    {
     "name": "stderr",
     "output_type": "stream",
     "text": [
      "[*********************100%***********************]  1 of 1 completed\n",
      "[*********************100%***********************]  1 of 1 completed\n"
     ]
    },
    {
     "name": "stdout",
     "output_type": "stream",
     "text": [
      "BLDR data saved\n",
      "Fetching data for: BG\n",
      "BG data saved\n",
      "Fetching data for: BXP\n"
     ]
    },
    {
     "name": "stderr",
     "output_type": "stream",
     "text": [
      "[*********************100%***********************]  1 of 1 completed\n",
      "[*********************100%***********************]  1 of 1 completed\n"
     ]
    },
    {
     "name": "stdout",
     "output_type": "stream",
     "text": [
      "BXP data saved\n",
      "Fetching data for: CHRW\n",
      "CHRW data saved\n",
      "Fetching data for: CDNS\n"
     ]
    },
    {
     "name": "stderr",
     "output_type": "stream",
     "text": [
      "[*********************100%***********************]  1 of 1 completed\n",
      "[*********************100%***********************]  1 of 1 completed\n"
     ]
    },
    {
     "name": "stdout",
     "output_type": "stream",
     "text": [
      "CDNS data saved\n",
      "Fetching data for: CZR\n",
      "CZR data saved\n",
      "Fetching data for: CPT\n"
     ]
    },
    {
     "name": "stderr",
     "output_type": "stream",
     "text": [
      "[*********************100%***********************]  1 of 1 completed\n"
     ]
    },
    {
     "name": "stdout",
     "output_type": "stream",
     "text": [
      "CPT data saved\n",
      "Fetching data for: CPB\n"
     ]
    },
    {
     "name": "stderr",
     "output_type": "stream",
     "text": [
      "[*********************100%***********************]  1 of 1 completed\n"
     ]
    },
    {
     "name": "stdout",
     "output_type": "stream",
     "text": [
      "CPB data saved\n",
      "Fetching data for: COF\n"
     ]
    },
    {
     "name": "stderr",
     "output_type": "stream",
     "text": [
      "[*********************100%***********************]  1 of 1 completed\n",
      "[*********************100%***********************]  1 of 1 completed\n"
     ]
    },
    {
     "name": "stdout",
     "output_type": "stream",
     "text": [
      "COF data saved\n",
      "Fetching data for: CAH\n",
      "CAH data saved\n",
      "Fetching data for: KMX\n"
     ]
    },
    {
     "name": "stderr",
     "output_type": "stream",
     "text": [
      "[*********************100%***********************]  1 of 1 completed\n",
      "[*********************100%***********************]  1 of 1 completed\n"
     ]
    },
    {
     "name": "stdout",
     "output_type": "stream",
     "text": [
      "KMX data saved\n",
      "Fetching data for: CCL\n",
      "CCL data saved\n",
      "Fetching data for: CARR\n"
     ]
    },
    {
     "name": "stderr",
     "output_type": "stream",
     "text": [
      "[*********************100%***********************]  1 of 1 completed\n"
     ]
    },
    {
     "name": "stdout",
     "output_type": "stream",
     "text": [
      "CARR data saved\n",
      "Fetching data for: CAT\n"
     ]
    },
    {
     "name": "stderr",
     "output_type": "stream",
     "text": [
      "[*********************100%***********************]  1 of 1 completed\n",
      "[*********************100%***********************]  1 of 1 completed\n"
     ]
    },
    {
     "name": "stdout",
     "output_type": "stream",
     "text": [
      "CAT data saved\n",
      "Fetching data for: CBOE\n",
      "CBOE data saved\n",
      "Fetching data for: CBRE\n"
     ]
    },
    {
     "name": "stderr",
     "output_type": "stream",
     "text": [
      "[*********************100%***********************]  1 of 1 completed\n"
     ]
    },
    {
     "name": "stdout",
     "output_type": "stream",
     "text": [
      "CBRE data saved\n",
      "Fetching data for: CDW\n"
     ]
    },
    {
     "name": "stderr",
     "output_type": "stream",
     "text": [
      "[*********************100%***********************]  1 of 1 completed\n",
      "[*********************100%***********************]  1 of 1 completed\n"
     ]
    },
    {
     "name": "stdout",
     "output_type": "stream",
     "text": [
      "CDW data saved\n",
      "Fetching data for: COR\n",
      "COR data saved\n",
      "Fetching data for: CNC\n"
     ]
    },
    {
     "name": "stderr",
     "output_type": "stream",
     "text": [
      "[*********************100%***********************]  1 of 1 completed\n"
     ]
    },
    {
     "name": "stdout",
     "output_type": "stream",
     "text": [
      "CNC data saved\n",
      "Fetching data for: CNP\n"
     ]
    },
    {
     "name": "stderr",
     "output_type": "stream",
     "text": [
      "[*********************100%***********************]  1 of 1 completed\n",
      "[*********************100%***********************]  1 of 1 completed\n"
     ]
    },
    {
     "name": "stdout",
     "output_type": "stream",
     "text": [
      "CNP data saved\n",
      "Fetching data for: CF\n",
      "CF data saved\n",
      "Fetching data for: CRL\n"
     ]
    },
    {
     "name": "stderr",
     "output_type": "stream",
     "text": [
      "[*********************100%***********************]  1 of 1 completed\n",
      "[*********************100%***********************]  1 of 1 completed\n"
     ]
    },
    {
     "name": "stdout",
     "output_type": "stream",
     "text": [
      "CRL data saved\n",
      "Fetching data for: SCHW\n",
      "SCHW data saved\n",
      "Fetching data for: CHTR\n"
     ]
    },
    {
     "name": "stderr",
     "output_type": "stream",
     "text": [
      "[*********************100%***********************]  1 of 1 completed\n"
     ]
    },
    {
     "name": "stdout",
     "output_type": "stream",
     "text": [
      "CHTR data saved\n",
      "Fetching data for: CVX\n"
     ]
    },
    {
     "name": "stderr",
     "output_type": "stream",
     "text": [
      "[*********************100%***********************]  1 of 1 completed\n",
      "[*********************100%***********************]  1 of 1 completed\n"
     ]
    },
    {
     "name": "stdout",
     "output_type": "stream",
     "text": [
      "CVX data saved\n",
      "Fetching data for: CMG\n",
      "CMG data saved\n",
      "Fetching data for: CB\n"
     ]
    },
    {
     "name": "stderr",
     "output_type": "stream",
     "text": [
      "[*********************100%***********************]  1 of 1 completed\n"
     ]
    },
    {
     "name": "stdout",
     "output_type": "stream",
     "text": [
      "CB data saved\n",
      "Fetching data for: CHD\n"
     ]
    },
    {
     "name": "stderr",
     "output_type": "stream",
     "text": [
      "[*********************100%***********************]  1 of 1 completed\n"
     ]
    },
    {
     "name": "stdout",
     "output_type": "stream",
     "text": [
      "CHD data saved\n",
      "Fetching data for: CI\n"
     ]
    },
    {
     "name": "stderr",
     "output_type": "stream",
     "text": [
      "[*********************100%***********************]  1 of 1 completed\n"
     ]
    },
    {
     "name": "stdout",
     "output_type": "stream",
     "text": [
      "CI data saved\n",
      "Fetching data for: CINF\n"
     ]
    },
    {
     "name": "stderr",
     "output_type": "stream",
     "text": [
      "[*********************100%***********************]  1 of 1 completed\n"
     ]
    },
    {
     "name": "stdout",
     "output_type": "stream",
     "text": [
      "CINF data saved\n",
      "Fetching data for: CTAS\n"
     ]
    },
    {
     "name": "stderr",
     "output_type": "stream",
     "text": [
      "[*********************100%***********************]  1 of 1 completed\n"
     ]
    },
    {
     "name": "stdout",
     "output_type": "stream",
     "text": [
      "CTAS data saved\n",
      "Fetching data for: CSCO\n"
     ]
    },
    {
     "name": "stderr",
     "output_type": "stream",
     "text": [
      "[*********************100%***********************]  1 of 1 completed\n",
      "[*********************100%***********************]  1 of 1 completed\n"
     ]
    },
    {
     "name": "stdout",
     "output_type": "stream",
     "text": [
      "CSCO data saved\n",
      "Fetching data for: C\n",
      "C data saved\n",
      "Fetching data for: CFG\n"
     ]
    },
    {
     "name": "stderr",
     "output_type": "stream",
     "text": [
      "[*********************100%***********************]  1 of 1 completed\n"
     ]
    },
    {
     "name": "stdout",
     "output_type": "stream",
     "text": [
      "CFG data saved\n",
      "Fetching data for: CLX\n"
     ]
    },
    {
     "name": "stderr",
     "output_type": "stream",
     "text": [
      "[*********************100%***********************]  1 of 1 completed\n",
      "[*********************100%***********************]  1 of 1 completed\n"
     ]
    },
    {
     "name": "stdout",
     "output_type": "stream",
     "text": [
      "CLX data saved\n",
      "Fetching data for: CME\n",
      "CME data saved\n",
      "Fetching data for: CMS\n"
     ]
    },
    {
     "name": "stderr",
     "output_type": "stream",
     "text": [
      "[*********************100%***********************]  1 of 1 completed\n"
     ]
    },
    {
     "name": "stdout",
     "output_type": "stream",
     "text": [
      "CMS data saved\n",
      "Fetching data for: KO\n"
     ]
    },
    {
     "name": "stderr",
     "output_type": "stream",
     "text": [
      "[*********************100%***********************]  1 of 1 completed\n",
      "[*********************100%***********************]  1 of 1 completed\n"
     ]
    },
    {
     "name": "stdout",
     "output_type": "stream",
     "text": [
      "KO data saved\n",
      "Fetching data for: CTSH\n",
      "CTSH data saved\n",
      "Fetching data for: CL\n"
     ]
    },
    {
     "name": "stderr",
     "output_type": "stream",
     "text": [
      "[*********************100%***********************]  1 of 1 completed\n"
     ]
    },
    {
     "name": "stdout",
     "output_type": "stream",
     "text": [
      "CL data saved\n",
      "Fetching data for: CMCSA\n"
     ]
    },
    {
     "name": "stderr",
     "output_type": "stream",
     "text": [
      "[*********************100%***********************]  1 of 1 completed\n"
     ]
    },
    {
     "name": "stdout",
     "output_type": "stream",
     "text": [
      "CMCSA data saved\n",
      "Fetching data for: CAG\n"
     ]
    },
    {
     "name": "stderr",
     "output_type": "stream",
     "text": [
      "[*********************100%***********************]  1 of 1 completed\n",
      "[*********************100%***********************]  1 of 1 completed\n"
     ]
    },
    {
     "name": "stdout",
     "output_type": "stream",
     "text": [
      "CAG data saved\n",
      "Fetching data for: COP\n",
      "COP data saved\n",
      "Fetching data for: ED\n"
     ]
    },
    {
     "name": "stderr",
     "output_type": "stream",
     "text": [
      "[*********************100%***********************]  1 of 1 completed\n"
     ]
    },
    {
     "name": "stdout",
     "output_type": "stream",
     "text": [
      "ED data saved\n",
      "Fetching data for: STZ\n"
     ]
    },
    {
     "name": "stderr",
     "output_type": "stream",
     "text": [
      "[*********************100%***********************]  1 of 1 completed\n"
     ]
    },
    {
     "name": "stdout",
     "output_type": "stream",
     "text": [
      "STZ data saved\n",
      "Fetching data for: CEG\n"
     ]
    },
    {
     "name": "stderr",
     "output_type": "stream",
     "text": [
      "[*********************100%***********************]  1 of 1 completed\n",
      "[*********************100%***********************]  1 of 1 completed\n"
     ]
    },
    {
     "name": "stdout",
     "output_type": "stream",
     "text": [
      "CEG data saved\n",
      "Fetching data for: COO\n",
      "COO data saved\n",
      "Fetching data for: CPRT\n"
     ]
    },
    {
     "name": "stderr",
     "output_type": "stream",
     "text": [
      "[*********************100%***********************]  1 of 1 completed\n"
     ]
    },
    {
     "name": "stdout",
     "output_type": "stream",
     "text": [
      "CPRT data saved\n",
      "Fetching data for: GLW\n"
     ]
    },
    {
     "name": "stderr",
     "output_type": "stream",
     "text": [
      "[*********************100%***********************]  1 of 1 completed\n",
      "[*********************100%***********************]  1 of 1 completed\n"
     ]
    },
    {
     "name": "stdout",
     "output_type": "stream",
     "text": [
      "GLW data saved\n",
      "Fetching data for: CPAY\n",
      "CPAY data saved\n",
      "Fetching data for: CTVA\n"
     ]
    },
    {
     "name": "stderr",
     "output_type": "stream",
     "text": [
      "[*********************100%***********************]  1 of 1 completed\n",
      "[*********************100%***********************]  1 of 1 completed\n"
     ]
    },
    {
     "name": "stdout",
     "output_type": "stream",
     "text": [
      "CTVA data saved\n",
      "Fetching data for: CSGP\n",
      "CSGP data saved\n",
      "Fetching data for: COST\n"
     ]
    },
    {
     "name": "stderr",
     "output_type": "stream",
     "text": [
      "[*********************100%***********************]  1 of 1 completed\n"
     ]
    },
    {
     "name": "stdout",
     "output_type": "stream",
     "text": [
      "COST data saved\n",
      "Fetching data for: CTRA\n"
     ]
    },
    {
     "name": "stderr",
     "output_type": "stream",
     "text": [
      "[*********************100%***********************]  1 of 1 completed\n",
      "[*********************100%***********************]  1 of 1 completed\n"
     ]
    },
    {
     "name": "stdout",
     "output_type": "stream",
     "text": [
      "CTRA data saved\n",
      "Fetching data for: CRWD\n",
      "CRWD data saved\n",
      "Fetching data for: CCI\n"
     ]
    },
    {
     "name": "stderr",
     "output_type": "stream",
     "text": [
      "[*********************100%***********************]  1 of 1 completed\n"
     ]
    },
    {
     "name": "stdout",
     "output_type": "stream",
     "text": [
      "CCI data saved\n",
      "Fetching data for: CSX\n"
     ]
    },
    {
     "name": "stderr",
     "output_type": "stream",
     "text": [
      "[*********************100%***********************]  1 of 1 completed\n"
     ]
    },
    {
     "name": "stdout",
     "output_type": "stream",
     "text": [
      "CSX data saved\n",
      "Fetching data for: CMI\n"
     ]
    },
    {
     "name": "stderr",
     "output_type": "stream",
     "text": [
      "[*********************100%***********************]  1 of 1 completed\n"
     ]
    },
    {
     "name": "stdout",
     "output_type": "stream",
     "text": [
      "CMI data saved\n",
      "Fetching data for: CVS\n"
     ]
    },
    {
     "name": "stderr",
     "output_type": "stream",
     "text": [
      "[*********************100%***********************]  1 of 1 completed\n"
     ]
    },
    {
     "name": "stdout",
     "output_type": "stream",
     "text": [
      "CVS data saved\n",
      "Fetching data for: DHR\n"
     ]
    },
    {
     "name": "stderr",
     "output_type": "stream",
     "text": [
      "[*********************100%***********************]  1 of 1 completed\n"
     ]
    },
    {
     "name": "stdout",
     "output_type": "stream",
     "text": [
      "DHR data saved\n",
      "Fetching data for: DRI\n"
     ]
    },
    {
     "name": "stderr",
     "output_type": "stream",
     "text": [
      "[*********************100%***********************]  1 of 1 completed\n"
     ]
    },
    {
     "name": "stdout",
     "output_type": "stream",
     "text": [
      "DRI data saved\n",
      "Fetching data for: DVA\n"
     ]
    },
    {
     "name": "stderr",
     "output_type": "stream",
     "text": [
      "[*********************100%***********************]  1 of 1 completed\n",
      "[*********************100%***********************]  1 of 1 completed\n"
     ]
    },
    {
     "name": "stdout",
     "output_type": "stream",
     "text": [
      "DVA data saved\n",
      "Fetching data for: DAY\n",
      "DAY data saved\n",
      "Fetching data for: DECK\n"
     ]
    },
    {
     "name": "stderr",
     "output_type": "stream",
     "text": [
      "[*********************100%***********************]  1 of 1 completed\n"
     ]
    },
    {
     "name": "stdout",
     "output_type": "stream",
     "text": [
      "DECK data saved\n",
      "Fetching data for: DE\n"
     ]
    },
    {
     "name": "stderr",
     "output_type": "stream",
     "text": [
      "[*********************100%***********************]  1 of 1 completed\n",
      "[*********************100%***********************]  1 of 1 completed"
     ]
    },
    {
     "name": "stdout",
     "output_type": "stream",
     "text": [
      "DE data saved\n",
      "Fetching data for: DELL\n"
     ]
    },
    {
     "name": "stderr",
     "output_type": "stream",
     "text": [
      "\n"
     ]
    },
    {
     "name": "stdout",
     "output_type": "stream",
     "text": [
      "DELL data saved\n",
      "Fetching data for: DAL\n"
     ]
    },
    {
     "name": "stderr",
     "output_type": "stream",
     "text": [
      "[*********************100%***********************]  1 of 1 completed\n",
      "[*********************100%***********************]  1 of 1 completed\n"
     ]
    },
    {
     "name": "stdout",
     "output_type": "stream",
     "text": [
      "DAL data saved\n",
      "Fetching data for: DVN\n",
      "DVN data saved\n",
      "Fetching data for: DXCM\n"
     ]
    },
    {
     "name": "stderr",
     "output_type": "stream",
     "text": [
      "[*********************100%***********************]  1 of 1 completed\n",
      "[*********************100%***********************]  1 of 1 completed\n"
     ]
    },
    {
     "name": "stdout",
     "output_type": "stream",
     "text": [
      "DXCM data saved\n",
      "Fetching data for: FANG\n",
      "FANG data saved\n",
      "Fetching data for: DLR\n"
     ]
    },
    {
     "name": "stderr",
     "output_type": "stream",
     "text": [
      "[*********************100%***********************]  1 of 1 completed\n",
      "[*********************100%***********************]  1 of 1 completed\n"
     ]
    },
    {
     "name": "stdout",
     "output_type": "stream",
     "text": [
      "DLR data saved\n",
      "Fetching data for: DFS\n",
      "DFS data saved\n",
      "Fetching data for: DG\n"
     ]
    },
    {
     "name": "stderr",
     "output_type": "stream",
     "text": [
      "[*********************100%***********************]  1 of 1 completed\n",
      "[*********************100%***********************]  1 of 1 completed\n"
     ]
    },
    {
     "name": "stdout",
     "output_type": "stream",
     "text": [
      "DG data saved\n",
      "Fetching data for: DLTR\n",
      "DLTR data saved\n",
      "Fetching data for: D\n"
     ]
    },
    {
     "name": "stderr",
     "output_type": "stream",
     "text": [
      "[*********************100%***********************]  1 of 1 completed\n",
      "[*********************100%***********************]  1 of 1 completed\n"
     ]
    },
    {
     "name": "stdout",
     "output_type": "stream",
     "text": [
      "D data saved\n",
      "Fetching data for: DPZ\n",
      "DPZ data saved\n",
      "Fetching data for: DASH\n"
     ]
    },
    {
     "name": "stderr",
     "output_type": "stream",
     "text": [
      "[*********************100%***********************]  1 of 1 completed\n"
     ]
    },
    {
     "name": "stdout",
     "output_type": "stream",
     "text": [
      "DASH data saved\n",
      "Fetching data for: DOV\n"
     ]
    },
    {
     "name": "stderr",
     "output_type": "stream",
     "text": [
      "[*********************100%***********************]  1 of 1 completed\n",
      "[*********************100%***********************]  1 of 1 completed\n"
     ]
    },
    {
     "name": "stdout",
     "output_type": "stream",
     "text": [
      "DOV data saved\n",
      "Fetching data for: DOW\n",
      "DOW data saved\n",
      "Fetching data for: DHI\n"
     ]
    },
    {
     "name": "stderr",
     "output_type": "stream",
     "text": [
      "[*********************100%***********************]  1 of 1 completed\n"
     ]
    },
    {
     "name": "stdout",
     "output_type": "stream",
     "text": [
      "DHI data saved\n",
      "Fetching data for: DTE\n"
     ]
    },
    {
     "name": "stderr",
     "output_type": "stream",
     "text": [
      "[*********************100%***********************]  1 of 1 completed\n"
     ]
    },
    {
     "name": "stdout",
     "output_type": "stream",
     "text": [
      "DTE data saved\n",
      "Fetching data for: DUK\n"
     ]
    },
    {
     "name": "stderr",
     "output_type": "stream",
     "text": [
      "[*********************100%***********************]  1 of 1 completed\n"
     ]
    },
    {
     "name": "stdout",
     "output_type": "stream",
     "text": [
      "DUK data saved\n",
      "Fetching data for: DD\n"
     ]
    },
    {
     "name": "stderr",
     "output_type": "stream",
     "text": [
      "[*********************100%***********************]  1 of 1 completed\n",
      "[*********************100%***********************]  1 of 1 completed\n"
     ]
    },
    {
     "name": "stdout",
     "output_type": "stream",
     "text": [
      "DD data saved\n",
      "Fetching data for: EMN\n",
      "EMN data saved\n",
      "Fetching data for: ETN\n"
     ]
    },
    {
     "name": "stderr",
     "output_type": "stream",
     "text": [
      "[*********************100%***********************]  1 of 1 completed\n",
      "[*********************100%***********************]  1 of 1 completed\n"
     ]
    },
    {
     "name": "stdout",
     "output_type": "stream",
     "text": [
      "ETN data saved\n",
      "Fetching data for: EBAY\n",
      "EBAY data saved\n",
      "Fetching data for: ECL\n"
     ]
    },
    {
     "name": "stderr",
     "output_type": "stream",
     "text": [
      "[*********************100%***********************]  1 of 1 completed\n"
     ]
    },
    {
     "name": "stdout",
     "output_type": "stream",
     "text": [
      "ECL data saved\n",
      "Fetching data for: EIX\n"
     ]
    },
    {
     "name": "stderr",
     "output_type": "stream",
     "text": [
      "[*********************100%***********************]  1 of 1 completed\n",
      "[*********************100%***********************]  1 of 1 completed\n"
     ]
    },
    {
     "name": "stdout",
     "output_type": "stream",
     "text": [
      "EIX data saved\n",
      "Fetching data for: EW\n",
      "EW data saved\n",
      "Fetching data for: EA\n"
     ]
    },
    {
     "name": "stderr",
     "output_type": "stream",
     "text": [
      "[*********************100%***********************]  1 of 1 completed\n",
      "[*********************100%***********************]  1 of 1 completed\n"
     ]
    },
    {
     "name": "stdout",
     "output_type": "stream",
     "text": [
      "EA data saved\n",
      "Fetching data for: ELV\n",
      "ELV data saved\n",
      "Fetching data for: EMR\n"
     ]
    },
    {
     "name": "stderr",
     "output_type": "stream",
     "text": [
      "[*********************100%***********************]  1 of 1 completed\n",
      "[*********************100%***********************]  1 of 1 completed\n"
     ]
    },
    {
     "name": "stdout",
     "output_type": "stream",
     "text": [
      "EMR data saved\n",
      "Fetching data for: ENPH\n",
      "ENPH data saved\n",
      "Fetching data for: ETR\n"
     ]
    },
    {
     "name": "stderr",
     "output_type": "stream",
     "text": [
      "[*********************100%***********************]  1 of 1 completed\n",
      "[*********************100%***********************]  1 of 1 completed\n"
     ]
    },
    {
     "name": "stdout",
     "output_type": "stream",
     "text": [
      "ETR data saved\n",
      "Fetching data for: EOG\n",
      "EOG data saved\n",
      "Fetching data for: EPAM\n"
     ]
    },
    {
     "name": "stderr",
     "output_type": "stream",
     "text": [
      "[*********************100%***********************]  1 of 1 completed\n"
     ]
    },
    {
     "name": "stdout",
     "output_type": "stream",
     "text": [
      "EPAM data saved\n",
      "Fetching data for: EQT\n"
     ]
    },
    {
     "name": "stderr",
     "output_type": "stream",
     "text": [
      "[*********************100%***********************]  1 of 1 completed\n"
     ]
    },
    {
     "name": "stdout",
     "output_type": "stream",
     "text": [
      "EQT data saved\n",
      "Fetching data for: EFX\n"
     ]
    },
    {
     "name": "stderr",
     "output_type": "stream",
     "text": [
      "[*********************100%***********************]  1 of 1 completed\n",
      "[*********************100%***********************]  1 of 1 completed\n"
     ]
    },
    {
     "name": "stdout",
     "output_type": "stream",
     "text": [
      "EFX data saved\n",
      "Fetching data for: EQIX\n",
      "EQIX data saved\n",
      "Fetching data for: EQR\n"
     ]
    },
    {
     "name": "stderr",
     "output_type": "stream",
     "text": [
      "[*********************100%***********************]  1 of 1 completed\n"
     ]
    },
    {
     "name": "stdout",
     "output_type": "stream",
     "text": [
      "EQR data saved\n",
      "Fetching data for: ERIE\n"
     ]
    },
    {
     "name": "stderr",
     "output_type": "stream",
     "text": [
      "[*********************100%***********************]  1 of 1 completed\n",
      "[*********************100%***********************]  1 of 1 completed\n"
     ]
    },
    {
     "name": "stdout",
     "output_type": "stream",
     "text": [
      "ERIE data saved\n",
      "Fetching data for: ESS\n",
      "ESS data saved\n",
      "Fetching data for: EL\n"
     ]
    },
    {
     "name": "stderr",
     "output_type": "stream",
     "text": [
      "[*********************100%***********************]  1 of 1 completed\n"
     ]
    },
    {
     "name": "stdout",
     "output_type": "stream",
     "text": [
      "EL data saved\n",
      "Fetching data for: EG\n"
     ]
    },
    {
     "name": "stderr",
     "output_type": "stream",
     "text": [
      "[*********************100%***********************]  1 of 1 completed\n"
     ]
    },
    {
     "name": "stdout",
     "output_type": "stream",
     "text": [
      "EG data saved\n",
      "Fetching data for: EVRG\n"
     ]
    },
    {
     "name": "stderr",
     "output_type": "stream",
     "text": [
      "[*********************100%***********************]  1 of 1 completed\n"
     ]
    },
    {
     "name": "stdout",
     "output_type": "stream",
     "text": [
      "EVRG data saved\n",
      "Fetching data for: ES\n"
     ]
    },
    {
     "name": "stderr",
     "output_type": "stream",
     "text": [
      "[*********************100%***********************]  1 of 1 completed\n"
     ]
    },
    {
     "name": "stdout",
     "output_type": "stream",
     "text": [
      "ES data saved\n",
      "Fetching data for: EXC\n"
     ]
    },
    {
     "name": "stderr",
     "output_type": "stream",
     "text": [
      "[*********************100%***********************]  1 of 1 completed\n",
      "[*********************100%***********************]  1 of 1 completed\n"
     ]
    },
    {
     "name": "stdout",
     "output_type": "stream",
     "text": [
      "EXC data saved\n",
      "Fetching data for: EXE\n",
      "EXE data saved\n",
      "Fetching data for: EXPE\n"
     ]
    },
    {
     "name": "stderr",
     "output_type": "stream",
     "text": [
      "[*********************100%***********************]  1 of 1 completed\n",
      "[*********************100%***********************]  1 of 1 completed\n"
     ]
    },
    {
     "name": "stdout",
     "output_type": "stream",
     "text": [
      "EXPE data saved\n",
      "Fetching data for: EXPD\n",
      "EXPD data saved\n",
      "Fetching data for: EXR\n"
     ]
    },
    {
     "name": "stderr",
     "output_type": "stream",
     "text": [
      "[*********************100%***********************]  1 of 1 completed\n"
     ]
    },
    {
     "name": "stdout",
     "output_type": "stream",
     "text": [
      "EXR data saved\n",
      "Fetching data for: XOM\n"
     ]
    },
    {
     "name": "stderr",
     "output_type": "stream",
     "text": [
      "[*********************100%***********************]  1 of 1 completed\n",
      "[*********************100%***********************]  1 of 1 completed\n"
     ]
    },
    {
     "name": "stdout",
     "output_type": "stream",
     "text": [
      "XOM data saved\n",
      "Fetching data for: FFIV\n",
      "FFIV data saved\n",
      "Fetching data for: FDS\n"
     ]
    },
    {
     "name": "stderr",
     "output_type": "stream",
     "text": [
      "[*********************100%***********************]  1 of 1 completed\n",
      "[*********************100%***********************]  1 of 1 completed\n"
     ]
    },
    {
     "name": "stdout",
     "output_type": "stream",
     "text": [
      "FDS data saved\n",
      "Fetching data for: FICO\n",
      "FICO data saved\n",
      "Fetching data for: FAST\n"
     ]
    },
    {
     "name": "stderr",
     "output_type": "stream",
     "text": [
      "[*********************100%***********************]  1 of 1 completed\n"
     ]
    },
    {
     "name": "stdout",
     "output_type": "stream",
     "text": [
      "FAST data saved\n",
      "Fetching data for: FRT\n"
     ]
    },
    {
     "name": "stderr",
     "output_type": "stream",
     "text": [
      "[*********************100%***********************]  1 of 1 completed\n"
     ]
    },
    {
     "name": "stdout",
     "output_type": "stream",
     "text": [
      "FRT data saved\n",
      "Fetching data for: FDX\n"
     ]
    },
    {
     "name": "stderr",
     "output_type": "stream",
     "text": [
      "[*********************100%***********************]  1 of 1 completed\n",
      "[*********************100%***********************]  1 of 1 completed\n"
     ]
    },
    {
     "name": "stdout",
     "output_type": "stream",
     "text": [
      "FDX data saved\n",
      "Fetching data for: FIS\n",
      "FIS data saved\n",
      "Fetching data for: FITB\n"
     ]
    },
    {
     "name": "stderr",
     "output_type": "stream",
     "text": [
      "[*********************100%***********************]  1 of 1 completed\n",
      "[*********************100%***********************]  1 of 1 completed\n"
     ]
    },
    {
     "name": "stdout",
     "output_type": "stream",
     "text": [
      "FITB data saved\n",
      "Fetching data for: FSLR\n",
      "FSLR data saved\n",
      "Fetching data for: FE\n"
     ]
    },
    {
     "name": "stderr",
     "output_type": "stream",
     "text": [
      "[*********************100%***********************]  1 of 1 completed\n",
      "[*********************100%***********************]  1 of 1 completed\n"
     ]
    },
    {
     "name": "stdout",
     "output_type": "stream",
     "text": [
      "FE data saved\n",
      "Fetching data for: FI\n",
      "FI data saved\n",
      "Fetching data for: F\n"
     ]
    },
    {
     "name": "stderr",
     "output_type": "stream",
     "text": [
      "[*********************100%***********************]  1 of 1 completed\n",
      "[*********************100%***********************]  1 of 1 completed\n"
     ]
    },
    {
     "name": "stdout",
     "output_type": "stream",
     "text": [
      "F data saved\n",
      "Fetching data for: FTNT\n",
      "FTNT data saved\n",
      "Fetching data for: FTV\n"
     ]
    },
    {
     "name": "stderr",
     "output_type": "stream",
     "text": [
      "[*********************100%***********************]  1 of 1 completed\n",
      "[*********************100%***********************]  1 of 1 completed\n"
     ]
    },
    {
     "name": "stdout",
     "output_type": "stream",
     "text": [
      "FTV data saved\n",
      "Fetching data for: FOXA\n",
      "FOXA data saved\n",
      "Fetching data for: FOX\n"
     ]
    },
    {
     "name": "stderr",
     "output_type": "stream",
     "text": [
      "[*********************100%***********************]  1 of 1 completed\n",
      "[*********************100%***********************]  1 of 1 completed\n"
     ]
    },
    {
     "name": "stdout",
     "output_type": "stream",
     "text": [
      "FOX data saved\n",
      "Fetching data for: BEN\n",
      "BEN data saved\n",
      "Fetching data for: FCX\n"
     ]
    },
    {
     "name": "stderr",
     "output_type": "stream",
     "text": [
      "[*********************100%***********************]  1 of 1 completed\n",
      "[*********************100%***********************]  1 of 1 completed\n"
     ]
    },
    {
     "name": "stdout",
     "output_type": "stream",
     "text": [
      "FCX data saved\n",
      "Fetching data for: GRMN\n",
      "GRMN data saved\n",
      "Fetching data for: IT\n"
     ]
    },
    {
     "name": "stderr",
     "output_type": "stream",
     "text": [
      "[*********************100%***********************]  1 of 1 completed\n",
      "[*********************100%***********************]  1 of 1 completed\n"
     ]
    },
    {
     "name": "stdout",
     "output_type": "stream",
     "text": [
      "IT data saved\n",
      "Fetching data for: GE\n",
      "GE data saved\n",
      "Fetching data for: GEHC\n"
     ]
    },
    {
     "name": "stderr",
     "output_type": "stream",
     "text": [
      "[*********************100%***********************]  1 of 1 completed\n",
      "[*********************100%***********************]  1 of 1 completed\n"
     ]
    },
    {
     "name": "stdout",
     "output_type": "stream",
     "text": [
      "GEHC data saved\n",
      "Fetching data for: GEV\n",
      "Skipping GEV, not enough data: 223 days\n",
      "Fetching data for: GEN\n"
     ]
    },
    {
     "name": "stderr",
     "output_type": "stream",
     "text": [
      "[*********************100%***********************]  1 of 1 completed\n",
      "[*********************100%***********************]  1 of 1 completed\n"
     ]
    },
    {
     "name": "stdout",
     "output_type": "stream",
     "text": [
      "GEN data saved\n",
      "Fetching data for: GNRC\n",
      "GNRC data saved\n",
      "Fetching data for: GD\n"
     ]
    },
    {
     "name": "stderr",
     "output_type": "stream",
     "text": [
      "[*********************100%***********************]  1 of 1 completed\n"
     ]
    },
    {
     "name": "stdout",
     "output_type": "stream",
     "text": [
      "GD data saved\n",
      "Fetching data for: GIS\n"
     ]
    },
    {
     "name": "stderr",
     "output_type": "stream",
     "text": [
      "[*********************100%***********************]  1 of 1 completed\n",
      "[*********************100%***********************]  1 of 1 completed\n"
     ]
    },
    {
     "name": "stdout",
     "output_type": "stream",
     "text": [
      "GIS data saved\n",
      "Fetching data for: GM\n",
      "GM data saved\n",
      "Fetching data for: GPC\n"
     ]
    },
    {
     "name": "stderr",
     "output_type": "stream",
     "text": [
      "[*********************100%***********************]  1 of 1 completed\n"
     ]
    },
    {
     "name": "stdout",
     "output_type": "stream",
     "text": [
      "GPC data saved\n",
      "Fetching data for: GILD\n"
     ]
    },
    {
     "name": "stderr",
     "output_type": "stream",
     "text": [
      "[*********************100%***********************]  1 of 1 completed\n",
      "[*********************100%***********************]  1 of 1 completed\n"
     ]
    },
    {
     "name": "stdout",
     "output_type": "stream",
     "text": [
      "GILD data saved\n",
      "Fetching data for: GPN\n",
      "GPN data saved\n",
      "Fetching data for: GL\n"
     ]
    },
    {
     "name": "stderr",
     "output_type": "stream",
     "text": [
      "[*********************100%***********************]  1 of 1 completed\n",
      "[*********************100%***********************]  1 of 1 completed\n"
     ]
    },
    {
     "name": "stdout",
     "output_type": "stream",
     "text": [
      "GL data saved\n",
      "Fetching data for: GDDY\n",
      "GDDY data saved\n",
      "Fetching data for: GS\n"
     ]
    },
    {
     "name": "stderr",
     "output_type": "stream",
     "text": [
      "[*********************100%***********************]  1 of 1 completed\n"
     ]
    },
    {
     "name": "stdout",
     "output_type": "stream",
     "text": [
      "GS data saved\n",
      "Fetching data for: HAL\n"
     ]
    },
    {
     "name": "stderr",
     "output_type": "stream",
     "text": [
      "[*********************100%***********************]  1 of 1 completed\n"
     ]
    },
    {
     "name": "stdout",
     "output_type": "stream",
     "text": [
      "HAL data saved\n",
      "Fetching data for: HIG\n"
     ]
    },
    {
     "name": "stderr",
     "output_type": "stream",
     "text": [
      "[*********************100%***********************]  1 of 1 completed\n"
     ]
    },
    {
     "name": "stdout",
     "output_type": "stream",
     "text": [
      "HIG data saved\n",
      "Fetching data for: HAS\n"
     ]
    },
    {
     "name": "stderr",
     "output_type": "stream",
     "text": [
      "[*********************100%***********************]  1 of 1 completed\n",
      "[*********************100%***********************]  1 of 1 completed\n"
     ]
    },
    {
     "name": "stdout",
     "output_type": "stream",
     "text": [
      "HAS data saved\n",
      "Fetching data for: HCA\n",
      "HCA data saved\n",
      "Fetching data for: DOC\n"
     ]
    },
    {
     "name": "stderr",
     "output_type": "stream",
     "text": [
      "[*********************100%***********************]  1 of 1 completed\n",
      "[*********************100%***********************]  1 of 1 completed\n"
     ]
    },
    {
     "name": "stdout",
     "output_type": "stream",
     "text": [
      "DOC data saved\n",
      "Fetching data for: HSIC\n",
      "HSIC data saved\n",
      "Fetching data for: HSY\n"
     ]
    },
    {
     "name": "stderr",
     "output_type": "stream",
     "text": [
      "[*********************100%***********************]  1 of 1 completed\n"
     ]
    },
    {
     "name": "stdout",
     "output_type": "stream",
     "text": [
      "HSY data saved\n",
      "Fetching data for: HES\n"
     ]
    },
    {
     "name": "stderr",
     "output_type": "stream",
     "text": [
      "[*********************100%***********************]  1 of 1 completed\n",
      "[*********************100%***********************]  1 of 1 completed\n"
     ]
    },
    {
     "name": "stdout",
     "output_type": "stream",
     "text": [
      "HES data saved\n",
      "Fetching data for: HPE\n",
      "HPE data saved\n",
      "Fetching data for: HLT\n"
     ]
    },
    {
     "name": "stderr",
     "output_type": "stream",
     "text": [
      "[*********************100%***********************]  1 of 1 completed\n",
      "[*********************100%***********************]  1 of 1 completed\n"
     ]
    },
    {
     "name": "stdout",
     "output_type": "stream",
     "text": [
      "HLT data saved\n",
      "Fetching data for: HOLX\n",
      "HOLX data saved\n",
      "Fetching data for: HD\n"
     ]
    },
    {
     "name": "stderr",
     "output_type": "stream",
     "text": [
      "[*********************100%***********************]  1 of 1 completed\n",
      "[*********************100%***********************]  1 of 1 completed\n"
     ]
    },
    {
     "name": "stdout",
     "output_type": "stream",
     "text": [
      "HD data saved\n",
      "Fetching data for: HON\n",
      "HON data saved\n",
      "Fetching data for: HRL\n"
     ]
    },
    {
     "name": "stderr",
     "output_type": "stream",
     "text": [
      "[*********************100%***********************]  1 of 1 completed\n"
     ]
    },
    {
     "name": "stdout",
     "output_type": "stream",
     "text": [
      "HRL data saved\n",
      "Fetching data for: HST\n"
     ]
    },
    {
     "name": "stderr",
     "output_type": "stream",
     "text": [
      "[*********************100%***********************]  1 of 1 completed\n",
      "[*********************100%***********************]  1 of 1 completed"
     ]
    },
    {
     "name": "stdout",
     "output_type": "stream",
     "text": [
      "HST data saved\n",
      "Fetching data for: HWM\n",
      "HWM data saved\n",
      "Fetching data for: HPQ\n"
     ]
    },
    {
     "name": "stderr",
     "output_type": "stream",
     "text": [
      "\n",
      "[*********************100%***********************]  1 of 1 completed\n"
     ]
    },
    {
     "name": "stdout",
     "output_type": "stream",
     "text": [
      "HPQ data saved\n",
      "Fetching data for: HUBB\n"
     ]
    },
    {
     "name": "stderr",
     "output_type": "stream",
     "text": [
      "[*********************100%***********************]  1 of 1 completed\n"
     ]
    },
    {
     "name": "stdout",
     "output_type": "stream",
     "text": [
      "HUBB data saved\n",
      "Fetching data for: HUM\n"
     ]
    },
    {
     "name": "stderr",
     "output_type": "stream",
     "text": [
      "[*********************100%***********************]  1 of 1 completed\n",
      "[*********************100%***********************]  1 of 1 completed\n"
     ]
    },
    {
     "name": "stdout",
     "output_type": "stream",
     "text": [
      "HUM data saved\n",
      "Fetching data for: HBAN\n",
      "HBAN data saved\n",
      "Fetching data for: HII\n"
     ]
    },
    {
     "name": "stderr",
     "output_type": "stream",
     "text": [
      "[*********************100%***********************]  1 of 1 completed\n"
     ]
    },
    {
     "name": "stdout",
     "output_type": "stream",
     "text": [
      "HII data saved\n",
      "Fetching data for: IBM\n"
     ]
    },
    {
     "name": "stderr",
     "output_type": "stream",
     "text": [
      "[*********************100%***********************]  1 of 1 completed\n",
      "[*********************100%***********************]  1 of 1 completed\n"
     ]
    },
    {
     "name": "stdout",
     "output_type": "stream",
     "text": [
      "IBM data saved\n",
      "Fetching data for: IEX\n",
      "IEX data saved\n",
      "Fetching data for: IDXX\n"
     ]
    },
    {
     "name": "stderr",
     "output_type": "stream",
     "text": [
      "[*********************100%***********************]  1 of 1 completed\n"
     ]
    },
    {
     "name": "stdout",
     "output_type": "stream",
     "text": [
      "IDXX data saved\n",
      "Fetching data for: ITW\n"
     ]
    },
    {
     "name": "stderr",
     "output_type": "stream",
     "text": [
      "[*********************100%***********************]  1 of 1 completed\n",
      "[*********************100%***********************]  1 of 1 completed\n"
     ]
    },
    {
     "name": "stdout",
     "output_type": "stream",
     "text": [
      "ITW data saved\n",
      "Fetching data for: INCY\n",
      "INCY data saved\n",
      "Fetching data for: IR\n"
     ]
    },
    {
     "name": "stderr",
     "output_type": "stream",
     "text": [
      "[*********************100%***********************]  1 of 1 completed\n",
      "[*********************100%***********************]  1 of 1 completed\n"
     ]
    },
    {
     "name": "stdout",
     "output_type": "stream",
     "text": [
      "IR data saved\n",
      "Fetching data for: PODD\n",
      "PODD data saved\n",
      "Fetching data for: INTC\n"
     ]
    },
    {
     "name": "stderr",
     "output_type": "stream",
     "text": [
      "[*********************100%***********************]  1 of 1 completed\n",
      "[*********************100%***********************]  1 of 1 completed\n"
     ]
    },
    {
     "name": "stdout",
     "output_type": "stream",
     "text": [
      "INTC data saved\n",
      "Fetching data for: ICE\n",
      "ICE data saved\n",
      "Fetching data for: IFF\n"
     ]
    },
    {
     "name": "stderr",
     "output_type": "stream",
     "text": [
      "[*********************100%***********************]  1 of 1 completed\n"
     ]
    },
    {
     "name": "stdout",
     "output_type": "stream",
     "text": [
      "IFF data saved\n",
      "Fetching data for: IP\n"
     ]
    },
    {
     "name": "stderr",
     "output_type": "stream",
     "text": [
      "[*********************100%***********************]  1 of 1 completed\n",
      "[*********************100%***********************]  1 of 1 completed\n"
     ]
    },
    {
     "name": "stdout",
     "output_type": "stream",
     "text": [
      "IP data saved\n",
      "Fetching data for: IPG\n",
      "IPG data saved\n",
      "Fetching data for: INTU\n"
     ]
    },
    {
     "name": "stderr",
     "output_type": "stream",
     "text": [
      "[*********************100%***********************]  1 of 1 completed\n",
      "[*********************100%***********************]  1 of 1 completed\n"
     ]
    },
    {
     "name": "stdout",
     "output_type": "stream",
     "text": [
      "INTU data saved\n",
      "Fetching data for: ISRG\n",
      "ISRG data saved\n",
      "Fetching data for: IVZ\n"
     ]
    },
    {
     "name": "stderr",
     "output_type": "stream",
     "text": [
      "[*********************100%***********************]  1 of 1 completed\n",
      "[*********************100%***********************]  1 of 1 completed\n"
     ]
    },
    {
     "name": "stdout",
     "output_type": "stream",
     "text": [
      "IVZ data saved\n",
      "Fetching data for: INVH\n",
      "INVH data saved\n",
      "Fetching data for: IQV\n"
     ]
    },
    {
     "name": "stderr",
     "output_type": "stream",
     "text": [
      "[*********************100%***********************]  1 of 1 completed\n"
     ]
    },
    {
     "name": "stdout",
     "output_type": "stream",
     "text": [
      "IQV data saved\n",
      "Fetching data for: IRM\n"
     ]
    },
    {
     "name": "stderr",
     "output_type": "stream",
     "text": [
      "[*********************100%***********************]  1 of 1 completed\n"
     ]
    },
    {
     "name": "stdout",
     "output_type": "stream",
     "text": [
      "IRM data saved\n",
      "Fetching data for: JBHT\n"
     ]
    },
    {
     "name": "stderr",
     "output_type": "stream",
     "text": [
      "[*********************100%***********************]  1 of 1 completed\n",
      "[*********************100%***********************]  1 of 1 completed\n"
     ]
    },
    {
     "name": "stdout",
     "output_type": "stream",
     "text": [
      "JBHT data saved\n",
      "Fetching data for: JBL\n",
      "JBL data saved\n",
      "Fetching data for: JKHY\n"
     ]
    },
    {
     "name": "stderr",
     "output_type": "stream",
     "text": [
      "[*********************100%***********************]  1 of 1 completed\n",
      "[*********************100%***********************]  1 of 1 completed\n"
     ]
    },
    {
     "name": "stdout",
     "output_type": "stream",
     "text": [
      "JKHY data saved\n",
      "Fetching data for: J\n",
      "J data saved\n",
      "Fetching data for: JNJ\n"
     ]
    },
    {
     "name": "stderr",
     "output_type": "stream",
     "text": [
      "[*********************100%***********************]  1 of 1 completed\n"
     ]
    },
    {
     "name": "stdout",
     "output_type": "stream",
     "text": [
      "JNJ data saved\n",
      "Fetching data for: JCI\n"
     ]
    },
    {
     "name": "stderr",
     "output_type": "stream",
     "text": [
      "[*********************100%***********************]  1 of 1 completed\n",
      "[*********************100%***********************]  1 of 1 completed"
     ]
    },
    {
     "name": "stdout",
     "output_type": "stream",
     "text": [
      "JCI data saved\n",
      "Fetching data for: JPM\n"
     ]
    },
    {
     "name": "stderr",
     "output_type": "stream",
     "text": [
      "\n",
      "[*********************100%***********************]  1 of 1 completed\n"
     ]
    },
    {
     "name": "stdout",
     "output_type": "stream",
     "text": [
      "JPM data saved\n",
      "Fetching data for: JNPR\n",
      "JNPR data saved\n",
      "Fetching data for: K\n"
     ]
    },
    {
     "name": "stderr",
     "output_type": "stream",
     "text": [
      "[*********************100%***********************]  1 of 1 completed\n",
      "[*********************100%***********************]  1 of 1 completed\n"
     ]
    },
    {
     "name": "stdout",
     "output_type": "stream",
     "text": [
      "K data saved\n",
      "Fetching data for: KVUE\n",
      "Skipping KVUE, not enough data: 450 days\n",
      "Fetching data for: KDP\n"
     ]
    },
    {
     "name": "stderr",
     "output_type": "stream",
     "text": [
      "[*********************100%***********************]  1 of 1 completed\n"
     ]
    },
    {
     "name": "stdout",
     "output_type": "stream",
     "text": [
      "KDP data saved\n",
      "Fetching data for: KEY\n"
     ]
    },
    {
     "name": "stderr",
     "output_type": "stream",
     "text": [
      "[*********************100%***********************]  1 of 1 completed\n",
      "[*********************100%***********************]  1 of 1 completed\n"
     ]
    },
    {
     "name": "stdout",
     "output_type": "stream",
     "text": [
      "KEY data saved\n",
      "Fetching data for: KEYS\n",
      "KEYS data saved\n",
      "Fetching data for: KMB\n"
     ]
    },
    {
     "name": "stderr",
     "output_type": "stream",
     "text": [
      "[*********************100%***********************]  1 of 1 completed\n",
      "[*********************100%***********************]  1 of 1 completed\n"
     ]
    },
    {
     "name": "stdout",
     "output_type": "stream",
     "text": [
      "KMB data saved\n",
      "Fetching data for: KIM\n",
      "KIM data saved\n",
      "Fetching data for: KMI\n"
     ]
    },
    {
     "name": "stderr",
     "output_type": "stream",
     "text": [
      "[*********************100%***********************]  1 of 1 completed\n",
      "[*********************100%***********************]  1 of 1 completed\n"
     ]
    },
    {
     "name": "stdout",
     "output_type": "stream",
     "text": [
      "KMI data saved\n",
      "Fetching data for: KKR\n",
      "KKR data saved\n",
      "Fetching data for: KLAC\n"
     ]
    },
    {
     "name": "stderr",
     "output_type": "stream",
     "text": [
      "[*********************100%***********************]  1 of 1 completed\n",
      "[*********************100%***********************]  1 of 1 completed\n"
     ]
    },
    {
     "name": "stdout",
     "output_type": "stream",
     "text": [
      "KLAC data saved\n",
      "Fetching data for: KHC\n",
      "KHC data saved\n",
      "Fetching data for: KR\n"
     ]
    },
    {
     "name": "stderr",
     "output_type": "stream",
     "text": [
      "[*********************100%***********************]  1 of 1 completed\n"
     ]
    },
    {
     "name": "stdout",
     "output_type": "stream",
     "text": [
      "KR data saved\n",
      "Fetching data for: LHX\n"
     ]
    },
    {
     "name": "stderr",
     "output_type": "stream",
     "text": [
      "[*********************100%***********************]  1 of 1 completed\n",
      "[*********************100%***********************]  1 of 1 completed\n"
     ]
    },
    {
     "name": "stdout",
     "output_type": "stream",
     "text": [
      "LHX data saved\n",
      "Fetching data for: LH\n",
      "LH data saved\n",
      "Fetching data for: LRCX\n"
     ]
    },
    {
     "name": "stderr",
     "output_type": "stream",
     "text": [
      "[*********************100%***********************]  1 of 1 completed\n",
      "[*********************100%***********************]  1 of 1 completed\n"
     ]
    },
    {
     "name": "stdout",
     "output_type": "stream",
     "text": [
      "LRCX data saved\n",
      "Fetching data for: LW\n",
      "LW data saved\n",
      "Fetching data for: LVS\n"
     ]
    },
    {
     "name": "stderr",
     "output_type": "stream",
     "text": [
      "[*********************100%***********************]  1 of 1 completed\n",
      "[*********************100%***********************]  1 of 1 completed\n"
     ]
    },
    {
     "name": "stdout",
     "output_type": "stream",
     "text": [
      "LVS data saved\n",
      "Fetching data for: LDOS\n",
      "LDOS data saved\n",
      "Fetching data for: LEN\n"
     ]
    },
    {
     "name": "stderr",
     "output_type": "stream",
     "text": [
      "[*********************100%***********************]  1 of 1 completed\n"
     ]
    },
    {
     "name": "stdout",
     "output_type": "stream",
     "text": [
      "LEN data saved\n",
      "Fetching data for: LII\n"
     ]
    },
    {
     "name": "stderr",
     "output_type": "stream",
     "text": [
      "[*********************100%***********************]  1 of 1 completed\n"
     ]
    },
    {
     "name": "stdout",
     "output_type": "stream",
     "text": [
      "LII data saved\n",
      "Fetching data for: LLY\n"
     ]
    },
    {
     "name": "stderr",
     "output_type": "stream",
     "text": [
      "[*********************100%***********************]  1 of 1 completed\n"
     ]
    },
    {
     "name": "stdout",
     "output_type": "stream",
     "text": [
      "LLY data saved\n",
      "Fetching data for: LIN\n"
     ]
    },
    {
     "name": "stderr",
     "output_type": "stream",
     "text": [
      "[*********************100%***********************]  1 of 1 completed\n",
      "[*********************100%***********************]  1 of 1 completed\n"
     ]
    },
    {
     "name": "stdout",
     "output_type": "stream",
     "text": [
      "LIN data saved\n",
      "Fetching data for: LYV\n",
      "LYV data saved\n",
      "Fetching data for: LKQ\n"
     ]
    },
    {
     "name": "stderr",
     "output_type": "stream",
     "text": [
      "[*********************100%***********************]  1 of 1 completed\n"
     ]
    },
    {
     "name": "stdout",
     "output_type": "stream",
     "text": [
      "LKQ data saved\n",
      "Fetching data for: LMT\n"
     ]
    },
    {
     "name": "stderr",
     "output_type": "stream",
     "text": [
      "[*********************100%***********************]  1 of 1 completed\n",
      "[*********************100%***********************]  1 of 1 completed\n"
     ]
    },
    {
     "name": "stdout",
     "output_type": "stream",
     "text": [
      "LMT data saved\n",
      "Fetching data for: L\n",
      "L data saved\n",
      "Fetching data for: LOW\n"
     ]
    },
    {
     "name": "stderr",
     "output_type": "stream",
     "text": [
      "[*********************100%***********************]  1 of 1 completed\n",
      "[*********************100%***********************]  1 of 1 completed\n"
     ]
    },
    {
     "name": "stdout",
     "output_type": "stream",
     "text": [
      "LOW data saved\n",
      "Fetching data for: LULU\n",
      "LULU data saved\n",
      "Fetching data for: LYB\n"
     ]
    },
    {
     "name": "stderr",
     "output_type": "stream",
     "text": [
      "[*********************100%***********************]  1 of 1 completed\n",
      "[*********************100%***********************]  1 of 1 completed\n"
     ]
    },
    {
     "name": "stdout",
     "output_type": "stream",
     "text": [
      "LYB data saved\n",
      "Fetching data for: MTB\n",
      "MTB data saved\n",
      "Fetching data for: MPC\n"
     ]
    },
    {
     "name": "stderr",
     "output_type": "stream",
     "text": [
      "[*********************100%***********************]  1 of 1 completed\n",
      "[*********************100%***********************]  1 of 1 completed\n"
     ]
    },
    {
     "name": "stdout",
     "output_type": "stream",
     "text": [
      "MPC data saved\n",
      "Fetching data for: MKTX\n",
      "MKTX data saved\n",
      "Fetching data for: MAR\n"
     ]
    },
    {
     "name": "stderr",
     "output_type": "stream",
     "text": [
      "[*********************100%***********************]  1 of 1 completed\n",
      "[*********************100%***********************]  1 of 1 completed"
     ]
    },
    {
     "name": "stdout",
     "output_type": "stream",
     "text": [
      "MAR data saved\n",
      "Fetching data for: MMC\n"
     ]
    },
    {
     "name": "stderr",
     "output_type": "stream",
     "text": [
      "\n"
     ]
    },
    {
     "name": "stdout",
     "output_type": "stream",
     "text": [
      "MMC data saved\n",
      "Fetching data for: MLM\n"
     ]
    },
    {
     "name": "stderr",
     "output_type": "stream",
     "text": [
      "[*********************100%***********************]  1 of 1 completed\n"
     ]
    },
    {
     "name": "stdout",
     "output_type": "stream",
     "text": [
      "MLM data saved\n",
      "Fetching data for: MAS\n"
     ]
    },
    {
     "name": "stderr",
     "output_type": "stream",
     "text": [
      "[*********************100%***********************]  1 of 1 completed\n",
      "[*********************100%***********************]  1 of 1 completed\n"
     ]
    },
    {
     "name": "stdout",
     "output_type": "stream",
     "text": [
      "MAS data saved\n",
      "Fetching data for: MA\n",
      "MA data saved\n",
      "Fetching data for: MTCH\n"
     ]
    },
    {
     "name": "stderr",
     "output_type": "stream",
     "text": [
      "[*********************100%***********************]  1 of 1 completed\n",
      "[*********************100%***********************]  1 of 1 completed\n"
     ]
    },
    {
     "name": "stdout",
     "output_type": "stream",
     "text": [
      "MTCH data saved\n",
      "Fetching data for: MKC\n",
      "MKC data saved\n",
      "Fetching data for: MCD\n"
     ]
    },
    {
     "name": "stderr",
     "output_type": "stream",
     "text": [
      "[*********************100%***********************]  1 of 1 completed\n"
     ]
    },
    {
     "name": "stdout",
     "output_type": "stream",
     "text": [
      "MCD data saved\n",
      "Fetching data for: MCK\n"
     ]
    },
    {
     "name": "stderr",
     "output_type": "stream",
     "text": [
      "[*********************100%***********************]  1 of 1 completed\n"
     ]
    },
    {
     "name": "stdout",
     "output_type": "stream",
     "text": [
      "MCK data saved\n",
      "Fetching data for: MDT\n"
     ]
    },
    {
     "name": "stderr",
     "output_type": "stream",
     "text": [
      "[*********************100%***********************]  1 of 1 completed\n"
     ]
    },
    {
     "name": "stdout",
     "output_type": "stream",
     "text": [
      "MDT data saved\n",
      "Fetching data for: MRK\n"
     ]
    },
    {
     "name": "stderr",
     "output_type": "stream",
     "text": [
      "[*********************100%***********************]  1 of 1 completed\n",
      "[*********************100%***********************]  1 of 1 completed\n"
     ]
    },
    {
     "name": "stdout",
     "output_type": "stream",
     "text": [
      "MRK data saved\n",
      "Fetching data for: META\n",
      "META data saved\n",
      "Fetching data for: MET\n"
     ]
    },
    {
     "name": "stderr",
     "output_type": "stream",
     "text": [
      "[*********************100%***********************]  1 of 1 completed\n",
      "[*********************100%***********************]  1 of 1 completed\n"
     ]
    },
    {
     "name": "stdout",
     "output_type": "stream",
     "text": [
      "MET data saved\n",
      "Fetching data for: MTD\n",
      "MTD data saved\n",
      "Fetching data for: MGM\n"
     ]
    },
    {
     "name": "stderr",
     "output_type": "stream",
     "text": [
      "[*********************100%***********************]  1 of 1 completed\n",
      "[*********************100%***********************]  1 of 1 completed"
     ]
    },
    {
     "name": "stdout",
     "output_type": "stream",
     "text": [
      "MGM data saved\n",
      "Fetching data for: MCHP\n"
     ]
    },
    {
     "name": "stderr",
     "output_type": "stream",
     "text": [
      "\n"
     ]
    },
    {
     "name": "stdout",
     "output_type": "stream",
     "text": [
      "MCHP data saved\n",
      "Fetching data for: MU\n"
     ]
    },
    {
     "name": "stderr",
     "output_type": "stream",
     "text": [
      "[*********************100%***********************]  1 of 1 completed\n"
     ]
    },
    {
     "name": "stdout",
     "output_type": "stream",
     "text": [
      "MU data saved\n",
      "Fetching data for: MSFT\n"
     ]
    },
    {
     "name": "stderr",
     "output_type": "stream",
     "text": [
      "[*********************100%***********************]  1 of 1 completed\n"
     ]
    },
    {
     "name": "stdout",
     "output_type": "stream",
     "text": [
      "MSFT data saved\n",
      "Fetching data for: MAA\n"
     ]
    },
    {
     "name": "stderr",
     "output_type": "stream",
     "text": [
      "[*********************100%***********************]  1 of 1 completed\n",
      "[*********************100%***********************]  1 of 1 completed\n"
     ]
    },
    {
     "name": "stdout",
     "output_type": "stream",
     "text": [
      "MAA data saved\n",
      "Fetching data for: MRNA\n",
      "MRNA data saved\n",
      "Fetching data for: MHK\n"
     ]
    },
    {
     "name": "stderr",
     "output_type": "stream",
     "text": [
      "[*********************100%***********************]  1 of 1 completed\n",
      "[*********************100%***********************]  1 of 1 completed\n"
     ]
    },
    {
     "name": "stdout",
     "output_type": "stream",
     "text": [
      "MHK data saved\n",
      "Fetching data for: MOH\n",
      "MOH data saved\n",
      "Fetching data for: TAP\n"
     ]
    },
    {
     "name": "stderr",
     "output_type": "stream",
     "text": [
      "[*********************100%***********************]  1 of 1 completed\n"
     ]
    },
    {
     "name": "stdout",
     "output_type": "stream",
     "text": [
      "TAP data saved\n",
      "Fetching data for: MDLZ\n"
     ]
    },
    {
     "name": "stderr",
     "output_type": "stream",
     "text": [
      "[*********************100%***********************]  1 of 1 completed\n",
      "[*********************100%***********************]  1 of 1 completed\n"
     ]
    },
    {
     "name": "stdout",
     "output_type": "stream",
     "text": [
      "MDLZ data saved\n",
      "Fetching data for: MPWR\n",
      "MPWR data saved\n",
      "Fetching data for: MNST\n"
     ]
    },
    {
     "name": "stderr",
     "output_type": "stream",
     "text": [
      "[*********************100%***********************]  1 of 1 completed\n",
      "[*********************100%***********************]  1 of 1 completed\n"
     ]
    },
    {
     "name": "stdout",
     "output_type": "stream",
     "text": [
      "MNST data saved\n",
      "Fetching data for: MCO\n",
      "MCO data saved\n",
      "Fetching data for: MS\n"
     ]
    },
    {
     "name": "stderr",
     "output_type": "stream",
     "text": [
      "[*********************100%***********************]  1 of 1 completed\n",
      "[*********************100%***********************]  1 of 1 completed\n"
     ]
    },
    {
     "name": "stdout",
     "output_type": "stream",
     "text": [
      "MS data saved\n",
      "Fetching data for: MOS\n",
      "MOS data saved\n",
      "Fetching data for: MSI\n"
     ]
    },
    {
     "name": "stderr",
     "output_type": "stream",
     "text": [
      "[*********************100%***********************]  1 of 1 completed\n"
     ]
    },
    {
     "name": "stdout",
     "output_type": "stream",
     "text": [
      "MSI data saved\n",
      "Fetching data for: MSCI\n"
     ]
    },
    {
     "name": "stderr",
     "output_type": "stream",
     "text": [
      "[*********************100%***********************]  1 of 1 completed\n",
      "[*********************100%***********************]  1 of 1 completed\n"
     ]
    },
    {
     "name": "stdout",
     "output_type": "stream",
     "text": [
      "MSCI data saved\n",
      "Fetching data for: NDAQ\n",
      "NDAQ data saved\n",
      "Fetching data for: NTAP\n"
     ]
    },
    {
     "name": "stderr",
     "output_type": "stream",
     "text": [
      "[*********************100%***********************]  1 of 1 completed\n",
      "[*********************100%***********************]  1 of 1 completed\n"
     ]
    },
    {
     "name": "stdout",
     "output_type": "stream",
     "text": [
      "NTAP data saved\n",
      "Fetching data for: NFLX\n",
      "NFLX data saved\n",
      "Fetching data for: NEM\n"
     ]
    },
    {
     "name": "stderr",
     "output_type": "stream",
     "text": [
      "[*********************100%***********************]  1 of 1 completed\n"
     ]
    },
    {
     "name": "stdout",
     "output_type": "stream",
     "text": [
      "NEM data saved\n",
      "Fetching data for: NWSA\n"
     ]
    },
    {
     "name": "stderr",
     "output_type": "stream",
     "text": [
      "[*********************100%***********************]  1 of 1 completed\n",
      "[*********************100%***********************]  1 of 1 completed\n"
     ]
    },
    {
     "name": "stdout",
     "output_type": "stream",
     "text": [
      "NWSA data saved\n",
      "Fetching data for: NWS\n",
      "NWS data saved\n",
      "Fetching data for: NEE\n"
     ]
    },
    {
     "name": "stderr",
     "output_type": "stream",
     "text": [
      "[*********************100%***********************]  1 of 1 completed\n"
     ]
    },
    {
     "name": "stdout",
     "output_type": "stream",
     "text": [
      "NEE data saved\n",
      "Fetching data for: NKE\n"
     ]
    },
    {
     "name": "stderr",
     "output_type": "stream",
     "text": [
      "[*********************100%***********************]  1 of 1 completed\n",
      "[*********************100%***********************]  1 of 1 completed\n"
     ]
    },
    {
     "name": "stdout",
     "output_type": "stream",
     "text": [
      "NKE data saved\n",
      "Fetching data for: NI\n",
      "NI data saved\n",
      "Fetching data for: NDSN\n"
     ]
    },
    {
     "name": "stderr",
     "output_type": "stream",
     "text": [
      "[*********************100%***********************]  1 of 1 completed\n"
     ]
    },
    {
     "name": "stdout",
     "output_type": "stream",
     "text": [
      "NDSN data saved\n",
      "Fetching data for: NSC\n"
     ]
    },
    {
     "name": "stderr",
     "output_type": "stream",
     "text": [
      "[*********************100%***********************]  1 of 1 completed\n"
     ]
    },
    {
     "name": "stdout",
     "output_type": "stream",
     "text": [
      "NSC data saved\n",
      "Fetching data for: NTRS\n"
     ]
    },
    {
     "name": "stderr",
     "output_type": "stream",
     "text": [
      "[*********************100%***********************]  1 of 1 completed\n"
     ]
    },
    {
     "name": "stdout",
     "output_type": "stream",
     "text": [
      "NTRS data saved\n",
      "Fetching data for: NOC\n"
     ]
    },
    {
     "name": "stderr",
     "output_type": "stream",
     "text": [
      "[*********************100%***********************]  1 of 1 completed\n",
      "[*********************100%***********************]  1 of 1 completed\n"
     ]
    },
    {
     "name": "stdout",
     "output_type": "stream",
     "text": [
      "NOC data saved\n",
      "Fetching data for: NCLH\n",
      "NCLH data saved\n",
      "Fetching data for: NRG\n"
     ]
    },
    {
     "name": "stderr",
     "output_type": "stream",
     "text": [
      "[*********************100%***********************]  1 of 1 completed\n",
      "[*********************100%***********************]  1 of 1 completed\n"
     ]
    },
    {
     "name": "stdout",
     "output_type": "stream",
     "text": [
      "NRG data saved\n",
      "Fetching data for: NUE\n",
      "NUE data saved\n",
      "Fetching data for: NVDA\n"
     ]
    },
    {
     "name": "stderr",
     "output_type": "stream",
     "text": [
      "[*********************100%***********************]  1 of 1 completed\n",
      "[*********************100%***********************]  1 of 1 completed\n"
     ]
    },
    {
     "name": "stdout",
     "output_type": "stream",
     "text": [
      "NVDA data saved\n",
      "Fetching data for: NVR\n",
      "NVR data saved\n",
      "Fetching data for: NXPI\n"
     ]
    },
    {
     "name": "stderr",
     "output_type": "stream",
     "text": [
      "[*********************100%***********************]  1 of 1 completed\n",
      "[*********************100%***********************]  1 of 1 completed\n"
     ]
    },
    {
     "name": "stdout",
     "output_type": "stream",
     "text": [
      "NXPI data saved\n",
      "Fetching data for: ORLY\n",
      "ORLY data saved\n",
      "Fetching data for: OXY\n"
     ]
    },
    {
     "name": "stderr",
     "output_type": "stream",
     "text": [
      "[*********************100%***********************]  1 of 1 completed\n"
     ]
    },
    {
     "name": "stdout",
     "output_type": "stream",
     "text": [
      "OXY data saved\n",
      "Fetching data for: ODFL\n"
     ]
    },
    {
     "name": "stderr",
     "output_type": "stream",
     "text": [
      "[*********************100%***********************]  1 of 1 completed\n",
      "[*********************100%***********************]  1 of 1 completed\n"
     ]
    },
    {
     "name": "stdout",
     "output_type": "stream",
     "text": [
      "ODFL data saved\n",
      "Fetching data for: OMC\n",
      "OMC data saved\n",
      "Fetching data for: ON\n"
     ]
    },
    {
     "name": "stderr",
     "output_type": "stream",
     "text": [
      "[*********************100%***********************]  1 of 1 completed\n",
      "[*********************100%***********************]  1 of 1 completed\n"
     ]
    },
    {
     "name": "stdout",
     "output_type": "stream",
     "text": [
      "ON data saved\n",
      "Fetching data for: OKE\n",
      "OKE data saved\n",
      "Fetching data for: ORCL\n"
     ]
    },
    {
     "name": "stderr",
     "output_type": "stream",
     "text": [
      "[*********************100%***********************]  1 of 1 completed\n",
      "[*********************100%***********************]  1 of 1 completed\n"
     ]
    },
    {
     "name": "stdout",
     "output_type": "stream",
     "text": [
      "ORCL data saved\n",
      "Fetching data for: OTIS\n",
      "OTIS data saved\n",
      "Fetching data for: PCAR\n"
     ]
    },
    {
     "name": "stderr",
     "output_type": "stream",
     "text": [
      "[*********************100%***********************]  1 of 1 completed\n"
     ]
    },
    {
     "name": "stdout",
     "output_type": "stream",
     "text": [
      "PCAR data saved\n",
      "Fetching data for: PKG\n"
     ]
    },
    {
     "name": "stderr",
     "output_type": "stream",
     "text": [
      "[*********************100%***********************]  1 of 1 completed\n"
     ]
    },
    {
     "name": "stdout",
     "output_type": "stream",
     "text": [
      "PKG data saved\n",
      "Fetching data for: PLTR\n"
     ]
    },
    {
     "name": "stderr",
     "output_type": "stream",
     "text": [
      "[*********************100%***********************]  1 of 1 completed\n",
      "[*********************100%***********************]  1 of 1 completed\n"
     ]
    },
    {
     "name": "stdout",
     "output_type": "stream",
     "text": [
      "PLTR data saved\n",
      "Fetching data for: PANW\n",
      "PANW data saved\n",
      "Fetching data for: PARA\n"
     ]
    },
    {
     "name": "stderr",
     "output_type": "stream",
     "text": [
      "[*********************100%***********************]  1 of 1 completed\n"
     ]
    },
    {
     "name": "stdout",
     "output_type": "stream",
     "text": [
      "PARA data saved\n",
      "Fetching data for: PH\n"
     ]
    },
    {
     "name": "stderr",
     "output_type": "stream",
     "text": [
      "[*********************100%***********************]  1 of 1 completed\n"
     ]
    },
    {
     "name": "stdout",
     "output_type": "stream",
     "text": [
      "PH data saved\n",
      "Fetching data for: PAYX\n"
     ]
    },
    {
     "name": "stderr",
     "output_type": "stream",
     "text": [
      "[*********************100%***********************]  1 of 1 completed\n",
      "[*********************100%***********************]  1 of 1 completed\n"
     ]
    },
    {
     "name": "stdout",
     "output_type": "stream",
     "text": [
      "PAYX data saved\n",
      "Fetching data for: PAYC\n",
      "PAYC data saved\n",
      "Fetching data for: PYPL\n"
     ]
    },
    {
     "name": "stderr",
     "output_type": "stream",
     "text": [
      "[*********************100%***********************]  1 of 1 completed\n"
     ]
    },
    {
     "name": "stdout",
     "output_type": "stream",
     "text": [
      "PYPL data saved\n",
      "Fetching data for: PNR\n"
     ]
    },
    {
     "name": "stderr",
     "output_type": "stream",
     "text": [
      "[*********************100%***********************]  1 of 1 completed\n"
     ]
    },
    {
     "name": "stdout",
     "output_type": "stream",
     "text": [
      "PNR data saved\n",
      "Fetching data for: PEP\n"
     ]
    },
    {
     "name": "stderr",
     "output_type": "stream",
     "text": [
      "[*********************100%***********************]  1 of 1 completed\n"
     ]
    },
    {
     "name": "stdout",
     "output_type": "stream",
     "text": [
      "PEP data saved\n",
      "Fetching data for: PFE\n"
     ]
    },
    {
     "name": "stderr",
     "output_type": "stream",
     "text": [
      "[*********************100%***********************]  1 of 1 completed\n",
      "[*********************100%***********************]  1 of 1 completed\n"
     ]
    },
    {
     "name": "stdout",
     "output_type": "stream",
     "text": [
      "PFE data saved\n",
      "Fetching data for: PCG\n",
      "PCG data saved\n",
      "Fetching data for: PM\n"
     ]
    },
    {
     "name": "stderr",
     "output_type": "stream",
     "text": [
      "[*********************100%***********************]  1 of 1 completed\n"
     ]
    },
    {
     "name": "stdout",
     "output_type": "stream",
     "text": [
      "PM data saved\n",
      "Fetching data for: PSX\n"
     ]
    },
    {
     "name": "stderr",
     "output_type": "stream",
     "text": [
      "[*********************100%***********************]  1 of 1 completed\n"
     ]
    },
    {
     "name": "stdout",
     "output_type": "stream",
     "text": [
      "PSX data saved\n",
      "Fetching data for: PNW\n"
     ]
    },
    {
     "name": "stderr",
     "output_type": "stream",
     "text": [
      "[*********************100%***********************]  1 of 1 completed\n",
      "[*********************100%***********************]  1 of 1 completed\n"
     ]
    },
    {
     "name": "stdout",
     "output_type": "stream",
     "text": [
      "PNW data saved\n",
      "Fetching data for: PNC\n",
      "PNC data saved\n",
      "Fetching data for: POOL\n"
     ]
    },
    {
     "name": "stderr",
     "output_type": "stream",
     "text": [
      "[*********************100%***********************]  1 of 1 completed\n"
     ]
    },
    {
     "name": "stdout",
     "output_type": "stream",
     "text": [
      "POOL data saved\n",
      "Fetching data for: PPG\n"
     ]
    },
    {
     "name": "stderr",
     "output_type": "stream",
     "text": [
      "[*********************100%***********************]  1 of 1 completed\n",
      "[*********************100%***********************]  1 of 1 completed\n"
     ]
    },
    {
     "name": "stdout",
     "output_type": "stream",
     "text": [
      "PPG data saved\n",
      "Fetching data for: PPL\n",
      "PPL data saved\n",
      "Fetching data for: PFG\n"
     ]
    },
    {
     "name": "stderr",
     "output_type": "stream",
     "text": [
      "[*********************100%***********************]  1 of 1 completed\n"
     ]
    },
    {
     "name": "stdout",
     "output_type": "stream",
     "text": [
      "PFG data saved\n",
      "Fetching data for: PG\n"
     ]
    },
    {
     "name": "stderr",
     "output_type": "stream",
     "text": [
      "[*********************100%***********************]  1 of 1 completed\n"
     ]
    },
    {
     "name": "stdout",
     "output_type": "stream",
     "text": [
      "PG data saved\n",
      "Fetching data for: PGR\n"
     ]
    },
    {
     "name": "stderr",
     "output_type": "stream",
     "text": [
      "[*********************100%***********************]  1 of 1 completed\n",
      "[*********************100%***********************]  1 of 1 completed\n"
     ]
    },
    {
     "name": "stdout",
     "output_type": "stream",
     "text": [
      "PGR data saved\n",
      "Fetching data for: PLD\n",
      "PLD data saved\n",
      "Fetching data for: PRU\n"
     ]
    },
    {
     "name": "stderr",
     "output_type": "stream",
     "text": [
      "[*********************100%***********************]  1 of 1 completed\n"
     ]
    },
    {
     "name": "stdout",
     "output_type": "stream",
     "text": [
      "PRU data saved\n",
      "Fetching data for: PEG\n"
     ]
    },
    {
     "name": "stderr",
     "output_type": "stream",
     "text": [
      "[*********************100%***********************]  1 of 1 completed\n",
      "[*********************100%***********************]  1 of 1 completed\n"
     ]
    },
    {
     "name": "stdout",
     "output_type": "stream",
     "text": [
      "PEG data saved\n",
      "Fetching data for: PTC\n",
      "PTC data saved\n",
      "Fetching data for: PSA\n"
     ]
    },
    {
     "name": "stderr",
     "output_type": "stream",
     "text": [
      "[*********************100%***********************]  1 of 1 completed\n",
      "[*********************100%***********************]  1 of 1 completed\n"
     ]
    },
    {
     "name": "stdout",
     "output_type": "stream",
     "text": [
      "PSA data saved\n",
      "Fetching data for: PHM\n",
      "PHM data saved\n",
      "Fetching data for: PWR\n"
     ]
    },
    {
     "name": "stderr",
     "output_type": "stream",
     "text": [
      "[*********************100%***********************]  1 of 1 completed\n"
     ]
    },
    {
     "name": "stdout",
     "output_type": "stream",
     "text": [
      "PWR data saved\n",
      "Fetching data for: QCOM\n"
     ]
    },
    {
     "name": "stderr",
     "output_type": "stream",
     "text": [
      "[*********************100%***********************]  1 of 1 completed\n",
      "[*********************100%***********************]  1 of 1 completed\n"
     ]
    },
    {
     "name": "stdout",
     "output_type": "stream",
     "text": [
      "QCOM data saved\n",
      "Fetching data for: DGX\n",
      "DGX data saved\n",
      "Fetching data for: RL\n"
     ]
    },
    {
     "name": "stderr",
     "output_type": "stream",
     "text": [
      "[*********************100%***********************]  1 of 1 completed\n"
     ]
    },
    {
     "name": "stdout",
     "output_type": "stream",
     "text": [
      "RL data saved\n",
      "Fetching data for: RJF\n"
     ]
    },
    {
     "name": "stderr",
     "output_type": "stream",
     "text": [
      "[*********************100%***********************]  1 of 1 completed\n"
     ]
    },
    {
     "name": "stdout",
     "output_type": "stream",
     "text": [
      "RJF data saved\n",
      "Fetching data for: RTX\n"
     ]
    },
    {
     "name": "stderr",
     "output_type": "stream",
     "text": [
      "[*********************100%***********************]  1 of 1 completed\n"
     ]
    },
    {
     "name": "stdout",
     "output_type": "stream",
     "text": [
      "RTX data saved\n",
      "Fetching data for: O\n"
     ]
    },
    {
     "name": "stderr",
     "output_type": "stream",
     "text": [
      "[*********************100%***********************]  1 of 1 completed\n"
     ]
    },
    {
     "name": "stdout",
     "output_type": "stream",
     "text": [
      "O data saved\n",
      "Fetching data for: REG\n"
     ]
    },
    {
     "name": "stderr",
     "output_type": "stream",
     "text": [
      "[*********************100%***********************]  1 of 1 completed\n",
      "[*********************100%***********************]  1 of 1 completed\n"
     ]
    },
    {
     "name": "stdout",
     "output_type": "stream",
     "text": [
      "REG data saved\n",
      "Fetching data for: REGN\n",
      "REGN data saved\n",
      "Fetching data for: RF\n"
     ]
    },
    {
     "name": "stderr",
     "output_type": "stream",
     "text": [
      "[*********************100%***********************]  1 of 1 completed\n",
      "[*********************100%***********************]  1 of 1 completed\n"
     ]
    },
    {
     "name": "stdout",
     "output_type": "stream",
     "text": [
      "RF data saved\n",
      "Fetching data for: RSG\n",
      "RSG data saved\n",
      "Fetching data for: RMD\n"
     ]
    },
    {
     "name": "stderr",
     "output_type": "stream",
     "text": [
      "[*********************100%***********************]  1 of 1 completed\n"
     ]
    },
    {
     "name": "stdout",
     "output_type": "stream",
     "text": [
      "RMD data saved\n",
      "Fetching data for: RVTY\n"
     ]
    },
    {
     "name": "stderr",
     "output_type": "stream",
     "text": [
      "[*********************100%***********************]  1 of 1 completed\n"
     ]
    },
    {
     "name": "stdout",
     "output_type": "stream",
     "text": [
      "RVTY data saved\n",
      "Fetching data for: ROK\n"
     ]
    },
    {
     "name": "stderr",
     "output_type": "stream",
     "text": [
      "[*********************100%***********************]  1 of 1 completed\n"
     ]
    },
    {
     "name": "stdout",
     "output_type": "stream",
     "text": [
      "ROK data saved\n",
      "Fetching data for: ROL\n"
     ]
    },
    {
     "name": "stderr",
     "output_type": "stream",
     "text": [
      "[*********************100%***********************]  1 of 1 completed\n"
     ]
    },
    {
     "name": "stdout",
     "output_type": "stream",
     "text": [
      "ROL data saved\n",
      "Fetching data for: ROP\n"
     ]
    },
    {
     "name": "stderr",
     "output_type": "stream",
     "text": [
      "[*********************100%***********************]  1 of 1 completed\n"
     ]
    },
    {
     "name": "stdout",
     "output_type": "stream",
     "text": [
      "ROP data saved\n",
      "Fetching data for: ROST\n"
     ]
    },
    {
     "name": "stderr",
     "output_type": "stream",
     "text": [
      "[*********************100%***********************]  1 of 1 completed\n"
     ]
    },
    {
     "name": "stdout",
     "output_type": "stream",
     "text": [
      "ROST data saved\n",
      "Fetching data for: RCL\n"
     ]
    },
    {
     "name": "stderr",
     "output_type": "stream",
     "text": [
      "[*********************100%***********************]  1 of 1 completed\n"
     ]
    },
    {
     "name": "stdout",
     "output_type": "stream",
     "text": [
      "RCL data saved\n",
      "Fetching data for: SPGI\n"
     ]
    },
    {
     "name": "stderr",
     "output_type": "stream",
     "text": [
      "[*********************100%***********************]  1 of 1 completed\n",
      "[*********************100%***********************]  1 of 1 completed\n"
     ]
    },
    {
     "name": "stdout",
     "output_type": "stream",
     "text": [
      "SPGI data saved\n",
      "Fetching data for: CRM\n",
      "CRM data saved\n",
      "Fetching data for: SBAC\n"
     ]
    },
    {
     "name": "stderr",
     "output_type": "stream",
     "text": [
      "[*********************100%***********************]  1 of 1 completed\n"
     ]
    },
    {
     "name": "stdout",
     "output_type": "stream",
     "text": [
      "SBAC data saved\n",
      "Fetching data for: SLB\n"
     ]
    },
    {
     "name": "stderr",
     "output_type": "stream",
     "text": [
      "[*********************100%***********************]  1 of 1 completed\n",
      "[*********************100%***********************]  1 of 1 completed\n"
     ]
    },
    {
     "name": "stdout",
     "output_type": "stream",
     "text": [
      "SLB data saved\n",
      "Fetching data for: STX\n",
      "STX data saved\n",
      "Fetching data for: SRE\n"
     ]
    },
    {
     "name": "stderr",
     "output_type": "stream",
     "text": [
      "[*********************100%***********************]  1 of 1 completed\n"
     ]
    },
    {
     "name": "stdout",
     "output_type": "stream",
     "text": [
      "SRE data saved\n",
      "Fetching data for: NOW\n"
     ]
    },
    {
     "name": "stderr",
     "output_type": "stream",
     "text": [
      "[*********************100%***********************]  1 of 1 completed\n",
      "[*********************100%***********************]  1 of 1 completed\n"
     ]
    },
    {
     "name": "stdout",
     "output_type": "stream",
     "text": [
      "NOW data saved\n",
      "Fetching data for: SHW\n",
      "SHW data saved\n",
      "Fetching data for: SPG\n"
     ]
    },
    {
     "name": "stderr",
     "output_type": "stream",
     "text": [
      "[*********************100%***********************]  1 of 1 completed\n",
      "[*********************100%***********************]  1 of 1 completed\n"
     ]
    },
    {
     "name": "stdout",
     "output_type": "stream",
     "text": [
      "SPG data saved\n",
      "Fetching data for: SWKS\n",
      "SWKS data saved\n",
      "Fetching data for: SJM\n"
     ]
    },
    {
     "name": "stderr",
     "output_type": "stream",
     "text": [
      "[*********************100%***********************]  1 of 1 completed\n",
      "[*********************100%***********************]  1 of 1 completed\n"
     ]
    },
    {
     "name": "stdout",
     "output_type": "stream",
     "text": [
      "SJM data saved\n",
      "Fetching data for: SW\n",
      "Skipping SW, not enough data: 156 days\n",
      "Fetching data for: SNA\n"
     ]
    },
    {
     "name": "stderr",
     "output_type": "stream",
     "text": [
      "[*********************100%***********************]  1 of 1 completed\n",
      "[*********************100%***********************]  1 of 1 completed\n"
     ]
    },
    {
     "name": "stdout",
     "output_type": "stream",
     "text": [
      "SNA data saved\n",
      "Fetching data for: SOLV\n",
      "Skipping SOLV, not enough data: 223 days\n",
      "Fetching data for: SO\n"
     ]
    },
    {
     "name": "stderr",
     "output_type": "stream",
     "text": [
      "[*********************100%***********************]  1 of 1 completed\n",
      "[*********************100%***********************]  1 of 1 completed\n"
     ]
    },
    {
     "name": "stdout",
     "output_type": "stream",
     "text": [
      "SO data saved\n",
      "Fetching data for: LUV\n",
      "LUV data saved\n",
      "Fetching data for: SWK\n"
     ]
    },
    {
     "name": "stderr",
     "output_type": "stream",
     "text": [
      "[*********************100%***********************]  1 of 1 completed\n",
      "[*********************100%***********************]  1 of 1 completed\n"
     ]
    },
    {
     "name": "stdout",
     "output_type": "stream",
     "text": [
      "SWK data saved\n",
      "Fetching data for: SBUX\n",
      "SBUX data saved\n",
      "Fetching data for: STT\n"
     ]
    },
    {
     "name": "stderr",
     "output_type": "stream",
     "text": [
      "[*********************100%***********************]  1 of 1 completed\n",
      "[*********************100%***********************]  1 of 1 completed\n"
     ]
    },
    {
     "name": "stdout",
     "output_type": "stream",
     "text": [
      "STT data saved\n",
      "Fetching data for: STLD\n",
      "STLD data saved\n",
      "Fetching data for: STE\n"
     ]
    },
    {
     "name": "stderr",
     "output_type": "stream",
     "text": [
      "[*********************100%***********************]  1 of 1 completed\n"
     ]
    },
    {
     "name": "stdout",
     "output_type": "stream",
     "text": [
      "STE data saved\n",
      "Fetching data for: SYK\n"
     ]
    },
    {
     "name": "stderr",
     "output_type": "stream",
     "text": [
      "[*********************100%***********************]  1 of 1 completed\n",
      "[*********************100%***********************]  1 of 1 completed\n"
     ]
    },
    {
     "name": "stdout",
     "output_type": "stream",
     "text": [
      "SYK data saved\n",
      "Fetching data for: SMCI\n",
      "SMCI data saved\n",
      "Fetching data for: SYF\n"
     ]
    },
    {
     "name": "stderr",
     "output_type": "stream",
     "text": [
      "[*********************100%***********************]  1 of 1 completed\n",
      "[*********************100%***********************]  1 of 1 completed\n"
     ]
    },
    {
     "name": "stdout",
     "output_type": "stream",
     "text": [
      "SYF data saved\n",
      "Fetching data for: SNPS\n",
      "SNPS data saved\n",
      "Fetching data for: SYY\n"
     ]
    },
    {
     "name": "stderr",
     "output_type": "stream",
     "text": [
      "[*********************100%***********************]  1 of 1 completed\n",
      "[*********************100%***********************]  1 of 1 completed\n"
     ]
    },
    {
     "name": "stdout",
     "output_type": "stream",
     "text": [
      "SYY data saved\n",
      "Fetching data for: TMUS\n",
      "TMUS data saved\n",
      "Fetching data for: TROW\n"
     ]
    },
    {
     "name": "stderr",
     "output_type": "stream",
     "text": [
      "[*********************100%***********************]  1 of 1 completed\n"
     ]
    },
    {
     "name": "stdout",
     "output_type": "stream",
     "text": [
      "TROW data saved\n",
      "Fetching data for: TTWO\n"
     ]
    },
    {
     "name": "stderr",
     "output_type": "stream",
     "text": [
      "[*********************100%***********************]  1 of 1 completed\n"
     ]
    },
    {
     "name": "stdout",
     "output_type": "stream",
     "text": [
      "TTWO data saved\n",
      "Fetching data for: TPR\n"
     ]
    },
    {
     "name": "stderr",
     "output_type": "stream",
     "text": [
      "[*********************100%***********************]  1 of 1 completed\n",
      "[*********************100%***********************]  1 of 1 completed\n"
     ]
    },
    {
     "name": "stdout",
     "output_type": "stream",
     "text": [
      "TPR data saved\n",
      "Fetching data for: TRGP\n",
      "TRGP data saved\n",
      "Fetching data for: TGT\n"
     ]
    },
    {
     "name": "stderr",
     "output_type": "stream",
     "text": [
      "[*********************100%***********************]  1 of 1 completed\n",
      "[*********************100%***********************]  1 of 1 completed\n"
     ]
    },
    {
     "name": "stdout",
     "output_type": "stream",
     "text": [
      "TGT data saved\n",
      "Fetching data for: TEL\n",
      "TEL data saved\n",
      "Fetching data for: TDY\n"
     ]
    },
    {
     "name": "stderr",
     "output_type": "stream",
     "text": [
      "[*********************100%***********************]  1 of 1 completed\n",
      "[*********************100%***********************]  1 of 1 completed\n"
     ]
    },
    {
     "name": "stdout",
     "output_type": "stream",
     "text": [
      "TDY data saved\n",
      "Fetching data for: TER\n",
      "TER data saved\n",
      "Fetching data for: TSLA\n"
     ]
    },
    {
     "name": "stderr",
     "output_type": "stream",
     "text": [
      "[*********************100%***********************]  1 of 1 completed\n"
     ]
    },
    {
     "name": "stdout",
     "output_type": "stream",
     "text": [
      "TSLA data saved\n",
      "Fetching data for: TXN\n"
     ]
    },
    {
     "name": "stderr",
     "output_type": "stream",
     "text": [
      "[*********************100%***********************]  1 of 1 completed\n"
     ]
    },
    {
     "name": "stdout",
     "output_type": "stream",
     "text": [
      "TXN data saved\n",
      "Fetching data for: TPL\n"
     ]
    },
    {
     "name": "stderr",
     "output_type": "stream",
     "text": [
      "[*********************100%***********************]  1 of 1 completed\n"
     ]
    },
    {
     "name": "stdout",
     "output_type": "stream",
     "text": [
      "TPL data saved\n",
      "Fetching data for: TXT\n"
     ]
    },
    {
     "name": "stderr",
     "output_type": "stream",
     "text": [
      "[*********************100%***********************]  1 of 1 completed\n",
      "[*********************100%***********************]  1 of 1 completed\n"
     ]
    },
    {
     "name": "stdout",
     "output_type": "stream",
     "text": [
      "TXT data saved\n",
      "Fetching data for: TMO\n",
      "TMO data saved\n",
      "Fetching data for: TJX\n"
     ]
    },
    {
     "name": "stderr",
     "output_type": "stream",
     "text": [
      "[*********************100%***********************]  1 of 1 completed\n",
      "[*********************100%***********************]  1 of 1 completed\n"
     ]
    },
    {
     "name": "stdout",
     "output_type": "stream",
     "text": [
      "TJX data saved\n",
      "Fetching data for: TKO\n",
      "TKO data saved\n",
      "Fetching data for: TSCO\n"
     ]
    },
    {
     "name": "stderr",
     "output_type": "stream",
     "text": [
      "[*********************100%***********************]  1 of 1 completed\n"
     ]
    },
    {
     "name": "stdout",
     "output_type": "stream",
     "text": [
      "TSCO data saved\n",
      "Fetching data for: TT\n"
     ]
    },
    {
     "name": "stderr",
     "output_type": "stream",
     "text": [
      "[*********************100%***********************]  1 of 1 completed\n",
      "[*********************100%***********************]  1 of 1 completed\n"
     ]
    },
    {
     "name": "stdout",
     "output_type": "stream",
     "text": [
      "TT data saved\n",
      "Fetching data for: TDG\n",
      "TDG data saved\n",
      "Fetching data for: TRV\n"
     ]
    },
    {
     "name": "stderr",
     "output_type": "stream",
     "text": [
      "[*********************100%***********************]  1 of 1 completed\n",
      "[*********************100%***********************]  1 of 1 completed\n"
     ]
    },
    {
     "name": "stdout",
     "output_type": "stream",
     "text": [
      "TRV data saved\n",
      "Fetching data for: TRMB\n",
      "TRMB data saved\n",
      "Fetching data for: TFC\n"
     ]
    },
    {
     "name": "stderr",
     "output_type": "stream",
     "text": [
      "[*********************100%***********************]  1 of 1 completed\n",
      "[*********************100%***********************]  1 of 1 completed\n"
     ]
    },
    {
     "name": "stdout",
     "output_type": "stream",
     "text": [
      "TFC data saved\n",
      "Fetching data for: TYL\n",
      "TYL data saved\n",
      "Fetching data for: TSN\n"
     ]
    },
    {
     "name": "stderr",
     "output_type": "stream",
     "text": [
      "[*********************100%***********************]  1 of 1 completed\n",
      "[*********************100%***********************]  1 of 1 completed\n"
     ]
    },
    {
     "name": "stdout",
     "output_type": "stream",
     "text": [
      "TSN data saved\n",
      "Fetching data for: USB\n",
      "USB data saved\n",
      "Fetching data for: UBER\n"
     ]
    },
    {
     "name": "stderr",
     "output_type": "stream",
     "text": [
      "[*********************100%***********************]  1 of 1 completed\n"
     ]
    },
    {
     "name": "stdout",
     "output_type": "stream",
     "text": [
      "UBER data saved\n",
      "Fetching data for: UDR\n"
     ]
    },
    {
     "name": "stderr",
     "output_type": "stream",
     "text": [
      "[*********************100%***********************]  1 of 1 completed\n",
      "[*********************100%***********************]  1 of 1 completed\n"
     ]
    },
    {
     "name": "stdout",
     "output_type": "stream",
     "text": [
      "UDR data saved\n",
      "Fetching data for: ULTA\n",
      "ULTA data saved\n",
      "Fetching data for: UNP\n"
     ]
    },
    {
     "name": "stderr",
     "output_type": "stream",
     "text": [
      "[*********************100%***********************]  1 of 1 completed\n",
      "[*********************100%***********************]  1 of 1 completed\n"
     ]
    },
    {
     "name": "stdout",
     "output_type": "stream",
     "text": [
      "UNP data saved\n",
      "Fetching data for: UAL\n",
      "UAL data saved\n",
      "Fetching data for: UPS\n"
     ]
    },
    {
     "name": "stderr",
     "output_type": "stream",
     "text": [
      "[*********************100%***********************]  1 of 1 completed\n",
      "[*********************100%***********************]  1 of 1 completed\n"
     ]
    },
    {
     "name": "stdout",
     "output_type": "stream",
     "text": [
      "UPS data saved\n",
      "Fetching data for: URI\n",
      "URI data saved\n",
      "Fetching data for: UNH\n"
     ]
    },
    {
     "name": "stderr",
     "output_type": "stream",
     "text": [
      "[*********************100%***********************]  1 of 1 completed\n"
     ]
    },
    {
     "name": "stdout",
     "output_type": "stream",
     "text": [
      "UNH data saved\n",
      "Fetching data for: UHS\n"
     ]
    },
    {
     "name": "stderr",
     "output_type": "stream",
     "text": [
      "[*********************100%***********************]  1 of 1 completed\n"
     ]
    },
    {
     "name": "stdout",
     "output_type": "stream",
     "text": [
      "UHS data saved\n",
      "Fetching data for: VLO\n"
     ]
    },
    {
     "name": "stderr",
     "output_type": "stream",
     "text": [
      "[*********************100%***********************]  1 of 1 completed\n"
     ]
    },
    {
     "name": "stdout",
     "output_type": "stream",
     "text": [
      "VLO data saved\n",
      "Fetching data for: VTR\n"
     ]
    },
    {
     "name": "stderr",
     "output_type": "stream",
     "text": [
      "[*********************100%***********************]  1 of 1 completed\n",
      "[*********************100%***********************]  1 of 1 completed\n"
     ]
    },
    {
     "name": "stdout",
     "output_type": "stream",
     "text": [
      "VTR data saved\n",
      "Fetching data for: VLTO\n",
      "Skipping VLTO, not enough data: 345 days\n",
      "Fetching data for: VRSN\n"
     ]
    },
    {
     "name": "stderr",
     "output_type": "stream",
     "text": [
      "[*********************100%***********************]  1 of 1 completed\n",
      "[*********************100%***********************]  1 of 1 completed\n"
     ]
    },
    {
     "name": "stdout",
     "output_type": "stream",
     "text": [
      "VRSN data saved\n",
      "Fetching data for: VRSK\n",
      "VRSK data saved\n",
      "Fetching data for: VZ\n"
     ]
    },
    {
     "name": "stderr",
     "output_type": "stream",
     "text": [
      "[*********************100%***********************]  1 of 1 completed\n",
      "[*********************100%***********************]  1 of 1 completed\n"
     ]
    },
    {
     "name": "stdout",
     "output_type": "stream",
     "text": [
      "VZ data saved\n",
      "Fetching data for: VRTX\n",
      "VRTX data saved\n",
      "Fetching data for: VTRS\n"
     ]
    },
    {
     "name": "stderr",
     "output_type": "stream",
     "text": [
      "[*********************100%***********************]  1 of 1 completed\n",
      "[*********************100%***********************]  1 of 1 completed\n"
     ]
    },
    {
     "name": "stdout",
     "output_type": "stream",
     "text": [
      "VTRS data saved\n",
      "Fetching data for: VICI\n",
      "VICI data saved\n",
      "Fetching data for: V\n"
     ]
    },
    {
     "name": "stderr",
     "output_type": "stream",
     "text": [
      "[*********************100%***********************]  1 of 1 completed\n",
      "[*********************100%***********************]  1 of 1 completed\n"
     ]
    },
    {
     "name": "stdout",
     "output_type": "stream",
     "text": [
      "V data saved\n",
      "Fetching data for: VST\n",
      "VST data saved\n",
      "Fetching data for: VMC\n"
     ]
    },
    {
     "name": "stderr",
     "output_type": "stream",
     "text": [
      "[*********************100%***********************]  1 of 1 completed\n"
     ]
    },
    {
     "name": "stdout",
     "output_type": "stream",
     "text": [
      "VMC data saved\n",
      "Fetching data for: WRB\n"
     ]
    },
    {
     "name": "stderr",
     "output_type": "stream",
     "text": [
      "[*********************100%***********************]  1 of 1 completed\n"
     ]
    },
    {
     "name": "stdout",
     "output_type": "stream",
     "text": [
      "WRB data saved\n",
      "Fetching data for: GWW\n"
     ]
    },
    {
     "name": "stderr",
     "output_type": "stream",
     "text": [
      "[*********************100%***********************]  1 of 1 completed\n"
     ]
    },
    {
     "name": "stdout",
     "output_type": "stream",
     "text": [
      "GWW data saved\n",
      "Fetching data for: WAB\n"
     ]
    },
    {
     "name": "stderr",
     "output_type": "stream",
     "text": [
      "[*********************100%***********************]  1 of 1 completed\n"
     ]
    },
    {
     "name": "stdout",
     "output_type": "stream",
     "text": [
      "WAB data saved\n",
      "Fetching data for: WBA\n"
     ]
    },
    {
     "name": "stderr",
     "output_type": "stream",
     "text": [
      "[*********************100%***********************]  1 of 1 completed\n"
     ]
    },
    {
     "name": "stdout",
     "output_type": "stream",
     "text": [
      "WBA data saved\n",
      "Fetching data for: WMT\n"
     ]
    },
    {
     "name": "stderr",
     "output_type": "stream",
     "text": [
      "[*********************100%***********************]  1 of 1 completed\n"
     ]
    },
    {
     "name": "stdout",
     "output_type": "stream",
     "text": [
      "WMT data saved\n",
      "Fetching data for: DIS\n"
     ]
    },
    {
     "name": "stderr",
     "output_type": "stream",
     "text": [
      "[*********************100%***********************]  1 of 1 completed\n",
      "[*********************100%***********************]  1 of 1 completed\n"
     ]
    },
    {
     "name": "stdout",
     "output_type": "stream",
     "text": [
      "DIS data saved\n",
      "Fetching data for: WBD\n",
      "WBD data saved\n",
      "Fetching data for: WM\n"
     ]
    },
    {
     "name": "stderr",
     "output_type": "stream",
     "text": [
      "[*********************100%***********************]  1 of 1 completed\n",
      "[*********************100%***********************]  1 of 1 completed\n"
     ]
    },
    {
     "name": "stdout",
     "output_type": "stream",
     "text": [
      "WM data saved\n",
      "Fetching data for: WAT\n",
      "WAT data saved\n",
      "Fetching data for: WEC\n"
     ]
    },
    {
     "name": "stderr",
     "output_type": "stream",
     "text": [
      "[*********************100%***********************]  1 of 1 completed\n"
     ]
    },
    {
     "name": "stdout",
     "output_type": "stream",
     "text": [
      "WEC data saved\n",
      "Fetching data for: WFC\n"
     ]
    },
    {
     "name": "stderr",
     "output_type": "stream",
     "text": [
      "[*********************100%***********************]  1 of 1 completed\n",
      "[*********************100%***********************]  1 of 1 completed\n"
     ]
    },
    {
     "name": "stdout",
     "output_type": "stream",
     "text": [
      "WFC data saved\n",
      "Fetching data for: WELL\n",
      "WELL data saved\n",
      "Fetching data for: WST\n"
     ]
    },
    {
     "name": "stderr",
     "output_type": "stream",
     "text": [
      "[*********************100%***********************]  1 of 1 completed\n",
      "[*********************100%***********************]  1 of 1 completed\n"
     ]
    },
    {
     "name": "stdout",
     "output_type": "stream",
     "text": [
      "WST data saved\n",
      "Fetching data for: WDC\n",
      "WDC data saved\n",
      "Fetching data for: WY\n"
     ]
    },
    {
     "name": "stderr",
     "output_type": "stream",
     "text": [
      "[*********************100%***********************]  1 of 1 completed\n",
      "[*********************100%***********************]  1 of 1 completed\n"
     ]
    },
    {
     "name": "stdout",
     "output_type": "stream",
     "text": [
      "WY data saved\n",
      "Fetching data for: WSM\n",
      "WSM data saved\n",
      "Fetching data for: WMB\n"
     ]
    },
    {
     "name": "stderr",
     "output_type": "stream",
     "text": [
      "[*********************100%***********************]  1 of 1 completed\n",
      "[*********************100%***********************]  1 of 1 completed\n"
     ]
    },
    {
     "name": "stdout",
     "output_type": "stream",
     "text": [
      "WMB data saved\n",
      "Fetching data for: WTW\n",
      "WTW data saved\n",
      "Fetching data for: WDAY\n"
     ]
    },
    {
     "name": "stderr",
     "output_type": "stream",
     "text": [
      "[*********************100%***********************]  1 of 1 completed\n",
      "[*********************100%***********************]  1 of 1 completed\n"
     ]
    },
    {
     "name": "stdout",
     "output_type": "stream",
     "text": [
      "WDAY data saved\n",
      "Fetching data for: WYNN\n",
      "WYNN data saved\n",
      "Fetching data for: XEL\n"
     ]
    },
    {
     "name": "stderr",
     "output_type": "stream",
     "text": [
      "[*********************100%***********************]  1 of 1 completed\n"
     ]
    },
    {
     "name": "stdout",
     "output_type": "stream",
     "text": [
      "XEL data saved\n",
      "Fetching data for: XYL\n"
     ]
    },
    {
     "name": "stderr",
     "output_type": "stream",
     "text": [
      "[*********************100%***********************]  1 of 1 completed\n"
     ]
    },
    {
     "name": "stdout",
     "output_type": "stream",
     "text": [
      "XYL data saved\n",
      "Fetching data for: YUM\n"
     ]
    },
    {
     "name": "stderr",
     "output_type": "stream",
     "text": [
      "[*********************100%***********************]  1 of 1 completed\n"
     ]
    },
    {
     "name": "stdout",
     "output_type": "stream",
     "text": [
      "YUM data saved\n",
      "Fetching data for: ZBRA\n"
     ]
    },
    {
     "name": "stderr",
     "output_type": "stream",
     "text": [
      "[*********************100%***********************]  1 of 1 completed\n",
      "[*********************100%***********************]  1 of 1 completed\n"
     ]
    },
    {
     "name": "stdout",
     "output_type": "stream",
     "text": [
      "ZBRA data saved\n",
      "Fetching data for: ZBH\n",
      "ZBH data saved\n",
      "Fetching data for: ZTS\n"
     ]
    },
    {
     "name": "stderr",
     "output_type": "stream",
     "text": [
      "[*********************100%***********************]  1 of 1 completed"
     ]
    },
    {
     "name": "stdout",
     "output_type": "stream",
     "text": [
      "ZTS data saved\n",
      "All eligible stock data has been successfully saved.\n"
     ]
    },
    {
     "name": "stderr",
     "output_type": "stream",
     "text": [
      "\n"
     ]
    }
   ],
   "source": [
    "import yfinance as yf\n",
    "import os\n",
    "import pandas as pd\n",
    "\n",
    "# Set the storage path\n",
    "directory = \"SP500_21_25\"\n",
    "if not os.path.exists(directory):\n",
    "    os.makedirs(directory)\n",
    "\n",
    "# Get the S&P 500 stock list from Wikipedia\n",
    "sp500_url = \"https://en.wikipedia.org/wiki/List_of_S%26P_500_companies\"\n",
    "table = pd.read_html(sp500_url)[0]\n",
    "tickers = table['Symbol'].tolist()\n",
    "\n",
    "# Download stock data and save as CSV\n",
    "for ticker in tickers:\n",
    "    print(f\"Fetching data for: {ticker}\")\n",
    "    stock_data = yf.download(ticker, start=\"2021-01-01\", end=\"2025-02-20\")\n",
    "    \n",
    "    # Check if data has fewer than 500 trading days\n",
    "    if len(stock_data) < 500:\n",
    "        print(f\"Skipping {ticker}, not enough data: {len(stock_data)} days\")\n",
    "        continue  # Skip the current stock and do not save the data\n",
    "\n",
    "    # Keep only the required columns (Open, High, Low, Close, Volume)\n",
    "    stock_data = stock_data[['Open', 'High', 'Low', 'Close', 'Volume']]\n",
    "    \n",
    "    # Save the data to a CSV file\n",
    "    stock_data.to_csv(f\"{directory}/{ticker}.csv\")\n",
    "    print(f\"{ticker} data saved\")\n",
    "\n",
    "print(\"All eligible stock data has been successfully saved.\")\n"
   ]
  },
  {
   "cell_type": "code",
   "execution_count": 4,
   "metadata": {},
   "outputs": [
    {
     "name": "stdout",
     "output_type": "stream",
     "text": [
      "Finished processing: TMUS.csv\n",
      "Finished processing: CHRW.csv\n",
      "Finished processing: COO.csv\n",
      "Finished processing: ES.csv\n",
      "Finished processing: HSIC.csv\n",
      "Finished processing: MKTX.csv\n",
      "Finished processing: UDR.csv\n",
      "Finished processing: ED.csv\n",
      "Finished processing: MCHP.csv\n",
      "Finished processing: EOG.csv\n",
      "Finished processing: MO.csv\n",
      "Finished processing: ROK.csv\n",
      "Finished processing: MGM.csv\n",
      "Finished processing: KO.csv\n",
      "Finished processing: PLTR.csv\n",
      "Finished processing: AAPL.csv\n",
      "Finished processing: ROL.csv\n",
      "Finished processing: STT.csv\n",
      "Finished processing: NDAQ.csv\n",
      "Finished processing: JKHY.csv\n",
      "Finished processing: HSY.csv\n",
      "Finished processing: BX.csv\n",
      "Finished processing: HPE.csv\n",
      "Finished processing: DD.csv\n",
      "Finished processing: XEL.csv\n",
      "Finished processing: CVS.csv\n",
      "Finished processing: PEP.csv\n",
      "Finished processing: KHC.csv\n",
      "Finished processing: TJX.csv\n",
      "Finished processing: LIN.csv\n",
      "Finished processing: AIZ.csv\n",
      "Finished processing: CI.csv\n",
      "Finished processing: BG.csv\n",
      "Finished processing: STX.csv\n",
      "Finished processing: DHR.csv\n",
      "Finished processing: DECK.csv\n",
      "Finished processing: CZR.csv\n",
      "Finished processing: JPM.csv\n",
      "Finished processing: CMS.csv\n",
      "Finished processing: WM.csv\n",
      "Finished processing: GOOG.csv\n",
      "Finished processing: SWK.csv\n",
      "Finished processing: ALLE.csv\n",
      "Finished processing: CSCO.csv\n",
      "Finished processing: BKNG.csv\n",
      "Finished processing: BEN.csv\n",
      "Finished processing: SO.csv\n",
      "Finished processing: CMG.csv\n",
      "Finished processing: GILD.csv\n",
      "Finished processing: NOC.csv\n",
      "Finished processing: HBAN.csv\n",
      "Finished processing: AWK.csv\n",
      "Finished processing: DG.csv\n",
      "Finished processing: NWSA.csv\n",
      "Finished processing: DOV.csv\n",
      "Finished processing: BLK.csv\n",
      "Finished processing: LLY.csv\n",
      "Finished processing: MOH.csv\n",
      "Finished processing: MDLZ.csv\n",
      "Finished processing: VICI.csv\n",
      "Finished processing: WST.csv\n",
      "Finished processing: DVA.csv\n",
      "Finished processing: NXPI.csv\n",
      "Finished processing: IR.csv\n",
      "Finished processing: J.csv\n",
      "Finished processing: UNP.csv\n",
      "Finished processing: REG.csv\n",
      "Finished processing: ODFL.csv\n",
      "Finished processing: ECL.csv\n",
      "Finished processing: INVH.csv\n",
      "Finished processing: WBA.csv\n",
      "Finished processing: BDX.csv\n",
      "Finished processing: NSC.csv\n",
      "Finished processing: STE.csv\n",
      "Finished processing: K.csv\n",
      "Finished processing: ORCL.csv\n",
      "Finished processing: VRTX.csv\n",
      "Finished processing: ABT.csv\n",
      "Finished processing: RCL.csv\n",
      "Finished processing: LYV.csv\n",
      "Finished processing: INTU.csv\n",
      "Finished processing: DAL.csv\n",
      "Finished processing: NOW.csv\n",
      "Finished processing: T.csv\n",
      "Finished processing: IRM.csv\n",
      "Finished processing: OKE.csv\n",
      "Finished processing: BIIB.csv\n",
      "Finished processing: ITW.csv\n",
      "Finished processing: RSG.csv\n",
      "Finished processing: LYB.csv\n",
      "Finished processing: TT.csv\n",
      "Finished processing: FANG.csv\n",
      "Finished processing: PGR.csv\n",
      "Finished processing: AMT.csv\n",
      "Finished processing: XOM.csv\n",
      "Finished processing: CAH.csv\n",
      "Finished processing: WRB.csv\n",
      "Finished processing: WTW.csv\n",
      "Finished processing: FRT.csv\n",
      "Finished processing: FFIV.csv\n",
      "Finished processing: APTV.csv\n",
      "Finished processing: LRCX.csv\n",
      "Finished processing: HOLX.csv\n",
      "Finished processing: PPL.csv\n",
      "Finished processing: NTRS.csv\n",
      "Finished processing: FE.csv\n",
      "Finished processing: ARE.csv\n",
      "Finished processing: ADSK.csv\n",
      "Finished processing: KEYS.csv\n",
      "Finished processing: HUM.csv\n",
      "Finished processing: PPG.csv\n",
      "Finished processing: TKO.csv\n",
      "Finished processing: HIG.csv\n",
      "Finished processing: SPGI.csv\n",
      "Finished processing: KLAC.csv\n",
      "Finished processing: MOS.csv\n",
      "Finished processing: NTAP.csv\n",
      "Finished processing: PRU.csv\n",
      "Finished processing: AMP.csv\n",
      "Finished processing: MSFT.csv\n",
      "Finished processing: DAY.csv\n",
      "Finished processing: BK.csv\n",
      "Finished processing: KIM.csv\n",
      "Finished processing: PYPL.csv\n",
      "Finished processing: PLD.csv\n",
      "Finished processing: PH.csv\n",
      "Finished processing: APA.csv\n",
      "Finished processing: EMR.csv\n",
      "Finished processing: ACGL.csv\n",
      "Finished processing: IQV.csv\n",
      "Finished processing: OXY.csv\n",
      "Finished processing: IEX.csv\n",
      "Finished processing: DASH.csv\n",
      "Finished processing: NCLH.csv\n",
      "Finished processing: PNC.csv\n",
      "Finished processing: ICE.csv\n",
      "Finished processing: CFG.csv\n",
      "Finished processing: STLD.csv\n",
      "Finished processing: MET.csv\n",
      "Finished processing: PWR.csv\n",
      "Finished processing: F.csv\n",
      "Finished processing: CCL.csv\n",
      "Finished processing: HAS.csv\n",
      "Finished processing: USB.csv\n",
      "Finished processing: GIS.csv\n",
      "Finished processing: PAYX.csv\n",
      "Finished processing: HRL.csv\n",
      "Finished processing: GS.csv\n",
      "Finished processing: HD.csv\n",
      "Finished processing: PANW.csv\n",
      "Finished processing: EL.csv\n",
      "Finished processing: LMT.csv\n",
      "Finished processing: CARR.csv\n",
      "Finished processing: CMI.csv\n",
      "Finished processing: D.csv\n",
      "Finished processing: JBHT.csv\n",
      "Finished processing: BA.csv\n",
      "Finished processing: EIX.csv\n",
      "Finished processing: AMCR.csv\n",
      "Finished processing: TXT.csv\n",
      "Finished processing: WY.csv\n",
      "Finished processing: TFC.csv\n",
      "Finished processing: FSLR.csv\n",
      "Finished processing: UAL.csv\n",
      "Finished processing: BKR.csv\n",
      "Finished processing: V.csv\n",
      "Finished processing: NI.csv\n",
      "Finished processing: PARA.csv\n",
      "Finished processing: MU.csv\n",
      "Finished processing: FOXA.csv\n",
      "Finished processing: HON.csv\n",
      "Finished processing: PNR.csv\n",
      "Finished processing: GRMN.csv\n",
      "Finished processing: AVY.csv\n",
      "Finished processing: MRK.csv\n",
      "Finished processing: WAT.csv\n",
      "Finished processing: IPG.csv\n",
      "Finished processing: PSA.csv\n",
      "Finished processing: LW.csv\n",
      "Finished processing: EVRG.csv\n",
      "Finished processing: SYY.csv\n",
      "Finished processing: TER.csv\n",
      "Finished processing: MCO.csv\n",
      "Finished processing: HWM.csv\n",
      "Finished processing: VST.csv\n",
      "Finished processing: VRSN.csv\n",
      "Finished processing: NFLX.csv\n",
      "Finished processing: CRWD.csv\n",
      "Finished processing: CCI.csv\n",
      "Finished processing: AXP.csv\n",
      "Finished processing: IT.csv\n",
      "Finished processing: ADI.csv\n",
      "Finished processing: BLDR.csv\n",
      "Finished processing: IP.csv\n",
      "Finished processing: TYL.csv\n",
      "Finished processing: MSCI.csv\n",
      "Finished processing: CF.csv\n",
      "Finished processing: A.csv\n",
      "Finished processing: PEG.csv\n",
      "Finished processing: SCHW.csv\n",
      "Finished processing: ETN.csv\n",
      "Finished processing: ZBRA.csv\n",
      "Finished processing: SYK.csv\n",
      "Finished processing: JNJ.csv\n",
      "Finished processing: OMC.csv\n",
      "Finished processing: RVTY.csv\n",
      "Finished processing: JCI.csv\n",
      "Finished processing: GM.csv\n",
      "Finished processing: AME.csv\n",
      "Finished processing: ELV.csv\n",
      "Finished processing: CINF.csv\n",
      "Finished processing: RTX.csv\n",
      "Finished processing: CEG.csv\n",
      "Finished processing: NWS.csv\n",
      "Finished processing: CTVA.csv\n",
      "Finished processing: ESS.csv\n",
      "Finished processing: CVX.csv\n",
      "Finished processing: MA.csv\n",
      "Finished processing: SRE.csv\n",
      "Finished processing: XYL.csv\n",
      "Finished processing: EXR.csv\n",
      "Finished processing: ALL.csv\n",
      "Finished processing: FCX.csv\n",
      "Finished processing: PNW.csv\n",
      "Finished processing: PHM.csv\n",
      "Finished processing: KR.csv\n",
      "Finished processing: NVR.csv\n",
      "Finished processing: CTAS.csv\n",
      "Finished processing: AOS.csv\n",
      "Finished processing: CDW.csv\n",
      "Finished processing: EA.csv\n",
      "Finished processing: NEM.csv\n",
      "Finished processing: PFG.csv\n",
      "Finished processing: TDG.csv\n",
      "Finished processing: CME.csv\n",
      "Finished processing: AMD.csv\n",
      "Finished processing: CLX.csv\n",
      "Finished processing: EXPE.csv\n",
      "Finished processing: LNT.csv\n",
      "Finished processing: AON.csv\n",
      "Finished processing: JBL.csv\n",
      "Finished processing: ANET.csv\n",
      "Finished processing: ROST.csv\n",
      "Finished processing: AMZN.csv\n",
      "Finished processing: INTC.csv\n",
      "Finished processing: AMGN.csv\n",
      "Finished processing: DOC.csv\n",
      "Finished processing: TGT.csv\n",
      "Finished processing: TECH.csv\n",
      "Finished processing: ADP.csv\n",
      "Finished processing: CTRA.csv\n",
      "Finished processing: BAC.csv\n",
      "Finished processing: VZ.csv\n",
      "Finished processing: KMI.csv\n",
      "Finished processing: ULTA.csv\n",
      "Finished processing: LVS.csv\n",
      "Finished processing: DLTR.csv\n",
      "Finished processing: FDS.csv\n",
      "Finished processing: OTIS.csv\n",
      "Finished processing: PKG.csv\n",
      "Finished processing: WELL.csv\n",
      "Finished processing: CRL.csv\n",
      "Finished processing: STZ.csv\n",
      "Finished processing: ROP.csv\n",
      "Finished processing: WYNN.csv\n",
      "Finished processing: SBUX.csv\n",
      "Finished processing: MPC.csv\n",
      "Finished processing: KKR.csv\n",
      "Finished processing: MKC.csv\n",
      "Finished processing: ACN.csv\n",
      "Finished processing: FTV.csv\n",
      "Finished processing: AZO.csv\n",
      "Finished processing: MHK.csv\n",
      "Finished processing: ATO.csv\n",
      "Finished processing: ABNB.csv\n",
      "Finished processing: AVB.csv\n",
      "Finished processing: SHW.csv\n",
      "Finished processing: YUM.csv\n",
      "Finished processing: CPT.csv\n",
      "Finished processing: GEN.csv\n",
      "Finished processing: CPB.csv\n",
      "Finished processing: CNP.csv\n",
      "Finished processing: LHX.csv\n",
      "Finished processing: RMD.csv\n",
      "Finished processing: HLT.csv\n",
      "Finished processing: GNRC.csv\n",
      "Finished processing: NDSN.csv\n",
      "Finished processing: ADM.csv\n",
      "Finished processing: TRGP.csv\n",
      "Finished processing: LUV.csv\n",
      "Finished processing: HPQ.csv\n",
      "Finished processing: O.csv\n",
      "Finished processing: MTCH.csv\n",
      "Finished processing: BR.csv\n",
      "Finished processing: TRV.csv\n",
      "Finished processing: DFS.csv\n",
      "Finished processing: EW.csv\n",
      "Finished processing: DUK.csv\n",
      "Finished processing: DIS.csv\n",
      "Finished processing: DRI.csv\n",
      "Finished processing: UHS.csv\n",
      "Finished processing: GLW.csv\n",
      "Finished processing: FI.csv\n",
      "Finished processing: MTB.csv\n",
      "Finished processing: PFE.csv\n",
      "Finished processing: LKQ.csv\n",
      "Finished processing: ALGN.csv\n",
      "Finished processing: VRSK.csv\n",
      "Finished processing: DPZ.csv\n",
      "Finished processing: LII.csv\n",
      "Finished processing: EFX.csv\n",
      "Finished processing: TSCO.csv\n",
      "Finished processing: AEE.csv\n",
      "Finished processing: MAS.csv\n",
      "Finished processing: DVN.csv\n",
      "Finished processing: FOX.csv\n",
      "Finished processing: LEN.csv\n",
      "Finished processing: CPRT.csv\n",
      "Finished processing: HST.csv\n",
      "Finished processing: APO.csv\n",
      "Finished processing: AES.csv\n",
      "Finished processing: CNC.csv\n",
      "Finished processing: SMCI.csv\n",
      "Finished processing: URI.csv\n",
      "Finished processing: DGX.csv\n",
      "Finished processing: FTNT.csv\n",
      "Finished processing: GPC.csv\n",
      "Finished processing: BRO.csv\n",
      "Finished processing: PODD.csv\n",
      "Finished processing: GD.csv\n",
      "Finished processing: COP.csv\n",
      "Finished processing: ABBV.csv\n",
      "Finished processing: GDDY.csv\n",
      "Finished processing: NUE.csv\n",
      "Finished processing: MRNA.csv\n",
      "Finished processing: CTSH.csv\n",
      "Finished processing: FITB.csv\n",
      "Finished processing: SPG.csv\n",
      "Finished processing: DLR.csv\n",
      "Finished processing: IFF.csv\n",
      "Finished processing: VMC.csv\n",
      "Finished processing: PG.csv\n",
      "Finished processing: IBM.csv\n",
      "Finished processing: KMB.csv\n",
      "Finished processing: SBAC.csv\n",
      "Finished processing: TRMB.csv\n",
      "Finished processing: NVDA.csv\n",
      "Finished processing: UPS.csv\n",
      "Finished processing: LDOS.csv\n",
      "Finished processing: ISRG.csv\n",
      "Finished processing: ORLY.csv\n",
      "Finished processing: CPAY.csv\n",
      "Finished processing: C.csv\n",
      "Finished processing: EPAM.csv\n",
      "Finished processing: GL.csv\n",
      "Finished processing: SJM.csv\n",
      "Finished processing: REGN.csv\n",
      "Finished processing: MNST.csv\n",
      "Finished processing: MAA.csv\n",
      "Finished processing: DOW.csv\n",
      "Finished processing: CHD.csv\n",
      "Finished processing: BXP.csv\n",
      "Finished processing: DTE.csv\n",
      "Finished processing: CAG.csv\n",
      "Finished processing: WDAY.csv\n",
      "Finished processing: PCG.csv\n",
      "Finished processing: FAST.csv\n",
      "Finished processing: COR.csv\n",
      "Finished processing: BALL.csv\n",
      "Finished processing: TSLA.csv\n",
      "Finished processing: PM.csv\n",
      "Finished processing: TXN.csv\n",
      "Finished processing: SNA.csv\n",
      "Finished processing: DELL.csv\n",
      "Finished processing: ZTS.csv\n",
      "Finished processing: LH.csv\n",
      "Finished processing: CBOE.csv\n",
      "Finished processing: AVGO.csv\n",
      "Finished processing: ERIE.csv\n",
      "Finished processing: EXC.csv\n",
      "Finished processing: AFL.csv\n",
      "Finished processing: DHI.csv\n",
      "Finished processing: CHTR.csv\n",
      "Finished processing: RL.csv\n",
      "Finished processing: JNPR.csv\n",
      "Finished processing: EQIX.csv\n",
      "Finished processing: GE.csv\n",
      "Finished processing: WDC.csv\n",
      "Finished processing: WBD.csv\n",
      "Finished processing: INCY.csv\n",
      "Finished processing: TPL.csv\n",
      "Finished processing: AMAT.csv\n",
      "Finished processing: EXE.csv\n",
      "Finished processing: VTRS.csv\n",
      "Finished processing: NKE.csv\n",
      "Finished processing: GPN.csv\n",
      "Finished processing: APH.csv\n",
      "Finished processing: VTR.csv\n",
      "Finished processing: ALB.csv\n",
      "Finished processing: CDNS.csv\n",
      "Finished processing: HCA.csv\n",
      "Finished processing: LOW.csv\n",
      "Finished processing: IVZ.csv\n",
      "Finished processing: EQT.csv\n",
      "Finished processing: IDXX.csv\n",
      "Finished processing: ZBH.csv\n",
      "Finished processing: LULU.csv\n",
      "Finished processing: BAX.csv\n",
      "Finished processing: MCD.csv\n",
      "Finished processing: ANSS.csv\n",
      "Finished processing: APD.csv\n",
      "Finished processing: PAYC.csv\n",
      "Finished processing: UBER.csv\n",
      "Finished processing: COST.csv\n",
      "Finished processing: ENPH.csv\n",
      "Finished processing: CBRE.csv\n",
      "Finished processing: MCK.csv\n",
      "Finished processing: AXON.csv\n",
      "Finished processing: PCAR.csv\n",
      "Finished processing: CSGP.csv\n",
      "Finished processing: COF.csv\n",
      "Finished processing: MPWR.csv\n",
      "Finished processing: GWW.csv\n",
      "Finished processing: GOOGL.csv\n",
      "Finished processing: L.csv\n",
      "Finished processing: FICO.csv\n",
      "Finished processing: NEE.csv\n",
      "Finished processing: TEL.csv\n",
      "Finished processing: CSX.csv\n",
      "Finished processing: BMY.csv\n",
      "Finished processing: QCOM.csv\n",
      "Finished processing: SYF.csv\n",
      "Finished processing: SWKS.csv\n",
      "Finished processing: EXPD.csv\n",
      "Finished processing: ADBE.csv\n",
      "Finished processing: RJF.csv\n",
      "Finished processing: TTWO.csv\n",
      "Finished processing: RF.csv\n",
      "Finished processing: FIS.csv\n",
      "Finished processing: WAB.csv\n",
      "Finished processing: HAL.csv\n",
      "Finished processing: BSX.csv\n",
      "Finished processing: META.csv\n",
      "Finished processing: PTC.csv\n",
      "Finished processing: POOL.csv\n",
      "Finished processing: UNH.csv\n",
      "Finished processing: CAT.csv\n",
      "Finished processing: CB.csv\n",
      "Finished processing: BBY.csv\n",
      "Finished processing: EQR.csv\n",
      "Finished processing: KDP.csv\n",
      "Finished processing: AEP.csv\n",
      "Finished processing: WMT.csv\n",
      "Finished processing: TSN.csv\n",
      "Finished processing: KMX.csv\n",
      "Finished processing: CRM.csv\n",
      "Finished processing: TAP.csv\n",
      "Finished processing: MMM.csv\n",
      "Finished processing: HII.csv\n",
      "Finished processing: CMCSA.csv\n",
      "Finished processing: HES.csv\n",
      "Finished processing: TROW.csv\n",
      "Finished processing: HUBB.csv\n",
      "Finished processing: WEC.csv\n",
      "Finished processing: TMO.csv\n",
      "Finished processing: TPR.csv\n",
      "Finished processing: MLM.csv\n",
      "Finished processing: WMB.csv\n",
      "Finished processing: PSX.csv\n",
      "Finished processing: MTD.csv\n",
      "Finished processing: EG.csv\n",
      "Finished processing: AJG.csv\n",
      "Finished processing: DE.csv\n",
      "Finished processing: SNPS.csv\n",
      "Finished processing: AIG.csv\n",
      "Finished processing: AKAM.csv\n",
      "Finished processing: TDY.csv\n",
      "Finished processing: DXCM.csv\n",
      "Finished processing: WFC.csv\n",
      "Finished processing: ON.csv\n",
      "Finished processing: MS.csv\n",
      "Finished processing: GEHC.csv\n",
      "Finished processing: FDX.csv\n",
      "Finished processing: MMC.csv\n",
      "Finished processing: MAR.csv\n",
      "Finished processing: MSI.csv\n",
      "Finished processing: EMN.csv\n",
      "Finished processing: KEY.csv\n",
      "Finished processing: WSM.csv\n",
      "Finished processing: CL.csv\n",
      "Finished processing: EBAY.csv\n",
      "Finished processing: MDT.csv\n",
      "Finished processing: VLO.csv\n",
      "Finished processing: NRG.csv\n",
      "Finished processing: SLB.csv\n",
      "Finished processing: ETR.csv\n",
      "🎉 All CSV files have been cleaned!\n"
     ]
    }
   ],
   "source": [
    "import pandas as pd\n",
    "import os\n",
    "\n",
    "# Set the storage path\n",
    "directory = \"SP500_21_25\"\n",
    "\n",
    "# Process each CSV file\n",
    "for ticker in os.listdir(directory):\n",
    "    if ticker.endswith(\".csv\"):\n",
    "        file_path = os.path.join(directory, ticker)\n",
    "        \n",
    "        # Read the CSV file\n",
    "        df = pd.read_csv(file_path)\n",
    "\n",
    "        # Delete the second and third rows\n",
    "        df = df.drop([0, 1]).reset_index(drop=True)\n",
    "\n",
    "        # Remove rows containing NaN values\n",
    "        df = df.dropna()\n",
    "\n",
    "        # Rename the first column to 'Date'\n",
    "        df.columns.values[0] = 'Date'\n",
    "\n",
    "        # Save the modified file\n",
    "        df.to_csv(file_path, index=False)\n",
    "\n",
    "        print(f\"Finished processing: {ticker}\")\n",
    "\n",
    "print(\"🎉 All CSV files have been cleaned!\")\n"
   ]
  }
 ],
 "metadata": {
  "kernelspec": {
   "display_name": "torch_nightly",
   "language": "python",
   "name": "python3"
  },
  "language_info": {
   "codemirror_mode": {
    "name": "ipython",
    "version": 3
   },
   "file_extension": ".py",
   "mimetype": "text/x-python",
   "name": "python",
   "nbconvert_exporter": "python",
   "pygments_lexer": "ipython3",
   "version": "3.12.3"
  }
 },
 "nbformat": 4,
 "nbformat_minor": 2
}
