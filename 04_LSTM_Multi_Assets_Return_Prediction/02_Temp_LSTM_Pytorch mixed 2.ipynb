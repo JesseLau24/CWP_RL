{
 "cells": [
  {
   "cell_type": "code",
   "execution_count": 1,
   "metadata": {},
   "outputs": [
    {
     "name": "stdout",
     "output_type": "stream",
     "text": [
      "\n",
      "Dataframe loaded!\n"
     ]
    }
   ],
   "source": [
    "import numpy as np\n",
    "import pandas as pd\n",
    "import torch\n",
    "from sklearn.preprocessing import MinMaxScaler, LabelEncoder\n",
    "\n",
    "# Load the training, validation, and test data\n",
    "train_df = pd.read_csv('Training/train_2013_2020.csv', parse_dates=[\"Date\"])\n",
    "valid_df = pd.read_csv('Training/valid_2021_2022.csv', parse_dates=[\"Date\"])\n",
    "test_df = pd.read_csv('Training/test_2023_2025.csv', parse_dates=[\"Date\"])\n",
    "\n",
    "print(\"\\nDataframe loaded!\")"
   ]
  },
  {
   "cell_type": "code",
   "execution_count": 2,
   "metadata": {},
   "outputs": [
    {
     "name": "stdout",
     "output_type": "stream",
     "text": [
      "✅ Training shape: torch.Size([18100, 60, 17])\n",
      "✅ Validation shape: torch.Size([4970, 60, 17])\n",
      "✅ Test shape: torch.Size([5550, 60, 17])\n"
     ]
    }
   ],
   "source": [
    "# Sort by Date to ensure correct ordering\n",
    "train_df.sort_values(by=[\"Date\", \"Ticker\"], inplace=True)\n",
    "valid_df.sort_values(by=[\"Date\", \"Ticker\"], inplace=True)\n",
    "test_df.sort_values(by=[\"Date\", \"Ticker\"], inplace=True)\n",
    "\n",
    "# Encode Ticker\n",
    "label_encoder = LabelEncoder()\n",
    "train_df['Ticker'] = label_encoder.fit_transform(train_df['Ticker'])\n",
    "valid_df['Ticker'] = label_encoder.transform(valid_df['Ticker'])\n",
    "test_df['Ticker'] = label_encoder.transform(test_df['Ticker'])\n",
    "\n",
    "# Separate features and targets\n",
    "train_features = train_df.drop(columns=['Date', '5_day_return'])\n",
    "valid_features = valid_df.drop(columns=['Date', '5_day_return'])\n",
    "test_features = test_df.drop(columns=['Date', '5_day_return'])\n",
    "y_train = train_df['5_day_return'].values\n",
    "y_val = valid_df['5_day_return'].values\n",
    "y_test = test_df['5_day_return'].values\n",
    "\n",
    "# Normalize features\n",
    "scaler = MinMaxScaler()\n",
    "train_scaled_features = scaler.fit_transform(train_features)\n",
    "valid_scaled_features = scaler.transform(valid_features)\n",
    "test_scaled_features = scaler.transform(test_features)\n",
    "\n",
    "# Sequence generator\n",
    "def create_sequences(features, targets, window_size=60):\n",
    "    X, y = [], []\n",
    "    for i in range(window_size, len(features)):\n",
    "        X.append(features[i - window_size:i])\n",
    "        y.append(targets[i])\n",
    "    return np.array(X), np.array(y)\n",
    "\n",
    "# Create LSTM-ready sequences\n",
    "X_train, y_train = create_sequences(train_scaled_features, y_train)\n",
    "X_val, y_val = create_sequences(valid_scaled_features, y_val)\n",
    "X_test, y_test = create_sequences(test_scaled_features, y_test)\n",
    "\n",
    "# Convert to PyTorch tensors\n",
    "X_train_tensor = torch.tensor(X_train, dtype=torch.float32)\n",
    "y_train_tensor = torch.tensor(y_train, dtype=torch.float32).unsqueeze(1)\n",
    "X_val_tensor = torch.tensor(X_val, dtype=torch.float32)\n",
    "y_val_tensor = torch.tensor(y_val, dtype=torch.float32).unsqueeze(1)\n",
    "X_test_tensor = torch.tensor(X_test, dtype=torch.float32)\n",
    "y_test_tensor = torch.tensor(y_test, dtype=torch.float32).unsqueeze(1)\n",
    "\n",
    "print(f\"✅ Training shape: {X_train_tensor.shape}\")\n",
    "print(f\"✅ Validation shape: {X_val_tensor.shape}\")\n",
    "print(f\"✅ Test shape: {X_test_tensor.shape}\")\n"
   ]
  },
  {
   "cell_type": "code",
   "execution_count": 3,
   "metadata": {},
   "outputs": [],
   "source": [
    "import torch\n",
    "import torch.nn as nn\n",
    "\n",
    "class StockLSTM(nn.Module):\n",
    "    def __init__(self, input_size):\n",
    "        super(StockLSTM, self).__init__()\n",
    "        \n",
    "        self.lstm1 = nn.LSTM(input_size=input_size, hidden_size=64, batch_first=True, dropout=0.0, num_layers=1)\n",
    "        self.lstm2 = nn.LSTM(input_size=64, hidden_size=32, batch_first=True, dropout=0.0, num_layers=1)\n",
    "        \n",
    "        self.fc1 = nn.Linear(32, 16)\n",
    "        self.relu = nn.ReLU()\n",
    "        self.fc2 = nn.Linear(16, 1)\n",
    "\n",
    "    def forward(self, x):\n",
    "        out, _ = self.lstm1(x)\n",
    "        out, _ = self.lstm2(out)\n",
    "        out = out[:, -1, :]  # Get the output of the last time step\n",
    "        out = self.fc1(out)\n",
    "        out = self.relu(out)\n",
    "        out = self.fc2(out)\n",
    "        return out\n"
   ]
  },
  {
   "cell_type": "code",
   "execution_count": 4,
   "metadata": {},
   "outputs": [
    {
     "name": "stdout",
     "output_type": "stream",
     "text": [
      "StockLSTM(\n",
      "  (lstm1): LSTM(17, 64, batch_first=True)\n",
      "  (lstm2): LSTM(64, 32, batch_first=True)\n",
      "  (fc1): Linear(in_features=32, out_features=16, bias=True)\n",
      "  (relu): ReLU()\n",
      "  (fc2): Linear(in_features=16, out_features=1, bias=True)\n",
      ")\n"
     ]
    }
   ],
   "source": [
    "input_size = X_train_tensor.shape[2]  # Number of features per time step\n",
    "model = StockLSTM(input_size)\n",
    "print(model)\n"
   ]
  },
  {
   "cell_type": "code",
   "execution_count": 5,
   "metadata": {},
   "outputs": [
    {
     "name": "stdout",
     "output_type": "stream",
     "text": [
      "Epoch [1/200], Train Loss: 21.8428, Val Loss: 31.1500\n",
      "Epoch [10/200], Train Loss: 21.7974, Val Loss: 31.1276\n",
      "Epoch [20/200], Train Loss: 21.5211, Val Loss: 30.8396\n",
      "Epoch [30/200], Train Loss: 21.3818, Val Loss: 30.7225\n",
      "Epoch [40/200], Train Loss: 21.2366, Val Loss: 30.4834\n",
      "Epoch [50/200], Train Loss: 19.6957, Val Loss: 30.5702\n",
      "Epoch [60/200], Train Loss: 17.7637, Val Loss: 42.0936\n",
      "Epoch [70/200], Train Loss: 15.8834, Val Loss: 49.4402\n",
      "Epoch [80/200], Train Loss: 14.7198, Val Loss: 58.7575\n",
      "Epoch [90/200], Train Loss: 12.8223, Val Loss: 69.1565\n",
      "Epoch [100/200], Train Loss: 11.3010, Val Loss: 75.8288\n",
      "Epoch [110/200], Train Loss: 9.7784, Val Loss: 83.3545\n",
      "Epoch [120/200], Train Loss: 8.7654, Val Loss: 70.0489\n",
      "Epoch [130/200], Train Loss: 7.7831, Val Loss: 85.5873\n",
      "Epoch [140/200], Train Loss: 6.7255, Val Loss: 68.6069\n",
      "Epoch [150/200], Train Loss: 5.8680, Val Loss: 85.8312\n",
      "Epoch [160/200], Train Loss: 5.3890, Val Loss: 85.4957\n",
      "Epoch [170/200], Train Loss: 4.8712, Val Loss: 99.4987\n",
      "Epoch [180/200], Train Loss: 4.4540, Val Loss: 90.9229\n",
      "Epoch [190/200], Train Loss: 3.9529, Val Loss: 86.1972\n",
      "Epoch [200/200], Train Loss: 4.0128, Val Loss: 94.3533\n"
     ]
    }
   ],
   "source": [
    "import torch\n",
    "from torch.utils.data import DataLoader, TensorDataset\n",
    "import matplotlib.pyplot as plt\n",
    "from torch.amp import GradScaler, autocast\n",
    "\n",
    "# Convert NumPy arrays to PyTorch tensors\n",
    "X_train_tensor = torch.tensor(X_train, dtype=torch.float32)\n",
    "y_train_tensor = torch.tensor(y_train, dtype=torch.float32).unsqueeze(1)\n",
    "X_val_tensor = torch.tensor(X_val, dtype=torch.float32)\n",
    "y_val_tensor = torch.tensor(y_val, dtype=torch.float32).unsqueeze(1)\n",
    "\n",
    "# Create Datasets and DataLoaders\n",
    "train_dataset = TensorDataset(X_train_tensor, y_train_tensor)\n",
    "val_dataset = TensorDataset(X_val_tensor, y_val_tensor)\n",
    "\n",
    "train_loader = DataLoader(train_dataset, batch_size=32, shuffle=True)\n",
    "val_loader = DataLoader(val_dataset, batch_size=32, shuffle=False)\n",
    "\n",
    "# Move model to GPU if available\n",
    "device = torch.device(\"cuda\" if torch.cuda.is_available() else \"cpu\")\n",
    "model = model.to(device)\n",
    "\n",
    "# Loss and optimizer\n",
    "criterion = nn.MSELoss()\n",
    "optimizer = torch.optim.Adam(model.parameters(), lr=0.001)\n",
    "\n",
    "# Initialize GradScaler for mixed precision\n",
    "scaler = GradScaler()\n",
    "\n",
    "# Training loop\n",
    "num_epochs = 200\n",
    "train_losses = []\n",
    "val_losses = []\n",
    "\n",
    "from torch.amp import GradScaler, autocast\n",
    "\n",
    "# Initialize GradScaler for mixed precision\n",
    "scaler = GradScaler()\n",
    "\n",
    "# In the training loop, use autocast for mixed precision\n",
    "for epoch in range(num_epochs):\n",
    "    model.train()\n",
    "    running_loss = 0.0\n",
    "    for X_batch, y_batch in train_loader:\n",
    "        X_batch, y_batch = X_batch.to(device), y_batch.to(device)\n",
    "\n",
    "        optimizer.zero_grad()\n",
    "\n",
    "        # Use autocast for mixed precision with device_type='cuda'\n",
    "        with autocast(device_type='cuda'):  # This enables automatic mixed precision (AMP)\n",
    "            outputs = model(X_batch)\n",
    "            loss = criterion(outputs, y_batch)\n",
    "\n",
    "        # Scales the loss and calls backward()\n",
    "        scaler.scale(loss).backward()\n",
    "        scaler.step(optimizer)\n",
    "        scaler.update()\n",
    "\n",
    "        running_loss += loss.detach().item()  # detach the tensor before using item()\n",
    "\n",
    "    avg_train_loss = running_loss / len(train_loader)\n",
    "    train_losses.append(avg_train_loss)\n",
    "\n",
    "    # Validation loss\n",
    "    model.eval()\n",
    "    val_loss = 0.0\n",
    "    with torch.no_grad():\n",
    "        for X_batch, y_batch in val_loader:\n",
    "            X_batch, y_batch = X_batch.to(device), y_batch.to(device)\n",
    "\n",
    "            # Use autocast during evaluation as well with device_type='cuda'\n",
    "            with autocast(device_type='cuda'):\n",
    "                outputs = model(X_batch)\n",
    "                loss = criterion(outputs, y_batch)\n",
    "\n",
    "            val_loss += loss.detach().item()\n",
    "\n",
    "    avg_val_loss = val_loss / len(val_loader)\n",
    "    val_losses.append(avg_val_loss)\n",
    "\n",
    "    if (epoch + 1) % 10 == 0 or epoch == 0:\n",
    "        print(f\"Epoch [{epoch+1}/{num_epochs}], Train Loss: {avg_train_loss:.4f}, Val Loss: {avg_val_loss:.4f}\")\n"
   ]
  },
  {
   "cell_type": "code",
   "execution_count": 6,
   "metadata": {},
   "outputs": [
    {
     "data": {
      "image/png": "[encoded data removed]",
      "text/plain": [
       "<Figure size 640x480 with 1 Axes>"
      ]
     },
     "metadata": {},
     "output_type": "display_data"
    }
   ],
   "source": [
    "plt.plot(train_losses, label='Training Loss')\n",
    "plt.plot(val_losses, label='Validation Loss')\n",
    "plt.xlabel('Epochs')\n",
    "plt.ylabel('Loss')\n",
    "plt.legend()\n",
    "plt.title(\"Training vs Validation Loss\")\n",
    "plt.show()\n"
   ]
  },
  {
   "cell_type": "code",
   "execution_count": 7,
   "metadata": {},
   "outputs": [
    {
     "name": "stdout",
     "output_type": "stream",
     "text": [
      "Mean Absolute Error (MAE): 8.138192176818848\n",
      "Mean Squared Error (MSE): 110.57970428466797\n",
      "R-squared: -3.040640354156494\n"
     ]
    }
   ],
   "source": [
    "from sklearn.metrics import mean_absolute_error, mean_squared_error, r2_score\n",
    "\n",
    "# Set the model to evaluation mode\n",
    "model.eval()\n",
    "\n",
    "# Convert test data to PyTorch tensors\n",
    "X_test_tensor = torch.tensor(X_test, dtype=torch.float32)\n",
    "y_test_tensor = torch.tensor(y_test, dtype=torch.float32).unsqueeze(1)\n",
    "\n",
    "# Create test DataLoader\n",
    "test_dataset = TensorDataset(X_test_tensor, y_test_tensor)\n",
    "test_loader = DataLoader(test_dataset, batch_size=32, shuffle=False)\n",
    "\n",
    "# Store predictions and true values\n",
    "y_pred = []\n",
    "y_true = []\n",
    "\n",
    "with torch.no_grad():\n",
    "    for X_batch, y_batch in test_loader:\n",
    "        X_batch, y_batch = X_batch.to(device), y_batch.to(device)\n",
    "        outputs = model(X_batch)\n",
    "        y_pred.extend(outputs.cpu().numpy())\n",
    "        y_true.extend(y_batch.cpu().numpy())\n",
    "\n",
    "# Flatten the list of predictions and true values\n",
    "y_pred = np.array(y_pred).flatten()\n",
    "y_true = np.array(y_true).flatten()\n",
    "\n",
    "# Calculate MAE, MSE, and R-squared\n",
    "mae = mean_absolute_error(y_true, y_pred)\n",
    "mse = mean_squared_error(y_true, y_pred)\n",
    "r2 = r2_score(y_true, y_pred)\n",
    "\n",
    "print(f\"Mean Absolute Error (MAE): {mae}\")\n",
    "print(f\"Mean Squared Error (MSE): {mse}\")\n",
    "print(f\"R-squared: {r2}\")\n"
   ]
  }
 ],
 "metadata": {
  "kernelspec": {
   "display_name": "torch_nightly",
   "language": "python",
   "name": "python3"
  },
  "language_info": {
   "codemirror_mode": {
    "name": "ipython",
    "version": 3
   },
   "file_extension": ".py",
   "mimetype": "text/x-python",
   "name": "python",
   "nbconvert_exporter": "python",
   "pygments_lexer": "ipython3",
   "version": "3.12.3"
  }
 },
 "nbformat": 4,
 "nbformat_minor": 2
}
